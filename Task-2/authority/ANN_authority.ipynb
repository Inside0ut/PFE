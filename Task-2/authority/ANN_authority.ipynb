{
  "cells": [
    {
      "cell_type": "code",
      "execution_count": null,
      "metadata": {
        "colab": {
          "base_uri": "https://localhost:8080/"
        },
        "id": "sk9x1LWOsg7V",
        "outputId": "cf388d60-4938-49c6-ded8-410d4aebb124"
      },
      "outputs": [],
      "source": [
        "import scikitplot as skplt\n",
        "\n",
        "import pandas as pd \n",
        "from sklearn import metrics\n",
        "\n",
        "import matplotlib.pyplot as plt\n",
        "from sklearn.model_selection import train_test_split\n",
        "\n",
        "# we use tensorflow to create our neural network for this experiment \n",
        "import tensorflow as tf \n",
        "from tensorflow.keras.models import Sequential\n",
        "from tensorflow.keras import layers"
      ]
    },
    {
      "cell_type": "code",
      "execution_count": 25,
      "metadata": {
        "colab": {
          "base_uri": "https://localhost:8080/",
          "height": 441
        },
        "id": "ViF4ifJLzrIj",
        "outputId": "92b67053-af06-456c-a631-8e77b0f224fe"
      },
      "outputs": [
        {
          "name": "stdout",
          "output_type": "stream",
          "text": [
            "/content/gdrive/Shared drives/PFE/Colab Notebooks/cleaned/authority\n"
          ]
        },
        {
          "data": {
            "text/html": [
              "\n",
              "  <div id=\"df-503edbfc-2b82-4258-84fa-f10974598b2c\">\n",
              "    <div class=\"colab-df-container\">\n",
              "      <div>\n",
              "<style scoped>\n",
              "    .dataframe tbody tr th:only-of-type {\n",
              "        vertical-align: middle;\n",
              "    }\n",
              "\n",
              "    .dataframe tbody tr th {\n",
              "        vertical-align: top;\n",
              "    }\n",
              "\n",
              "    .dataframe thead th {\n",
              "        text-align: right;\n",
              "    }\n",
              "</style>\n",
              "<table border=\"1\" class=\"dataframe\">\n",
              "  <thead>\n",
              "    <tr style=\"text-align: right;\">\n",
              "      <th></th>\n",
              "      <th>ad</th>\n",
              "      <th>auth</th>\n",
              "    </tr>\n",
              "  </thead>\n",
              "  <tbody>\n",
              "    <tr>\n",
              "      <th>0</th>\n",
              "      <td>north korea officially has no corona cases how...</td>\n",
              "      <td>1</td>\n",
              "    </tr>\n",
              "    <tr>\n",
              "      <th>1</th>\n",
              "      <td>it seems difficult to stand for something one ...</td>\n",
              "      <td>0</td>\n",
              "    </tr>\n",
              "    <tr>\n",
              "      <th>2</th>\n",
              "      <td>senator bernie sanders held a rally with randy...</td>\n",
              "      <td>1</td>\n",
              "    </tr>\n",
              "    <tr>\n",
              "      <th>3</th>\n",
              "      <td>life gets busy—don’t wait to send back your ba...</td>\n",
              "      <td>0</td>\n",
              "    </tr>\n",
              "    <tr>\n",
              "      <th>4</th>\n",
              "      <td>some issues feel impossible to compromise on b...</td>\n",
              "      <td>1</td>\n",
              "    </tr>\n",
              "    <tr>\n",
              "      <th>...</th>\n",
              "      <td>...</td>\n",
              "      <td>...</td>\n",
              "    </tr>\n",
              "    <tr>\n",
              "      <th>49661</th>\n",
              "      <td>a recent poll shows sherrod with just a one po...</td>\n",
              "      <td>0</td>\n",
              "    </tr>\n",
              "    <tr>\n",
              "      <th>49662</th>\n",
              "      <td>today’s donor goal ⃣ ⃣ ⃣ our endofquarter dead...</td>\n",
              "      <td>0</td>\n",
              "    </tr>\n",
              "    <tr>\n",
              "      <th>49663</th>\n",
              "      <td>you’ve been selected after a year of chaos hat...</td>\n",
              "      <td>1</td>\n",
              "    </tr>\n",
              "    <tr>\n",
              "      <th>49664</th>\n",
              "      <td>after receiving the corona vaccine a video tha...</td>\n",
              "      <td>0</td>\n",
              "    </tr>\n",
              "    <tr>\n",
              "      <th>49665</th>\n",
              "      <td>what kinds of renewable energy technologies wo...</td>\n",
              "      <td>0</td>\n",
              "    </tr>\n",
              "  </tbody>\n",
              "</table>\n",
              "<p>49666 rows × 2 columns</p>\n",
              "</div>\n",
              "      <button class=\"colab-df-convert\" onclick=\"convertToInteractive('df-503edbfc-2b82-4258-84fa-f10974598b2c')\"\n",
              "              title=\"Convert this dataframe to an interactive table.\"\n",
              "              style=\"display:none;\">\n",
              "        \n",
              "  <svg xmlns=\"http://www.w3.org/2000/svg\" height=\"24px\"viewBox=\"0 0 24 24\"\n",
              "       width=\"24px\">\n",
              "    <path d=\"M0 0h24v24H0V0z\" fill=\"none\"/>\n",
              "    <path d=\"M18.56 5.44l.94 2.06.94-2.06 2.06-.94-2.06-.94-.94-2.06-.94 2.06-2.06.94zm-11 1L8.5 8.5l.94-2.06 2.06-.94-2.06-.94L8.5 2.5l-.94 2.06-2.06.94zm10 10l.94 2.06.94-2.06 2.06-.94-2.06-.94-.94-2.06-.94 2.06-2.06.94z\"/><path d=\"M17.41 7.96l-1.37-1.37c-.4-.4-.92-.59-1.43-.59-.52 0-1.04.2-1.43.59L10.3 9.45l-7.72 7.72c-.78.78-.78 2.05 0 2.83L4 21.41c.39.39.9.59 1.41.59.51 0 1.02-.2 1.41-.59l7.78-7.78 2.81-2.81c.8-.78.8-2.07 0-2.86zM5.41 20L4 18.59l7.72-7.72 1.47 1.35L5.41 20z\"/>\n",
              "  </svg>\n",
              "      </button>\n",
              "      \n",
              "  <style>\n",
              "    .colab-df-container {\n",
              "      display:flex;\n",
              "      flex-wrap:wrap;\n",
              "      gap: 12px;\n",
              "    }\n",
              "\n",
              "    .colab-df-convert {\n",
              "      background-color: #E8F0FE;\n",
              "      border: none;\n",
              "      border-radius: 50%;\n",
              "      cursor: pointer;\n",
              "      display: none;\n",
              "      fill: #1967D2;\n",
              "      height: 32px;\n",
              "      padding: 0 0 0 0;\n",
              "      width: 32px;\n",
              "    }\n",
              "\n",
              "    .colab-df-convert:hover {\n",
              "      background-color: #E2EBFA;\n",
              "      box-shadow: 0px 1px 2px rgba(60, 64, 67, 0.3), 0px 1px 3px 1px rgba(60, 64, 67, 0.15);\n",
              "      fill: #174EA6;\n",
              "    }\n",
              "\n",
              "    [theme=dark] .colab-df-convert {\n",
              "      background-color: #3B4455;\n",
              "      fill: #D2E3FC;\n",
              "    }\n",
              "\n",
              "    [theme=dark] .colab-df-convert:hover {\n",
              "      background-color: #434B5C;\n",
              "      box-shadow: 0px 1px 3px 1px rgba(0, 0, 0, 0.15);\n",
              "      filter: drop-shadow(0px 1px 2px rgba(0, 0, 0, 0.3));\n",
              "      fill: #FFFFFF;\n",
              "    }\n",
              "  </style>\n",
              "\n",
              "      <script>\n",
              "        const buttonEl =\n",
              "          document.querySelector('#df-503edbfc-2b82-4258-84fa-f10974598b2c button.colab-df-convert');\n",
              "        buttonEl.style.display =\n",
              "          google.colab.kernel.accessAllowed ? 'block' : 'none';\n",
              "\n",
              "        async function convertToInteractive(key) {\n",
              "          const element = document.querySelector('#df-503edbfc-2b82-4258-84fa-f10974598b2c');\n",
              "          const dataTable =\n",
              "            await google.colab.kernel.invokeFunction('convertToInteractive',\n",
              "                                                     [key], {});\n",
              "          if (!dataTable) return;\n",
              "\n",
              "          const docLinkHtml = 'Like what you see? Visit the ' +\n",
              "            '<a target=\"_blank\" href=https://colab.research.google.com/notebooks/data_table.ipynb>data table notebook</a>'\n",
              "            + ' to learn more about interactive tables.';\n",
              "          element.innerHTML = '';\n",
              "          dataTable['output_type'] = 'display_data';\n",
              "          await google.colab.output.renderOutput(dataTable, element);\n",
              "          const docLink = document.createElement('div');\n",
              "          docLink.innerHTML = docLinkHtml;\n",
              "          element.appendChild(docLink);\n",
              "        }\n",
              "      </script>\n",
              "    </div>\n",
              "  </div>\n",
              "  "
            ],
            "text/plain": [
              "                                                      ad  auth\n",
              "0      north korea officially has no corona cases how...     1\n",
              "1      it seems difficult to stand for something one ...     0\n",
              "2      senator bernie sanders held a rally with randy...     1\n",
              "3      life gets busy—don’t wait to send back your ba...     0\n",
              "4      some issues feel impossible to compromise on b...     1\n",
              "...                                                  ...   ...\n",
              "49661  a recent poll shows sherrod with just a one po...     0\n",
              "49662  today’s donor goal ⃣ ⃣ ⃣ our endofquarter dead...     0\n",
              "49663  you’ve been selected after a year of chaos hat...     1\n",
              "49664  after receiving the corona vaccine a video tha...     0\n",
              "49665  what kinds of renewable energy technologies wo...     0\n",
              "\n",
              "[49666 rows x 2 columns]"
            ]
          },
          "execution_count": 25,
          "metadata": {},
          "output_type": "execute_result"
        }
      ],
      "source": [
        "%cd '/content/gdrive/Shared drives/PFE/Colab Notebooks/cleaned/authority'\n",
        "df = pd.read_csv('./data/authority_dataset.csv')\n",
        "df"
      ]
    },
    {
      "cell_type": "code",
      "execution_count": 9,
      "metadata": {
        "id": "hTNuklkTcg2Z"
      },
      "outputs": [],
      "source": [
        "norm_train, norm_test, y_train, y_test  = train_test_split(df['ad'], df['auth'], test_size = 0.33, random_state=42)"
      ]
    },
    {
      "cell_type": "code",
      "execution_count": 11,
      "metadata": {
        "colab": {
          "base_uri": "https://localhost:8080/"
        },
        "id": "HVq3PRqn6mOl",
        "outputId": "d6cfcb9d-a6de-457c-cd5e-303d5b036cf9"
      },
      "outputs": [
        {
          "data": {
            "text/plain": [
              "(('nfi', 54255), ('<PAD>', 0), 1)"
            ]
          },
          "execution_count": 11,
          "metadata": {},
          "output_type": "execute_result"
        }
      ],
      "source": [
        "# data tokenization \n",
        "t = tf.keras.preprocessing.text.Tokenizer(oov_token='<UNK>')\n",
        "\n",
        "# fit the tokenizer on the training documents\n",
        "t.fit_on_texts(norm_train)\n",
        "t.word_index['<PAD>'] = 0\n",
        "max([(k, v) for k, v in t.word_index.items()], key = lambda x:x[1]), min([(k, v) for k, v in t.word_index.items()], key = lambda x:x[1]), t.word_index['<UNK>']"
      ]
    },
    {
      "cell_type": "code",
      "execution_count": 12,
      "metadata": {
        "id": "DwyD63OC6mS-"
      },
      "outputs": [],
      "source": [
        "# create tokenized data sequences to feed to the neural network \n",
        "train_sequences = t.texts_to_sequences(norm_train)\n",
        "test_sequences = t.texts_to_sequences(norm_test)"
      ]
    },
    {
      "cell_type": "code",
      "execution_count": 13,
      "metadata": {
        "colab": {
          "base_uri": "https://localhost:8080/"
        },
        "id": "fUcbman26pWu",
        "outputId": "e0c48ac0-3ee7-4d8c-c934-301dd834dbd2"
      },
      "outputs": [
        {
          "data": {
            "text/plain": [
              "((33276, 1000), (16390, 1000))"
            ]
          },
          "execution_count": 13,
          "metadata": {},
          "output_type": "execute_result"
        }
      ],
      "source": [
        "MAX_SEQUENCE_LENGTH = 1000\n",
        "\n",
        "# pad documents to equal length with 0 \n",
        "X_train = tf.keras.preprocessing.sequence.pad_sequences(train_sequences, maxlen=MAX_SEQUENCE_LENGTH)\n",
        "X_test = tf.keras.preprocessing.sequence.pad_sequences(test_sequences, maxlen=MAX_SEQUENCE_LENGTH)\n",
        "X_train.shape, X_test.shape"
      ]
    },
    {
      "cell_type": "code",
      "execution_count": 14,
      "metadata": {
        "id": "ZOoiVB_qg2HQ"
      },
      "outputs": [],
      "source": [
        "def create_model(units, vocab_size, embedding_dim, maxlen, dropout = 0.2):\n",
        "  '''\n",
        "    Create a simple artificial neural network for binary text classification\n",
        "    Arguments : \n",
        "      num_filters: number of filters to use for the 1D convolution layer \n",
        "      kernel_size: kernal size used for convolution\n",
        "      embedding_dim: embedding size \n",
        "      maxlen: input sequence length\n",
        "      vectorize_layer : vectorization layer for turning input text to numerical sequences\n",
        "      dropout : dropout rate used for Dropout regularization layer to minimize overfitting\n",
        "\n",
        "    Returns : \n",
        "    A model with the folowing layers:  \n",
        "            - An Embedding layer with embedding_dim dimension for each embedding \n",
        "            - A one dimentional global max pooling layer  \n",
        "            - A fully connected layer with units number of units\n",
        "            - A sigmoid activation layer to produce output\n",
        "            - Dropout layers added to minimize overfitting on the small datasets \n",
        "  '''\n",
        "  model = Sequential([\n",
        "      layers.Input(shape=(maxlen,)),\n",
        "      layers.Embedding(input_dim = vocab_size , output_dim = embedding_dim, input_length=maxlen),\n",
        "      layers.Dropout( rate = dropout ),\n",
        "      layers.GlobalMaxPooling1D(),\n",
        "      layers.Dropout( rate = dropout),\n",
        "      layers.Dense(units, activation='relu'),\n",
        "      layers.Dropout( rate = dropout ),\n",
        "      layers.Dense(1, activation='sigmoid')              \n",
        "  ])\n",
        "  model.compile(optimizer='adam',\n",
        "                loss='binary_crossentropy',\n",
        "                metrics=['accuracy'])\n",
        "  return model"
      ]
    },
    {
      "cell_type": "code",
      "execution_count": 16,
      "metadata": {
        "colab": {
          "base_uri": "https://localhost:8080/"
        },
        "id": "jgr5Jk0Lz6k2",
        "outputId": "80c124ac-c767-4a24-a6ac-8126c579894e"
      },
      "outputs": [
        {
          "name": "stdout",
          "output_type": "stream",
          "text": [
            "Model: \"sequential\"\n",
            "_________________________________________________________________\n",
            " Layer (type)                Output Shape              Param #   \n",
            "=================================================================\n",
            " embedding (Embedding)       (None, 1000, 50)          2712800   \n",
            "                                                                 \n",
            " dropout (Dropout)           (None, 1000, 50)          0         \n",
            "                                                                 \n",
            " global_max_pooling1d (Globa  (None, 50)               0         \n",
            " lMaxPooling1D)                                                  \n",
            "                                                                 \n",
            " dropout_1 (Dropout)         (None, 50)                0         \n",
            "                                                                 \n",
            " dense (Dense)               (None, 10)                510       \n",
            "                                                                 \n",
            " dropout_2 (Dropout)         (None, 10)                0         \n",
            "                                                                 \n",
            " dense_1 (Dense)             (None, 1)                 11        \n",
            "                                                                 \n",
            "=================================================================\n",
            "Total params: 2,713,321\n",
            "Trainable params: 2,713,321\n",
            "Non-trainable params: 0\n",
            "_________________________________________________________________\n"
          ]
        }
      ],
      "source": [
        "VOCAB_SIZE = len(t.word_index)\n",
        "\n",
        "EMBEDDING_DIM = 50\n",
        "UNITS = 10\n",
        "\n",
        "# Creating a neural net with randomly set paramteres as a baseline comparison model \n",
        "model = create_model(units = UNITS, vocab_size = VOCAB_SIZE, embedding_dim = EMBEDDING_DIM, maxlen = MAX_SEQUENCE_LENGTH )\n",
        "model.summary()"
      ]
    },
    {
      "cell_type": "code",
      "execution_count": 18,
      "metadata": {
        "colab": {
          "base_uri": "https://localhost:8080/"
        },
        "id": "OidjdWyx0Zbk",
        "outputId": "42b4b738-2887-46b4-cbc5-03fc656a3732"
      },
      "outputs": [
        {
          "name": "stdout",
          "output_type": "stream",
          "text": [
            "Epoch 1/5\n",
            "697/697 [==============================] - 52s 75ms/step - loss: 0.3578 - accuracy: 0.8535 - val_loss: 0.1419 - val_accuracy: 0.9646\n",
            "Epoch 2/5\n",
            "697/697 [==============================] - 46s 66ms/step - loss: 0.1224 - accuracy: 0.9612 - val_loss: 0.0808 - val_accuracy: 0.9793\n",
            "Epoch 3/5\n",
            "697/697 [==============================] - 41s 59ms/step - loss: 0.0656 - accuracy: 0.9805 - val_loss: 0.0708 - val_accuracy: 0.9809\n",
            "Epoch 4/5\n",
            "697/697 [==============================] - 42s 60ms/step - loss: 0.0407 - accuracy: 0.9884 - val_loss: 0.0682 - val_accuracy: 0.9799\n",
            "Epoch 5/5\n",
            "697/697 [==============================] - 41s 59ms/step - loss: 0.0269 - accuracy: 0.9925 - val_loss: 0.0661 - val_accuracy: 0.9805\n"
          ]
        }
      ],
      "source": [
        "# Train the neural net and evaluate results \n",
        "# the model is already trained and saved in the ann_model.h5 file\n",
        "history = model.fit(X_train, y_train, epochs= 5, batch_size= 32,  shuffle=True, validation_split=0.33, verbose=1)\n",
        "model.save('./saved_models/ann_model.h5')"
      ]
    },
    {
      "cell_type": "code",
      "execution_count": 19,
      "metadata": {
        "colab": {
          "base_uri": "https://localhost:8080/",
          "height": 573
        },
        "id": "832FxLtw7Ey6",
        "outputId": "7f950f51-5a1a-4e70-eaa9-a4f37fd5e640"
      },
      "outputs": [
        {
          "name": "stdout",
          "output_type": "stream",
          "text": [
            "513/513 [==============================] - 2s 4ms/step\n",
            "513/513 [==============================] - 2s 4ms/step - loss: 0.0642 - accuracy: 0.9804\n",
            "Accuracy: 98.04%\n",
            "              precision    recall  f1-score   support\n",
            "\n",
            "no-authority       0.98      0.98      0.98      8190\n",
            "   authority       0.98      0.98      0.98      8200\n",
            "\n",
            "    accuracy                           0.98     16390\n",
            "   macro avg       0.98      0.98      0.98     16390\n",
            "weighted avg       0.98      0.98      0.98     16390\n",
            "\n",
            "confusion matrix:\n",
            "[[8059  131]\n",
            " [ 190 8010]]\n",
            "\n"
          ]
        },
        {
          "data": {
            "image/png": "[encoded data removed]",
            "text/plain": [
              "<Figure size 432x288 with 2 Axes>"
            ]
          },
          "metadata": {},
          "output_type": "display_data"
        }
      ],
      "source": [
        "# get model predictions \n",
        "prediction_probs = model.predict(X_test, verbose=1).ravel()\n",
        "predictions = [1 if prob > 0.5 else 0 for prob in prediction_probs]\n",
        "\n",
        "scores = model.evaluate(X_test, y_test, verbose=1)\n",
        "print(\"Accuracy: %.2f%%\" % (scores[1]*100))\n",
        "\n",
        "print(metrics.classification_report(y_test, predictions, target_names=['no-authority', 'authority']))\n",
        "\n",
        "print(\"confusion matrix:\")\n",
        "print(metrics.confusion_matrix(y_test, predictions))\n",
        "print()\n",
        "\n",
        "skplt.metrics.plot_confusion_matrix(y_test, predictions , normalize=True)\n",
        "plt.show()"
      ]
    },
    {
      "cell_type": "code",
      "execution_count": 22,
      "metadata": {
        "colab": {
          "base_uri": "https://localhost:8080/",
          "height": 423
        },
        "id": "HpP1UFTJEcIz",
        "outputId": "9ae39428-67b3-44aa-d720-e6dc0088355f"
      },
      "outputs": [
        {
          "data": {
            "text/html": [
              "\n",
              "  <div id=\"df-1293b131-721a-4764-9eb9-a278f6a23d67\">\n",
              "    <div class=\"colab-df-container\">\n",
              "      <div>\n",
              "<style scoped>\n",
              "    .dataframe tbody tr th:only-of-type {\n",
              "        vertical-align: middle;\n",
              "    }\n",
              "\n",
              "    .dataframe tbody tr th {\n",
              "        vertical-align: top;\n",
              "    }\n",
              "\n",
              "    .dataframe thead th {\n",
              "        text-align: right;\n",
              "    }\n",
              "</style>\n",
              "<table border=\"1\" class=\"dataframe\">\n",
              "  <thead>\n",
              "    <tr style=\"text-align: right;\">\n",
              "      <th></th>\n",
              "      <th>ad</th>\n",
              "      <th>auth</th>\n",
              "    </tr>\n",
              "  </thead>\n",
              "  <tbody>\n",
              "    <tr>\n",
              "      <th>0</th>\n",
              "      <td>please share in order to do well in the precin...</td>\n",
              "      <td>1</td>\n",
              "    </tr>\n",
              "    <tr>\n",
              "      <th>1</th>\n",
              "      <td>for far too long many in this country have pro...</td>\n",
              "      <td>0</td>\n",
              "    </tr>\n",
              "    <tr>\n",
              "      <th>2</th>\n",
              "      <td>todco proposed “housing first” central soma pl...</td>\n",
              "      <td>1</td>\n",
              "    </tr>\n",
              "    <tr>\n",
              "      <th>3</th>\n",
              "      <td>the latest census bureau data confirms women a...</td>\n",
              "      <td>0</td>\n",
              "    </tr>\n",
              "    <tr>\n",
              "      <th>4</th>\n",
              "      <td>did you think we were done organizing just bec...</td>\n",
              "      <td>0</td>\n",
              "    </tr>\n",
              "    <tr>\n",
              "      <th>...</th>\n",
              "      <td>...</td>\n",
              "      <td>...</td>\n",
              "    </tr>\n",
              "    <tr>\n",
              "      <th>17294</th>\n",
              "      <td>the way this green party candidate is getting ...</td>\n",
              "      <td>0</td>\n",
              "    </tr>\n",
              "    <tr>\n",
              "      <th>17295</th>\n",
              "      <td>on your votes projects are proposed to the vot...</td>\n",
              "      <td>0</td>\n",
              "    </tr>\n",
              "    <tr>\n",
              "      <th>17296</th>\n",
              "      <td>bbq campaign kickoff as we get ready to run fo...</td>\n",
              "      <td>1</td>\n",
              "    </tr>\n",
              "    <tr>\n",
              "      <th>17297</th>\n",
              "      <td>the white house chief of staff is the latest v...</td>\n",
              "      <td>1</td>\n",
              "    </tr>\n",
              "    <tr>\n",
              "      <th>17298</th>\n",
              "      <td>tell congress no farm bill with the king amend...</td>\n",
              "      <td>1</td>\n",
              "    </tr>\n",
              "  </tbody>\n",
              "</table>\n",
              "<p>17299 rows × 2 columns</p>\n",
              "</div>\n",
              "      <button class=\"colab-df-convert\" onclick=\"convertToInteractive('df-1293b131-721a-4764-9eb9-a278f6a23d67')\"\n",
              "              title=\"Convert this dataframe to an interactive table.\"\n",
              "              style=\"display:none;\">\n",
              "        \n",
              "  <svg xmlns=\"http://www.w3.org/2000/svg\" height=\"24px\"viewBox=\"0 0 24 24\"\n",
              "       width=\"24px\">\n",
              "    <path d=\"M0 0h24v24H0V0z\" fill=\"none\"/>\n",
              "    <path d=\"M18.56 5.44l.94 2.06.94-2.06 2.06-.94-2.06-.94-.94-2.06-.94 2.06-2.06.94zm-11 1L8.5 8.5l.94-2.06 2.06-.94-2.06-.94L8.5 2.5l-.94 2.06-2.06.94zm10 10l.94 2.06.94-2.06 2.06-.94-2.06-.94-.94-2.06-.94 2.06-2.06.94z\"/><path d=\"M17.41 7.96l-1.37-1.37c-.4-.4-.92-.59-1.43-.59-.52 0-1.04.2-1.43.59L10.3 9.45l-7.72 7.72c-.78.78-.78 2.05 0 2.83L4 21.41c.39.39.9.59 1.41.59.51 0 1.02-.2 1.41-.59l7.78-7.78 2.81-2.81c.8-.78.8-2.07 0-2.86zM5.41 20L4 18.59l7.72-7.72 1.47 1.35L5.41 20z\"/>\n",
              "  </svg>\n",
              "      </button>\n",
              "      \n",
              "  <style>\n",
              "    .colab-df-container {\n",
              "      display:flex;\n",
              "      flex-wrap:wrap;\n",
              "      gap: 12px;\n",
              "    }\n",
              "\n",
              "    .colab-df-convert {\n",
              "      background-color: #E8F0FE;\n",
              "      border: none;\n",
              "      border-radius: 50%;\n",
              "      cursor: pointer;\n",
              "      display: none;\n",
              "      fill: #1967D2;\n",
              "      height: 32px;\n",
              "      padding: 0 0 0 0;\n",
              "      width: 32px;\n",
              "    }\n",
              "\n",
              "    .colab-df-convert:hover {\n",
              "      background-color: #E2EBFA;\n",
              "      box-shadow: 0px 1px 2px rgba(60, 64, 67, 0.3), 0px 1px 3px 1px rgba(60, 64, 67, 0.15);\n",
              "      fill: #174EA6;\n",
              "    }\n",
              "\n",
              "    [theme=dark] .colab-df-convert {\n",
              "      background-color: #3B4455;\n",
              "      fill: #D2E3FC;\n",
              "    }\n",
              "\n",
              "    [theme=dark] .colab-df-convert:hover {\n",
              "      background-color: #434B5C;\n",
              "      box-shadow: 0px 1px 3px 1px rgba(0, 0, 0, 0.15);\n",
              "      filter: drop-shadow(0px 1px 2px rgba(0, 0, 0, 0.3));\n",
              "      fill: #FFFFFF;\n",
              "    }\n",
              "  </style>\n",
              "\n",
              "      <script>\n",
              "        const buttonEl =\n",
              "          document.querySelector('#df-1293b131-721a-4764-9eb9-a278f6a23d67 button.colab-df-convert');\n",
              "        buttonEl.style.display =\n",
              "          google.colab.kernel.accessAllowed ? 'block' : 'none';\n",
              "\n",
              "        async function convertToInteractive(key) {\n",
              "          const element = document.querySelector('#df-1293b131-721a-4764-9eb9-a278f6a23d67');\n",
              "          const dataTable =\n",
              "            await google.colab.kernel.invokeFunction('convertToInteractive',\n",
              "                                                     [key], {});\n",
              "          if (!dataTable) return;\n",
              "\n",
              "          const docLinkHtml = 'Like what you see? Visit the ' +\n",
              "            '<a target=\"_blank\" href=https://colab.research.google.com/notebooks/data_table.ipynb>data table notebook</a>'\n",
              "            + ' to learn more about interactive tables.';\n",
              "          element.innerHTML = '';\n",
              "          dataTable['output_type'] = 'display_data';\n",
              "          await google.colab.output.renderOutput(dataTable, element);\n",
              "          const docLink = document.createElement('div');\n",
              "          docLink.innerHTML = docLinkHtml;\n",
              "          element.appendChild(docLink);\n",
              "        }\n",
              "      </script>\n",
              "    </div>\n",
              "  </div>\n",
              "  "
            ],
            "text/plain": [
              "                                                      ad  auth\n",
              "0      please share in order to do well in the precin...     1\n",
              "1      for far too long many in this country have pro...     0\n",
              "2      todco proposed “housing first” central soma pl...     1\n",
              "3      the latest census bureau data confirms women a...     0\n",
              "4      did you think we were done organizing just bec...     0\n",
              "...                                                  ...   ...\n",
              "17294  the way this green party candidate is getting ...     0\n",
              "17295  on your votes projects are proposed to the vot...     0\n",
              "17296  bbq campaign kickoff as we get ready to run fo...     1\n",
              "17297  the white house chief of staff is the latest v...     1\n",
              "17298  tell congress no farm bill with the king amend...     1\n",
              "\n",
              "[17299 rows x 2 columns]"
            ]
          },
          "execution_count": 22,
          "metadata": {},
          "output_type": "execute_result"
        }
      ],
      "source": [
        "df_val = pd.read_csv('./data/validation_dataset.csv')\n",
        "df_val"
      ]
    },
    {
      "cell_type": "code",
      "execution_count": 23,
      "metadata": {
        "colab": {
          "base_uri": "https://localhost:8080/",
          "height": 538
        },
        "id": "FbgKFuENG14N",
        "outputId": "e98a7ff1-0a9a-449c-99e9-0368341585e8"
      },
      "outputs": [
        {
          "name": "stdout",
          "output_type": "stream",
          "text": [
            "accuracy:   0.983\n",
            "              precision    recall  f1-score   support\n",
            "\n",
            "no authority       0.98      0.99      0.98      8649\n",
            "   authority       0.99      0.98      0.98      8650\n",
            "\n",
            "    accuracy                           0.98     17299\n",
            "   macro avg       0.98      0.98      0.98     17299\n",
            "weighted avg       0.98      0.98      0.98     17299\n",
            "\n",
            "confusion matrix:\n",
            "[[8528  121]\n",
            " [ 173 8477]]\n",
            "\n"
          ]
        },
        {
          "data": {
            "image/png": "[encoded data removed]",
            "text/plain": [
              "<Figure size 432x288 with 2 Axes>"
            ]
          },
          "metadata": {},
          "output_type": "display_data"
        }
      ],
      "source": [
        "val_sequences = t.texts_to_sequences(df_val['ad'])\n",
        "X_val = tf.keras.preprocessing.sequence.pad_sequences(val_sequences, maxlen=MAX_SEQUENCE_LENGTH)\n",
        "y_val = df_val['auth']\n",
        "\n",
        "prediction_probs = model.predict(X_val).ravel()\n",
        "y_pred  = [1 if prob > 0.5 else 0 for prob in prediction_probs]\n",
        "\n",
        "\n",
        "score = metrics.accuracy_score(y_val, y_pred)\n",
        "print(\"accuracy:   %0.3f\" % score)\n",
        "\n",
        "print(metrics.classification_report(y_val, y_pred, target_names=[ 'no authority', 'authority']))\n",
        "\n",
        "print(\"confusion matrix:\")\n",
        "print(metrics.confusion_matrix(y_val, y_pred))\n",
        "print()\n",
        "\n",
        "skplt.metrics.plot_confusion_matrix(y_val, y_pred, normalize=True)plt.show()"
      ]
    },
    {
      "cell_type": "code",
      "execution_count": 26,
      "metadata": {
        "colab": {
          "base_uri": "https://localhost:8080/"
        },
        "id": "dv-_mGr6NB2u",
        "outputId": "874196b1-e6a8-4a42-9432-a4489fe68683"
      },
      "outputs": [
        {
          "name": "stdout",
          "output_type": "stream",
          "text": [
            "Model: \"sequential\"\n",
            "_________________________________________________________________\n",
            " Layer (type)                Output Shape              Param #   \n",
            "=================================================================\n",
            " embedding (Embedding)       (None, 1000, 50)          2712800   \n",
            "                                                                 \n",
            " dropout (Dropout)           (None, 1000, 50)          0         \n",
            "                                                                 \n",
            " global_max_pooling1d (Globa  (None, 50)               0         \n",
            " lMaxPooling1D)                                                  \n",
            "                                                                 \n",
            " dropout_1 (Dropout)         (None, 50)                0         \n",
            "                                                                 \n",
            " dense (Dense)               (None, 10)                510       \n",
            "                                                                 \n",
            " dropout_2 (Dropout)         (None, 10)                0         \n",
            "                                                                 \n",
            " dense_1 (Dense)             (None, 1)                 11        \n",
            "                                                                 \n",
            "=================================================================\n",
            "Total params: 2,713,321\n",
            "Trainable params: 2,713,321\n",
            "Non-trainable params: 0\n",
            "_________________________________________________________________\n"
          ]
        }
      ],
      "source": [
        "# we use the saved model to make predictions on the manually annotated data\n",
        "new_model = tf.keras.models.load_model('./saved_models/ann_model.h5')\n",
        "new_model.summary()"
      ]
    },
    {
      "cell_type": "code",
      "execution_count": 30,
      "metadata": {
        "colab": {
          "base_uri": "https://localhost:8080/",
          "height": 573
        },
        "id": "HAWkEveNEcIz",
        "outputId": "d106bc96-c1f9-453c-d429-ba77abf65499"
      },
      "outputs": [
        {
          "name": "stdout",
          "output_type": "stream",
          "text": [
            "4/4 [==============================] - 0s 7ms/step - loss: 1.4943 - accuracy: 0.7593\n",
            "Accuracy: 75.93%\n",
            "4/4 [==============================] - 0s 6ms/step\n",
            "              precision    recall  f1-score   support\n",
            "\n",
            "no authority       0.71      0.87      0.78        54\n",
            "   authority       0.83      0.65      0.73        54\n",
            "\n",
            "    accuracy                           0.76       108\n",
            "   macro avg       0.77      0.76      0.76       108\n",
            "weighted avg       0.77      0.76      0.76       108\n",
            "\n",
            "confusion matrix:\n",
            "[[47  7]\n",
            " [19 35]]\n",
            "\n"
          ]
        },
        {
          "data": {
            "image/png": "[encoded data removed]",
            "text/plain": [
              "<Figure size 432x288 with 2 Axes>"
            ]
          },
          "metadata": {},
          "output_type": "display_data"
        }
      ],
      "source": [
        "# sample dataset contains manually annotated data\n",
        "df_val = pd.read_csv('./data/sample_auth.csv')\n",
        "\n",
        "val_sequences = t.texts_to_sequences(df_val['ad'])\n",
        "X_val = tf.keras.preprocessing.sequence.pad_sequences(val_sequences, maxlen=MAX_SEQUENCE_LENGTH)\n",
        "y_val = df_val['authority']\n",
        "\n",
        "scores = new_model.evaluate(X_val, y_val, verbose=1)\n",
        "print(\"Accuracy: %.2f%%\" % (scores[1]*100))\n",
        "\n",
        "prediction_probs = new_model.predict(X_val, verbose=1).ravel()\n",
        "predictions = [1 if prob > 0.5 else 0 for prob in prediction_probs]\n",
        "\n",
        "print(metrics.classification_report(y_val, predictions, target_names=[ 'no authority', 'authority']))\n",
        "\n",
        "print(\"confusion matrix:\")\n",
        "print(metrics.confusion_matrix(y_val,predictions))\n",
        "print()\n",
        "\n",
        "skplt.metrics.plot_confusion_matrix(y_val, predictions, normalize=True)\n",
        "plt.show()"
      ]
    }
  ],
  "metadata": {
    "colab": {
      "collapsed_sections": [],
      "name": "ANN_authority.ipynb",
      "provenance": []
    },
    "kernelspec": {
      "display_name": "Python 3",
      "name": "python3"
    },
    "language_info": {
      "codemirror_mode": {
        "name": "ipython",
        "version": 3
      },
      "file_extension": ".py",
      "mimetype": "text/x-python",
      "name": "python",
      "nbconvert_exporter": "python",
      "pygments_lexer": "ipython3",
      "version": "3.7.9"
    }
  },
  "nbformat": 4,
  "nbformat_minor": 0
}
