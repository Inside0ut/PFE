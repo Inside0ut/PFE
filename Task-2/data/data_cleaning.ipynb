{
 "cells": [
  {
   "cell_type": "code",
   "execution_count": null,
   "metadata": {},
   "outputs": [],
   "source": [
    "import pandas as pd\n",
    "import re \n",
    "import cleaner as dc"
   ]
  },
  {
   "cell_type": "code",
   "execution_count": 17,
   "metadata": {},
   "outputs": [
    {
     "name": "stdout",
     "output_type": "stream",
     "text": [
      "(6345, 1)\n",
      "(11113, 1)\n",
      "(67671, 1)\n"
     ]
    }
   ],
   "source": [
    "df_ad_analyst = pd.read_csv('ad_analyst_dataset.csv') \n",
    "df_counterpublics = pd.read_csv('counterpublics_dataset.csv')\n",
    "df_propublica = pd.read_csv('propublica_dataset.csv')\n",
    "\n",
    "print(df_ad_analyst.shape)\n",
    "print(df_counterpublics.shape )\n",
    "print(df_propublica.shape)"
   ]
  },
  {
   "cell_type": "code",
   "execution_count": 21,
   "metadata": {},
   "outputs": [
    {
     "data": {
      "text/plain": [
       "(85129, 1)"
      ]
     },
     "execution_count": 21,
     "metadata": {},
     "output_type": "execute_result"
    }
   ],
   "source": [
    "# Merge all datasets\n",
    "df_all = pd.concat([df_ad_analyst,df_counterpublics,df_propublica],ignore_index=True)\n",
    "df_all.shape"
   ]
  },
  {
   "cell_type": "code",
   "execution_count": null,
   "metadata": {},
   "outputs": [],
   "source": [
    "# Cleaning the data \n",
    "df_clean  = df_all.copy()\n",
    "\n",
    "# Lower case ads \n",
    "df_clean['ads'] = df_clean['ads'].apply(lambda x: x.lower())\n",
    "\n",
    "# Expanding Contractions\n",
    "df_clean['ads'] = df_clean['ads'].apply(dc.expand_contractions)\n",
    "\n",
    "# Removing punctuations\n",
    "df_clean['ads'] = df_clean['ads'].str.replace('[^\\w\\s]','', regex = True)\n",
    "\n",
    "# Removing numbers\n",
    "df_clean['ads'] = df_clean['ads'].str.replace('\\d+','', regex = True)\n",
    "\n",
    "\n",
    "# Removing extra space \n",
    "df_clean['ads'] = df_clean['ads'].str.replace('\\s+', ' ', regex = True)\n",
    "\n",
    "# Lemmatization \n",
    "df_clean['lemmatized'] = df_clean['ads'].apply(dc.simple_lemmatizer)"
   ]
  },
  {
   "cell_type": "code",
   "execution_count": 20,
   "metadata": {},
   "outputs": [],
   "source": [
    "df_clean.to_csv('clean_dataset.csv',index=False)"
   ]
  }
 ],
 "metadata": {
  "interpreter": {
   "hash": "f8f14f5a7c49a331ac7a55934b43ce13bd28be1333db14e2d71768ad3378996c"
  },
  "kernelspec": {
   "display_name": "Python 3.9.13 64-bit (windows store)",
   "language": "python",
   "name": "python3"
  },
  "language_info": {
   "codemirror_mode": {
    "name": "ipython",
    "version": 3
   },
   "file_extension": ".py",
   "mimetype": "text/x-python",
   "name": "python",
   "nbconvert_exporter": "python",
   "pygments_lexer": "ipython3",
   "version": "3.9.13"
  },
  "orig_nbformat": 4
 },
 "nbformat": 4,
 "nbformat_minor": 2
}
