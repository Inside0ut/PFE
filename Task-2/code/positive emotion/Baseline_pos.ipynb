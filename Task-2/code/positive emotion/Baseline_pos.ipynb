{
 "cells": [
  {
   "cell_type": "code",
   "execution_count": 1,
   "metadata": {},
   "outputs": [],
   "source": [
    "import pandas as pd \n",
    "from sklearn import metrics\n",
    "\n",
    "import matplotlib.pyplot as plt\n",
    "import scikitplot as skplt"
   ]
  },
  {
   "cell_type": "code",
   "execution_count": 2,
   "metadata": {},
   "outputs": [
    {
     "data": {
      "text/html": [
       "<div>\n",
       "<style scoped>\n",
       "    .dataframe tbody tr th:only-of-type {\n",
       "        vertical-align: middle;\n",
       "    }\n",
       "\n",
       "    .dataframe tbody tr th {\n",
       "        vertical-align: top;\n",
       "    }\n",
       "\n",
       "    .dataframe thead th {\n",
       "        text-align: right;\n",
       "    }\n",
       "</style>\n",
       "<table border=\"1\" class=\"dataframe\">\n",
       "  <thead>\n",
       "    <tr style=\"text-align: right;\">\n",
       "      <th></th>\n",
       "      <th>ad</th>\n",
       "      <th>pos_emo</th>\n",
       "    </tr>\n",
       "  </thead>\n",
       "  <tbody>\n",
       "    <tr>\n",
       "      <th>0</th>\n",
       "      <td>see why everyone is celebrating at hoblit dodg...</td>\n",
       "      <td>1</td>\n",
       "    </tr>\n",
       "    <tr>\n",
       "      <th>1</th>\n",
       "      <td>help give people without a home a chance to le...</td>\n",
       "      <td>0</td>\n",
       "    </tr>\n",
       "    <tr>\n",
       "      <th>2</th>\n",
       "      <td>i am so proud of what this grassroots team has...</td>\n",
       "      <td>1</td>\n",
       "    </tr>\n",
       "    <tr>\n",
       "      <th>3</th>\n",
       "      <td>we have until march 31st to raise money for ou...</td>\n",
       "      <td>0</td>\n",
       "    </tr>\n",
       "    <tr>\n",
       "      <th>4</th>\n",
       "      <td>learn how to use the new staffing law to impro...</td>\n",
       "      <td>0</td>\n",
       "    </tr>\n",
       "    <tr>\n",
       "      <th>...</th>\n",
       "      <td>...</td>\n",
       "      <td>...</td>\n",
       "    </tr>\n",
       "    <tr>\n",
       "      <th>145</th>\n",
       "      <td>Let's build Cameroon. Wake up Cameroonians and...</td>\n",
       "      <td>1</td>\n",
       "    </tr>\n",
       "    <tr>\n",
       "      <th>146</th>\n",
       "      <td>Studies show that 98% of all children possess ...</td>\n",
       "      <td>1</td>\n",
       "    </tr>\n",
       "    <tr>\n",
       "      <th>147</th>\n",
       "      <td>If you're a developer who wants to make a diff...</td>\n",
       "      <td>1</td>\n",
       "    </tr>\n",
       "    <tr>\n",
       "      <th>148</th>\n",
       "      <td>Learn the greatest tips &amp; tricks from the worl...</td>\n",
       "      <td>1</td>\n",
       "    </tr>\n",
       "    <tr>\n",
       "      <th>149</th>\n",
       "      <td>This is not only a month of fasting and praye...</td>\n",
       "      <td>1</td>\n",
       "    </tr>\n",
       "  </tbody>\n",
       "</table>\n",
       "<p>150 rows × 2 columns</p>\n",
       "</div>"
      ],
      "text/plain": [
       "                                                    ad  pos_emo\n",
       "0    see why everyone is celebrating at hoblit dodg...        1\n",
       "1    help give people without a home a chance to le...        0\n",
       "2    i am so proud of what this grassroots team has...        1\n",
       "3    we have until march 31st to raise money for ou...        0\n",
       "4    learn how to use the new staffing law to impro...        0\n",
       "..                                                 ...      ...\n",
       "145  Let's build Cameroon. Wake up Cameroonians and...        1\n",
       "146  Studies show that 98% of all children possess ...        1\n",
       "147  If you're a developer who wants to make a diff...        1\n",
       "148  Learn the greatest tips & tricks from the worl...        1\n",
       "149   This is not only a month of fasting and praye...        1\n",
       "\n",
       "[150 rows x 2 columns]"
      ]
     },
     "execution_count": 2,
     "metadata": {},
     "output_type": "execute_result"
    }
   ],
   "source": [
    "df = pd.read_csv('./data/sample_positive_emotion.csv')\n",
    "df"
   ]
  },
  {
   "cell_type": "code",
   "execution_count": 3,
   "metadata": {},
   "outputs": [],
   "source": [
    "# creating prediction model\n",
    "\n",
    "# creating the filters \n",
    "filters =  [  'advantage', 'delighted', 'ecstatic', 'effective', 'freedom', 'guaranteed', 'relaxed', 'assured', 'happy', 'healthy',\n",
    "                 'fulfilled', 'genuine', 'authentic','sure', 'secure', 'stable', 'honest', 'truthful','supportive', 'excellent', 'responsible', \n",
    "                'blissful', 'joyous', 'delighted', 'guarantee', \n",
    "                 'overjoyed', 'gleeful', 'thankful', 'festive', 'ecstatic', 'satisfied', 'cheerful','sunny', 'elated', 'jubilant', \n",
    "                 'jovial', 'fun-loving', 'lighthearted', 'glorious', 'innocent', 'child-like', 'gratified', 'euphoric', 'playful', \n",
    "                 'courageous', 'energetic', 'liberated', 'optimistic', 'frisky', 'animated', 'spirited','thrilled', 'wonderful', 'funny', \n",
    "                 'intelligent', 'exhilarated', 'spunky', 'youthful', 'vigorous', 'tickled', 'creative', 'constructive', \n",
    "                  'comfortable', 'pleased', 'encouraged', 'surprised', 'content', 'serene', 'bright', 'blessed', 'vibrant', \n",
    "                 'bountiful','glowing','relaxing','pleasing','fulfilling','good quality','compassion','astonished','glad','appreciative', 'joyful', 'pleased', \n",
    "                 'confident', 'cheery', 'polite', 'chilly','glory','brave', 'heroic', 'enthusiastic', 'passionate','optimistic','delighted', 'excited', 'amazing','amusing',\n",
    "                  'innovative', 'artistic','authentic' 'supportive', 'excellent','blissful', 'joyous', 'delighted', 'overjoyed', 'gleeful', 'thankful'\n",
    "            ]\n",
    "\n",
    "def contains_filter(x):\n",
    "    for filter in filters:\n",
    "        if filter in x:\n",
    "            return 1\n",
    "    return 0\n",
    "\n",
    "def predict(X): \n",
    "    '''\n",
    "        This function takes in a dataframe and returns the predicted values \n",
    "        params:\n",
    "            X: dataframe\n",
    "        returns:\n",
    "            predicted values using the filters \n",
    "    '''\n",
    "    X['prediction'] = X['ad'].apply(contains_filter)\n",
    "    return X['prediction']\n"
   ]
  },
  {
   "cell_type": "code",
   "execution_count": 4,
   "metadata": {},
   "outputs": [
    {
     "name": "stdout",
     "output_type": "stream",
     "text": [
      "accuracy:   0.673\n",
      "                     precision    recall  f1-score   support\n",
      "\n",
      "no positive emotion       0.72      0.86      0.78       102\n",
      "   positive emotion       0.48      0.27      0.35        48\n",
      "\n",
      "           accuracy                           0.67       150\n",
      "          macro avg       0.60      0.57      0.56       150\n",
      "       weighted avg       0.64      0.67      0.64       150\n",
      "\n",
      "confusion matrix:\n",
      "[[88 14]\n",
      " [35 13]]\n",
      "\n"
     ]
    },
    {
     "data": {
      "image/png": "[encoded data removed]",
      "text/plain": [
       "<Figure size 432x288 with 2 Axes>"
      ]
     },
     "metadata": {
      "needs_background": "light"
     },
     "output_type": "display_data"
    }
   ],
   "source": [
    "y_pred = predict(df)\n",
    "\n",
    "# model performance\n",
    "score = metrics.accuracy_score(df['pos_emo'], y_pred)\n",
    "print(\"accuracy:   %0.3f\" % score)\n",
    "\n",
    "print(metrics.classification_report(df['pos_emo'], y_pred, target_names=['no positive emotion', 'positive emotion']))\n",
    "\n",
    "print(\"confusion matrix:\")\n",
    "print(metrics.confusion_matrix(df['pos_emo'], y_pred))\n",
    "print()\n",
    "\n",
    "skplt.metrics.plot_confusion_matrix(df['pos_emo'], y_pred, normalize=True)\n",
    "plt.show()"
   ]
  }
 ],
 "metadata": {
  "interpreter": {
   "hash": "a5b9b38b543acef8c99a55356e1a83c226e44beb9292ee82f1e87a7fd9afffb6"
  },
  "kernelspec": {
   "display_name": "Python 3.7.9 64-bit (windows store)",
   "language": "python",
   "name": "python3"
  },
  "language_info": {
   "codemirror_mode": {
    "name": "ipython",
    "version": 3
   },
   "file_extension": ".py",
   "mimetype": "text/x-python",
   "name": "python",
   "nbconvert_exporter": "python",
   "pygments_lexer": "ipython3",
   "version": "3.7.9"
  },
  "orig_nbformat": 4
 },
 "nbformat": 4,
 "nbformat_minor": 2
}
