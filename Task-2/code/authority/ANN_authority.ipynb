{
 "cells": [
  {
   "cell_type": "code",
   "execution_count": 1,
   "metadata": {
    "executionInfo": {
     "elapsed": 300,
     "status": "ok",
     "timestamp": 1655317092185,
     "user": {
      "displayName": "NARDJES AMIEUR",
      "userId": "13751943947351102071"
     },
     "user_tz": -120
    },
    "id": "sk9x1LWOsg7V"
   },
   "outputs": [],
   "source": [
    "import pandas as pd \n",
    "import numpy as np \n",
    "import os\n",
    "\n",
    "\n",
    "import matplotlib.pyplot as plt\n",
    "\n",
    "# we use tensorflow to create our neural network for this experiment \n",
    "import tensorflow as tf \n",
    "from tensorflow.keras.models import Sequential\n",
    "from tensorflow.keras import layers\n",
    "\n",
    "from keras.preprocessing.sequence import pad_sequences\n",
    "from keras.preprocessing.text import Tokenizer\n",
    "\n",
    "from keras.wrappers.scikit_learn import KerasClassifier\n",
    "from sklearn.model_selection import RandomizedSearchCV"
   ]
  },
  {
   "cell_type": "code",
   "execution_count": 2,
   "metadata": {
    "colab": {
     "base_uri": "https://localhost:8080/",
     "height": 424
    },
    "executionInfo": {
     "elapsed": 662,
     "status": "ok",
     "timestamp": 1655317150529,
     "user": {
      "displayName": "NARDJES AMIEUR",
      "userId": "13751943947351102071"
     },
     "user_tz": -120
    },
    "id": "9PcRRN8elrzp",
    "outputId": "f20ba455-f945-4eca-d2a3-4fb4968cca0c"
   },
   "outputs": [
    {
     "data": {
      "text/html": [
       "<div>\n",
       "<style scoped>\n",
       "    .dataframe tbody tr th:only-of-type {\n",
       "        vertical-align: middle;\n",
       "    }\n",
       "\n",
       "    .dataframe tbody tr th {\n",
       "        vertical-align: top;\n",
       "    }\n",
       "\n",
       "    .dataframe thead th {\n",
       "        text-align: right;\n",
       "    }\n",
       "</style>\n",
       "<table border=\"1\" class=\"dataframe\">\n",
       "  <thead>\n",
       "    <tr style=\"text-align: right;\">\n",
       "      <th></th>\n",
       "      <th>text</th>\n",
       "      <th>auth</th>\n",
       "      <th>ad_no_stop</th>\n",
       "      <th>ad_no_stop_freq</th>\n",
       "      <th>text_lemmatized</th>\n",
       "    </tr>\n",
       "  </thead>\n",
       "  <tbody>\n",
       "    <tr>\n",
       "      <th>0</th>\n",
       "      <td>watch webinar to learn why medicare for all wo...</td>\n",
       "      <td>0</td>\n",
       "      <td>watch webinar learn medicare would wrong solut...</td>\n",
       "      <td>watch webinar learn medicare would wrong solut...</td>\n",
       "      <td>watch webinar learn medicare would wrong solut...</td>\n",
       "    </tr>\n",
       "    <tr>\n",
       "      <th>1</th>\n",
       "      <td>in this first capsule tony le verger vp financ...</td>\n",
       "      <td>0</td>\n",
       "      <td>first capsule tony le verger vp finance develo...</td>\n",
       "      <td>first capsule tony le verger vp finance develo...</td>\n",
       "      <td>first capsule tony le verger vp finance develo...</td>\n",
       "    </tr>\n",
       "    <tr>\n",
       "      <th>2</th>\n",
       "      <td>im so grateful for the leadership shown by dr ...</td>\n",
       "      <td>1</td>\n",
       "      <td>im grateful leadership shown dr anthony fauci ...</td>\n",
       "      <td>im grateful leadership shown dr anthony fauci ...</td>\n",
       "      <td>im grateful leadership shown dr anthony fauci ...</td>\n",
       "    </tr>\n",
       "    <tr>\n",
       "      <th>3</th>\n",
       "      <td>with a steady hand and a clear voice lori chav...</td>\n",
       "      <td>1</td>\n",
       "      <td>steady hand clear voice lori chavezderemer tak...</td>\n",
       "      <td>steady hand clear voice lori chavezderemer tak...</td>\n",
       "      <td>steady hand clear voice lori chavezderemer tak...</td>\n",
       "    </tr>\n",
       "    <tr>\n",
       "      <th>4</th>\n",
       "      <td>forward tv part \\nclick here to stream part  s...</td>\n",
       "      <td>0</td>\n",
       "      <td>forward tv part click stream part stay tuned t...</td>\n",
       "      <td>forward tv part click stream part stay tuned t...</td>\n",
       "      <td>forward tv part click stream part stay tuned t...</td>\n",
       "    </tr>\n",
       "    <tr>\n",
       "      <th>...</th>\n",
       "      <td>...</td>\n",
       "      <td>...</td>\n",
       "      <td>...</td>\n",
       "      <td>...</td>\n",
       "      <td>...</td>\n",
       "    </tr>\n",
       "    <tr>\n",
       "      <th>4066</th>\n",
       "      <td>doug ford stands strong against radical sex ed...</td>\n",
       "      <td>1</td>\n",
       "      <td>doug ford stands strong radical sex ed curricu...</td>\n",
       "      <td>doug ford stands strong radical sex ed curricu...</td>\n",
       "      <td>doug ford stand strong radical sex ed curricul...</td>\n",
       "    </tr>\n",
       "    <tr>\n",
       "      <th>4067</th>\n",
       "      <td>teacher groups are cautiously optimistic about...</td>\n",
       "      <td>1</td>\n",
       "      <td>teacher groups cautiously optimistic gov greg ...</td>\n",
       "      <td>teacher groups cautiously optimistic gov greg ...</td>\n",
       "      <td>teacher group cautiously optimistic gov greg a...</td>\n",
       "    </tr>\n",
       "    <tr>\n",
       "      <th>4068</th>\n",
       "      <td>republican lawmakers say they cant afford to g...</td>\n",
       "      <td>1</td>\n",
       "      <td>republican lawmakers say cant afford give educ...</td>\n",
       "      <td>republican lawmakers say cant afford give educ...</td>\n",
       "      <td>republican lawmaker say cant afford give educa...</td>\n",
       "    </tr>\n",
       "    <tr>\n",
       "      <th>4069</th>\n",
       "      <td>join us for the screening of the award winning...</td>\n",
       "      <td>1</td>\n",
       "      <td>join us screening award winning feature film f...</td>\n",
       "      <td>screening award winning feature film feeling w...</td>\n",
       "      <td>screening award winning feature film feeling w...</td>\n",
       "    </tr>\n",
       "    <tr>\n",
       "      <th>4070</th>\n",
       "      <td>adoption by facetime saves money and is better...</td>\n",
       "      <td>1</td>\n",
       "      <td>adoption facetime saves money better child say...</td>\n",
       "      <td>adoption facetime saves money better child say...</td>\n",
       "      <td>adoption facetime save money better child say ...</td>\n",
       "    </tr>\n",
       "  </tbody>\n",
       "</table>\n",
       "<p>4071 rows × 5 columns</p>\n",
       "</div>"
      ],
      "text/plain": [
       "                                                   text  auth  \\\n",
       "0     watch webinar to learn why medicare for all wo...     0   \n",
       "1     in this first capsule tony le verger vp financ...     0   \n",
       "2     im so grateful for the leadership shown by dr ...     1   \n",
       "3     with a steady hand and a clear voice lori chav...     1   \n",
       "4     forward tv part \\nclick here to stream part  s...     0   \n",
       "...                                                 ...   ...   \n",
       "4066  doug ford stands strong against radical sex ed...     1   \n",
       "4067  teacher groups are cautiously optimistic about...     1   \n",
       "4068  republican lawmakers say they cant afford to g...     1   \n",
       "4069  join us for the screening of the award winning...     1   \n",
       "4070  adoption by facetime saves money and is better...     1   \n",
       "\n",
       "                                             ad_no_stop  \\\n",
       "0     watch webinar learn medicare would wrong solut...   \n",
       "1     first capsule tony le verger vp finance develo...   \n",
       "2     im grateful leadership shown dr anthony fauci ...   \n",
       "3     steady hand clear voice lori chavezderemer tak...   \n",
       "4     forward tv part click stream part stay tuned t...   \n",
       "...                                                 ...   \n",
       "4066  doug ford stands strong radical sex ed curricu...   \n",
       "4067  teacher groups cautiously optimistic gov greg ...   \n",
       "4068  republican lawmakers say cant afford give educ...   \n",
       "4069  join us screening award winning feature film f...   \n",
       "4070  adoption facetime saves money better child say...   \n",
       "\n",
       "                                        ad_no_stop_freq  \\\n",
       "0     watch webinar learn medicare would wrong solut...   \n",
       "1     first capsule tony le verger vp finance develo...   \n",
       "2     im grateful leadership shown dr anthony fauci ...   \n",
       "3     steady hand clear voice lori chavezderemer tak...   \n",
       "4     forward tv part click stream part stay tuned t...   \n",
       "...                                                 ...   \n",
       "4066  doug ford stands strong radical sex ed curricu...   \n",
       "4067  teacher groups cautiously optimistic gov greg ...   \n",
       "4068  republican lawmakers say cant afford give educ...   \n",
       "4069  screening award winning feature film feeling w...   \n",
       "4070  adoption facetime saves money better child say...   \n",
       "\n",
       "                                        text_lemmatized  \n",
       "0     watch webinar learn medicare would wrong solut...  \n",
       "1     first capsule tony le verger vp finance develo...  \n",
       "2     im grateful leadership shown dr anthony fauci ...  \n",
       "3     steady hand clear voice lori chavezderemer tak...  \n",
       "4     forward tv part click stream part stay tuned t...  \n",
       "...                                                 ...  \n",
       "4066  doug ford stand strong radical sex ed curricul...  \n",
       "4067  teacher group cautiously optimistic gov greg a...  \n",
       "4068  republican lawmaker say cant afford give educa...  \n",
       "4069  screening award winning feature film feeling w...  \n",
       "4070  adoption facetime save money better child say ...  \n",
       "\n",
       "[4071 rows x 5 columns]"
      ]
     },
     "execution_count": 2,
     "metadata": {},
     "output_type": "execute_result"
    }
   ],
   "source": [
    "train=pd.read_csv(\"train_data_auth_plus.csv\",index_col=0)\n",
    "train"
   ]
  },
  {
   "cell_type": "code",
   "execution_count": 3,
   "metadata": {
    "colab": {
     "base_uri": "https://localhost:8080/",
     "height": 424
    },
    "executionInfo": {
     "elapsed": 595,
     "status": "ok",
     "timestamp": 1655317162813,
     "user": {
      "displayName": "NARDJES AMIEUR",
      "userId": "13751943947351102071"
     },
     "user_tz": -120
    },
    "id": "_krXpHUDl0QD",
    "outputId": "6c07e2a5-34be-4f4e-cbbe-aaa474679b75"
   },
   "outputs": [
    {
     "data": {
      "text/html": [
       "<div>\n",
       "<style scoped>\n",
       "    .dataframe tbody tr th:only-of-type {\n",
       "        vertical-align: middle;\n",
       "    }\n",
       "\n",
       "    .dataframe tbody tr th {\n",
       "        vertical-align: top;\n",
       "    }\n",
       "\n",
       "    .dataframe thead th {\n",
       "        text-align: right;\n",
       "    }\n",
       "</style>\n",
       "<table border=\"1\" class=\"dataframe\">\n",
       "  <thead>\n",
       "    <tr style=\"text-align: right;\">\n",
       "      <th></th>\n",
       "      <th>text</th>\n",
       "      <th>auth</th>\n",
       "      <th>ad_no_stop</th>\n",
       "      <th>ad_no_stop_freq</th>\n",
       "      <th>text_lemmatized</th>\n",
       "    </tr>\n",
       "  </thead>\n",
       "  <tbody>\n",
       "    <tr>\n",
       "      <th>0</th>\n",
       "      <td>looking for more info on a social security dis...</td>\n",
       "      <td>0</td>\n",
       "      <td>looking info social security disability claim ...</td>\n",
       "      <td>looking info social security disability claim ...</td>\n",
       "      <td>looking info social security disability claim ...</td>\n",
       "    </tr>\n",
       "    <tr>\n",
       "      <th>1</th>\n",
       "      <td>q what can be done to slow the revolving admin...</td>\n",
       "      <td>1</td>\n",
       "      <td>q done slow revolving administrative turnover ...</td>\n",
       "      <td>q done slow revolving administrative turnover ...</td>\n",
       "      <td>q done slow revolving administrative turnover ...</td>\n",
       "    </tr>\n",
       "    <tr>\n",
       "      <th>2</th>\n",
       "      <td>the future of investing is here were like a he...</td>\n",
       "      <td>0</td>\n",
       "      <td>future investing like hedge fund everyone get ...</td>\n",
       "      <td>future investing hedge fund everyone invested</td>\n",
       "      <td>future investing hedge fund everyone invested</td>\n",
       "    </tr>\n",
       "    <tr>\n",
       "      <th>3</th>\n",
       "      <td>in october the choice to be made is clear cont...</td>\n",
       "      <td>0</td>\n",
       "      <td>october choice made clear continue road progre...</td>\n",
       "      <td>october choice made clear continue road progre...</td>\n",
       "      <td>october choice made clear continue road progre...</td>\n",
       "    </tr>\n",
       "    <tr>\n",
       "      <th>4</th>\n",
       "      <td>grateful for the fabulous science amp health f...</td>\n",
       "      <td>1</td>\n",
       "      <td>grateful fabulous science amp health fundraise...</td>\n",
       "      <td>grateful fabulous science amp health fundraise...</td>\n",
       "      <td>grateful fabulous science amp health fundraise...</td>\n",
       "    </tr>\n",
       "    <tr>\n",
       "      <th>...</th>\n",
       "      <td>...</td>\n",
       "      <td>...</td>\n",
       "      <td>...</td>\n",
       "      <td>...</td>\n",
       "      <td>...</td>\n",
       "    </tr>\n",
       "    <tr>\n",
       "      <th>565</th>\n",
       "      <td>research shows that too much screen time cause...</td>\n",
       "      <td>1</td>\n",
       "      <td>research shows much screen time causes insomni...</td>\n",
       "      <td>research shows much screen causes insomnia, ch...</td>\n",
       "      <td>research show much screen cause insomnia, chro...</td>\n",
       "    </tr>\n",
       "    <tr>\n",
       "      <th>566</th>\n",
       "      <td>Evia is developed by experts and backed by sci...</td>\n",
       "      <td>1</td>\n",
       "      <td>Evia developed experts backed science.After co...</td>\n",
       "      <td>Evia developed experts backed science.After co...</td>\n",
       "      <td>Evia developed expert backed science.After con...</td>\n",
       "    </tr>\n",
       "    <tr>\n",
       "      <th>567</th>\n",
       "      <td>Stay up-to-date on eBC treatment developments ...</td>\n",
       "      <td>1</td>\n",
       "      <td>Stay up-to-date eBC treatment developments key...</td>\n",
       "      <td>Stay up-to-date eBC treatment developments key...</td>\n",
       "      <td>Stay up-to-date eBC treatment development key ...</td>\n",
       "    </tr>\n",
       "    <tr>\n",
       "      <th>568</th>\n",
       "      <td>Give yourself an edge in leadership by learnin...</td>\n",
       "      <td>1</td>\n",
       "      <td>Give edge leadership learning practical change...</td>\n",
       "      <td>Give edge leadership learning practical change...</td>\n",
       "      <td>Give edge leadership learning practical change...</td>\n",
       "    </tr>\n",
       "    <tr>\n",
       "      <th>569</th>\n",
       "      <td>The world is in chaos – we urgently need this ...</td>\n",
       "      <td>1</td>\n",
       "      <td>The world chaos – urgently need understanding ...</td>\n",
       "      <td>The world chaos – urgently understanding troub...</td>\n",
       "      <td>The world chaos – urgently understanding troub...</td>\n",
       "    </tr>\n",
       "  </tbody>\n",
       "</table>\n",
       "<p>570 rows × 5 columns</p>\n",
       "</div>"
      ],
      "text/plain": [
       "                                                  text  auth  \\\n",
       "0    looking for more info on a social security dis...     0   \n",
       "1    q what can be done to slow the revolving admin...     1   \n",
       "2    the future of investing is here were like a he...     0   \n",
       "3    in october the choice to be made is clear cont...     0   \n",
       "4    grateful for the fabulous science amp health f...     1   \n",
       "..                                                 ...   ...   \n",
       "565  research shows that too much screen time cause...     1   \n",
       "566  Evia is developed by experts and backed by sci...     1   \n",
       "567  Stay up-to-date on eBC treatment developments ...     1   \n",
       "568  Give yourself an edge in leadership by learnin...     1   \n",
       "569  The world is in chaos – we urgently need this ...     1   \n",
       "\n",
       "                                            ad_no_stop  \\\n",
       "0    looking info social security disability claim ...   \n",
       "1    q done slow revolving administrative turnover ...   \n",
       "2    future investing like hedge fund everyone get ...   \n",
       "3    october choice made clear continue road progre...   \n",
       "4    grateful fabulous science amp health fundraise...   \n",
       "..                                                 ...   \n",
       "565  research shows much screen time causes insomni...   \n",
       "566  Evia developed experts backed science.After co...   \n",
       "567  Stay up-to-date eBC treatment developments key...   \n",
       "568  Give edge leadership learning practical change...   \n",
       "569  The world chaos – urgently need understanding ...   \n",
       "\n",
       "                                       ad_no_stop_freq  \\\n",
       "0    looking info social security disability claim ...   \n",
       "1    q done slow revolving administrative turnover ...   \n",
       "2        future investing hedge fund everyone invested   \n",
       "3    october choice made clear continue road progre...   \n",
       "4    grateful fabulous science amp health fundraise...   \n",
       "..                                                 ...   \n",
       "565  research shows much screen causes insomnia, ch...   \n",
       "566  Evia developed experts backed science.After co...   \n",
       "567  Stay up-to-date eBC treatment developments key...   \n",
       "568  Give edge leadership learning practical change...   \n",
       "569  The world chaos – urgently understanding troub...   \n",
       "\n",
       "                                       text_lemmatized  \n",
       "0    looking info social security disability claim ...  \n",
       "1    q done slow revolving administrative turnover ...  \n",
       "2        future investing hedge fund everyone invested  \n",
       "3    october choice made clear continue road progre...  \n",
       "4    grateful fabulous science amp health fundraise...  \n",
       "..                                                 ...  \n",
       "565  research show much screen cause insomnia, chro...  \n",
       "566  Evia developed expert backed science.After con...  \n",
       "567  Stay up-to-date eBC treatment development key ...  \n",
       "568  Give edge leadership learning practical change...  \n",
       "569  The world chaos – urgently understanding troub...  \n",
       "\n",
       "[570 rows x 5 columns]"
      ]
     },
     "execution_count": 3,
     "metadata": {},
     "output_type": "execute_result"
    }
   ],
   "source": [
    "test = pd.read_csv(\"test_data_auth_500.csv\",index_col=0)\n",
    "test"
   ]
  },
  {
   "cell_type": "code",
   "execution_count": 4,
   "metadata": {
    "executionInfo": {
     "elapsed": 208,
     "status": "ok",
     "timestamp": 1655317228956,
     "user": {
      "displayName": "NARDJES AMIEUR",
      "userId": "13751943947351102071"
     },
     "user_tz": -120
    },
    "id": "mywcDEC3l3QC"
   },
   "outputs": [],
   "source": [
    "norm_train=train['text_lemmatized']\n",
    "y_train=train['auth']\n",
    "norm_test=test['text_lemmatized']\n",
    "y_test = test['auth']"
   ]
  },
  {
   "cell_type": "code",
   "execution_count": 5,
   "metadata": {
    "colab": {
     "base_uri": "https://localhost:8080/"
    },
    "executionInfo": {
     "elapsed": 674,
     "status": "ok",
     "timestamp": 1655317231315,
     "user": {
      "displayName": "NARDJES AMIEUR",
      "userId": "13751943947351102071"
     },
     "user_tz": -120
    },
    "id": "HVq3PRqn6mOl",
    "outputId": "a219cdc5-ac5a-4a44-b807-ca6044aa3341"
   },
   "outputs": [
    {
     "data": {
      "text/plain": [
       "(('facetime', 20302), ('<PAD>', 0), 1)"
      ]
     },
     "execution_count": 5,
     "metadata": {},
     "output_type": "execute_result"
    }
   ],
   "source": [
    "# data tokenization \n",
    "t = tf.keras.preprocessing.text.Tokenizer(oov_token='<UNK>')\n",
    "\n",
    "# fit the tokenizer on the training documents\n",
    "t.fit_on_texts(norm_train)\n",
    "t.word_index['<PAD>'] = 0\n",
    "max([(k, v) for k, v in t.word_index.items()], key = lambda x:x[1]), min([(k, v) for k, v in t.word_index.items()], key = lambda x:x[1]), t.word_index['<UNK>']"
   ]
  },
  {
   "cell_type": "code",
   "execution_count": 6,
   "metadata": {
    "executionInfo": {
     "elapsed": 363,
     "status": "ok",
     "timestamp": 1655317233351,
     "user": {
      "displayName": "NARDJES AMIEUR",
      "userId": "13751943947351102071"
     },
     "user_tz": -120
    },
    "id": "DwyD63OC6mS-"
   },
   "outputs": [],
   "source": [
    "# create tokenized data sequences to feed to the neural network \n",
    "train_sequences = t.texts_to_sequences(norm_train)\n",
    "test_sequences = t.texts_to_sequences(norm_test)"
   ]
  },
  {
   "cell_type": "code",
   "execution_count": 7,
   "metadata": {
    "colab": {
     "base_uri": "https://localhost:8080/"
    },
    "executionInfo": {
     "elapsed": 219,
     "status": "ok",
     "timestamp": 1655317234709,
     "user": {
      "displayName": "NARDJES AMIEUR",
      "userId": "13751943947351102071"
     },
     "user_tz": -120
    },
    "id": "fUcbman26pWu",
    "outputId": "6c2336fa-59a2-4a45-88ac-9f26188bf9bf"
   },
   "outputs": [
    {
     "data": {
      "text/plain": [
       "((4071, 1000), (570, 1000))"
      ]
     },
     "execution_count": 7,
     "metadata": {},
     "output_type": "execute_result"
    }
   ],
   "source": [
    "MAX_SEQUENCE_LENGTH = 1000\n",
    "\n",
    "# pad documents to equal length with 0 \n",
    "X_train = tf.keras.preprocessing.sequence.pad_sequences(train_sequences, maxlen=MAX_SEQUENCE_LENGTH)\n",
    "X_test = tf.keras.preprocessing.sequence.pad_sequences(test_sequences, maxlen=MAX_SEQUENCE_LENGTH)\n",
    "X_train.shape, X_test.shape"
   ]
  },
  {
   "cell_type": "code",
   "execution_count": 8,
   "metadata": {
    "executionInfo": {
     "elapsed": 223,
     "status": "ok",
     "timestamp": 1655317236581,
     "user": {
      "displayName": "NARDJES AMIEUR",
      "userId": "13751943947351102071"
     },
     "user_tz": -120
    },
    "id": "ZOoiVB_qg2HQ"
   },
   "outputs": [],
   "source": [
    "def create_model(units, vocab_size, embedding_dim, maxlen, dropout = 0.2):\n",
    "  '''\n",
    "    Create a simple artificial neural network for binary text classification\n",
    "    Arguments : \n",
    "      num_filters: number of filters to use for the 1D convolution layer \n",
    "      kernel_size: kernal size used for convolution\n",
    "      embedding_dim: embedding size \n",
    "      maxlen: input sequence length\n",
    "      vectorize_layer : vectorization layer for turning input text to numerical sequences\n",
    "      dropout : dropout rate used for Dropout regularization layer to minimize overfitting\n",
    "\n",
    "    Returns : \n",
    "    A model with the folowing layers:  \n",
    "            - An Embedding layer with embedding_dim dimension for each embedding \n",
    "            - A one dimentional global max pooling layer  \n",
    "            - A fully connected layer with 10 units \n",
    "            - The output layer is one neuron with sigmoid activation producing the output label\n",
    "            - Dropout layers added to minimize overfitting on the small datasets \n",
    "  '''\n",
    "  model = Sequential([\n",
    "      layers.Input(shape=(maxlen,)),\n",
    "      layers.Embedding(input_dim = vocab_size , output_dim = embedding_dim, input_length=maxlen),\n",
    "      layers.Dropout( rate = dropout ),\n",
    "      layers.GlobalMaxPooling1D(),\n",
    "      layers.Dropout( rate = dropout),\n",
    "      layers.Dense(units, activation='relu'),\n",
    "      layers.Dropout( rate = dropout ),\n",
    "      layers.Dense(1, activation='sigmoid')              \n",
    "  ])\n",
    "  model.compile(optimizer='adam',\n",
    "                loss='binary_crossentropy',\n",
    "                metrics=['accuracy'])\n",
    "  return model"
   ]
  },
  {
   "cell_type": "code",
   "execution_count": 9,
   "metadata": {
    "executionInfo": {
     "elapsed": 233,
     "status": "ok",
     "timestamp": 1655317238137,
     "user": {
      "displayName": "NARDJES AMIEUR",
      "userId": "13751943947351102071"
     },
     "user_tz": -120
    },
    "id": "gUUFpmjEZwPu"
   },
   "outputs": [],
   "source": [
    "plt.style.use('ggplot')\n",
    "\n",
    "def plot_history(history):\n",
    "  acc = history.history['accuracy']\n",
    "  val_acc = history.history['val_accuracy']\n",
    "  \n",
    "  loss = history.history['loss']\n",
    "  val_loss = history.history['val_loss']\n",
    "  x = range(1, len(acc) + 1)\n",
    "\n",
    "  plt.figure(figsize=(12, 5))\n",
    "  plt.subplot(1, 2, 1)\n",
    "  plt.plot(x, acc, 'b', label='Training acc')\n",
    "  plt.plot(x, val_acc, 'r', label='Validation acc')\n",
    "  plt.title('Training and validation accuracy')\n",
    "  plt.legend()\n",
    "  plt.subplot(1, 2, 2)\n",
    "  plt.plot(x, loss, 'b', label='Training loss')\n",
    "  plt.plot(x, val_loss, 'r', label='Validation loss')\n",
    "  plt.title('Training and validation loss')\n",
    "  plt.legend()"
   ]
  },
  {
   "cell_type": "code",
   "execution_count": 10,
   "metadata": {
    "colab": {
     "base_uri": "https://localhost:8080/"
    },
    "executionInfo": {
     "elapsed": 272,
     "status": "ok",
     "timestamp": 1655317263001,
     "user": {
      "displayName": "NARDJES AMIEUR",
      "userId": "13751943947351102071"
     },
     "user_tz": -120
    },
    "id": "jgr5Jk0Lz6k2",
    "outputId": "17ca301b-4cff-416c-dab5-2cbef38f77f6"
   },
   "outputs": [
    {
     "name": "stdout",
     "output_type": "stream",
     "text": [
      "Model: \"sequential\"\n",
      "_________________________________________________________________\n",
      " Layer (type)                Output Shape              Param #   \n",
      "=================================================================\n",
      " embedding (Embedding)       (None, 1000, 50)          1015150   \n",
      "                                                                 \n",
      " dropout (Dropout)           (None, 1000, 50)          0         \n",
      "                                                                 \n",
      " global_max_pooling1d (Globa  (None, 50)               0         \n",
      " lMaxPooling1D)                                                  \n",
      "                                                                 \n",
      " dropout_1 (Dropout)         (None, 50)                0         \n",
      "                                                                 \n",
      " dense (Dense)               (None, 10)                510       \n",
      "                                                                 \n",
      " dropout_2 (Dropout)         (None, 10)                0         \n",
      "                                                                 \n",
      " dense_1 (Dense)             (None, 1)                 11        \n",
      "                                                                 \n",
      "=================================================================\n",
      "Total params: 1,015,671\n",
      "Trainable params: 1,015,671\n",
      "Non-trainable params: 0\n",
      "_________________________________________________________________\n"
     ]
    }
   ],
   "source": [
    "VOCAB_SIZE = len(t.word_index)\n",
    "\n",
    "EMBEDDING_DIM = 50\n",
    "UNITS = 10\n",
    "\n",
    "# Creating a neural net with randomly set paramteres as a baseline comparison model \n",
    "model = create_model(units = UNITS, vocab_size = VOCAB_SIZE, embedding_dim = EMBEDDING_DIM, maxlen = MAX_SEQUENCE_LENGTH )\n",
    "model.summary()"
   ]
  },
  {
   "cell_type": "code",
   "execution_count": 11,
   "metadata": {
    "colab": {
     "base_uri": "https://localhost:8080/"
    },
    "executionInfo": {
     "elapsed": 3709,
     "status": "ok",
     "timestamp": 1655308630637,
     "user": {
      "displayName": "NARDJES AMIEUR",
      "userId": "13751943947351102071"
     },
     "user_tz": -120
    },
    "id": "OxLg8kHi3H_V",
    "outputId": "cbdacec2-1d60-4019-d6ed-b46cc319a47a"
   },
   "outputs": [
    {
     "name": "stdout",
     "output_type": "stream",
     "text": [
      "Requirement already satisfied: pyyaml in c:\\users\\amieurn\\anaconda3\\lib\\site-packages (6.0)\n",
      "Requirement already satisfied: h5py in c:\\users\\amieurn\\anaconda3\\lib\\site-packages (3.2.1)\n",
      "Requirement already satisfied: numpy>=1.19.0 in c:\\users\\amieurn\\anaconda3\\lib\\site-packages (from h5py) (1.20.3)\n",
      "[WinError 3] Le chemin d’accès spécifié est introuvable: \"'/content/gdrive/Shared drives/PFE/Colab Notebooks/Task 2/authority/data'\"\n",
      "C:\\Users\\amieurn\\Desktop\\auth_validation\n"
     ]
    },
    {
     "name": "stderr",
     "output_type": "stream",
     "text": [
      "WARNING: Ignoring invalid distribution -treamlit (c:\\users\\amieurn\\anaconda3\\lib\\site-packages)\n",
      "WARNING: Ignoring invalid distribution -atplotlib (c:\\users\\amieurn\\anaconda3\\lib\\site-packages)\n",
      "WARNING: Ignoring invalid distribution -treamlit (c:\\users\\amieurn\\anaconda3\\lib\\site-packages)\n",
      "WARNING: Ignoring invalid distribution -atplotlib (c:\\users\\amieurn\\anaconda3\\lib\\site-packages)\n",
      "WARNING: Ignoring invalid distribution -treamlit (c:\\users\\amieurn\\anaconda3\\lib\\site-packages)\n",
      "WARNING: Ignoring invalid distribution -atplotlib (c:\\users\\amieurn\\anaconda3\\lib\\site-packages)\n",
      "WARNING: Ignoring invalid distribution -treamlit (c:\\users\\amieurn\\anaconda3\\lib\\site-packages)\n",
      "WARNING: Ignoring invalid distribution -atplotlib (c:\\users\\amieurn\\anaconda3\\lib\\site-packages)\n",
      "WARNING: Ignoring invalid distribution -treamlit (c:\\users\\amieurn\\anaconda3\\lib\\site-packages)\n",
      "WARNING: Ignoring invalid distribution -atplotlib (c:\\users\\amieurn\\anaconda3\\lib\\site-packages)\n",
      "WARNING: Ignoring invalid distribution -treamlit (c:\\users\\amieurn\\anaconda3\\lib\\site-packages)\n",
      "WARNING: Ignoring invalid distribution -atplotlib (c:\\users\\amieurn\\anaconda3\\lib\\site-packages)\n"
     ]
    }
   ],
   "source": [
    "!pip install pyyaml h5py\n",
    "\n",
    "%cd '/content/gdrive/Shared drives/PFE/Colab Notebooks/Task 2/authority/data'"
   ]
  },
  {
   "cell_type": "code",
   "execution_count": 12,
   "metadata": {
    "colab": {
     "base_uri": "https://localhost:8080/",
     "height": 511
    },
    "executionInfo": {
     "elapsed": 21178,
     "status": "ok",
     "timestamp": 1655317289644,
     "user": {
      "displayName": "NARDJES AMIEUR",
      "userId": "13751943947351102071"
     },
     "user_tz": -120
    },
    "id": "OidjdWyx0Zbk",
    "outputId": "62c1e1e4-5475-4b9e-8999-96b04dfa660a"
   },
   "outputs": [
    {
     "name": "stdout",
     "output_type": "stream",
     "text": [
      "Epoch 1/5\n",
      "115/115 [==============================] - 3s 23ms/step - loss: 0.6630 - accuracy: 0.6598 - val_loss: 0.6080 - val_accuracy: 0.9265\n",
      "Epoch 2/5\n",
      "115/115 [==============================] - 3s 22ms/step - loss: 0.4421 - accuracy: 0.9307 - val_loss: 0.2936 - val_accuracy: 0.9583\n",
      "Epoch 3/5\n",
      "115/115 [==============================] - 3s 22ms/step - loss: 0.1687 - accuracy: 0.9760 - val_loss: 0.1344 - val_accuracy: 0.9632\n",
      "Epoch 4/5\n",
      "115/115 [==============================] - 3s 22ms/step - loss: 0.0749 - accuracy: 0.9869 - val_loss: 0.0911 - val_accuracy: 0.9681\n",
      "Epoch 5/5\n",
      "115/115 [==============================] - 3s 22ms/step - loss: 0.0420 - accuracy: 0.9932 - val_loss: 0.0732 - val_accuracy: 0.9755\n"
     ]
    },
    {
     "data": {
      "image/png": "[encoded data removed]",
      "text/plain": [
       "<Figure size 864x360 with 2 Axes>"
      ]
     },
     "metadata": {},
     "output_type": "display_data"
    }
   ],
   "source": [
    "# Train the neural net and evaluate results \n",
    "history = model.fit(X_train, y_train, epochs= 5, batch_size= 32,  shuffle=True, validation_split=0.1, verbose=1)\n",
    "plot_history(history)"
   ]
  },
  {
   "cell_type": "code",
   "execution_count": 13,
   "metadata": {
    "colab": {
     "base_uri": "https://localhost:8080/"
    },
    "executionInfo": {
     "elapsed": 213,
     "status": "ok",
     "timestamp": 1655317307436,
     "user": {
      "displayName": "NARDJES AMIEUR",
      "userId": "13751943947351102071"
     },
     "user_tz": -120
    },
    "id": "SAaOqHLs65hC",
    "outputId": "848af777-e4cc-4311-f3eb-ccd1e92065a5"
   },
   "outputs": [
    {
     "name": "stdout",
     "output_type": "stream",
     "text": [
      "18/18 [==============================] - 0s 3ms/step - loss: 0.5457 - accuracy: 0.8719\n",
      "Accuracy: 87.19%\n"
     ]
    }
   ],
   "source": [
    "# model evaluation \n",
    "# Final evaluation of the model\n",
    "scores = model.evaluate(X_test, y_test, verbose=1)\n",
    "print(\"Accuracy: %.2f%%\" % (scores[1]*100))"
   ]
  },
  {
   "cell_type": "code",
   "execution_count": 15,
   "metadata": {
    "colab": {
     "base_uri": "https://localhost:8080/"
    },
    "executionInfo": {
     "elapsed": 212,
     "status": "ok",
     "timestamp": 1655317308970,
     "user": {
      "displayName": "NARDJES AMIEUR",
      "userId": "13751943947351102071"
     },
     "user_tz": -120
    },
    "id": "JtlTcLue7Bis",
    "outputId": "9e4788bc-736d-4a9a-b595-521342265fe7"
   },
   "outputs": [
    {
     "name": "stdout",
     "output_type": "stream",
     "text": [
      "18/18 [==============================] - 0s 2ms/step\n"
     ]
    },
    {
     "data": {
      "text/plain": [
       "[0, 1, 0, 0, 1, 0, 1, 1, 0, 0]"
      ]
     },
     "execution_count": 15,
     "metadata": {},
     "output_type": "execute_result"
    }
   ],
   "source": [
    "# get model predictions \n",
    "prediction_probs = model.predict(X_test, verbose=1).ravel()\n",
    "predictions = [1 if prob > 0.5 else 0 for prob in prediction_probs]\n",
    "predictions[:10]"
   ]
  },
  {
   "cell_type": "code",
   "execution_count": 16,
   "metadata": {
    "colab": {
     "base_uri": "https://localhost:8080/"
    },
    "executionInfo": {
     "elapsed": 7204,
     "status": "ok",
     "timestamp": 1655308650806,
     "user": {
      "displayName": "NARDJES AMIEUR",
      "userId": "13751943947351102071"
     },
     "user_tz": -120
    },
    "id": "HVkTfZz08sgD",
    "outputId": "8cb82540-c7f9-43a7-95b0-0841b07631b3"
   },
   "outputs": [
    {
     "name": "stdout",
     "output_type": "stream",
     "text": [
      "Requirement already satisfied: scikit-plot in c:\\users\\amieurn\\anaconda3\\lib\\site-packages (0.3.7)\n",
      "Requirement already satisfied: joblib>=0.10 in c:\\users\\amieurn\\anaconda3\\lib\\site-packages (from scikit-plot) (1.1.0)\n",
      "Requirement already satisfied: scipy>=0.9 in c:\\users\\amieurn\\anaconda3\\lib\\site-packages (from scikit-plot) (1.7.1)\n",
      "Requirement already satisfied: scikit-learn>=0.18 in c:\\users\\amieurn\\anaconda3\\lib\\site-packages (from scikit-plot) (1.1.1)\n",
      "Requirement already satisfied: matplotlib>=1.4.0 in c:\\users\\amieurn\\anaconda3\\lib\\site-packages (from scikit-plot) (3.4.3)\n",
      "Requirement already satisfied: kiwisolver>=1.0.1 in c:\\users\\amieurn\\anaconda3\\lib\\site-packages (from matplotlib>=1.4.0->scikit-plot) (1.3.1)\n",
      "Requirement already satisfied: python-dateutil>=2.7 in c:\\users\\amieurn\\anaconda3\\lib\\site-packages (from matplotlib>=1.4.0->scikit-plot) (2.8.2)\n",
      "Requirement already satisfied: cycler>=0.10 in c:\\users\\amieurn\\anaconda3\\lib\\site-packages (from matplotlib>=1.4.0->scikit-plot) (0.10.0)\n",
      "Requirement already satisfied: pyparsing>=2.2.1 in c:\\users\\amieurn\\anaconda3\\lib\\site-packages (from matplotlib>=1.4.0->scikit-plot) (3.0.4)\n",
      "Requirement already satisfied: pillow>=6.2.0 in c:\\users\\amieurn\\anaconda3\\lib\\site-packages (from matplotlib>=1.4.0->scikit-plot) (8.4.0)\n",
      "Requirement already satisfied: numpy>=1.16 in c:\\users\\amieurn\\anaconda3\\lib\\site-packages (from matplotlib>=1.4.0->scikit-plot) (1.20.3)\n",
      "Requirement already satisfied: six in c:\\users\\amieurn\\anaconda3\\lib\\site-packages (from cycler>=0.10->matplotlib>=1.4.0->scikit-plot) (1.16.0)\n",
      "Requirement already satisfied: threadpoolctl>=2.0.0 in c:\\users\\amieurn\\anaconda3\\lib\\site-packages (from scikit-learn>=0.18->scikit-plot) (2.2.0)\n"
     ]
    },
    {
     "name": "stderr",
     "output_type": "stream",
     "text": [
      "WARNING: Ignoring invalid distribution -treamlit (c:\\users\\amieurn\\anaconda3\\lib\\site-packages)\n",
      "WARNING: Ignoring invalid distribution -atplotlib (c:\\users\\amieurn\\anaconda3\\lib\\site-packages)\n",
      "WARNING: Ignoring invalid distribution -treamlit (c:\\users\\amieurn\\anaconda3\\lib\\site-packages)\n",
      "WARNING: Ignoring invalid distribution -atplotlib (c:\\users\\amieurn\\anaconda3\\lib\\site-packages)\n",
      "WARNING: Ignoring invalid distribution -treamlit (c:\\users\\amieurn\\anaconda3\\lib\\site-packages)\n",
      "WARNING: Ignoring invalid distribution -atplotlib (c:\\users\\amieurn\\anaconda3\\lib\\site-packages)\n",
      "WARNING: Ignoring invalid distribution -treamlit (c:\\users\\amieurn\\anaconda3\\lib\\site-packages)\n",
      "WARNING: Ignoring invalid distribution -atplotlib (c:\\users\\amieurn\\anaconda3\\lib\\site-packages)\n",
      "WARNING: Ignoring invalid distribution -treamlit (c:\\users\\amieurn\\anaconda3\\lib\\site-packages)\n",
      "WARNING: Ignoring invalid distribution -atplotlib (c:\\users\\amieurn\\anaconda3\\lib\\site-packages)\n",
      "WARNING: Ignoring invalid distribution -treamlit (c:\\users\\amieurn\\anaconda3\\lib\\site-packages)\n",
      "WARNING: Ignoring invalid distribution -atplotlib (c:\\users\\amieurn\\anaconda3\\lib\\site-packages)\n"
     ]
    }
   ],
   "source": [
    "!pip install scikit-plot\n",
    "import scikitplot as skplt"
   ]
  },
  {
   "cell_type": "code",
   "execution_count": 17,
   "metadata": {
    "colab": {
     "base_uri": "https://localhost:8080/",
     "height": 521
    },
    "executionInfo": {
     "elapsed": 589,
     "status": "ok",
     "timestamp": 1655317312285,
     "user": {
      "displayName": "NARDJES AMIEUR",
      "userId": "13751943947351102071"
     },
     "user_tz": -120
    },
    "id": "832FxLtw7Ey6",
    "outputId": "a3031f4e-face-4b49-ecc2-c1b34d09834a"
   },
   "outputs": [
    {
     "name": "stdout",
     "output_type": "stream",
     "text": [
      "              precision    recall  f1-score   support\n",
      "\n",
      "   authority       0.98      0.83      0.90       389\n",
      "no-authority       0.72      0.97      0.83       181\n",
      "\n",
      "    accuracy                           0.87       570\n",
      "   macro avg       0.85      0.90      0.86       570\n",
      "weighted avg       0.90      0.87      0.88       570\n",
      "\n",
      "confusion matrix:\n",
      "[[322  67]\n",
      " [  6 175]]\n",
      "\n"
     ]
    },
    {
     "data": {
      "image/png": "[encoded data removed]",
      "text/plain": [
       "<Figure size 432x288 with 2 Axes>"
      ]
     },
     "metadata": {},
     "output_type": "display_data"
    }
   ],
   "source": [
    "from sklearn.metrics import confusion_matrix, classification_report\n",
    "from sklearn import metrics\n",
    "\n",
    "print(metrics.classification_report(y_test, predictions, target_names=['authority', 'no-authority']))\n",
    "\n",
    "print(\"confusion matrix:\")\n",
    "print(metrics.confusion_matrix(y_test, predictions))\n",
    "print()\n",
    "\n",
    "skplt.metrics.plot_confusion_matrix(y_test, predictions , normalize=True)\n",
    "plt.show()"
   ]
  },
  {
   "cell_type": "code",
   "execution_count": 18,
   "metadata": {
    "colab": {
     "base_uri": "https://localhost:8080/",
     "height": 468
    },
    "executionInfo": {
     "elapsed": 604,
     "status": "ok",
     "timestamp": 1655317345470,
     "user": {
      "displayName": "NARDJES AMIEUR",
      "userId": "13751943947351102071"
     },
     "user_tz": -120
    },
    "id": "Y6wiV2CpHgY0",
    "outputId": "e36cfe99-3cc8-447d-c4e3-e9f93d016736"
   },
   "outputs": [
    {
     "data": {
      "text/html": [
       "<div>\n",
       "<style scoped>\n",
       "    .dataframe tbody tr th:only-of-type {\n",
       "        vertical-align: middle;\n",
       "    }\n",
       "\n",
       "    .dataframe tbody tr th {\n",
       "        vertical-align: top;\n",
       "    }\n",
       "\n",
       "    .dataframe thead th {\n",
       "        text-align: right;\n",
       "    }\n",
       "</style>\n",
       "<table border=\"1\" class=\"dataframe\">\n",
       "  <thead>\n",
       "    <tr style=\"text-align: right;\">\n",
       "      <th></th>\n",
       "      <th>ad</th>\n",
       "      <th>authority</th>\n",
       "      <th>ad_no_stop</th>\n",
       "      <th>ad_no_stop_freq</th>\n",
       "      <th>text_lemmatized</th>\n",
       "    </tr>\n",
       "  </thead>\n",
       "  <tbody>\n",
       "    <tr>\n",
       "      <th>60</th>\n",
       "      <td>the majority of parents want their children to...</td>\n",
       "      <td>0</td>\n",
       "      <td>majority parents want children love however ma...</td>\n",
       "      <td>majority parents want children love however ma...</td>\n",
       "      <td>majority parent want child love however many y...</td>\n",
       "    </tr>\n",
       "    <tr>\n",
       "      <th>46</th>\n",
       "      <td>profitez des aides et des nouveaux barèmes dep...</td>\n",
       "      <td>0</td>\n",
       "      <td>profitez des aides et des nouveaux barèmes dep...</td>\n",
       "      <td>profitez des aides et des nouveaux barèmes dep...</td>\n",
       "      <td>profitez de aide et de nouveaux barèmes depuis...</td>\n",
       "    </tr>\n",
       "    <tr>\n",
       "      <th>41</th>\n",
       "      <td>the only way to change the government and get ...</td>\n",
       "      <td>0</td>\n",
       "      <td>way change government get real action climate ...</td>\n",
       "      <td>way change government real action climate chan...</td>\n",
       "      <td>way change government real action climate chan...</td>\n",
       "    </tr>\n",
       "    <tr>\n",
       "      <th>117</th>\n",
       "      <td>bringing hope and restoration to a community i...</td>\n",
       "      <td>0</td>\n",
       "      <td>bringing hope restoration community dire despe...</td>\n",
       "      <td>bringing hope restoration community dire despe...</td>\n",
       "      <td>bringing hope restoration community dire despe...</td>\n",
       "    </tr>\n",
       "    <tr>\n",
       "      <th>143</th>\n",
       "      <td>retired judges call for a national anticorrup...</td>\n",
       "      <td>1</td>\n",
       "      <td>retired judges call national anticorruption co...</td>\n",
       "      <td>retired judges call national anticorruption co...</td>\n",
       "      <td>retired judge call national anticorruption com...</td>\n",
       "    </tr>\n",
       "    <tr>\n",
       "      <th>...</th>\n",
       "      <td>...</td>\n",
       "      <td>...</td>\n",
       "      <td>...</td>\n",
       "      <td>...</td>\n",
       "      <td>...</td>\n",
       "    </tr>\n",
       "    <tr>\n",
       "      <th>140</th>\n",
       "      <td>today alexei navalny was awarded the  sakharov...</td>\n",
       "      <td>0</td>\n",
       "      <td>today alexei navalny awarded sakharov prize fr...</td>\n",
       "      <td>alexei navalny awarded sakharov prize freedom ...</td>\n",
       "      <td>alexei navalny awarded sakharov prize freedom ...</td>\n",
       "    </tr>\n",
       "    <tr>\n",
       "      <th>75</th>\n",
       "      <td>the morrison govt is climate record shows they...</td>\n",
       "      <td>0</td>\n",
       "      <td>morrison govt climate record shows plan replac...</td>\n",
       "      <td>morrison govt climate record shows plan replac...</td>\n",
       "      <td>morrison govt climate record show plan replace...</td>\n",
       "    </tr>\n",
       "    <tr>\n",
       "      <th>109</th>\n",
       "      <td>as a member of congress dr ruiz has built a re...</td>\n",
       "      <td>1</td>\n",
       "      <td>member congress dr ruiz built reputation bipar...</td>\n",
       "      <td>member congress dr ruiz built reputation bipar...</td>\n",
       "      <td>member congress dr ruiz built reputation bipar...</td>\n",
       "    </tr>\n",
       "    <tr>\n",
       "      <th>111</th>\n",
       "      <td>thank you to the republican party network for ...</td>\n",
       "      <td>0</td>\n",
       "      <td>thank republican party network recent meeting ...</td>\n",
       "      <td>thank republican party network recent meeting ...</td>\n",
       "      <td>thank republican party network recent meeting ...</td>\n",
       "    </tr>\n",
       "    <tr>\n",
       "      <th>91</th>\n",
       "      <td>the nutrite expert network is your ally for a ...</td>\n",
       "      <td>1</td>\n",
       "      <td>nutrite expert network ally healthy sustainabl...</td>\n",
       "      <td>nutrite expert network ally healthy sustainabl...</td>\n",
       "      <td>nutrite expert network ally healthy sustainabl...</td>\n",
       "    </tr>\n",
       "  </tbody>\n",
       "</table>\n",
       "<p>170 rows × 5 columns</p>\n",
       "</div>"
      ],
      "text/plain": [
       "                                                    ad  authority  \\\n",
       "60   the majority of parents want their children to...          0   \n",
       "46   profitez des aides et des nouveaux barèmes dep...          0   \n",
       "41   the only way to change the government and get ...          0   \n",
       "117  bringing hope and restoration to a community i...          0   \n",
       "143   retired judges call for a national anticorrup...          1   \n",
       "..                                                 ...        ...   \n",
       "140  today alexei navalny was awarded the  sakharov...          0   \n",
       "75   the morrison govt is climate record shows they...          0   \n",
       "109  as a member of congress dr ruiz has built a re...          1   \n",
       "111  thank you to the republican party network for ...          0   \n",
       "91   the nutrite expert network is your ally for a ...          1   \n",
       "\n",
       "                                            ad_no_stop  \\\n",
       "60   majority parents want children love however ma...   \n",
       "46   profitez des aides et des nouveaux barèmes dep...   \n",
       "41   way change government get real action climate ...   \n",
       "117  bringing hope restoration community dire despe...   \n",
       "143  retired judges call national anticorruption co...   \n",
       "..                                                 ...   \n",
       "140  today alexei navalny awarded sakharov prize fr...   \n",
       "75   morrison govt climate record shows plan replac...   \n",
       "109  member congress dr ruiz built reputation bipar...   \n",
       "111  thank republican party network recent meeting ...   \n",
       "91   nutrite expert network ally healthy sustainabl...   \n",
       "\n",
       "                                       ad_no_stop_freq  \\\n",
       "60   majority parents want children love however ma...   \n",
       "46   profitez des aides et des nouveaux barèmes dep...   \n",
       "41   way change government real action climate chan...   \n",
       "117  bringing hope restoration community dire despe...   \n",
       "143  retired judges call national anticorruption co...   \n",
       "..                                                 ...   \n",
       "140  alexei navalny awarded sakharov prize freedom ...   \n",
       "75   morrison govt climate record shows plan replac...   \n",
       "109  member congress dr ruiz built reputation bipar...   \n",
       "111  thank republican party network recent meeting ...   \n",
       "91   nutrite expert network ally healthy sustainabl...   \n",
       "\n",
       "                                       text_lemmatized  \n",
       "60   majority parent want child love however many y...  \n",
       "46   profitez de aide et de nouveaux barèmes depuis...  \n",
       "41   way change government real action climate chan...  \n",
       "117  bringing hope restoration community dire despe...  \n",
       "143  retired judge call national anticorruption com...  \n",
       "..                                                 ...  \n",
       "140  alexei navalny awarded sakharov prize freedom ...  \n",
       "75   morrison govt climate record show plan replace...  \n",
       "109  member congress dr ruiz built reputation bipar...  \n",
       "111  thank republican party network recent meeting ...  \n",
       "91   nutrite expert network ally healthy sustainabl...  \n",
       "\n",
       "[170 rows x 5 columns]"
      ]
     },
     "execution_count": 18,
     "metadata": {},
     "output_type": "execute_result"
    }
   ],
   "source": [
    "df_val = pd.read_csv('sample_val_preprocessed_final_170.csv',index_col=0)\n",
    "df_val"
   ]
  },
  {
   "cell_type": "code",
   "execution_count": 19,
   "metadata": {
    "colab": {
     "base_uri": "https://localhost:8080/",
     "height": 538
    },
    "executionInfo": {
     "elapsed": 632,
     "status": "ok",
     "timestamp": 1655317350061,
     "user": {
      "displayName": "NARDJES AMIEUR",
      "userId": "13751943947351102071"
     },
     "user_tz": -120
    },
    "id": "m7RVdGUFaiHq",
    "outputId": "155f8224-666e-4a0c-c9a7-21f9600a5c04"
   },
   "outputs": [
    {
     "name": "stdout",
     "output_type": "stream",
     "text": [
      "accuracy:   0.741\n",
      "              precision    recall  f1-score   support\n",
      "\n",
      "     no-auth       0.94      0.65      0.77       113\n",
      "        auth       0.57      0.91      0.70        57\n",
      "\n",
      "    accuracy                           0.74       170\n",
      "   macro avg       0.75      0.78      0.74       170\n",
      "weighted avg       0.81      0.74      0.75       170\n",
      "\n",
      "confusion matrix:\n",
      "[[74 39]\n",
      " [ 5 52]]\n",
      "\n"
     ]
    },
    {
     "data": {
      "image/png": "[encoded data removed]",
      "text/plain": [
       "<Figure size 432x288 with 2 Axes>"
      ]
     },
     "metadata": {},
     "output_type": "display_data"
    }
   ],
   "source": [
    "val_sequences = t.texts_to_sequences(df_val['text_lemmatized'])\n",
    "X_val = tf.keras.preprocessing.sequence.pad_sequences(val_sequences, maxlen=MAX_SEQUENCE_LENGTH)\n",
    "y_val = df_val['authority']\n",
    "\n",
    "prediction_probs = model.predict(X_val).ravel()\n",
    "y_pred  = [1 if prob > 0.5 else 0 for prob in prediction_probs]\n",
    "\n",
    "\n",
    "score = metrics.accuracy_score(y_val, y_pred)\n",
    "print(\"accuracy:   %0.3f\" % score)\n",
    "\n",
    "print(metrics.classification_report(y_val, y_pred, target_names=[ 'no-auth', 'auth']))\n",
    "\n",
    "print(\"confusion matrix:\")\n",
    "print(metrics.confusion_matrix(y_val, y_pred))\n",
    "print()\n",
    "\n",
    "skplt.metrics.plot_confusion_matrix(y_val, y_pred, normalize=True)\n",
    "plt.show()\n"
   ]
  }
 ],
 "metadata": {
  "colab": {
   "collapsed_sections": [],
   "name": "ANN_authority.ipynb",
   "provenance": [
    {
     "file_id": "1FqcmtwRj342k95qxf2VScwDTUjgaU-cu",
     "timestamp": 1648038906010
    },
    {
     "file_id": "1v4d_nb0_Rti6Ld8uXmSjUIDpMW3tzvwJ",
     "timestamp": 1640781745185
    }
   ]
  },
  "kernelspec": {
   "display_name": "Python 3 (ipykernel)",
   "language": "python",
   "name": "python3"
  },
  "language_info": {
   "codemirror_mode": {
    "name": "ipython",
    "version": 3
   },
   "file_extension": ".py",
   "mimetype": "text/x-python",
   "name": "python",
   "nbconvert_exporter": "python",
   "pygments_lexer": "ipython3",
   "version": "3.9.7"
  }
 },
 "nbformat": 4,
 "nbformat_minor": 1
}
