{
 "cells": [
  {
   "cell_type": "code",
   "execution_count": 8,
   "metadata": {},
   "outputs": [],
   "source": [
    "import pandas as pd \n",
    "from sklearn import metrics\n",
    "\n",
    "import matplotlib.pyplot as plt\n",
    "import scikitplot as skplt"
   ]
  },
  {
   "cell_type": "code",
   "execution_count": 9,
   "metadata": {},
   "outputs": [
    {
     "data": {
      "text/html": [
       "<div>\n",
       "<style scoped>\n",
       "    .dataframe tbody tr th:only-of-type {\n",
       "        vertical-align: middle;\n",
       "    }\n",
       "\n",
       "    .dataframe tbody tr th {\n",
       "        vertical-align: top;\n",
       "    }\n",
       "\n",
       "    .dataframe thead th {\n",
       "        text-align: right;\n",
       "    }\n",
       "</style>\n",
       "<table border=\"1\" class=\"dataframe\">\n",
       "  <thead>\n",
       "    <tr style=\"text-align: right;\">\n",
       "      <th></th>\n",
       "      <th>ad</th>\n",
       "      <th>authority</th>\n",
       "    </tr>\n",
       "  </thead>\n",
       "  <tbody>\n",
       "    <tr>\n",
       "      <th>0</th>\n",
       "      <td>how are health and climate change connectedwat...</td>\n",
       "      <td>1</td>\n",
       "    </tr>\n",
       "    <tr>\n",
       "      <th>1</th>\n",
       "      <td>crime is on the rise in california hear a crim...</td>\n",
       "      <td>1</td>\n",
       "    </tr>\n",
       "    <tr>\n",
       "      <th>2</th>\n",
       "      <td>researchers at qimr berghofer are conducting a...</td>\n",
       "      <td>1</td>\n",
       "    </tr>\n",
       "    <tr>\n",
       "      <th>3</th>\n",
       "      <td>hear a policy expert discuss how prop  will im...</td>\n",
       "      <td>1</td>\n",
       "    </tr>\n",
       "    <tr>\n",
       "      <th>4</th>\n",
       "      <td>as torontos former chief of police mark saunde...</td>\n",
       "      <td>1</td>\n",
       "    </tr>\n",
       "    <tr>\n",
       "      <th>...</th>\n",
       "      <td>...</td>\n",
       "      <td>...</td>\n",
       "    </tr>\n",
       "    <tr>\n",
       "      <th>195</th>\n",
       "      <td>families are often the foundation of a strong ...</td>\n",
       "      <td>0</td>\n",
       "    </tr>\n",
       "    <tr>\n",
       "      <th>196</th>\n",
       "      <td>proven leadership you can count on with nearly...</td>\n",
       "      <td>1</td>\n",
       "    </tr>\n",
       "    <tr>\n",
       "      <th>197</th>\n",
       "      <td>if elected the ontario liberals will implement...</td>\n",
       "      <td>1</td>\n",
       "    </tr>\n",
       "    <tr>\n",
       "      <th>198</th>\n",
       "      <td>if elected the ontario liberals will implement...</td>\n",
       "      <td>1</td>\n",
       "    </tr>\n",
       "    <tr>\n",
       "      <th>199</th>\n",
       "      <td>as a member of congress dr ruiz has built a re...</td>\n",
       "      <td>1</td>\n",
       "    </tr>\n",
       "  </tbody>\n",
       "</table>\n",
       "<p>200 rows × 2 columns</p>\n",
       "</div>"
      ],
      "text/plain": [
       "                                                    ad  authority\n",
       "0    how are health and climate change connectedwat...          1\n",
       "1    crime is on the rise in california hear a crim...          1\n",
       "2    researchers at qimr berghofer are conducting a...          1\n",
       "3    hear a policy expert discuss how prop  will im...          1\n",
       "4    as torontos former chief of police mark saunde...          1\n",
       "..                                                 ...        ...\n",
       "195  families are often the foundation of a strong ...          0\n",
       "196  proven leadership you can count on with nearly...          1\n",
       "197  if elected the ontario liberals will implement...          1\n",
       "198  if elected the ontario liberals will implement...          1\n",
       "199  as a member of congress dr ruiz has built a re...          1\n",
       "\n",
       "[200 rows x 2 columns]"
      ]
     },
     "execution_count": 9,
     "metadata": {},
     "output_type": "execute_result"
    }
   ],
   "source": [
    "df = pd.read_csv('./data/sample_auth.csv')\n",
    "df"
   ]
  },
  {
   "cell_type": "code",
   "execution_count": 10,
   "metadata": {},
   "outputs": [],
   "source": [
    "# creating prediction model\n",
    "\n",
    "# creating the filters \n",
    "filters =  [ 'expert', 'president','founder','ceo','teacher','police', 'college', 'universit', 'journal','state official',\n",
    "            'conclusive', 'decisive', 'approved', 'official', 'sanctioned', 'accurate', 'comprehensive', 'exhaustive', \n",
    "            'predominant','proven', 'skilful', 'proficient', 'adept', 'qualified', 'expertise','dr', 'phd', \n",
    "            'research','professional','scientist','academic','authorities', 'precise','reliable','professor','company',\n",
    "            'administration', 'institution', 'association' , 'commission',  'recognized',  'known', 'well known',  'well established',\n",
    "            'senator', 'governor', 'elected', 'officials', 'officer', 'mayor', 'sheriff', 'leader', 'judge', 'attorney', 'senior']\n",
    "\n",
    "def contains_filter(x):\n",
    "    for filter in filters:\n",
    "        if filter in x:\n",
    "            return 1\n",
    "    return 0\n",
    "\n",
    "def predict(X): \n",
    "    '''\n",
    "        This function takes in a dataframe and returns the predicted values \n",
    "        params:\n",
    "            X: dataframe\n",
    "        returns:\n",
    "            predicted values using the filters \n",
    "    '''\n",
    "    X['prediction'] = X['ad'].apply(contains_filter)\n",
    "    return X['prediction']\n"
   ]
  },
  {
   "cell_type": "code",
   "execution_count": 11,
   "metadata": {},
   "outputs": [
    {
     "name": "stdout",
     "output_type": "stream",
     "text": [
      "accuracy:   0.760\n",
      "              precision    recall  f1-score   support\n",
      "\n",
      "no-authority       0.76      0.76      0.76       102\n",
      "   authority       0.76      0.76      0.76        98\n",
      "\n",
      "    accuracy                           0.76       200\n",
      "   macro avg       0.76      0.76      0.76       200\n",
      "weighted avg       0.76      0.76      0.76       200\n",
      "\n",
      "confusion matrix:\n",
      "[[78 24]\n",
      " [24 74]]\n",
      "\n"
     ]
    },
    {
     "data": {
      "image/png": "[encoded data removed]",
      "text/plain": [
       "<Figure size 432x288 with 2 Axes>"
      ]
     },
     "metadata": {
      "needs_background": "light"
     },
     "output_type": "display_data"
    }
   ],
   "source": [
    "y_pred = predict(df)\n",
    "\n",
    "# model performance\n",
    "score = metrics.accuracy_score(df['authority'], y_pred)\n",
    "print(\"accuracy:   %0.3f\" % score)\n",
    "\n",
    "print(metrics.classification_report(df['authority'], y_pred, target_names=['no-authority', 'authority']))\n",
    "\n",
    "print(\"confusion matrix:\")\n",
    "print(metrics.confusion_matrix(df['authority'], y_pred))\n",
    "print()\n",
    "\n",
    "skplt.metrics.plot_confusion_matrix(df['authority'], y_pred, normalize=True)\n",
    "plt.show()"
   ]
  }
 ],
 "metadata": {
  "interpreter": {
   "hash": "a5b9b38b543acef8c99a55356e1a83c226e44beb9292ee82f1e87a7fd9afffb6"
  },
  "kernelspec": {
   "display_name": "Python 3.7.9 64-bit (windows store)",
   "language": "python",
   "name": "python3"
  },
  "language_info": {
   "codemirror_mode": {
    "name": "ipython",
    "version": 3
   },
   "file_extension": ".py",
   "mimetype": "text/x-python",
   "name": "python",
   "nbconvert_exporter": "python",
   "pygments_lexer": "ipython3",
   "version": "3.7.9"
  },
  "orig_nbformat": 4
 },
 "nbformat": 4,
 "nbformat_minor": 2
}
