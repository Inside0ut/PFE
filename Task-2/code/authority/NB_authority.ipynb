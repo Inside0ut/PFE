{
 "cells": [
  {
   "cell_type": "code",
   "execution_count": 60,
   "metadata": {
    "executionInfo": {
     "elapsed": 1153,
     "status": "ok",
     "timestamp": 1655299911724,
     "user": {
      "displayName": "NARDJES AMIEUR",
      "userId": "13751943947351102071"
     },
     "user_tz": -120
    },
    "id": "kSoz1PazaOIQ"
   },
   "outputs": [],
   "source": [
    "import pandas as pd\n",
    "\n",
    "\n",
    "from sklearn import metrics\n",
    "from sklearn.feature_extraction.text import CountVectorizer\n",
    "from sklearn.naive_bayes import MultinomialNB\n",
    "\n",
    "import scikitplot as skplt\n",
    "import matplotlib.pyplot as plt\n",
    "\n",
    "import cleaner as dc\n"
   ]
  },
  {
   "cell_type": "code",
   "execution_count": 45,
   "metadata": {
    "colab": {
     "base_uri": "https://localhost:8080/",
     "height": 441
    },
    "executionInfo": {
     "elapsed": 1487,
     "status": "ok",
     "timestamp": 1655299940857,
     "user": {
      "displayName": "NARDJES AMIEUR",
      "userId": "13751943947351102071"
     },
     "user_tz": -120
    },
    "id": "8dlIQh0EloVV",
    "outputId": "446a6147-2b9b-4618-fe90-dcd4340cd362"
   },
   "outputs": [
    {
     "name": "stdout",
     "output_type": "stream",
     "text": [
      "(4071, 2)\n",
      "(570, 2)\n"
     ]
    }
   ],
   "source": [
    "df_train = pd.read_csv(\"./data/authority_train_dataset.csv\")\n",
    "df_test = pd.read_csv(\"./data/authority_test_dataset.csv\")\n",
    "\n",
    "print(df_train.shape)\n",
    "print(df_test.shape)"
   ]
  },
  {
   "cell_type": "code",
   "execution_count": 46,
   "metadata": {},
   "outputs": [],
   "source": [
    "# Cleaning and lemmatizing the traning and testing datasets\n",
    "\n",
    "# Lower case\n",
    "df_train['ad']= df_train['ad'].apply(lambda x: x.lower())\n",
    "df_test['ad']= df_test['ad'].apply(lambda x: x.lower())\n",
    "\n",
    "# Removing punctuations\n",
    "df_train['ad']= df_train['ad'].str.replace('[^\\w\\s]','', regex=True)\n",
    "df_test['ad']= df_test['ad'].str.replace('[^\\w\\s]','', regex=True)\n",
    "\n",
    "# Removing numbers\n",
    "df_train['ad']= df_train['ad'].str.replace('\\d+','',regex=True)\n",
    "df_test['ad']= df_test['ad'].str.replace('\\d+','',regex=True)\n",
    "\n",
    "# Removing extra space \n",
    "df_train['ad']= df_train['ad'].str.replace('\\s+', ' ',  regex=True)\n",
    "df_test['ad']= df_test['ad'].str.replace('\\s+', ' ',  regex=True)\n",
    "\n",
    "#Apply denoise function\n",
    "df_train['ad']= df_train['ad'].apply(dc.denoise_text)\n",
    "df_test['ad']= df_test['ad'].apply(dc.denoise_text)\n",
    "\n",
    "#Apply function on review column\n",
    "df_train['ad']= df_train['ad'].apply(dc.remove_stopwords)\n",
    "df_test['ad']= df_test['ad'].apply(dc.remove_stopwords)\n",
    "\n",
    "#Apply function on review column\n",
    "df_train['ad']= df_train['ad'].apply(dc.remove_special_characters)\n",
    "df_test['ad']= df_test['ad'].apply(dc.remove_special_characters)\n",
    "\n",
    "#Apply function on review column\n",
    "df_train['ad']= df_train['ad'].apply(dc.simple_lemmatizer)\n",
    "df_test['ad']= df_test['ad'].apply(dc.simple_lemmatizer)\n"
   ]
  },
  {
   "cell_type": "code",
   "execution_count": 47,
   "metadata": {},
   "outputs": [],
   "source": [
    "X_train, X_test, y_train, y_test = df_train['ad'], df_test['ad'], df_train['authority'], df_test['authority']"
   ]
  },
  {
   "cell_type": "code",
   "execution_count": 48,
   "metadata": {
    "executionInfo": {
     "elapsed": 2,
     "status": "ok",
     "timestamp": 1655299951584,
     "user": {
      "displayName": "NARDJES AMIEUR",
      "userId": "13751943947351102071"
     },
     "user_tz": -120
    },
    "id": "Yolq5WhCnFlS"
   },
   "outputs": [],
   "source": [
    "# Use term frequency to represent documents\n",
    "tf_vectorizer = CountVectorizer() \n",
    "\n",
    "X_train_tf = tf_vectorizer.fit_transform(X_train)\n",
    "X_test_tf = tf_vectorizer.transform(X_test)"
   ]
  },
  {
   "cell_type": "code",
   "execution_count": 49,
   "metadata": {
    "colab": {
     "base_uri": "https://localhost:8080/"
    },
    "executionInfo": {
     "elapsed": 417,
     "status": "ok",
     "timestamp": 1655299953506,
     "user": {
      "displayName": "NARDJES AMIEUR",
      "userId": "13751943947351102071"
     },
     "user_tz": -120
    },
    "id": "2baUnsrfoEBH",
    "outputId": "297fe8e2-761b-4e23-d1f3-c443096ed927"
   },
   "outputs": [
    {
     "data": {
      "text/html": [
       "<style>#sk-container-id-2 {color: black;background-color: white;}#sk-container-id-2 pre{padding: 0;}#sk-container-id-2 div.sk-toggleable {background-color: white;}#sk-container-id-2 label.sk-toggleable__label {cursor: pointer;display: block;width: 100%;margin-bottom: 0;padding: 0.3em;box-sizing: border-box;text-align: center;}#sk-container-id-2 label.sk-toggleable__label-arrow:before {content: \"▸\";float: left;margin-right: 0.25em;color: #696969;}#sk-container-id-2 label.sk-toggleable__label-arrow:hover:before {color: black;}#sk-container-id-2 div.sk-estimator:hover label.sk-toggleable__label-arrow:before {color: black;}#sk-container-id-2 div.sk-toggleable__content {max-height: 0;max-width: 0;overflow: hidden;text-align: left;background-color: #f0f8ff;}#sk-container-id-2 div.sk-toggleable__content pre {margin: 0.2em;color: black;border-radius: 0.25em;background-color: #f0f8ff;}#sk-container-id-2 input.sk-toggleable__control:checked~div.sk-toggleable__content {max-height: 200px;max-width: 100%;overflow: auto;}#sk-container-id-2 input.sk-toggleable__control:checked~label.sk-toggleable__label-arrow:before {content: \"▾\";}#sk-container-id-2 div.sk-estimator input.sk-toggleable__control:checked~label.sk-toggleable__label {background-color: #d4ebff;}#sk-container-id-2 div.sk-label input.sk-toggleable__control:checked~label.sk-toggleable__label {background-color: #d4ebff;}#sk-container-id-2 input.sk-hidden--visually {border: 0;clip: rect(1px 1px 1px 1px);clip: rect(1px, 1px, 1px, 1px);height: 1px;margin: -1px;overflow: hidden;padding: 0;position: absolute;width: 1px;}#sk-container-id-2 div.sk-estimator {font-family: monospace;background-color: #f0f8ff;border: 1px dotted black;border-radius: 0.25em;box-sizing: border-box;margin-bottom: 0.5em;}#sk-container-id-2 div.sk-estimator:hover {background-color: #d4ebff;}#sk-container-id-2 div.sk-parallel-item::after {content: \"\";width: 100%;border-bottom: 1px solid gray;flex-grow: 1;}#sk-container-id-2 div.sk-label:hover label.sk-toggleable__label {background-color: #d4ebff;}#sk-container-id-2 div.sk-serial::before {content: \"\";position: absolute;border-left: 1px solid gray;box-sizing: border-box;top: 0;bottom: 0;left: 50%;z-index: 0;}#sk-container-id-2 div.sk-serial {display: flex;flex-direction: column;align-items: center;background-color: white;padding-right: 0.2em;padding-left: 0.2em;position: relative;}#sk-container-id-2 div.sk-item {position: relative;z-index: 1;}#sk-container-id-2 div.sk-parallel {display: flex;align-items: stretch;justify-content: center;background-color: white;position: relative;}#sk-container-id-2 div.sk-item::before, #sk-container-id-2 div.sk-parallel-item::before {content: \"\";position: absolute;border-left: 1px solid gray;box-sizing: border-box;top: 0;bottom: 0;left: 50%;z-index: -1;}#sk-container-id-2 div.sk-parallel-item {display: flex;flex-direction: column;z-index: 1;position: relative;background-color: white;}#sk-container-id-2 div.sk-parallel-item:first-child::after {align-self: flex-end;width: 50%;}#sk-container-id-2 div.sk-parallel-item:last-child::after {align-self: flex-start;width: 50%;}#sk-container-id-2 div.sk-parallel-item:only-child::after {width: 0;}#sk-container-id-2 div.sk-dashed-wrapped {border: 1px dashed gray;margin: 0 0.4em 0.5em 0.4em;box-sizing: border-box;padding-bottom: 0.4em;background-color: white;}#sk-container-id-2 div.sk-label label {font-family: monospace;font-weight: bold;display: inline-block;line-height: 1.2em;}#sk-container-id-2 div.sk-label-container {text-align: center;}#sk-container-id-2 div.sk-container {/* jupyter's `normalize.less` sets `[hidden] { display: none; }` but bootstrap.min.css set `[hidden] { display: none !important; }` so we also need the `!important` here to be able to override the default hidden behavior on the sphinx rendered scikit-learn.org. See: https://github.com/scikit-learn/scikit-learn/issues/21755 */display: inline-block !important;position: relative;}#sk-container-id-2 div.sk-text-repr-fallback {display: none;}</style><div id=\"sk-container-id-2\" class=\"sk-top-container\"><div class=\"sk-text-repr-fallback\"><pre>MultinomialNB()</pre><b>In a Jupyter environment, please rerun this cell to show the HTML representation or trust the notebook. <br />On GitHub, the HTML representation is unable to render, please try loading this page with nbviewer.org.</b></div><div class=\"sk-container\" hidden><div class=\"sk-item\"><div class=\"sk-estimator sk-toggleable\"><input class=\"sk-toggleable__control sk-hidden--visually\" id=\"sk-estimator-id-2\" type=\"checkbox\" checked><label for=\"sk-estimator-id-2\" class=\"sk-toggleable__label sk-toggleable__label-arrow\">MultinomialNB</label><div class=\"sk-toggleable__content\"><pre>MultinomialNB()</pre></div></div></div></div></div>"
      ],
      "text/plain": [
       "MultinomialNB()"
      ]
     },
     "execution_count": 49,
     "metadata": {},
     "output_type": "execute_result"
    }
   ],
   "source": [
    "# Create and train the multinomial Naive Bayes classifier\n",
    "clf = MultinomialNB()\n",
    "\n",
    "clf.fit(X_train_tf , y_train)"
   ]
  },
  {
   "cell_type": "code",
   "execution_count": 50,
   "metadata": {
    "colab": {
     "base_uri": "https://localhost:8080/",
     "height": 800
    },
    "executionInfo": {
     "elapsed": 606,
     "status": "ok",
     "timestamp": 1655299955351,
     "user": {
      "displayName": "NARDJES AMIEUR",
      "userId": "13751943947351102071"
     },
     "user_tz": -120
    },
    "id": "V9L_r0317cHh",
    "outputId": "12796e3a-0d24-4e48-e330-336e453271a5"
   },
   "outputs": [
    {
     "name": "stdout",
     "output_type": "stream",
     "text": [
      "accuracy:   0.702\n",
      "              precision    recall  f1-score   support\n",
      "\n",
      "no-authority       0.98      0.58      0.72       389\n",
      "   authority       0.52      0.97      0.67       181\n",
      "\n",
      "    accuracy                           0.70       570\n",
      "   macro avg       0.75      0.77      0.70       570\n",
      "weighted avg       0.83      0.70      0.71       570\n",
      "\n",
      "confusion matrix:\n",
      "[[224 165]\n",
      " [  5 176]]\n",
      "\n"
     ]
    },
    {
     "data": {
      "image/png": "[encoded data removed]",
      "text/plain": [
       "<Figure size 432x288 with 2 Axes>"
      ]
     },
     "metadata": {
      "needs_background": "light"
     },
     "output_type": "display_data"
    },
    {
     "data": {
      "image/png": "[encoded data removed]",
      "text/plain": [
       "<Figure size 432x288 with 1 Axes>"
      ]
     },
     "metadata": {
      "needs_background": "light"
     },
     "output_type": "display_data"
    }
   ],
   "source": [
    "# test predictions\n",
    "y_pred = clf.predict(X_test_tf)\n",
    "\n",
    "# model performance\n",
    "score = metrics.accuracy_score(y_test, y_pred)\n",
    "print(\"accuracy:   %0.3f\" % score)\n",
    "\n",
    "print(metrics.classification_report(y_test, y_pred, target_names=['no-authority', 'authority']))\n",
    "\n",
    "print(\"confusion matrix:\")\n",
    "print(metrics.confusion_matrix(y_test, y_pred))\n",
    "print()\n",
    "\n",
    "skplt.metrics.plot_confusion_matrix(y_test, y_pred, normalize=True)\n",
    "plt.show()\n",
    "disp = metrics.RocCurveDisplay.from_estimator(clf, X_test_tf, y_test)"
   ]
  },
  {
   "cell_type": "code",
   "execution_count": 58,
   "metadata": {},
   "outputs": [],
   "source": [
    "df_val = pd.read_csv('data/sample.csv')\n",
    "\n",
    "# Lower case\n",
    "df_val['ad']= df_val['ad'].apply(lambda x: x.lower())\n",
    "\n",
    "# Removing punctuations\n",
    "df_val['ad']= df_val['ad'].str.replace('[^\\w\\s]','', regex=True)\n",
    "\n",
    "# Removing numbers\n",
    "df_val['ad']= df_val['ad'].str.replace('\\d+','', regex=True)\n",
    "\n",
    "# Removing extra space \n",
    "df_val['ad']= df_val['ad'].str.replace('\\s+', ' ', regex=True)\n",
    "\n",
    "#Apply function on review column\n",
    "df_val['ad']= df_val['ad'].apply(dc.remove_stopwords)\n",
    "\n",
    "#Apply function on review column\n",
    "df_val['ad']= df_val['ad'].apply(dc.denoise_text)\n",
    "\n",
    "#Apply function on review column\n",
    "df_val['ad']= df_val['ad'].apply(dc.remove_special_characters)\n",
    "\n",
    "#Apply function on review column\n",
    "df_val['ad']= df_val['ad'].apply(dc.simple_lemmatizer)"
   ]
  },
  {
   "cell_type": "code",
   "execution_count": 59,
   "metadata": {
    "colab": {
     "base_uri": "https://localhost:8080/",
     "height": 800
    },
    "executionInfo": {
     "elapsed": 694,
     "status": "ok",
     "timestamp": 1655300006505,
     "user": {
      "displayName": "NARDJES AMIEUR",
      "userId": "13751943947351102071"
     },
     "user_tz": -120
    },
    "id": "PYYH4tDamDka",
    "outputId": "7bd6b57f-c329-4c9f-a338-885e723ed1dd"
   },
   "outputs": [
    {
     "name": "stdout",
     "output_type": "stream",
     "text": [
      "accuracy:   0.482\n",
      "              precision    recall  f1-score   support\n",
      "\n",
      "           0       0.90      0.25      0.39       113\n",
      "           1       0.39      0.95      0.55        57\n",
      "\n",
      "    accuracy                           0.48       170\n",
      "   macro avg       0.65      0.60      0.47       170\n",
      "weighted avg       0.73      0.48      0.44       170\n",
      "\n",
      "confusion matrix:\n",
      "[[28 85]\n",
      " [ 3 54]]\n",
      "\n"
     ]
    },
    {
     "data": {
      "image/png": "[encoded data removed]",
      "text/plain": [
       "<Figure size 432x288 with 2 Axes>"
      ]
     },
     "metadata": {
      "needs_background": "light"
     },
     "output_type": "display_data"
    },
    {
     "data": {
      "image/png": "[encoded data removed]",
      "text/plain": [
       "<Figure size 432x288 with 1 Axes>"
      ]
     },
     "metadata": {
      "needs_background": "light"
     },
     "output_type": "display_data"
    }
   ],
   "source": [
    "X_val = tf_vectorizer.transform(df_val['ad'])\n",
    "y_val = df_val['authority']\n",
    "\n",
    "y_pred = clf.predict(X_val)\n",
    "\n",
    "score = metrics.accuracy_score(y_val, y_pred)\n",
    "print(\"accuracy:   %0.3f\" % score)\n",
    "\n",
    "print(metrics.classification_report(y_val, y_pred, target_names=[ '0', '1']))\n",
    "\n",
    "print(\"confusion matrix:\")\n",
    "print(metrics.confusion_matrix(y_val, y_pred))\n",
    "print()\n",
    "\n",
    "skplt.metrics.plot_confusion_matrix(y_val, y_pred, normalize=True)\n",
    "plt.show()\n",
    "disp = metrics.RocCurveDisplay.from_estimator(clf, X_val, y_val)"
   ]
  }
 ],
 "metadata": {
  "colab": {
   "collapsed_sections": [],
   "name": "NB_authority.ipynb",
   "provenance": [
    {
     "file_id": "1hsbdwYph2UOjruzcYNpOG9ErnFHhGfyt",
     "timestamp": 1647943500648
    }
   ]
  },
  "kernelspec": {
   "display_name": "Python 3.9.13 64-bit (windows store)",
   "language": "python",
   "name": "python3"
  },
  "language_info": {
   "codemirror_mode": {
    "name": "ipython",
    "version": 3
   },
   "file_extension": ".py",
   "mimetype": "text/x-python",
   "name": "python",
   "nbconvert_exporter": "python",
   "pygments_lexer": "ipython3",
   "version": "3.9.13"
  },
  "vscode": {
   "interpreter": {
    "hash": "f8f14f5a7c49a331ac7a55934b43ce13bd28be1333db14e2d71768ad3378996c"
   }
  }
 },
 "nbformat": 4,
 "nbformat_minor": 1
}
