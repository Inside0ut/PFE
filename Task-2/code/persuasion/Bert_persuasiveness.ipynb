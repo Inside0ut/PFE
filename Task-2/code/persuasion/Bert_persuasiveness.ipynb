{
  "cells": [
    {
      "cell_type": "code",
      "execution_count": null,
      "metadata": {
        "colab": {
          "base_uri": "https://localhost:8080/"
        },
        "id": "wg_RgwSyPwhu",
        "outputId": "c6b5e6d9-5db2-481a-dd16-a623e57e2b36"
      },
      "outputs": [],
      "source": [
        "from sklearn import metrics\n",
        "import scikitplot as skplt\n",
        "import preprocess\n",
        "import fine_tunned_bert"
      ]
    },
    {
      "cell_type": "code",
      "execution_count": 4,
      "metadata": {
        "id": "pXmL4QIuQWTr"
      },
      "outputs": [],
      "source": [
        "import matplotlib.pyplot as plt\n",
        "import seaborn as sns\n",
        "%matplotlib inline\n",
        "import pandas as pd\n",
        "import tensorflow as tf \n",
        "from sklearn.metrics import confusion_matrix\n"
      ]
    },
    {
      "cell_type": "code",
      "execution_count": 3,
      "metadata": {
        "colab": {
          "base_uri": "https://localhost:8080/",
          "height": 424
        },
        "id": "wSdZ8WIrQg99",
        "outputId": "64a2a0da-906b-4486-8001-9ca6113a10f1"
      },
      "outputs": [
        {
          "data": {
            "text/plain": [
              "(13114, 2)"
            ]
          },
          "execution_count": 3,
          "metadata": {},
          "output_type": "execute_result"
        }
      ],
      "source": [
        "df= pd.read_csv('data/persuasion_dataset.csv') \n",
        "df.shape"
      ]
    },
    {
      "cell_type": "code",
      "execution_count": 8,
      "metadata": {
        "id": "2SkfddCcQ4B3"
      },
      "outputs": [],
      "source": [
        "bert_model_name='small_bert/bert_en_uncased_L-4_H-512_A-8'"
      ]
    },
    {
      "cell_type": "code",
      "execution_count": 9,
      "metadata": {
        "id": "EVMNaYtzRHGh"
      },
      "outputs": [],
      "source": [
        "# build test and training datasets \n",
        "train_data, val_data, test_data = preprocess.eval_train_split(df['text_lemmatized'], df['label'] , test_size = 0.2, validation = True)\n",
        "cleaned_train, y_train,cleaned_val, y_val, cleaned_test, y_test = train_data[0], train_data[1],val_data[0], val_data[1], test_data[0], test_data[1]\n"
      ]
    },
    {
      "cell_type": "code",
      "execution_count": 11,
      "metadata": {
        "colab": {
          "base_uri": "https://localhost:8080/"
        },
        "id": "IK3hme6FQ5dl",
        "outputId": "06f9446b-9d7a-4bc2-a7b1-39e1c6b213b7"
      },
      "outputs": [
        {
          "name": "stdout",
          "output_type": "stream",
          "text": [
            "82/82 [==============================] - 8s 100ms/step - loss: 0.2131 - accuracy: 0.9527 - precision_1: 0.9568 - recall_1: 0.9481 - auc_1: 0.9787\n",
            "-----------------------------------------\n",
            "82/82 [==============================] - 8s 95ms/step\n",
            "Fold cofusion matrix\n",
            "(1258, 56, 68, 1241)\n",
            "-----------------------------------------\n"
          ]
        }
      ],
      "source": [
        "train_data = tf.data.Dataset.from_tensor_slices(  (cleaned_train,y_train) ).batch(32)\n",
        "val_data = tf.data.Dataset.from_tensor_slices( (cleaned_val,y_val) ).batch(32)\n",
        "test_data = tf.data.Dataset.from_tensor_slices( (cleaned_test,y_test) ).batch(32)\n",
        "# create the fine_tunned_model\n",
        "bert_model = fine_tunned_bert.create_fine_tunned_bert(train_data,bert_model_name=bert_model_name)\n",
        "# training the model\n",
        "history = bert_model.fit(x=train_data,epochs =5,validation_data = val_data,verbose=False)\n",
        "# evaluation \n",
        "scores = bert_model.evaluate(test_data)\n",
        "print(\"-----------------------------------------\")\n",
        "predictions=bert_model.predict(cleaned_test)\n",
        "results = (predictions>0.5)*1\n",
        "tn, fp, fn, tp = confusion_matrix(y_test,results).ravel()\n",
        "print(\"Fold cofusion matrix\")\n",
        "print((tn, fp, fn, tp))\n",
        "print(\"-----------------------------------------\")\n"
      ]
    },
    {
      "cell_type": "code",
      "execution_count": 12,
      "metadata": {
        "colab": {
          "base_uri": "https://localhost:8080/"
        },
        "id": "funPyRoufZei",
        "outputId": "f8eaaa03-e5e8-4c8e-cdfc-aaa526167b05"
      },
      "outputs": [
        {
          "name": "stdout",
          "output_type": "stream",
          "text": [
            "82/82 [==============================] - 8s 100ms/step - loss: 0.2131 - accuracy: 0.9527 - precision_1: 0.9568 - recall_1: 0.9481 - auc_1: 0.9787\n",
            "Accuracy: 95.27%\n"
          ]
        }
      ],
      "source": [
        "# model evaluation \n",
        "scores = bert_model.evaluate(test_data)\n",
        "print(\"Accuracy: %.2f%%\" % (scores[1]*100))"
      ]
    },
    {
      "cell_type": "code",
      "execution_count": 14,
      "metadata": {
        "colab": {
          "base_uri": "https://localhost:8080/"
        },
        "id": "W5lJwkU_m9mS",
        "outputId": "e3d56080-9ff5-491f-ccd2-a34564700e3d"
      },
      "outputs": [
        {
          "name": "stdout",
          "output_type": "stream",
          "text": [
            "               precision    recall  f1-score   support\n",
            "\n",
            "no-persuasion       0.95      0.96      0.95      1314\n",
            "   persuasion       0.96      0.95      0.95      1309\n",
            "\n",
            "     accuracy                           0.95      2623\n",
            "    macro avg       0.95      0.95      0.95      2623\n",
            " weighted avg       0.95      0.95      0.95      2623\n",
            "\n"
          ]
        }
      ],
      "source": [
        "\n",
        "print(metrics.classification_report(y_test, results, target_names=[ 'non persuasive', 'persuasion']))"
      ]
    },
    {
      "cell_type": "code",
      "execution_count": 15,
      "metadata": {
        "colab": {
          "base_uri": "https://localhost:8080/",
          "height": 295
        },
        "id": "lPXBc-mqfsGM",
        "outputId": "c1f21649-7a19-4e04-d9e9-c599d4d8454b"
      },
      "outputs": [
        {
          "data": {
            "image/png": "[encoded data removed]",
            "text/plain": [
              "<Figure size 432x288 with 2 Axes>"
            ]
          },
          "metadata": {
            "needs_background": "light"
          },
          "output_type": "display_data"
        }
      ],
      "source": [
        "skplt.metrics.plot_confusion_matrix(y_test, results , normalize=True)\n",
        "plt.show()"
      ]
    },
    {
      "cell_type": "code",
      "execution_count": 16,
      "metadata": {
        "colab": {
          "base_uri": "https://localhost:8080/"
        },
        "id": "hfg8Hw7N9yu3",
        "outputId": "45dd7ab5-a796-48ba-b5ba-b887088e1172"
      },
      "outputs": [
        {
          "name": "stdout",
          "output_type": "stream",
          "text": [
            "10/10 [==============================] - 1s 103ms/step - loss: 1.1368 - accuracy: 0.7680 - precision_1: 0.7865 - recall_1: 0.9251 - auc_1: 0.7842\n",
            "[1.1367892026901245, 0.7680251002311707, 0.7865168452262878, 0.9251101613044739, 0.7841649055480957]\n"
          ]
        }
      ],
      "source": [
        "save = pd.read_csv('data/sample_persuasion_cleaned.csv')\n",
        "test_data = tf.data.Dataset.from_tensor_slices( (save['text_lemmatized'],save['label']) ).batch(32)\n",
        "# model evaluation \n",
        "scores = bert_model.evaluate(test_data)\n",
        "print(scores)"
      ]
    },
    {
      "cell_type": "code",
      "execution_count": 17,
      "metadata": {
        "colab": {
          "base_uri": "https://localhost:8080/"
        },
        "id": "sssE3VhXoJGZ",
        "outputId": "f7c241ce-08ff-4f53-e0ef-cbea8ffde5d9"
      },
      "outputs": [
        {
          "name": "stdout",
          "output_type": "stream",
          "text": [
            "10/10 [==============================] - 1s 101ms/step\n",
            "               precision    recall  f1-score   support\n",
            "\n",
            "no-persuasion       0.67      0.38      0.49        92\n",
            "   persuasion       0.79      0.93      0.85       227\n",
            "\n",
            "     accuracy                           0.77       319\n",
            "    macro avg       0.73      0.65      0.67       319\n",
            " weighted avg       0.75      0.77      0.75       319\n",
            "\n"
          ]
        }
      ],
      "source": [
        "predictions=bert_model.predict(save['text_lemmatized'])\n",
        "results = (predictions>0.5)*1\n",
        "print(metrics.classification_report(save['label'], results, target_names=[ 'no-persuasion', 'persuasion']))"
      ]
    },
    {
      "cell_type": "code",
      "execution_count": 18,
      "metadata": {
        "colab": {
          "base_uri": "https://localhost:8080/",
          "height": 382
        },
        "id": "Y6jouBHP_2Zj",
        "outputId": "b1c40b03-2e0c-41ea-96f3-6f7afae7b2a7"
      },
      "outputs": [
        {
          "name": "stdout",
          "output_type": "stream",
          "text": [
            "10/10 [==============================] - 1s 104ms/step\n",
            "confusion matrix:\n",
            "[[ 35  57]\n",
            " [ 17 210]]\n",
            "\n"
          ]
        },
        {
          "data": {
            "image/png": "[encoded data removed]",
            "text/plain": [
              "<Figure size 432x288 with 2 Axes>"
            ]
          },
          "metadata": {
            "needs_background": "light"
          },
          "output_type": "display_data"
        }
      ],
      "source": [
        "\n",
        "pred_ =  bert_model.predict(save['text_lemmatized'])\n",
        "save['predicted'] = [1 if prob > 0.5 else 0 for prob in pred_]\n",
        "\n",
        "print(\"confusion matrix:\")\n",
        "print(metrics.confusion_matrix(save['label'], save['predicted']))\n",
        "print()\n",
        "\n",
        "skplt.metrics.plot_confusion_matrix(save['label'], save['predicted'], normalize=True)\n",
        "plt.show()"
      ]
    }
  ],
  "metadata": {
    "accelerator": "GPU",
    "colab": {
      "collapsed_sections": [],
      "name": "Bert_persuasion.ipynb",
      "provenance": []
    },
    "kernelspec": {
      "display_name": "Python 3.9.13 64-bit (windows store)",
      "language": "python",
      "name": "python3"
    },
    "language_info": {
      "codemirror_mode": {
        "name": "ipython",
        "version": 3
      },
      "file_extension": ".py",
      "mimetype": "text/x-python",
      "name": "python",
      "nbconvert_exporter": "python",
      "pygments_lexer": "ipython3",
      "version": "3.9.13"
    },
    "vscode": {
      "interpreter": {
        "hash": "f8f14f5a7c49a331ac7a55934b43ce13bd28be1333db14e2d71768ad3378996c"
      }
    }
  },
  "nbformat": 4,
  "nbformat_minor": 0
}
