{
 "cells": [
  {
   "cell_type": "code",
   "execution_count": null,
   "metadata": {
    "id": "sk9x1LWOsg7V"
   },
   "outputs": [],
   "source": [
    "import pandas as pd \n",
    "\n",
    "import matplotlib.pyplot as plt\n",
    "import scikitplot as skplt\n",
    "\n",
    "\n",
    "from sklearn import metrics\n",
    "from sklearn.model_selection import train_test_split\n",
    "\n",
    "# we use tensorflow to create our neural network for this experiment \n",
    "import tensorflow as tf \n",
    "from tensorflow.keras.models import Sequential\n",
    "from tensorflow.keras import layers\n",
    "\n",
    "import sys\n",
    "sys.path.append('../../data/')\n",
    "import cleaner as dc"
   ]
  },
  {
   "cell_type": "code",
   "execution_count": 3,
   "metadata": {
    "colab": {
     "base_uri": "https://localhost:8080/",
     "height": 423
    },
    "executionInfo": {
     "elapsed": 639,
     "status": "ok",
     "timestamp": 1651058226968,
     "user": {
      "displayName": "NARDJES AMIEUR",
      "userId": "13751943947351102071"
     },
     "user_tz": -120
    },
    "id": "GlxR1iF1zwz7",
    "outputId": "84dd2433-6afd-40e2-eebd-333168190950"
   },
   "outputs": [
    {
     "data": {
      "text/plain": [
       "(13114, 2)"
      ]
     },
     "execution_count": 3,
     "metadata": {},
     "output_type": "execute_result"
    }
   ],
   "source": [
    "df = pd.read_csv('data/persuasion_dataset.csv') \n",
    "df.shape"
   ]
  },
  {
   "cell_type": "code",
   "execution_count": 5,
   "metadata": {},
   "outputs": [],
   "source": [
    "# Lower case\n",
    "df['ad']= df['ad'].apply(lambda x: x.lower())\n",
    "\n",
    "# Removing punctuations\n",
    "df['ad']= df['ad'].str.replace('[^\\w\\s]','', regex=True)\n",
    "\n",
    "# Removing numbers\n",
    "df['ad']= df['ad'].str.replace('\\d+','',regex=True)\n",
    "\n",
    "# Removing extra space \n",
    "df['ad']= df['ad'].str.replace('\\s+', ' ',  regex=True)\n",
    "\n",
    "#Apply denoise function\n",
    "df['ad']= df['ad'].apply(dc.denoise_text)\n",
    "\n",
    "##Remove stopwords \n",
    "df['ad']= df['ad'].apply(dc.remove_stopwords)\n",
    "\n",
    "#Remove special characters\n",
    "df['ad']= df['ad'].apply(dc.remove_special_characters)\n",
    "\n",
    "#Simple stemming \n",
    "df['lemmatized']= df['ad'].apply(dc.simple_lemmatizer)"
   ]
  },
  {
   "cell_type": "code",
   "execution_count": 6,
   "metadata": {
    "id": "hTNuklkTcg2Z"
   },
   "outputs": [
    {
     "ename": "",
     "evalue": "",
     "output_type": "error",
     "traceback": [
      "\u001b[1;31mThe Kernel crashed while executing code in the the current cell or a previous cell. Please review the code in the cell(s) to identify a possible cause of the failure. Click <a href='https://aka.ms/vscodeJupyterKernelCrash'>here</a> for more info. View Jupyter <a href='command:jupyter.viewOutput'>log</a> for further details."
     ]
    }
   ],
   "source": [
    "norm_train, norm_test,  y_train, y_test= train_test_split(df['lemmatized'], df['label'], test_size =0.2, random_state=42)"
   ]
  },
  {
   "cell_type": "code",
   "execution_count": 7,
   "metadata": {
    "colab": {
     "base_uri": "https://localhost:8080/"
    },
    "executionInfo": {
     "elapsed": 389,
     "status": "ok",
     "timestamp": 1651058234698,
     "user": {
      "displayName": "NARDJES AMIEUR",
      "userId": "13751943947351102071"
     },
     "user_tz": -120
    },
    "id": "HVq3PRqn6mOl",
    "outputId": "ac42b7fa-db84-4486-bdfc-4d3ac05eb15b"
   },
   "outputs": [
    {
     "data": {
      "text/plain": [
       "(('isignificantly', 28026), ('<PAD>', 0), 1)"
      ]
     },
     "execution_count": 7,
     "metadata": {},
     "output_type": "execute_result"
    }
   ],
   "source": [
    "# data tokenization \n",
    "t = tf.keras.preprocessing.text.Tokenizer(oov_token='<UNK>')\n",
    "\n",
    "# fit the tokenizer on the training documents\n",
    "t.fit_on_texts(norm_train)\n",
    "t.word_index['<PAD>'] = 0\n",
    "max([(k, v) for k, v in t.word_index.items()], key = lambda x:x[1]), min([(k, v) for k, v in t.word_index.items()], key = lambda x:x[1]), t.word_index['<UNK>']"
   ]
  },
  {
   "cell_type": "code",
   "execution_count": 8,
   "metadata": {
    "id": "DwyD63OC6mS-"
   },
   "outputs": [],
   "source": [
    "# create tokenized data sequences to feed to the neural network \n",
    "train_sequences = t.texts_to_sequences(norm_train)\n",
    "test_sequences = t.texts_to_sequences(norm_test)"
   ]
  },
  {
   "cell_type": "code",
   "execution_count": 9,
   "metadata": {
    "colab": {
     "base_uri": "https://localhost:8080/"
    },
    "executionInfo": {
     "elapsed": 4,
     "status": "ok",
     "timestamp": 1651058235959,
     "user": {
      "displayName": "NARDJES AMIEUR",
      "userId": "13751943947351102071"
     },
     "user_tz": -120
    },
    "id": "fUcbman26pWu",
    "outputId": "a4182663-068c-4de8-ca97-96b7c457e966"
   },
   "outputs": [
    {
     "data": {
      "text/plain": [
       "((10491, 1000), (2623, 1000))"
      ]
     },
     "execution_count": 9,
     "metadata": {},
     "output_type": "execute_result"
    }
   ],
   "source": [
    "MAX_SEQUENCE_LENGTH = 1000\n",
    "\n",
    "# pad documents to equal length with 0 \n",
    "X_train = tf.keras.preprocessing.sequence.pad_sequences(train_sequences, maxlen=MAX_SEQUENCE_LENGTH)\n",
    "X_test = tf.keras.preprocessing.sequence.pad_sequences(test_sequences, maxlen=MAX_SEQUENCE_LENGTH)\n",
    "X_train.shape, X_test.shape"
   ]
  },
  {
   "cell_type": "code",
   "execution_count": 10,
   "metadata": {
    "id": "ZOoiVB_qg2HQ"
   },
   "outputs": [],
   "source": [
    "def create_model(units, vocab_size, embedding_dim, maxlen, dropout = 0.2):\n",
    "  '''\n",
    "    Create a \n",
    "    Arguments : \n",
    "      num_filters: number of filters to use for the 1D convolution layer \n",
    "      kernel_size: kernal size used for convolution\n",
    "      embedding_dim: embedding size \n",
    "      maxlen: input sequence length\n",
    "      vectorize_layer : vectorization layer for turning input text to numerical sequences\n",
    "      dropout : dropout rate used for Dropout regularization layer to minimize overfitting\n",
    "\n",
    "    Returns : \n",
    "    A model with the folowing layers:  \n",
    "            - An Embedding layer with embedding_dim dimension for each embedding \n",
    "            - A one dimentional global max pooling layer  \n",
    "            - A fully connected layer with specified number of units \n",
    "            - The output layer is one neuron with sigmoid activation producing the output label\n",
    "            - Dropout layers added to minimize overfitting on small datasets \n",
    "  '''\n",
    "  model = Sequential([\n",
    "      layers.Input(shape=(maxlen,)),\n",
    "      layers.Embedding(input_dim = vocab_size , output_dim = embedding_dim, input_length=maxlen),\n",
    "      layers.Dropout( rate = dropout ),\n",
    "      layers.GlobalMaxPooling1D(),\n",
    "      layers.Dropout( rate = dropout),\n",
    "      layers.Dense(units, activation='relu'),\n",
    "      layers.Dropout( rate = dropout ),\n",
    "      layers.Dense(1, activation='sigmoid')              \n",
    "  ])\n",
    "  model.compile(optimizer='adam',\n",
    "                loss='binary_crossentropy',\n",
    "                metrics=['accuracy'])\n",
    "  return model"
   ]
  },
  {
   "cell_type": "code",
   "execution_count": 11,
   "metadata": {
    "colab": {
     "base_uri": "https://localhost:8080/"
    },
    "executionInfo": {
     "elapsed": 252,
     "status": "ok",
     "timestamp": 1651058240460,
     "user": {
      "displayName": "NARDJES AMIEUR",
      "userId": "13751943947351102071"
     },
     "user_tz": -120
    },
    "id": "wbMtGt_5A_fk",
    "outputId": "87ae39b6-4a36-4573-e1b6-f0ddab90ea6c"
   },
   "outputs": [
    {
     "name": "stdout",
     "output_type": "stream",
     "text": [
      "Model: \"sequential\"\n",
      "_________________________________________________________________\n",
      " Layer (type)                Output Shape              Param #   \n",
      "=================================================================\n",
      " embedding (Embedding)       (None, 1000, 128)         3587456   \n",
      "                                                                 \n",
      " dropout (Dropout)           (None, 1000, 128)         0         \n",
      "                                                                 \n",
      " global_max_pooling1d (Globa  (None, 128)              0         \n",
      " lMaxPooling1D)                                                  \n",
      "                                                                 \n",
      " dropout_1 (Dropout)         (None, 128)               0         \n",
      "                                                                 \n",
      " dense (Dense)               (None, 10)                1290      \n",
      "                                                                 \n",
      " dropout_2 (Dropout)         (None, 10)                0         \n",
      "                                                                 \n",
      " dense_1 (Dense)             (None, 1)                 11        \n",
      "                                                                 \n",
      "=================================================================\n",
      "Total params: 3,588,757\n",
      "Trainable params: 3,588,757\n",
      "Non-trainable params: 0\n",
      "_________________________________________________________________\n"
     ]
    }
   ],
   "source": [
    "VOCAB_SIZE = len(t.word_index)\n",
    "EMBEDDING_DIM = 128\n",
    "UNITS = 10\n",
    "\n",
    "# Creating a neural net with randomly set paramteres as a baseline comparison model \n",
    "model = create_model(units = UNITS, vocab_size = VOCAB_SIZE, embedding_dim = EMBEDDING_DIM, maxlen = MAX_SEQUENCE_LENGTH )\n",
    "model.summary()"
   ]
  },
  {
   "cell_type": "code",
   "execution_count": 13,
   "metadata": {
    "colab": {
     "base_uri": "https://localhost:8080/"
    },
    "executionInfo": {
     "elapsed": 202941,
     "status": "ok",
     "timestamp": 1651058449430,
     "user": {
      "displayName": "NARDJES AMIEUR",
      "userId": "13751943947351102071"
     },
     "user_tz": -120
    },
    "id": "OidjdWyx0Zbk",
    "outputId": "93787162-fbe5-4a07-acc1-89bae721ab59"
   },
   "outputs": [
    {
     "name": "stdout",
     "output_type": "stream",
     "text": [
      "Epoch 1/5\n",
      "296/296 [==============================] - 20s 65ms/step - loss: 0.4496 - accuracy: 0.8190 - val_loss: 0.2214 - val_accuracy: 0.9248\n",
      "Epoch 2/5\n",
      "296/296 [==============================] - 19s 65ms/step - loss: 0.1435 - accuracy: 0.9518 - val_loss: 0.1471 - val_accuracy: 0.9390\n",
      "Epoch 3/5\n",
      "296/296 [==============================] - 20s 67ms/step - loss: 0.0705 - accuracy: 0.9803 - val_loss: 0.1266 - val_accuracy: 0.9457\n",
      "Epoch 4/5\n",
      "296/296 [==============================] - 19s 65ms/step - loss: 0.0377 - accuracy: 0.9907 - val_loss: 0.1253 - val_accuracy: 0.9448\n",
      "Epoch 5/5\n",
      "296/296 [==============================] - 21s 72ms/step - loss: 0.0202 - accuracy: 0.9968 - val_loss: 0.1254 - val_accuracy: 0.9495\n"
     ]
    }
   ],
   "source": [
    "# Train the neural net and evaluate results \n",
    "history = model.fit(X_train, y_train, epochs= 5, batch_size= 32,  shuffle=True, validation_split=0.1, verbose=1)"
   ]
  },
  {
   "cell_type": "code",
   "execution_count": 14,
   "metadata": {
    "colab": {
     "base_uri": "https://localhost:8080/"
    },
    "executionInfo": {
     "elapsed": 1076,
     "status": "ok",
     "timestamp": 1651058469868,
     "user": {
      "displayName": "NARDJES AMIEUR",
      "userId": "13751943947351102071"
     },
     "user_tz": -120
    },
    "id": "SAaOqHLs65hC",
    "outputId": "78e67104-f999-4f32-ce2a-6b222aa9e3bb"
   },
   "outputs": [
    {
     "name": "stdout",
     "output_type": "stream",
     "text": [
      "82/82 [==============================] - 0s 5ms/step - loss: 0.1186 - accuracy: 0.9508\n",
      "Accuracy: 95.08%\n"
     ]
    }
   ],
   "source": [
    "# model evaluation \n",
    "# Final evaluation of the model\n",
    "scores = model.evaluate(X_test, y_test, verbose=1)\n",
    "print(\"Accuracy: %.2f%%\" % (scores[1]*100))"
   ]
  },
  {
   "cell_type": "code",
   "execution_count": 15,
   "metadata": {
    "colab": {
     "base_uri": "https://localhost:8080/"
    },
    "executionInfo": {
     "elapsed": 3049,
     "status": "ok",
     "timestamp": 1651058475725,
     "user": {
      "displayName": "NARDJES AMIEUR",
      "userId": "13751943947351102071"
     },
     "user_tz": -120
    },
    "id": "JtlTcLue7Bis",
    "outputId": "a0889729-82ab-4fe3-b27a-bfb70db59af2"
   },
   "outputs": [
    {
     "name": "stdout",
     "output_type": "stream",
     "text": [
      "82/82 [==============================] - 0s 5ms/step\n"
     ]
    },
    {
     "data": {
      "text/plain": [
       "[1, 0, 0, 1, 1, 0, 0, 1, 1, 0]"
      ]
     },
     "execution_count": 15,
     "metadata": {},
     "output_type": "execute_result"
    }
   ],
   "source": [
    "# get model predictions \n",
    "prediction_probs = model.predict(X_test, verbose=1).ravel()\n",
    "predictions = [1 if prob > 0.5 else 0 for prob in prediction_probs]\n",
    "predictions[:10]"
   ]
  },
  {
   "cell_type": "code",
   "execution_count": 17,
   "metadata": {
    "colab": {
     "base_uri": "https://localhost:8080/",
     "height": 521
    },
    "executionInfo": {
     "elapsed": 13,
     "status": "ok",
     "timestamp": 1651058483669,
     "user": {
      "displayName": "NARDJES AMIEUR",
      "userId": "13751943947351102071"
     },
     "user_tz": -120
    },
    "id": "832FxLtw7Ey6",
    "outputId": "6ac20098-644a-4ded-be2f-f4f08bc0b916"
   },
   "outputs": [
    {
     "name": "stdout",
     "output_type": "stream",
     "text": [
      "                precision    recall  f1-score   support\n",
      "\n",
      "no-persusasion       0.95      0.95      0.95      1314\n",
      "    persuasion       0.95      0.95      0.95      1309\n",
      "\n",
      "      accuracy                           0.95      2623\n",
      "     macro avg       0.95      0.95      0.95      2623\n",
      "  weighted avg       0.95      0.95      0.95      2623\n",
      "\n",
      "confusion matrix:\n",
      "[[1249   65]\n",
      " [  64 1245]]\n",
      "\n"
     ]
    },
    {
     "data": {
      "image/png": "[encoded data removed]",
      "text/plain": [
       "<Figure size 432x288 with 2 Axes>"
      ]
     },
     "metadata": {
      "needs_background": "light"
     },
     "output_type": "display_data"
    }
   ],
   "source": [
    "print(metrics.classification_report(y_test, predictions, target_names=[ 'no-persusasion', 'persuasion']))\n",
    "\n",
    "print(\"confusion matrix:\")\n",
    "print(metrics.confusion_matrix(y_test, predictions))\n",
    "print()\n",
    "\n",
    "skplt.metrics.plot_confusion_matrix(y_test, predictions , normalize=True)\n",
    "plt.show()"
   ]
  },
  {
   "cell_type": "code",
   "execution_count": 18,
   "metadata": {
    "colab": {
     "base_uri": "https://localhost:8080/",
     "height": 382
    },
    "executionInfo": {
     "elapsed": 1216,
     "status": "ok",
     "timestamp": 1651058520370,
     "user": {
      "displayName": "NARDJES AMIEUR",
      "userId": "13751943947351102071"
     },
     "user_tz": -120
    },
    "id": "g-EzbDmCtpCO",
    "outputId": "b8a166a0-cdca-4994-dae8-532234772ca9"
   },
   "outputs": [
    {
     "name": "stdout",
     "output_type": "stream",
     "text": [
      "10/10 [==============================] - 0s 5ms/step\n",
      "Accuracy: 77.43%\n",
      "confusion matrix:\n",
      "[[ 34  58]\n",
      " [ 14 213]]\n",
      "\n"
     ]
    },
    {
     "data": {
      "image/png": "[encoded data removed]",
      "text/plain": [
       "<Figure size 432x288 with 2 Axes>"
      ]
     },
     "metadata": {
      "needs_background": "light"
     },
     "output_type": "display_data"
    }
   ],
   "source": [
    "save = pd.read_csv('sample_persuasion_cleaned.csv')\n",
    "\n",
    "norm_ = save['text_lemmatized']\n",
    "test_ = t.texts_to_sequences(norm_)\n",
    "padded_ = tf.keras.preprocessing.sequence.pad_sequences(test_, maxlen=MAX_SEQUENCE_LENGTH)\n",
    "\n",
    "pred_ = model.predict(padded_)\n",
    "save['predicted'] = [1 if prob > 0.5 else 0 for prob in pred_]\n",
    "\n",
    "scores = model.evaluate(padded_, save['label'], verbose =False)\n",
    "print(\"Accuracy: %.2f%%\" % (scores[1]*100))\n",
    "\n",
    "print(\"confusion matrix:\")\n",
    "print(metrics.confusion_matrix(save['label'], save['predicted']))\n",
    "print()\n",
    "\n",
    "skplt.metrics.plot_confusion_matrix(save['label'], save['predicted'], normalize=True)\n",
    "plt.show()"
   ]
  },
  {
   "cell_type": "code",
   "execution_count": 19,
   "metadata": {
    "colab": {
     "base_uri": "https://localhost:8080/"
    },
    "executionInfo": {
     "elapsed": 231,
     "status": "ok",
     "timestamp": 1651058526285,
     "user": {
      "displayName": "NARDJES AMIEUR",
      "userId": "13751943947351102071"
     },
     "user_tz": -120
    },
    "id": "lcLc216_udWn",
    "outputId": "7d58f80d-f5db-49bc-ec7c-3c4da0a0d11e"
   },
   "outputs": [
    {
     "name": "stdout",
     "output_type": "stream",
     "text": [
      "               precision    recall  f1-score   support\n",
      "\n",
      "no-persuasive       0.71      0.37      0.49        92\n",
      "   persuasive       0.79      0.94      0.86       227\n",
      "\n",
      "     accuracy                           0.77       319\n",
      "    macro avg       0.75      0.65      0.67       319\n",
      " weighted avg       0.76      0.77      0.75       319\n",
      "\n"
     ]
    }
   ],
   "source": [
    "print(metrics.classification_report(save['label'],save['predicted'], target_names=[ 'no-persuasive', 'persuasive']))"
   ]
  }
 ],
 "metadata": {
  "colab": {
   "collapsed_sections": [],
   "name": "ANN_persuasive.ipynb",
   "provenance": [
    {
     "file_id": "1FqcmtwRj342k95qxf2VScwDTUjgaU-cu",
     "timestamp": 1648038906010
    },
    {
     "file_id": "1v4d_nb0_Rti6Ld8uXmSjUIDpMW3tzvwJ",
     "timestamp": 1640781745185
    }
   ]
  },
  "kernelspec": {
   "display_name": "Python 3.9.13 64-bit (windows store)",
   "language": "python",
   "name": "python3"
  },
  "language_info": {
   "codemirror_mode": {
    "name": "ipython",
    "version": 3
   },
   "file_extension": ".py",
   "mimetype": "text/x-python",
   "name": "python",
   "nbconvert_exporter": "python",
   "pygments_lexer": "ipython3",
   "version": "3.9.13"
  },
  "vscode": {
   "interpreter": {
    "hash": "f8f14f5a7c49a331ac7a55934b43ce13bd28be1333db14e2d71768ad3378996c"
   }
  }
 },
 "nbformat": 4,
 "nbformat_minor": 1
}
