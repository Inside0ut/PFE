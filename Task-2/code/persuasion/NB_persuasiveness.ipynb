{
 "cells": [
  {
   "cell_type": "code",
   "execution_count": 20,
   "metadata": {
    "colab": {
     "base_uri": "https://localhost:8080/"
    },
    "executionInfo": {
     "elapsed": 4717,
     "status": "ok",
     "timestamp": 1655901990645,
     "user": {
      "displayName": "NARDJES AMIEUR",
      "userId": "13751943947351102071"
     },
     "user_tz": -120
    },
    "id": "nF2A9H5ilD_r",
    "outputId": "b19f22e2-afbc-430d-bf9b-d28a6839a053"
   },
   "outputs": [],
   "source": [
    "import pandas as pd  \n",
    "import matplotlib.pyplot as plt\n",
    "\n",
    "# we use the scikit svm model for this experiment \n",
    "from sklearn.naive_bayes import MultinomialNB\n",
    "from sklearn.model_selection import train_test_split\n",
    "from sklearn.feature_extraction.text import CountVectorizer\n",
    "from sklearn import metrics\n",
    "\n",
    "import scikitplot as skplt\n",
    "\n",
    "import sys\n",
    "sys.path.append('../../data/')\n",
    "import cleaner as dc"
   ]
  },
  {
   "cell_type": "code",
   "execution_count": 15,
   "metadata": {
    "colab": {
     "base_uri": "https://localhost:8080/",
     "height": 520
    },
    "executionInfo": {
     "elapsed": 1228,
     "status": "ok",
     "timestamp": 1655906244551,
     "user": {
      "displayName": "NARDJES AMIEUR",
      "userId": "13751943947351102071"
     },
     "user_tz": -120
    },
    "id": "8dlIQh0EloVV",
    "outputId": "040f3099-a9d3-400c-ee55-139bdd2f658d"
   },
   "outputs": [
    {
     "data": {
      "text/plain": [
       "(13114, 2)"
      ]
     },
     "execution_count": 15,
     "metadata": {},
     "output_type": "execute_result"
    }
   ],
   "source": [
    "df = pd.read_csv('data/persuasion_dataset.csv') \n",
    "df.shape"
   ]
  },
  {
   "cell_type": "code",
   "execution_count": 16,
   "metadata": {},
   "outputs": [],
   "source": [
    "# Lower case\n",
    "df['ad']= df['ad'].apply(lambda x: x.lower())\n",
    "\n",
    "# Removing punctuations\n",
    "df['ad']= df['ad'].str.replace('[^\\w\\s]','', regex=True)\n",
    "\n",
    "# Removing numbers\n",
    "df['ad']= df['ad'].str.replace('\\d+','',regex=True)\n",
    "\n",
    "# Removing extra space \n",
    "df['ad']= df['ad'].str.replace('\\s+', ' ',  regex=True)\n",
    "\n",
    "#Apply denoise function\n",
    "df['ad']= df['ad'].apply(dc.denoise_text)\n",
    "\n",
    "##Remove stopwords \n",
    "df['ad']= df['ad'].apply(dc.remove_stopwords)\n",
    "\n",
    "#Remove special characters\n",
    "df['ad']= df['ad'].apply(dc.remove_special_characters)\n",
    "\n",
    "#Simple stemming \n",
    "df['lemmatized']= df['ad'].apply(dc.simple_lemmatizer)"
   ]
  },
  {
   "cell_type": "code",
   "execution_count": 17,
   "metadata": {
    "executionInfo": {
     "elapsed": 319,
     "status": "ok",
     "timestamp": 1655913151910,
     "user": {
      "displayName": "NARDJES AMIEUR",
      "userId": "13751943947351102071"
     },
     "user_tz": -120
    },
    "id": "yGkNmDStsM6v"
   },
   "outputs": [],
   "source": [
    "X_train, X_test,  y_train, y_test= train_test_split(df['lemmatized'], df['label'], test_size =0.2, random_state=42)"
   ]
  },
  {
   "cell_type": "code",
   "execution_count": 18,
   "metadata": {
    "executionInfo": {
     "elapsed": 665,
     "status": "ok",
     "timestamp": 1655913154237,
     "user": {
      "displayName": "NARDJES AMIEUR",
      "userId": "13751943947351102071"
     },
     "user_tz": -120
    },
    "id": "Yolq5WhCnFlS"
   },
   "outputs": [],
   "source": [
    "# Use term frequency to represent documents\n",
    "tf_vectorizer = CountVectorizer() \n",
    "\n",
    "X_train_tf = tf_vectorizer.fit_transform(X_train)\n",
    "X_test_tf = tf_vectorizer.transform(X_test)"
   ]
  },
  {
   "cell_type": "code",
   "execution_count": 21,
   "metadata": {
    "colab": {
     "base_uri": "https://localhost:8080/"
    },
    "executionInfo": {
     "elapsed": 7,
     "status": "ok",
     "timestamp": 1655913155093,
     "user": {
      "displayName": "NARDJES AMIEUR",
      "userId": "13751943947351102071"
     },
     "user_tz": -120
    },
    "id": "2baUnsrfoEBH",
    "outputId": "4665b883-e836-4e29-a5a8-8a375b7aa2c9"
   },
   "outputs": [
    {
     "data": {
      "text/html": [
       "<style>#sk-container-id-1 {color: black;background-color: white;}#sk-container-id-1 pre{padding: 0;}#sk-container-id-1 div.sk-toggleable {background-color: white;}#sk-container-id-1 label.sk-toggleable__label {cursor: pointer;display: block;width: 100%;margin-bottom: 0;padding: 0.3em;box-sizing: border-box;text-align: center;}#sk-container-id-1 label.sk-toggleable__label-arrow:before {content: \"▸\";float: left;margin-right: 0.25em;color: #696969;}#sk-container-id-1 label.sk-toggleable__label-arrow:hover:before {color: black;}#sk-container-id-1 div.sk-estimator:hover label.sk-toggleable__label-arrow:before {color: black;}#sk-container-id-1 div.sk-toggleable__content {max-height: 0;max-width: 0;overflow: hidden;text-align: left;background-color: #f0f8ff;}#sk-container-id-1 div.sk-toggleable__content pre {margin: 0.2em;color: black;border-radius: 0.25em;background-color: #f0f8ff;}#sk-container-id-1 input.sk-toggleable__control:checked~div.sk-toggleable__content {max-height: 200px;max-width: 100%;overflow: auto;}#sk-container-id-1 input.sk-toggleable__control:checked~label.sk-toggleable__label-arrow:before {content: \"▾\";}#sk-container-id-1 div.sk-estimator input.sk-toggleable__control:checked~label.sk-toggleable__label {background-color: #d4ebff;}#sk-container-id-1 div.sk-label input.sk-toggleable__control:checked~label.sk-toggleable__label {background-color: #d4ebff;}#sk-container-id-1 input.sk-hidden--visually {border: 0;clip: rect(1px 1px 1px 1px);clip: rect(1px, 1px, 1px, 1px);height: 1px;margin: -1px;overflow: hidden;padding: 0;position: absolute;width: 1px;}#sk-container-id-1 div.sk-estimator {font-family: monospace;background-color: #f0f8ff;border: 1px dotted black;border-radius: 0.25em;box-sizing: border-box;margin-bottom: 0.5em;}#sk-container-id-1 div.sk-estimator:hover {background-color: #d4ebff;}#sk-container-id-1 div.sk-parallel-item::after {content: \"\";width: 100%;border-bottom: 1px solid gray;flex-grow: 1;}#sk-container-id-1 div.sk-label:hover label.sk-toggleable__label {background-color: #d4ebff;}#sk-container-id-1 div.sk-serial::before {content: \"\";position: absolute;border-left: 1px solid gray;box-sizing: border-box;top: 0;bottom: 0;left: 50%;z-index: 0;}#sk-container-id-1 div.sk-serial {display: flex;flex-direction: column;align-items: center;background-color: white;padding-right: 0.2em;padding-left: 0.2em;position: relative;}#sk-container-id-1 div.sk-item {position: relative;z-index: 1;}#sk-container-id-1 div.sk-parallel {display: flex;align-items: stretch;justify-content: center;background-color: white;position: relative;}#sk-container-id-1 div.sk-item::before, #sk-container-id-1 div.sk-parallel-item::before {content: \"\";position: absolute;border-left: 1px solid gray;box-sizing: border-box;top: 0;bottom: 0;left: 50%;z-index: -1;}#sk-container-id-1 div.sk-parallel-item {display: flex;flex-direction: column;z-index: 1;position: relative;background-color: white;}#sk-container-id-1 div.sk-parallel-item:first-child::after {align-self: flex-end;width: 50%;}#sk-container-id-1 div.sk-parallel-item:last-child::after {align-self: flex-start;width: 50%;}#sk-container-id-1 div.sk-parallel-item:only-child::after {width: 0;}#sk-container-id-1 div.sk-dashed-wrapped {border: 1px dashed gray;margin: 0 0.4em 0.5em 0.4em;box-sizing: border-box;padding-bottom: 0.4em;background-color: white;}#sk-container-id-1 div.sk-label label {font-family: monospace;font-weight: bold;display: inline-block;line-height: 1.2em;}#sk-container-id-1 div.sk-label-container {text-align: center;}#sk-container-id-1 div.sk-container {/* jupyter's `normalize.less` sets `[hidden] { display: none; }` but bootstrap.min.css set `[hidden] { display: none !important; }` so we also need the `!important` here to be able to override the default hidden behavior on the sphinx rendered scikit-learn.org. See: https://github.com/scikit-learn/scikit-learn/issues/21755 */display: inline-block !important;position: relative;}#sk-container-id-1 div.sk-text-repr-fallback {display: none;}</style><div id=\"sk-container-id-1\" class=\"sk-top-container\"><div class=\"sk-text-repr-fallback\"><pre>MultinomialNB()</pre><b>In a Jupyter environment, please rerun this cell to show the HTML representation or trust the notebook. <br />On GitHub, the HTML representation is unable to render, please try loading this page with nbviewer.org.</b></div><div class=\"sk-container\" hidden><div class=\"sk-item\"><div class=\"sk-estimator sk-toggleable\"><input class=\"sk-toggleable__control sk-hidden--visually\" id=\"sk-estimator-id-1\" type=\"checkbox\" checked><label for=\"sk-estimator-id-1\" class=\"sk-toggleable__label sk-toggleable__label-arrow\">MultinomialNB</label><div class=\"sk-toggleable__content\"><pre>MultinomialNB()</pre></div></div></div></div></div>"
      ],
      "text/plain": [
       "MultinomialNB()"
      ]
     },
     "execution_count": 21,
     "metadata": {},
     "output_type": "execute_result"
    }
   ],
   "source": [
    "# create and train the multinomial Naive Bayes classifier\n",
    "clf = MultinomialNB()\n",
    "clf.fit(X_train_tf,y_train)\n"
   ]
  },
  {
   "cell_type": "code",
   "execution_count": 22,
   "metadata": {
    "colab": {
     "base_uri": "https://localhost:8080/",
     "height": 800
    },
    "executionInfo": {
     "elapsed": 818,
     "status": "ok",
     "timestamp": 1655913162332,
     "user": {
      "displayName": "NARDJES AMIEUR",
      "userId": "13751943947351102071"
     },
     "user_tz": -120
    },
    "id": "V9L_r0317cHh",
    "outputId": "5530c952-6669-4164-e159-06569cd8977a"
   },
   "outputs": [
    {
     "name": "stdout",
     "output_type": "stream",
     "text": [
      "accuracy:   0.921\n",
      "                precision    recall  f1-score   support\n",
      "\n",
      "non-persuasive       0.99      0.86      0.92      1314\n",
      "    persuasive       0.87      0.99      0.93      1309\n",
      "\n",
      "      accuracy                           0.92      2623\n",
      "     macro avg       0.93      0.92      0.92      2623\n",
      "  weighted avg       0.93      0.92      0.92      2623\n",
      "\n",
      "confusion matrix:\n",
      "[[1124  190]\n",
      " [  17 1292]]\n",
      "\n"
     ]
    },
    {
     "data": {
      "image/png": "[encoded data removed]",
      "text/plain": [
       "<Figure size 432x288 with 2 Axes>"
      ]
     },
     "metadata": {
      "needs_background": "light"
     },
     "output_type": "display_data"
    },
    {
     "data": {
      "image/png": "[encoded data removed]",
      "text/plain": [
       "<Figure size 432x288 with 1 Axes>"
      ]
     },
     "metadata": {
      "needs_background": "light"
     },
     "output_type": "display_data"
    }
   ],
   "source": [
    "# make predictions\n",
    "y_pred = clf.predict(X_test_tf)\n",
    "\n",
    "# model performance\n",
    "score = metrics.accuracy_score(y_test, y_pred)\n",
    "print(\"accuracy:   %0.3f\" % score)\n",
    "\n",
    "print(metrics.classification_report(y_test, y_pred, target_names=['non-persuasive', 'persuasive']))\n",
    "\n",
    "print(\"confusion matrix:\")\n",
    "print(metrics.confusion_matrix(y_test, y_pred))\n",
    "print()\n",
    "\n",
    "skplt.metrics.plot_confusion_matrix(y_test, y_pred, normalize=True)\n",
    "plt.show()\n",
    "disp = metrics.RocCurveDisplay.from_estimator(clf, X_test_tf, y_test)"
   ]
  },
  {
   "cell_type": "code",
   "execution_count": 23,
   "metadata": {
    "colab": {
     "base_uri": "https://localhost:8080/",
     "height": 424
    },
    "executionInfo": {
     "elapsed": 741,
     "status": "ok",
     "timestamp": 1655913167274,
     "user": {
      "displayName": "NARDJES AMIEUR",
      "userId": "13751943947351102071"
     },
     "user_tz": -120
    },
    "id": "hxhh9OBibNIJ",
    "outputId": "397a98e5-928d-4d60-8855-42132d005f88"
   },
   "outputs": [],
   "source": [
    "df_val=pd.read_csv(\"data/sample_persuasion.csv\")\n",
    "\n",
    "# Lower case\n",
    "df_val['ad']= df_val['ad'].apply(lambda x: x.lower())\n",
    "\n",
    "# Removing punctuations\n",
    "df_val['ad']= df_val['ad'].str.replace('[^\\w\\s]','', regex=True)\n",
    "\n",
    "# Removing numbers\n",
    "df_val['ad']= df_val['ad'].str.replace('\\d+','',regex=True)\n",
    "\n",
    "# Removing extra space \n",
    "df_val['ad']= df_val['ad'].str.replace('\\s+', ' ',  regex=True)\n",
    "\n",
    "#Apply denoise function\n",
    "df_val['ad']= df_val['ad'].apply(dc.denoise_text)\n",
    "\n",
    "#Remove stopwords\n",
    "df_val['ad']= df_val['ad'].apply(dc.remove_stopwords)\n",
    "\n",
    "#Remove special characters\n",
    "df_val['ad']= df_val['ad'].apply(dc.remove_special_characters)\n",
    "\n",
    "#Simple stemming \n",
    "df_val['lemmatized']= df_val['ad'].apply(dc.simple_lemmatizer)"
   ]
  },
  {
   "cell_type": "code",
   "execution_count": 24,
   "metadata": {
    "colab": {
     "base_uri": "https://localhost:8080/",
     "height": 993
    },
    "executionInfo": {
     "elapsed": 1077,
     "status": "ok",
     "timestamp": 1655913174184,
     "user": {
      "displayName": "NARDJES AMIEUR",
      "userId": "13751943947351102071"
     },
     "user_tz": -120
    },
    "id": "V17p64L7ehHZ",
    "outputId": "be658537-fa19-4a04-ec10-b889ad4d2b60"
   },
   "outputs": [
    {
     "name": "stdout",
     "output_type": "stream",
     "text": [
      "accuracy:   0.743\n",
      "               precision    recall  f1-score   support\n",
      "\n",
      "no-persuasive       1.00      0.11      0.20        92\n",
      "   persuasive       0.73      1.00      0.85       227\n",
      "\n",
      "     accuracy                           0.74       319\n",
      "    macro avg       0.87      0.55      0.52       319\n",
      " weighted avg       0.81      0.74      0.66       319\n",
      "\n",
      "confusion matrix:\n",
      "[[ 10  82]\n",
      " [  0 227]]\n",
      "\n"
     ]
    },
    {
     "data": {
      "image/png": "[encoded data removed]",
      "text/plain": [
       "<Figure size 432x288 with 2 Axes>"
      ]
     },
     "metadata": {
      "needs_background": "light"
     },
     "output_type": "display_data"
    },
    {
     "data": {
      "image/png": "[encoded data removed]",
      "text/plain": [
       "<Figure size 432x288 with 1 Axes>"
      ]
     },
     "metadata": {
      "needs_background": "light"
     },
     "output_type": "display_data"
    }
   ],
   "source": [
    "X_val = tf_vectorizer.transform(df_val['lemmatized'])\n",
    "y_val = df_val['label']\n",
    "\n",
    "y_pred = clf.predict(X_val)\n",
    "\n",
    "score = metrics.accuracy_score(y_val, y_pred)\n",
    "print(\"accuracy:   %0.3f\" % score)\n",
    "\n",
    "print(metrics.classification_report(y_val, y_pred, target_names=[ 'no-persuasive', 'persuasive']))\n",
    "\n",
    "print(\"confusion matrix:\")\n",
    "print(metrics.confusion_matrix(y_val, y_pred))\n",
    "print()\n",
    "\n",
    "skplt.metrics.plot_confusion_matrix(y_val, y_pred, normalize=True)\n",
    "plt.show()\n",
    "disp = metrics.RocCurveDisplay.from_estimator(clf, X_val, y_val)"
   ]
  }
 ],
 "metadata": {
  "colab": {
   "collapsed_sections": [],
   "name": "NB_persuasiveness.ipynb",
   "provenance": [
    {
     "file_id": "1hsbdwYph2UOjruzcYNpOG9ErnFHhGfyt",
     "timestamp": 1647943500648
    }
   ]
  },
  "kernelspec": {
   "display_name": "Python 3.9.13 64-bit (windows store)",
   "language": "python",
   "name": "python3"
  },
  "language_info": {
   "codemirror_mode": {
    "name": "ipython",
    "version": 3
   },
   "file_extension": ".py",
   "mimetype": "text/x-python",
   "name": "python",
   "nbconvert_exporter": "python",
   "pygments_lexer": "ipython3",
   "version": "3.9.13"
  },
  "vscode": {
   "interpreter": {
    "hash": "f8f14f5a7c49a331ac7a55934b43ce13bd28be1333db14e2d71768ad3378996c"
   }
  }
 },
 "nbformat": 4,
 "nbformat_minor": 1
}
