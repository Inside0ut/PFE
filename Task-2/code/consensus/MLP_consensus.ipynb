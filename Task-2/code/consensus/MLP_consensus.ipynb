{
  "cells": [
    {
      "cell_type": "code",
      "execution_count": 1,
      "metadata": {
        "colab": {
          "base_uri": "https://localhost:8080/"
        },
        "id": "lv3HN9-6homq",
        "outputId": "5e9092d1-441b-48d1-a947-cba79c44bef0"
      },
      "outputs": [
        {
          "name": "stderr",
          "output_type": "stream",
          "text": [
            "[nltk_data] Downloading package stopwords to\n",
            "[nltk_data]     C:\\Users\\Dell\\AppData\\Roaming\\nltk_data...\n",
            "[nltk_data]   Package stopwords is already up-to-date!\n",
            "[nltk_data] Downloading package punkt to\n",
            "[nltk_data]     C:\\Users\\Dell\\AppData\\Roaming\\nltk_data...\n",
            "[nltk_data]   Package punkt is already up-to-date!\n",
            "[nltk_data] Downloading package averaged_perceptron_tagger to\n",
            "[nltk_data]     C:\\Users\\Dell\\AppData\\Roaming\\nltk_data...\n",
            "[nltk_data]   Package averaged_perceptron_tagger is already up-to-\n",
            "[nltk_data]       date!\n"
          ]
        }
      ],
      "source": [
        "import pandas as pd \n",
        "import pandas as pd \n",
        "\n",
        "import matplotlib.pyplot as plt\n",
        "import scikitplot as skplt\n",
        "\n",
        "from sklearn import metrics\n",
        "from sklearn.model_selection import train_test_split\n",
        "from sklearn.feature_extraction.text import  CountVectorizer\n",
        "from sklearn.neural_network import MLPClassifier\n",
        "\n",
        "import cleaner as dc"
      ]
    },
    {
      "cell_type": "code",
      "execution_count": 6,
      "metadata": {
        "colab": {
          "base_uri": "https://localhost:8080/",
          "height": 423
        },
        "id": "N_sZB_1TiEqA",
        "outputId": "120e0200-421f-4fc5-db1a-7b555f4619bd"
      },
      "outputs": [
        {
          "data": {
            "text/html": [
              "<div>\n",
              "<style scoped>\n",
              "    .dataframe tbody tr th:only-of-type {\n",
              "        vertical-align: middle;\n",
              "    }\n",
              "\n",
              "    .dataframe tbody tr th {\n",
              "        vertical-align: top;\n",
              "    }\n",
              "\n",
              "    .dataframe thead th {\n",
              "        text-align: right;\n",
              "    }\n",
              "</style>\n",
              "<table border=\"1\" class=\"dataframe\">\n",
              "  <thead>\n",
              "    <tr style=\"text-align: right;\">\n",
              "      <th></th>\n",
              "      <th>ad</th>\n",
              "      <th>consensus</th>\n",
              "    </tr>\n",
              "  </thead>\n",
              "  <tbody>\n",
              "    <tr>\n",
              "      <th>0</th>\n",
              "      <td>Everyone knows that using sunscreen is the bes...</td>\n",
              "      <td>1</td>\n",
              "    </tr>\n",
              "    <tr>\n",
              "      <th>1</th>\n",
              "      <td>Protection from UV rays is important. That's w...</td>\n",
              "      <td>1</td>\n",
              "    </tr>\n",
              "    <tr>\n",
              "      <th>2</th>\n",
              "      <td>\"Sun protection every day, not just in the sum...</td>\n",
              "      <td>1</td>\n",
              "    </tr>\n",
              "    <tr>\n",
              "      <th>3</th>\n",
              "      <td>The more people you know and places you visit,...</td>\n",
              "      <td>1</td>\n",
              "    </tr>\n",
              "    <tr>\n",
              "      <th>4</th>\n",
              "      <td>join thousands of people in fredericton who ar...</td>\n",
              "      <td>1</td>\n",
              "    </tr>\n",
              "    <tr>\n",
              "      <th>...</th>\n",
              "      <td>...</td>\n",
              "      <td>...</td>\n",
              "    </tr>\n",
              "    <tr>\n",
              "      <th>3326</th>\n",
              "      <td>What does it mean to be a changemaker in the d...</td>\n",
              "      <td>1</td>\n",
              "    </tr>\n",
              "    <tr>\n",
              "      <th>3327</th>\n",
              "      <td>Learn and create together. Join our community ...</td>\n",
              "      <td>1</td>\n",
              "    </tr>\n",
              "    <tr>\n",
              "      <th>3328</th>\n",
              "      <td>Join our community to get expert whelping advi...</td>\n",
              "      <td>1</td>\n",
              "    </tr>\n",
              "    <tr>\n",
              "      <th>3329</th>\n",
              "      <td>A loftier lifestyle awaits you. New luxury ele...</td>\n",
              "      <td>1</td>\n",
              "    </tr>\n",
              "    <tr>\n",
              "      <th>3330</th>\n",
              "      <td>Be part of an exclusive Market Research Commun...</td>\n",
              "      <td>1</td>\n",
              "    </tr>\n",
              "  </tbody>\n",
              "</table>\n",
              "<p>3331 rows × 2 columns</p>\n",
              "</div>"
            ],
            "text/plain": [
              "                                                     ad  consensus\n",
              "0     Everyone knows that using sunscreen is the bes...          1\n",
              "1     Protection from UV rays is important. That's w...          1\n",
              "2     \"Sun protection every day, not just in the sum...          1\n",
              "3     The more people you know and places you visit,...          1\n",
              "4     join thousands of people in fredericton who ar...          1\n",
              "...                                                 ...        ...\n",
              "3326  What does it mean to be a changemaker in the d...          1\n",
              "3327  Learn and create together. Join our community ...          1\n",
              "3328  Join our community to get expert whelping advi...          1\n",
              "3329  A loftier lifestyle awaits you. New luxury ele...          1\n",
              "3330  Be part of an exclusive Market Research Commun...          1\n",
              "\n",
              "[3331 rows x 2 columns]"
            ]
          },
          "execution_count": 6,
          "metadata": {},
          "output_type": "execute_result"
        }
      ],
      "source": [
        "df = pd.read_csv('data/consensus_dataset.csv')\n",
        "df"
      ]
    },
    {
      "cell_type": "code",
      "execution_count": 7,
      "metadata": {
        "id": "lPffYm8iiGkN"
      },
      "outputs": [],
      "source": [
        "# remove adjectives \n",
        "df['ad'] = df['ad'].apply(dc.remove_adjectives)\n",
        "\n",
        "# Lower case\n",
        "df['ad']= df['ad'].apply(lambda x: x.lower())\n",
        "\n",
        "# Removing punctuations\n",
        "df['ad']= df['ad'].str.replace('[^\\w\\s]','', regex=True)\n",
        "\n",
        "# Removing numbers\n",
        "df['ad']= df['ad'].str.replace('\\d+','',regex=True)\n",
        "\n",
        "# Removing extra space \n",
        "df['ad']= df['ad'].str.replace('\\s+', ' ',  regex=True)\n",
        "\n",
        "#Apply function on review column\n",
        "df['ad']= df['ad'].apply(dc.denoise_text)\n",
        "\n",
        "#Apply function on review column\n",
        "df['ad']= df['ad'].apply(dc.remove_stopwords)\n",
        "\n",
        "\n",
        "#Apply function on review column\n",
        "df['ad']= df['ad'].apply(dc.simple_stemmer)"
      ]
    },
    {
      "cell_type": "code",
      "execution_count": 37,
      "metadata": {
        "id": "892LNBxNwHMJ"
      },
      "outputs": [],
      "source": [
        "X_train_sequences,  X_test_sequences, y_train, y_test  = train_test_split(df['ad'], df['consensus'], test_size =0.1  , random_state = 42)"
      ]
    },
    {
      "cell_type": "code",
      "execution_count": 38,
      "metadata": {
        "id": "b4GHDXsDwLKw"
      },
      "outputs": [],
      "source": [
        "# Use term frequency to represent documents\n",
        "tf_vectorizer = CountVectorizer() \n",
        "\n",
        "X_train = tf_vectorizer.fit_transform(X_train_sequences)\n",
        "X_test = tf_vectorizer.transform(X_test_sequences)"
      ]
    },
    {
      "cell_type": "code",
      "execution_count": 39,
      "metadata": {
        "colab": {
          "base_uri": "https://localhost:8080/"
        },
        "id": "FXdyQVrBwMv7",
        "outputId": "97869cbb-68bd-4325-df22-391fbaf83dac"
      },
      "outputs": [
        {
          "data": {
            "text/html": [
              "<style>#sk-container-id-6 {color: black;background-color: white;}#sk-container-id-6 pre{padding: 0;}#sk-container-id-6 div.sk-toggleable {background-color: white;}#sk-container-id-6 label.sk-toggleable__label {cursor: pointer;display: block;width: 100%;margin-bottom: 0;padding: 0.3em;box-sizing: border-box;text-align: center;}#sk-container-id-6 label.sk-toggleable__label-arrow:before {content: \"▸\";float: left;margin-right: 0.25em;color: #696969;}#sk-container-id-6 label.sk-toggleable__label-arrow:hover:before {color: black;}#sk-container-id-6 div.sk-estimator:hover label.sk-toggleable__label-arrow:before {color: black;}#sk-container-id-6 div.sk-toggleable__content {max-height: 0;max-width: 0;overflow: hidden;text-align: left;background-color: #f0f8ff;}#sk-container-id-6 div.sk-toggleable__content pre {margin: 0.2em;color: black;border-radius: 0.25em;background-color: #f0f8ff;}#sk-container-id-6 input.sk-toggleable__control:checked~div.sk-toggleable__content {max-height: 200px;max-width: 100%;overflow: auto;}#sk-container-id-6 input.sk-toggleable__control:checked~label.sk-toggleable__label-arrow:before {content: \"▾\";}#sk-container-id-6 div.sk-estimator input.sk-toggleable__control:checked~label.sk-toggleable__label {background-color: #d4ebff;}#sk-container-id-6 div.sk-label input.sk-toggleable__control:checked~label.sk-toggleable__label {background-color: #d4ebff;}#sk-container-id-6 input.sk-hidden--visually {border: 0;clip: rect(1px 1px 1px 1px);clip: rect(1px, 1px, 1px, 1px);height: 1px;margin: -1px;overflow: hidden;padding: 0;position: absolute;width: 1px;}#sk-container-id-6 div.sk-estimator {font-family: monospace;background-color: #f0f8ff;border: 1px dotted black;border-radius: 0.25em;box-sizing: border-box;margin-bottom: 0.5em;}#sk-container-id-6 div.sk-estimator:hover {background-color: #d4ebff;}#sk-container-id-6 div.sk-parallel-item::after {content: \"\";width: 100%;border-bottom: 1px solid gray;flex-grow: 1;}#sk-container-id-6 div.sk-label:hover label.sk-toggleable__label {background-color: #d4ebff;}#sk-container-id-6 div.sk-serial::before {content: \"\";position: absolute;border-left: 1px solid gray;box-sizing: border-box;top: 0;bottom: 0;left: 50%;z-index: 0;}#sk-container-id-6 div.sk-serial {display: flex;flex-direction: column;align-items: center;background-color: white;padding-right: 0.2em;padding-left: 0.2em;position: relative;}#sk-container-id-6 div.sk-item {position: relative;z-index: 1;}#sk-container-id-6 div.sk-parallel {display: flex;align-items: stretch;justify-content: center;background-color: white;position: relative;}#sk-container-id-6 div.sk-item::before, #sk-container-id-6 div.sk-parallel-item::before {content: \"\";position: absolute;border-left: 1px solid gray;box-sizing: border-box;top: 0;bottom: 0;left: 50%;z-index: -1;}#sk-container-id-6 div.sk-parallel-item {display: flex;flex-direction: column;z-index: 1;position: relative;background-color: white;}#sk-container-id-6 div.sk-parallel-item:first-child::after {align-self: flex-end;width: 50%;}#sk-container-id-6 div.sk-parallel-item:last-child::after {align-self: flex-start;width: 50%;}#sk-container-id-6 div.sk-parallel-item:only-child::after {width: 0;}#sk-container-id-6 div.sk-dashed-wrapped {border: 1px dashed gray;margin: 0 0.4em 0.5em 0.4em;box-sizing: border-box;padding-bottom: 0.4em;background-color: white;}#sk-container-id-6 div.sk-label label {font-family: monospace;font-weight: bold;display: inline-block;line-height: 1.2em;}#sk-container-id-6 div.sk-label-container {text-align: center;}#sk-container-id-6 div.sk-container {/* jupyter's `normalize.less` sets `[hidden] { display: none; }` but bootstrap.min.css set `[hidden] { display: none !important; }` so we also need the `!important` here to be able to override the default hidden behavior on the sphinx rendered scikit-learn.org. See: https://github.com/scikit-learn/scikit-learn/issues/21755 */display: inline-block !important;position: relative;}#sk-container-id-6 div.sk-text-repr-fallback {display: none;}</style><div id=\"sk-container-id-6\" class=\"sk-top-container\"><div class=\"sk-text-repr-fallback\"><pre>MLPClassifier(alpha=1e-05, hidden_layer_sizes=(5, 2), random_state=1,\n",
              "              solver=&#x27;lbfgs&#x27;)</pre><b>In a Jupyter environment, please rerun this cell to show the HTML representation or trust the notebook. <br />On GitHub, the HTML representation is unable to render, please try loading this page with nbviewer.org.</b></div><div class=\"sk-container\" hidden><div class=\"sk-item\"><div class=\"sk-estimator sk-toggleable\"><input class=\"sk-toggleable__control sk-hidden--visually\" id=\"sk-estimator-id-6\" type=\"checkbox\" checked><label for=\"sk-estimator-id-6\" class=\"sk-toggleable__label sk-toggleable__label-arrow\">MLPClassifier</label><div class=\"sk-toggleable__content\"><pre>MLPClassifier(alpha=1e-05, hidden_layer_sizes=(5, 2), random_state=1,\n",
              "              solver=&#x27;lbfgs&#x27;)</pre></div></div></div></div></div>"
            ],
            "text/plain": [
              "MLPClassifier(alpha=1e-05, hidden_layer_sizes=(5, 2), random_state=1,\n",
              "              solver='lbfgs')"
            ]
          },
          "execution_count": 39,
          "metadata": {},
          "output_type": "execute_result"
        }
      ],
      "source": [
        "clf = MLPClassifier(solver='lbfgs', alpha=1e-5, hidden_layer_sizes=(5, 2), random_state=1)\n",
        "clf.fit(X_train, y_train)"
      ]
    },
    {
      "cell_type": "code",
      "execution_count": 40,
      "metadata": {
        "id": "cKOOkNQCkyQK"
      },
      "outputs": [
        {
          "name": "stdout",
          "output_type": "stream",
          "text": [
            "accuracy:   0.919\n",
            "              precision    recall  f1-score   support\n",
            "\n",
            "           0       0.89      0.90      0.90       130\n",
            "           1       0.94      0.93      0.93       204\n",
            "\n",
            "    accuracy                           0.92       334\n",
            "   macro avg       0.91      0.92      0.92       334\n",
            "weighted avg       0.92      0.92      0.92       334\n",
            "\n",
            "confusion matrix:\n",
            "[[117  13]\n",
            " [ 14 190]]\n",
            "\n"
          ]
        },
        {
          "data": {
            "image/png": "[encoded data removed]",
            "text/plain": [
              "<Figure size 432x288 with 2 Axes>"
            ]
          },
          "metadata": {
            "needs_background": "light"
          },
          "output_type": "display_data"
        }
      ],
      "source": [
        "# predict the labels on validation dataset\n",
        "predictions = clf.predict(X_test)\n",
        "\n",
        "# compute the performance measures\n",
        "score = metrics.accuracy_score(y_test, predictions)\n",
        "print(\"accuracy:   %0.3f\" % score)\n",
        "\n",
        "print(metrics.classification_report(y_test, predictions, target_names=['0', '1']))\n",
        "\n",
        "print(\"confusion matrix:\")\n",
        "print(metrics.confusion_matrix(y_test, predictions))\n",
        "print()\n",
        "skplt.metrics.plot_confusion_matrix(y_test, predictions, normalize=True)\n",
        "plt.show()"
      ]
    },
    {
      "cell_type": "code",
      "execution_count": 41,
      "metadata": {},
      "outputs": [],
      "source": [
        "df_val = pd.read_csv('data/sample.csv')\n",
        "\n",
        "# remove adjectives \n",
        "df_val['ad'] = df_val['ad'].apply(dc.remove_adjectives)\n",
        "\n",
        "# Lower case\n",
        "df_val['ad']= df_val['ad'].apply(lambda x: x.lower())\n",
        "\n",
        "# Removing punctuations\n",
        "df_val['ad']= df_val['ad'].str.replace('[^\\w\\s]','', regex=True)\n",
        "\n",
        "# Removing extra space \n",
        "df_val['ad']= df_val['ad'].str.replace('\\s+', ' ', regex=True)\n",
        "\n",
        "#Apply function on review column\n",
        "df_val['ad']= df_val['ad'].apply(dc.remove_stopwords)\n",
        "\n",
        "#Apply function on review column\n",
        "df_val['ad']= df_val['ad'].apply(dc.denoise_text)\n",
        "\n",
        "#Apply function on review column\n",
        "df_val['ad']= df_val['ad'].apply(dc.simple_stemmer)"
      ]
    },
    {
      "cell_type": "code",
      "execution_count": 42,
      "metadata": {
        "id": "dRa9qVj-k6_X"
      },
      "outputs": [
        {
          "name": "stdout",
          "output_type": "stream",
          "text": [
            "accuracy:   0.656\n",
            "              precision    recall  f1-score   support\n",
            "\n",
            "           0       0.69      0.71      0.70        51\n",
            "           1       0.61      0.59      0.60        39\n",
            "\n",
            "    accuracy                           0.66        90\n",
            "   macro avg       0.65      0.65      0.65        90\n",
            "weighted avg       0.65      0.66      0.65        90\n",
            "\n",
            "confusion matrix:\n",
            "[[36 15]\n",
            " [16 23]]\n",
            "\n"
          ]
        },
        {
          "data": {
            "image/png": "[encoded data removed]",
            "text/plain": [
              "<Figure size 432x288 with 2 Axes>"
            ]
          },
          "metadata": {
            "needs_background": "light"
          },
          "output_type": "display_data"
        }
      ],
      "source": [
        "X_val_tf = tf_vectorizer.transform(df_val['ad'])\n",
        "y_val = df_val['consensus']\n",
        "predictions = clf.predict(X_val_tf)\n",
        "\n",
        "# compute the performance measures\n",
        "score = metrics.accuracy_score(y_val, predictions)\n",
        "print(\"accuracy:   %0.3f\" % score)\n",
        "\n",
        "\n",
        "print(metrics.classification_report(y_val, predictions, target_names=['0', '1']))\n",
        "\n",
        "print(\"confusion matrix:\")\n",
        "print(metrics.confusion_matrix(y_val, predictions))\n",
        "print()\n",
        "skplt.metrics.plot_confusion_matrix(y_val, predictions, normalize=True)\n",
        "plt.show()"
      ]
    }
  ],
  "metadata": {
    "colab": {
      "collapsed_sections": [],
      "name": "binary_emotional_appeal_MLP.ipynb",
      "provenance": []
    },
    "kernelspec": {
      "display_name": "Python 3.9.13 64-bit (windows store)",
      "language": "python",
      "name": "python3"
    },
    "language_info": {
      "codemirror_mode": {
        "name": "ipython",
        "version": 3
      },
      "file_extension": ".py",
      "mimetype": "text/x-python",
      "name": "python",
      "nbconvert_exporter": "python",
      "pygments_lexer": "ipython3",
      "version": "3.9.13"
    },
    "vscode": {
      "interpreter": {
        "hash": "f8f14f5a7c49a331ac7a55934b43ce13bd28be1333db14e2d71768ad3378996c"
      }
    }
  },
  "nbformat": 4,
  "nbformat_minor": 0
}
