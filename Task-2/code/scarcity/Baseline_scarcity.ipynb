{
 "cells": [
  {
   "cell_type": "code",
   "execution_count": 1,
   "metadata": {},
   "outputs": [],
   "source": [
    "import pandas as pd \n",
    "from sklearn import metrics\n",
    "\n",
    "import matplotlib.pyplot as plt\n",
    "import scikitplot as skplt"
   ]
  },
  {
   "cell_type": "code",
   "execution_count": 2,
   "metadata": {},
   "outputs": [
    {
     "data": {
      "text/html": [
       "<div>\n",
       "<style scoped>\n",
       "    .dataframe tbody tr th:only-of-type {\n",
       "        vertical-align: middle;\n",
       "    }\n",
       "\n",
       "    .dataframe tbody tr th {\n",
       "        vertical-align: top;\n",
       "    }\n",
       "\n",
       "    .dataframe thead th {\n",
       "        text-align: right;\n",
       "    }\n",
       "</style>\n",
       "<table border=\"1\" class=\"dataframe\">\n",
       "  <thead>\n",
       "    <tr style=\"text-align: right;\">\n",
       "      <th></th>\n",
       "      <th>ad</th>\n",
       "      <th>scarcity</th>\n",
       "    </tr>\n",
       "  </thead>\n",
       "  <tbody>\n",
       "    <tr>\n",
       "      <th>0</th>\n",
       "      <td>See why everyone is celebrating at Hoblit Dodg...</td>\n",
       "      <td>0</td>\n",
       "    </tr>\n",
       "    <tr>\n",
       "      <th>1</th>\n",
       "      <td>Help give people without a home a chance to le...</td>\n",
       "      <td>0</td>\n",
       "    </tr>\n",
       "    <tr>\n",
       "      <th>2</th>\n",
       "      <td>I am so proud of what this grassroots team has...</td>\n",
       "      <td>0</td>\n",
       "    </tr>\n",
       "    <tr>\n",
       "      <th>3</th>\n",
       "      <td>We have until March 31st to raise money for ou...</td>\n",
       "      <td>1</td>\n",
       "    </tr>\n",
       "    <tr>\n",
       "      <th>4</th>\n",
       "      <td>Learn how to use the new staffing law to impro...</td>\n",
       "      <td>0</td>\n",
       "    </tr>\n",
       "    <tr>\n",
       "      <th>...</th>\n",
       "      <td>...</td>\n",
       "      <td>...</td>\n",
       "    </tr>\n",
       "    <tr>\n",
       "      <th>194</th>\n",
       "      <td>Check out my new campaign video on why I want ...</td>\n",
       "      <td>0</td>\n",
       "    </tr>\n",
       "    <tr>\n",
       "      <th>195</th>\n",
       "      <td>The public should be alarmed by the fact that ...</td>\n",
       "      <td>0</td>\n",
       "    </tr>\n",
       "    <tr>\n",
       "      <th>196</th>\n",
       "      <td>Our nation's police officers are in desperate ...</td>\n",
       "      <td>1</td>\n",
       "    </tr>\n",
       "    <tr>\n",
       "      <th>197</th>\n",
       "      <td>By any measure, Dr Jordan B Peterson is the mo...</td>\n",
       "      <td>0</td>\n",
       "    </tr>\n",
       "    <tr>\n",
       "      <th>198</th>\n",
       "      <td>The Australian government has been knowingly a...</td>\n",
       "      <td>1</td>\n",
       "    </tr>\n",
       "  </tbody>\n",
       "</table>\n",
       "<p>199 rows × 2 columns</p>\n",
       "</div>"
      ],
      "text/plain": [
       "                                                    ad  scarcity\n",
       "0    See why everyone is celebrating at Hoblit Dodg...         0\n",
       "1    Help give people without a home a chance to le...         0\n",
       "2    I am so proud of what this grassroots team has...         0\n",
       "3    We have until March 31st to raise money for ou...         1\n",
       "4    Learn how to use the new staffing law to impro...         0\n",
       "..                                                 ...       ...\n",
       "194  Check out my new campaign video on why I want ...         0\n",
       "195  The public should be alarmed by the fact that ...         0\n",
       "196  Our nation's police officers are in desperate ...         1\n",
       "197  By any measure, Dr Jordan B Peterson is the mo...         0\n",
       "198  The Australian government has been knowingly a...         1\n",
       "\n",
       "[199 rows x 2 columns]"
      ]
     },
     "execution_count": 2,
     "metadata": {},
     "output_type": "execute_result"
    }
   ],
   "source": [
    "df = pd.read_csv('./data/sample_scarcity.csv')\n",
    "df"
   ]
  },
  {
   "cell_type": "code",
   "execution_count": 3,
   "metadata": {},
   "outputs": [],
   "source": [
    "# creating prediction model\n",
    "\n",
    "# creating the filters \n",
    "filters =  [    \n",
    "            'limited time only', 'limited time', 'almost gone', 'only for' , 'limited edition', \n",
    "            'before it', 'last chance', 'days left', 'missing out', 'now on sale', 'too late', 'almost run', 'weeks left', 'hours left',\n",
    "            'hurry', 'do not wait', 'urge' , 'urging',\n",
    "            'almost done', 'desperate need', 'act now', 'no time', 'in a race against time', 'one of a kind', \n",
    "            'waste time', 'ends soon', 'race against time', 'time running', 'urgence', 'immediately', 'limited', 'end soon' , 'expire soon', 'expire', 'expires', \n",
    "            'deadline',  'bargain', 'emergency', 'critical', 'hurry', 'last call', 'urgently', 'urgent', 'less than','until'\n",
    "            ]\n",
    "\n",
    "def contains_filter(x):\n",
    "    for filter in filters:\n",
    "        if filter in x:\n",
    "            return 1\n",
    "    return 0\n",
    "\n",
    "def predict(X): \n",
    "    '''\n",
    "        This function takes in a dataframe and returns the predicted values \n",
    "        params:\n",
    "            X: dataframe\n",
    "        returns:\n",
    "            predicted values using the filters \n",
    "    '''\n",
    "    X['prediction'] = X['ad'].apply(contains_filter)\n",
    "    return X['prediction']\n"
   ]
  },
  {
   "cell_type": "code",
   "execution_count": 4,
   "metadata": {},
   "outputs": [
    {
     "name": "stdout",
     "output_type": "stream",
     "text": [
      "accuracy:   0.744\n",
      "              precision    recall  f1-score   support\n",
      "\n",
      " no scarcity       0.67      0.97      0.79       101\n",
      "    scarcity       0.94      0.51      0.66        98\n",
      "\n",
      "    accuracy                           0.74       199\n",
      "   macro avg       0.81      0.74      0.73       199\n",
      "weighted avg       0.81      0.74      0.73       199\n",
      "\n",
      "confusion matrix:\n",
      "[[98  3]\n",
      " [48 50]]\n",
      "\n"
     ]
    },
    {
     "data": {
      "image/png": "[encoded data removed]",
      "text/plain": [
       "<Figure size 432x288 with 2 Axes>"
      ]
     },
     "metadata": {
      "needs_background": "light"
     },
     "output_type": "display_data"
    }
   ],
   "source": [
    "y_pred = predict(df)\n",
    "\n",
    "# model performance\n",
    "score = metrics.accuracy_score(df['scarcity'], y_pred)\n",
    "print(\"accuracy:   %0.3f\" % score)\n",
    "\n",
    "print(metrics.classification_report(df['scarcity'], y_pred, target_names=['no scarcity', 'scarcity']))\n",
    "\n",
    "print(\"confusion matrix:\")\n",
    "print(metrics.confusion_matrix(df['scarcity'], y_pred))\n",
    "print()\n",
    "\n",
    "skplt.metrics.plot_confusion_matrix(df['scarcity'], y_pred, normalize=True)\n",
    "plt.show()"
   ]
  }
 ],
 "metadata": {
  "interpreter": {
   "hash": "a5b9b38b543acef8c99a55356e1a83c226e44beb9292ee82f1e87a7fd9afffb6"
  },
  "kernelspec": {
   "display_name": "Python 3.7.9 64-bit (windows store)",
   "language": "python",
   "name": "python3"
  },
  "language_info": {
   "codemirror_mode": {
    "name": "ipython",
    "version": 3
   },
   "file_extension": ".py",
   "mimetype": "text/x-python",
   "name": "python",
   "nbconvert_exporter": "python",
   "pygments_lexer": "ipython3",
   "version": "3.7.9"
  },
  "orig_nbformat": 4
 },
 "nbformat": 4,
 "nbformat_minor": 2
}
