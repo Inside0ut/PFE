{
 "cells": [
  {
   "cell_type": "code",
   "execution_count": 6,
   "metadata": {
    "executionInfo": {
     "elapsed": 2,
     "status": "ok",
     "timestamp": 1654104272592,
     "user": {
      "displayName": "NARDJES AMIEUR",
      "userId": "13751943947351102071"
     },
     "user_tz": -120
    },
    "id": "pXmL4QIuQWTr"
   },
   "outputs": [],
   "source": [
    "import matplotlib.pyplot as plt\n",
    "%matplotlib inline\n",
    "\n",
    "import fine_tunned_bert\n",
    "\n",
    "import pandas as pd\n",
    "import tensorflow as tf \n",
    "\n",
    "from tensorflow.keras import metrics \n",
    "import scikitplot as skplt\n",
    "\n",
    "from sklearn import metrics\n",
    "from sklearn.model_selection import train_test_split\n",
    "from sklearn.metrics import confusion_matrix"
   ]
  },
  {
   "cell_type": "code",
   "execution_count": 7,
   "metadata": {
    "colab": {
     "base_uri": "https://localhost:8080/",
     "height": 424
    },
    "executionInfo": {
     "elapsed": 1711,
     "status": "ok",
     "timestamp": 1654104281458,
     "user": {
      "displayName": "NARDJES AMIEUR",
      "userId": "13751943947351102071"
     },
     "user_tz": -120
    },
    "id": "wSdZ8WIrQg99",
    "outputId": "ba79abc4-ad04-497b-a228-0a5ae4b0892b"
   },
   "outputs": [
    {
     "data": {
      "text/html": [
       "<div>\n",
       "<style scoped>\n",
       "    .dataframe tbody tr th:only-of-type {\n",
       "        vertical-align: middle;\n",
       "    }\n",
       "\n",
       "    .dataframe tbody tr th {\n",
       "        vertical-align: top;\n",
       "    }\n",
       "\n",
       "    .dataframe thead th {\n",
       "        text-align: right;\n",
       "    }\n",
       "</style>\n",
       "<table border=\"1\" class=\"dataframe\">\n",
       "  <thead>\n",
       "    <tr style=\"text-align: right;\">\n",
       "      <th></th>\n",
       "      <th>ad</th>\n",
       "      <th>scarcity</th>\n",
       "    </tr>\n",
       "  </thead>\n",
       "  <tbody>\n",
       "    <tr>\n",
       "      <th>0</th>\n",
       "      <td>it’s almost over the shortcut law that lets yo...</td>\n",
       "      <td>1</td>\n",
       "    </tr>\n",
       "    <tr>\n",
       "      <th>1</th>\n",
       "      <td>on sale this week sequel to nyt bestseller pro...</td>\n",
       "      <td>1</td>\n",
       "    </tr>\n",
       "    <tr>\n",
       "      <th>2</th>\n",
       "      <td>refugees are especially vulnerable to the dang...</td>\n",
       "      <td>1</td>\n",
       "    </tr>\n",
       "    <tr>\n",
       "      <th>3</th>\n",
       "      <td>we are motivating reminding and supporting vot...</td>\n",
       "      <td>1</td>\n",
       "    </tr>\n",
       "    <tr>\n",
       "      <th>4</th>\n",
       "      <td>the future of decentralized nomadic coliving i...</td>\n",
       "      <td>1</td>\n",
       "    </tr>\n",
       "    <tr>\n",
       "      <th>...</th>\n",
       "      <td>...</td>\n",
       "      <td>...</td>\n",
       "    </tr>\n",
       "    <tr>\n",
       "      <th>17995</th>\n",
       "      <td>parents take part in the study of the impact o...</td>\n",
       "      <td>0</td>\n",
       "    </tr>\n",
       "    <tr>\n",
       "      <th>17996</th>\n",
       "      <td>lincoln news lincoln mayor orders greater rest...</td>\n",
       "      <td>0</td>\n",
       "    </tr>\n",
       "    <tr>\n",
       "      <th>17997</th>\n",
       "      <td>joe biden beat the nra twice he got assault we...</td>\n",
       "      <td>0</td>\n",
       "    </tr>\n",
       "    <tr>\n",
       "      <th>17998</th>\n",
       "      <td>reid nearly lost his eye to cancer thanks to t...</td>\n",
       "      <td>0</td>\n",
       "    </tr>\n",
       "    <tr>\n",
       "      <th>17999</th>\n",
       "      <td>new video\\nif we want real solutions we need n...</td>\n",
       "      <td>0</td>\n",
       "    </tr>\n",
       "  </tbody>\n",
       "</table>\n",
       "<p>18000 rows × 2 columns</p>\n",
       "</div>"
      ],
      "text/plain": [
       "                                                      ad  scarcity\n",
       "0      it’s almost over the shortcut law that lets yo...         1\n",
       "1      on sale this week sequel to nyt bestseller pro...         1\n",
       "2      refugees are especially vulnerable to the dang...         1\n",
       "3      we are motivating reminding and supporting vot...         1\n",
       "4      the future of decentralized nomadic coliving i...         1\n",
       "...                                                  ...       ...\n",
       "17995  parents take part in the study of the impact o...         0\n",
       "17996  lincoln news lincoln mayor orders greater rest...         0\n",
       "17997  joe biden beat the nra twice he got assault we...         0\n",
       "17998  reid nearly lost his eye to cancer thanks to t...         0\n",
       "17999  new video\\nif we want real solutions we need n...         0\n",
       "\n",
       "[18000 rows x 2 columns]"
      ]
     },
     "execution_count": 7,
     "metadata": {},
     "output_type": "execute_result"
    }
   ],
   "source": [
    "# import scarcity labeled ads\n",
    "df = pd.read_csv('data/scarcity_dataset.csv')\n",
    "df"
   ]
  },
  {
   "cell_type": "code",
   "execution_count": 8,
   "metadata": {
    "executionInfo": {
     "elapsed": 202,
     "status": "ok",
     "timestamp": 1654104284113,
     "user": {
      "displayName": "NARDJES AMIEUR",
      "userId": "13751943947351102071"
     },
     "user_tz": -120
    },
    "id": "2SkfddCcQ4B3"
   },
   "outputs": [],
   "source": [
    "bert_model_name='small_bert/bert_en_uncased_L-4_H-512_A-8'"
   ]
  },
  {
   "cell_type": "code",
   "execution_count": 9,
   "metadata": {
    "executionInfo": {
     "elapsed": 194,
     "status": "ok",
     "timestamp": 1654104286006,
     "user": {
      "displayName": "NARDJES AMIEUR",
      "userId": "13751943947351102071"
     },
     "user_tz": -120
    },
    "id": "EVMNaYtzRHGh"
   },
   "outputs": [],
   "source": [
    "# build test and training datasets \n",
    "cleaned_train, cleaned_test, y_train, y_test = train_test_split(df['ad'], df['scarcity'] , test_size = 0.2, random_state = 42 , shuffle = True)\n",
    "cleaned_train, cleaned_val, y_train, y_val = train_test_split(cleaned_train, y_train,  test_size=0.25, random_state= 42, shuffle = True)"
   ]
  },
  {
   "cell_type": "code",
   "execution_count": 10,
   "metadata": {
    "colab": {
     "base_uri": "https://localhost:8080/"
    },
    "executionInfo": {
     "elapsed": 449757,
     "status": "ok",
     "timestamp": 1654104737004,
     "user": {
      "displayName": "NARDJES AMIEUR",
      "userId": "13751943947351102071"
     },
     "user_tz": -120
    },
    "id": "IK3hme6FQ5dl",
    "outputId": "8d589237-115e-47a1-fccc-4cc49439924a"
   },
   "outputs": [
    {
     "name": "stderr",
     "output_type": "stream",
     "text": [
      "2022-06-02 17:50:28.460430: I tensorflow/core/platform/cpu_feature_guard.cc:193] This TensorFlow binary is optimized with oneAPI Deep Neural Network Library (oneDNN) to use the following CPU instructions in performance-critical operations:  AVX2 FMA\n",
      "To enable them in other operations, rebuild TensorFlow with the appropriate compiler flags.\n",
      "2022-06-02 17:50:29.127383: I tensorflow/core/common_runtime/gpu/gpu_device.cc:1532] Created device /job:localhost/replica:0/task:0/device:GPU:0 with 10417 MB memory:  -> device: 0, name: GeForce GTX 1080 Ti, pci bus id: 0000:02:00.0, compute capability: 6.1\n"
     ]
    },
    {
     "name": "stdout",
     "output_type": "stream",
     "text": [
      "113/113 [==============================] - 9s 79ms/step - loss: 0.1690 - accuracy: 0.9589 - precision: 0.9634 - recall: 0.9549 - auc: 0.9848\n",
      "-----------------------------------------\n",
      "113/113 [==============================] - 9s 73ms/step\n",
      "Fold cofusion matrix\n",
      "(1715, 66, 82, 1737)\n",
      "-----------------------------------------\n"
     ]
    }
   ],
   "source": [
    "train_data = tf.data.Dataset.from_tensor_slices(  (cleaned_train,y_train) ).batch(32)\n",
    "val_data = tf.data.Dataset.from_tensor_slices( (cleaned_val,y_val) ).batch(32)\n",
    "test_data = tf.data.Dataset.from_tensor_slices( (cleaned_test,y_test) ).batch(32)\n",
    "\n",
    "# create the fine_tunned_model\n",
    "bert_model = fine_tunned_bert.create_fine_tunned_bert(train_data,bert_model_name=bert_model_name)\n",
    "\n",
    "# training the model\n",
    "history = bert_model.fit(x=train_data,epochs =5,validation_data = val_data,verbose=False)\n",
    "\n",
    "# evaluation \n",
    "scores = bert_model.evaluate(test_data)\n",
    "print(\"-----------------------------------------\")\n",
    "predictions=bert_model.predict(cleaned_test)\n",
    "results = (predictions>0.5)*1\n",
    "tn, fp, fn, tp = confusion_matrix(y_test,results).ravel()\n",
    "print(\"Fold cofusion matrix\")\n",
    "print((tn, fp, fn, tp))\n",
    "print(\"-----------------------------------------\")\n"
   ]
  },
  {
   "cell_type": "code",
   "execution_count": 11,
   "metadata": {
    "colab": {
     "base_uri": "https://localhost:8080/"
    },
    "executionInfo": {
     "elapsed": 19551,
     "status": "ok",
     "timestamp": 1654105062728,
     "user": {
      "displayName": "NARDJES AMIEUR",
      "userId": "13751943947351102071"
     },
     "user_tz": -120
    },
    "id": "funPyRoufZei",
    "outputId": "f49158dd-baeb-4734-91ba-af8ea27e6e54"
   },
   "outputs": [
    {
     "name": "stdout",
     "output_type": "stream",
     "text": [
      "113/113 [==============================] - 9s 78ms/step - loss: 0.1690 - accuracy: 0.9589 - precision: 0.9634 - recall: 0.9549 - auc: 0.9848\n",
      "Accuracy: 95.89%\n"
     ]
    }
   ],
   "source": [
    "# model evaluation \n",
    "scores = bert_model.evaluate(test_data)\n",
    "print(\"Accuracy: %.2f%%\" % (scores[1]*100))"
   ]
  },
  {
   "cell_type": "code",
   "execution_count": 12,
   "metadata": {
    "colab": {
     "base_uri": "https://localhost:8080/"
    },
    "executionInfo": {
     "elapsed": 215,
     "status": "ok",
     "timestamp": 1654105067428,
     "user": {
      "displayName": "NARDJES AMIEUR",
      "userId": "13751943947351102071"
     },
     "user_tz": -120
    },
    "id": "W5lJwkU_m9mS",
    "outputId": "faa45a28-1d2e-451e-8ca4-a6d65ce918f0"
   },
   "outputs": [
    {
     "name": "stdout",
     "output_type": "stream",
     "text": [
      "              precision    recall  f1-score   support\n",
      "\n",
      " no-scarcity       0.95      0.96      0.96      1781\n",
      "    scarcity       0.96      0.95      0.96      1819\n",
      "\n",
      "    accuracy                           0.96      3600\n",
      "   macro avg       0.96      0.96      0.96      3600\n",
      "weighted avg       0.96      0.96      0.96      3600\n",
      "\n"
     ]
    }
   ],
   "source": [
    "print(metrics.classification_report(y_test, results, target_names=[ 'no-scarcity', 'scarcity']))"
   ]
  },
  {
   "cell_type": "code",
   "execution_count": 13,
   "metadata": {
    "colab": {
     "base_uri": "https://localhost:8080/",
     "height": 295
    },
    "executionInfo": {
     "elapsed": 235,
     "status": "ok",
     "timestamp": 1654105070233,
     "user": {
      "displayName": "NARDJES AMIEUR",
      "userId": "13751943947351102071"
     },
     "user_tz": -120
    },
    "id": "lPXBc-mqfsGM",
    "outputId": "643ab13e-bad4-4719-b1c0-13d08e4bee03"
   },
   "outputs": [
    {
     "data": {
      "image/png": "[encoded data removed]",
      "text/plain": [
       "<Figure size 432x288 with 2 Axes>"
      ]
     },
     "metadata": {
      "needs_background": "light"
     },
     "output_type": "display_data"
    }
   ],
   "source": [
    "skplt.metrics.plot_confusion_matrix(y_test, results , normalize=True)\n",
    "plt.show()"
   ]
  },
  {
   "cell_type": "code",
   "execution_count": 14,
   "metadata": {
    "colab": {
     "base_uri": "https://localhost:8080/",
     "height": 382
    },
    "executionInfo": {
     "elapsed": 1710,
     "status": "ok",
     "timestamp": 1654105074769,
     "user": {
      "displayName": "NARDJES AMIEUR",
      "userId": "13751943947351102071"
     },
     "user_tz": -120
    },
    "id": "Y6jouBHP_2Zj",
    "outputId": "a9300117-bd48-42f6-bbf8-995d336c5cc3"
   },
   "outputs": [
    {
     "name": "stdout",
     "output_type": "stream",
     "text": [
      "7/7 [==============================] - 0s 66ms/step\n",
      "confusion matrix:\n",
      "[[98  3]\n",
      " [25 73]]\n",
      "\n"
     ]
    },
    {
     "data": {
      "image/png": "[encoded data removed]",
      "text/plain": [
       "<Figure size 432x288 with 2 Axes>"
      ]
     },
     "metadata": {
      "needs_background": "light"
     },
     "output_type": "display_data"
    }
   ],
   "source": [
    "save = pd.read_csv('./data/sample_scarcity.csv')\n",
    "test_data = tf.data.Dataset.from_tensor_slices( (save['ad'],save['scarcity']) ).batch(32)\n",
    "\n",
    "pred_ =  bert_model.predict(save['ad'])\n",
    "save['predicted'] = [1 if prob > 0.5 else 0 for prob in pred_]\n",
    "\n",
    "print(\"confusion matrix:\")\n",
    "print(metrics.confusion_matrix(save['scarcity'], save['predicted']))\n",
    "print()\n",
    "\n",
    "skplt.metrics.plot_confusion_matrix(save['scarcity'], save['predicted'], normalize=True)\n",
    "plt.show()"
   ]
  },
  {
   "cell_type": "code",
   "execution_count": 15,
   "metadata": {
    "colab": {
     "base_uri": "https://localhost:8080/"
    },
    "executionInfo": {
     "elapsed": 212,
     "status": "ok",
     "timestamp": 1654105079936,
     "user": {
      "displayName": "NARDJES AMIEUR",
      "userId": "13751943947351102071"
     },
     "user_tz": -120
    },
    "id": "RbwTz0hnFKV8",
    "outputId": "ccd5cf7f-1dba-4cf4-c6f1-3db8ed003c4a"
   },
   "outputs": [
    {
     "name": "stdout",
     "output_type": "stream",
     "text": [
      "              precision    recall  f1-score   support\n",
      "\n",
      " no-scarcity       0.80      0.97      0.87       101\n",
      "    scarcity       0.96      0.74      0.84        98\n",
      "\n",
      "    accuracy                           0.86       199\n",
      "   macro avg       0.88      0.86      0.86       199\n",
      "weighted avg       0.88      0.86      0.86       199\n",
      "\n"
     ]
    }
   ],
   "source": [
    "print(metrics.classification_report(save['scarcity'], save['predicted'], target_names=[ 'no-scarcity', 'scarcity']))"
   ]
  },
  {
   "cell_type": "code",
   "execution_count": null,
   "metadata": {},
   "outputs": [],
   "source": []
  }
 ],
 "metadata": {
  "accelerator": "GPU",
  "colab": {
   "name": "Bert_scarcity.ipynb",
   "provenance": []
  },
  "kernelspec": {
   "display_name": "Python 3 (ipykernel)",
   "language": "python",
   "name": "python3"
  },
  "language_info": {
   "codemirror_mode": {
    "name": "ipython",
    "version": 3
   },
   "file_extension": ".py",
   "mimetype": "text/x-python",
   "name": "python",
   "nbconvert_exporter": "python",
   "pygments_lexer": "ipython3",
   "version": "3.7.3"
  }
 },
 "nbformat": 4,
 "nbformat_minor": 1
}
