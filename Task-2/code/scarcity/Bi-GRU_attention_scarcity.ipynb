{
 "cells": [
  {
   "cell_type": "code",
   "execution_count": 2,
   "metadata": {
    "executionInfo": {
     "elapsed": 8218,
     "status": "ok",
     "timestamp": 1654159174493,
     "user": {
      "displayName": "NARDJES AMIEUR",
      "userId": "13751943947351102071"
     },
     "user_tz": -120
    },
    "id": "hLtVT3MuP132"
   },
   "outputs": [],
   "source": [
    "import pandas as pd\n",
    "import numpy as np\n",
    "\n",
    "from sklearn import metrics\n",
    "\n",
    "import tensorflow as tf\n",
    "from tensorflow.keras.models import Sequential\n",
    "from sklearn.model_selection import train_test_split\n",
    "from tensorflow.keras import layers\n",
    "\n",
    "import matplotlib.pyplot as plt\n",
    "%matplotlib inline\n",
    "\n",
    "import scikitplot as skplt\n",
    "# fix random seed for reproducibility\n",
    "seed = 42\n",
    "np.random.seed(seed)"
   ]
  },
  {
   "cell_type": "code",
   "execution_count": 3,
   "metadata": {
    "colab": {
     "base_uri": "https://localhost:8080/",
     "height": 424
    },
    "executionInfo": {
     "elapsed": 1372,
     "status": "ok",
     "timestamp": 1654159177762,
     "user": {
      "displayName": "NARDJES AMIEUR",
      "userId": "13751943947351102071"
     },
     "user_tz": -120
    },
    "id": "Y7Wxle6DENLM",
    "outputId": "83c69518-6301-4aad-ea51-75b375434601"
   },
   "outputs": [
    {
     "data": {
      "text/html": [
       "<div>\n",
       "<style scoped>\n",
       "    .dataframe tbody tr th:only-of-type {\n",
       "        vertical-align: middle;\n",
       "    }\n",
       "\n",
       "    .dataframe tbody tr th {\n",
       "        vertical-align: top;\n",
       "    }\n",
       "\n",
       "    .dataframe thead th {\n",
       "        text-align: right;\n",
       "    }\n",
       "</style>\n",
       "<table border=\"1\" class=\"dataframe\">\n",
       "  <thead>\n",
       "    <tr style=\"text-align: right;\">\n",
       "      <th></th>\n",
       "      <th>ad</th>\n",
       "      <th>scarcity</th>\n",
       "    </tr>\n",
       "  </thead>\n",
       "  <tbody>\n",
       "    <tr>\n",
       "      <th>0</th>\n",
       "      <td>it’s almost over the shortcut law that lets yo...</td>\n",
       "      <td>1</td>\n",
       "    </tr>\n",
       "    <tr>\n",
       "      <th>1</th>\n",
       "      <td>on sale this week sequel to nyt bestseller pro...</td>\n",
       "      <td>1</td>\n",
       "    </tr>\n",
       "    <tr>\n",
       "      <th>2</th>\n",
       "      <td>refugees are especially vulnerable to the dang...</td>\n",
       "      <td>1</td>\n",
       "    </tr>\n",
       "    <tr>\n",
       "      <th>3</th>\n",
       "      <td>we are motivating reminding and supporting vot...</td>\n",
       "      <td>1</td>\n",
       "    </tr>\n",
       "    <tr>\n",
       "      <th>4</th>\n",
       "      <td>the future of decentralized nomadic coliving i...</td>\n",
       "      <td>1</td>\n",
       "    </tr>\n",
       "    <tr>\n",
       "      <th>...</th>\n",
       "      <td>...</td>\n",
       "      <td>...</td>\n",
       "    </tr>\n",
       "    <tr>\n",
       "      <th>17995</th>\n",
       "      <td>parents take part in the study of the impact o...</td>\n",
       "      <td>0</td>\n",
       "    </tr>\n",
       "    <tr>\n",
       "      <th>17996</th>\n",
       "      <td>lincoln news lincoln mayor orders greater rest...</td>\n",
       "      <td>0</td>\n",
       "    </tr>\n",
       "    <tr>\n",
       "      <th>17997</th>\n",
       "      <td>joe biden beat the nra twice he got assault we...</td>\n",
       "      <td>0</td>\n",
       "    </tr>\n",
       "    <tr>\n",
       "      <th>17998</th>\n",
       "      <td>reid nearly lost his eye to cancer thanks to t...</td>\n",
       "      <td>0</td>\n",
       "    </tr>\n",
       "    <tr>\n",
       "      <th>17999</th>\n",
       "      <td>new video\\nif we want real solutions we need n...</td>\n",
       "      <td>0</td>\n",
       "    </tr>\n",
       "  </tbody>\n",
       "</table>\n",
       "<p>18000 rows × 2 columns</p>\n",
       "</div>"
      ],
      "text/plain": [
       "                                                      ad  scarcity\n",
       "0      it’s almost over the shortcut law that lets yo...         1\n",
       "1      on sale this week sequel to nyt bestseller pro...         1\n",
       "2      refugees are especially vulnerable to the dang...         1\n",
       "3      we are motivating reminding and supporting vot...         1\n",
       "4      the future of decentralized nomadic coliving i...         1\n",
       "...                                                  ...       ...\n",
       "17995  parents take part in the study of the impact o...         0\n",
       "17996  lincoln news lincoln mayor orders greater rest...         0\n",
       "17997  joe biden beat the nra twice he got assault we...         0\n",
       "17998  reid nearly lost his eye to cancer thanks to t...         0\n",
       "17999  new video\\nif we want real solutions we need n...         0\n",
       "\n",
       "[18000 rows x 2 columns]"
      ]
     },
     "execution_count": 3,
     "metadata": {},
     "output_type": "execute_result"
    }
   ],
   "source": [
    "# import scarcity labeled ads\n",
    "df = pd.read_csv('data/scarcity_dataset.csv')\n",
    "df"
   ]
  },
  {
   "cell_type": "code",
   "execution_count": 4,
   "metadata": {
    "executionInfo": {
     "elapsed": 203,
     "status": "ok",
     "timestamp": 1654159180715,
     "user": {
      "displayName": "NARDJES AMIEUR",
      "userId": "13751943947351102071"
     },
     "user_tz": -120
    },
    "id": "ilUI__p5P-tR"
   },
   "outputs": [],
   "source": [
    "norm_train, norm_test,  y_train, y_test = train_test_split(df['ad'], df['scarcity'], test_size =0.2, random_state=42)"
   ]
  },
  {
   "cell_type": "code",
   "execution_count": 5,
   "metadata": {
    "colab": {
     "base_uri": "https://localhost:8080/"
    },
    "executionInfo": {
     "elapsed": 4194,
     "status": "ok",
     "timestamp": 1654159186309,
     "user": {
      "displayName": "NARDJES AMIEUR",
      "userId": "13751943947351102071"
     },
     "user_tz": -120
    },
    "id": "3GzQqy98d9xx",
    "outputId": "92c9ddf7-1757-485f-e3cf-19b65d199f5b"
   },
   "outputs": [
    {
     "data": {
      "text/plain": [
       "(('httpbitlyyekel', 39498), ('<PAD>', 0), 1)"
      ]
     },
     "execution_count": 5,
     "metadata": {},
     "output_type": "execute_result"
    }
   ],
   "source": [
    "# data tokenization \n",
    "t = tf.keras.preprocessing.text.Tokenizer(oov_token='<UNK>')\n",
    "\n",
    "# fit the tokenizer on the training documents\n",
    "t.fit_on_texts(norm_train)\n",
    "t.word_index['<PAD>'] = 0\n",
    "max([(k, v) for k, v in t.word_index.items()], key = lambda x:x[1]), min([(k, v) for k, v in t.word_index.items()], key = lambda x:x[1]), t.word_index['<UNK>']"
   ]
  },
  {
   "cell_type": "code",
   "execution_count": 6,
   "metadata": {
    "executionInfo": {
     "elapsed": 2427,
     "status": "ok",
     "timestamp": 1654159189679,
     "user": {
      "displayName": "NARDJES AMIEUR",
      "userId": "13751943947351102071"
     },
     "user_tz": -120
    },
    "id": "6MyoVSt1fVkZ"
   },
   "outputs": [],
   "source": [
    "# create tokenized data sequences to feed to the neural network \n",
    "train_sequences = t.texts_to_sequences(norm_train)\n",
    "test_sequences = t.texts_to_sequences(norm_test)"
   ]
  },
  {
   "cell_type": "code",
   "execution_count": 7,
   "metadata": {
    "colab": {
     "base_uri": "https://localhost:8080/"
    },
    "executionInfo": {
     "elapsed": 344,
     "status": "ok",
     "timestamp": 1654159190018,
     "user": {
      "displayName": "NARDJES AMIEUR",
      "userId": "13751943947351102071"
     },
     "user_tz": -120
    },
    "id": "khWmrmG0g0Cg",
    "outputId": "7a1922f0-ede6-4554-f3be-5ac815ed3a71"
   },
   "outputs": [
    {
     "data": {
      "text/plain": [
       "((14400, 1000), (3600, 1000))"
      ]
     },
     "execution_count": 7,
     "metadata": {},
     "output_type": "execute_result"
    }
   ],
   "source": [
    "MAX_SEQUENCE_LENGTH = 1000\n",
    "\n",
    "# pad documents to equal length with 0 \n",
    "X_train = tf.keras.preprocessing.sequence.pad_sequences(train_sequences, maxlen=MAX_SEQUENCE_LENGTH)\n",
    "X_test = tf.keras.preprocessing.sequence.pad_sequences(test_sequences, maxlen=MAX_SEQUENCE_LENGTH)\n",
    "X_train.shape, X_test.shape"
   ]
  },
  {
   "cell_type": "code",
   "execution_count": 8,
   "metadata": {
    "executionInfo": {
     "elapsed": 2,
     "status": "ok",
     "timestamp": 1654159190018,
     "user": {
      "displayName": "NARDJES AMIEUR",
      "userId": "13751943947351102071"
     },
     "user_tz": -120
    },
    "id": "Z5dHWRZPi8YE"
   },
   "outputs": [],
   "source": [
    "from tensorflow.keras.layers import Layer\n",
    "from keras import backend as K\n",
    "\n",
    "\n",
    "class AttentionLayer(Layer):\n",
    "    \n",
    "    def __init__(self, step_dim,\n",
    "                 W_regularizer=None, b_regularizer=None,\n",
    "                 W_constraint=None, b_constraint=None,\n",
    "                 bias=True, **kwargs):\n",
    "        \n",
    "        \"\"\"\n",
    "            Attention Layer sourced from : https://github.com/lzfelix/keras_attention/blob/master/attention/layers.py\n",
    "\n",
    "            Implementation based in the work of Yang et al. \"Hierarchical Attention Networks for Document Classification\". \n",
    "            This implementation also allows changing the common tanh activation function used on the attention layer, as Chen\n",
    "            et al. \"A Thorough Examination of the CNN/Daily Mail Reading Comprehension Task\"\n",
    "            point that removing this component can be beneficial to the model. Supports\n",
    "            masking.\n",
    "    \n",
    "            The mathematical formulation of the model is as follows:\n",
    "              ```\n",
    "              u = f(W * h + b),\n",
    "              a_i = softmax(u_i^T * u_s),\n",
    "              v_i = \\sigma_i a_i * h_i.\n",
    "              ```\n",
    "    \n",
    "            # Arguments\n",
    "                  activation: The activation function f used by the layer (see\n",
    "                      [activations](../activations.md)). By default tanh is used, another common\n",
    "                      option is \"linear\".\n",
    "                  use_bias: Boolean, whether the layer uses a bias vector.\n",
    "                  initializer: Initializer for the `kernel` and `context` matrices\n",
    "                      (see [initializers](../initializers.md)).\n",
    "                  return_attention: If True, instead of returning the sequence descriptor, this\n",
    "                      layer will return the computed attention coefficients for each of the\n",
    "                      sequence timesteps. See Output section for details.\n",
    "                  W_regularizer: Regularizer function applied to the `kernel` weights matrix\n",
    "                      (see [regularizer](../regularizers.md)).\n",
    "                  u_regularizer: Regularizer function applied to the `context` weights matrix\n",
    "                      (see [regularizer](../regularizers.md)).\n",
    "                  b_regularizer: Regularizer function applied to the bias vector\n",
    "                      (see [regularizer](../regularizers.md)).\n",
    "                  W_constraint: Constraint function applied to the `kernel` weights matrix\n",
    "                      (see [constraints](../constraints.md)).\n",
    "                  u_constraint: Constraint function applied to the `contextl` weights matrix\n",
    "                      (see [constraints](../constraints.md)).\n",
    "                  b_constraint: Constraint function applied to the bias vector\n",
    "                      (see [constraints](../constraints.md)).\n",
    "          # Input shape\n",
    "                  nD tensor with shape: `(batch_size, ..., timesteps, input_dim)`.\n",
    "                  The most common situation would be a 3D input with shape\n",
    "                  `(batch_size, timesteps, input_dim)`.\n",
    "          # Outuput shape\n",
    "                  The sequence descriptor with shape `(batch_size, ..., timestamps)`. If\n",
    "                  `return_attention` is True, this layer will return the `alpha_i` weights\n",
    "                  for each timestep, and consequently its output shape will be different, namely:\n",
    "                  `(batch_size, ..., timesteps)`. \n",
    "        \"\"\"\n",
    "        \n",
    "        self.supports_masking = True\n",
    "        self.init = tf.keras.initializers.get('glorot_uniform')\n",
    "\n",
    "        self.W_regularizer = tf.keras.regularizers.get(W_regularizer)\n",
    "        self.b_regularizer = tf.keras.regularizers.get(b_regularizer)\n",
    "\n",
    "        self.W_constraint = tf.keras.constraints.get(W_constraint)\n",
    "        self.b_constraint = tf.keras.constraints.get(b_constraint)\n",
    "\n",
    "        self.bias = bias\n",
    "        self.step_dim = step_dim\n",
    "        self.features_dim = 0\n",
    "        super(AttentionLayer, self).__init__(**kwargs)\n",
    "        \n",
    "\n",
    "    def build(self, input_shape):\n",
    "        assert len(input_shape) == 3\n",
    "\n",
    "        self.W = self.add_weight( shape= (input_shape[-1],),\n",
    "                                 initializer=self.init,\n",
    "                                 name='{}_W'.format(self.name),\n",
    "                                 regularizer=self.W_regularizer,\n",
    "                                 constraint=self.W_constraint)\n",
    "        self.features_dim = input_shape[-1]\n",
    "\n",
    "        if self.bias:\n",
    "            self.b = self.add_weight(shape = (input_shape[1],),\n",
    "                                     initializer='zero',\n",
    "                                     name='{}_b'.format(self.name),\n",
    "                                     regularizer=self.b_regularizer,\n",
    "                                     constraint=self.b_constraint)\n",
    "        else:\n",
    "            self.b = None\n",
    "\n",
    "        self.built = True\n",
    "        \n",
    "\n",
    "    def compute_mask(self, input, input_mask=None):\n",
    "        # do not pass the mask to the next layers\n",
    "        return None\n",
    "\n",
    "    \n",
    "    def call(self, x, mask=None):\n",
    "        # TF backend doesn't support it\n",
    "        # eij = K.dot(x, self.W) \n",
    "        # features_dim = self.W.shape[0]\n",
    "        # step_dim = x._keras_shape[1]\n",
    "\n",
    "        features_dim = self.features_dim\n",
    "        step_dim = self.step_dim\n",
    "\n",
    "        eij = K.reshape(K.dot(K.reshape(x, (-1, features_dim)), \n",
    "                              K.reshape(self.W, (features_dim, 1))),\n",
    "                        (-1, step_dim))\n",
    "\n",
    "        if self.bias:\n",
    "            eij += self.b\n",
    "\n",
    "        eij = K.tanh(eij)\n",
    "\n",
    "        a = K.exp(eij)\n",
    "\n",
    "        # apply mask after the exp. will be re-normalized next\n",
    "        if mask is not None:\n",
    "            # Cast the mask to floatX to avoid float64 upcasting in theano\n",
    "            a *= K.cast(mask, K.floatx())\n",
    "\n",
    "        # in some cases especially in the early stages of training the sum may be almost zero\n",
    "        a /= K.cast(K.sum(a, axis=1, keepdims=True) + K.epsilon(), K.floatx())\n",
    "        a = K.expand_dims(a)\n",
    "        weighted_input = x * a\n",
    "        \n",
    "        return K.sum(weighted_input, axis=1)\n",
    "\n",
    "    \n",
    "    def compute_output_shape(self, input_shape):\n",
    "        return input_shape[0],  self.features_dim\n",
    "    \n",
    "    \n",
    "    def get_config(self):\n",
    "        config = {'step_dim': self.step_dim}\n",
    "        base_config = super(AttentionLayer, self).get_config()\n",
    "        return dict(list(base_config.items()) + list(config.items()))"
   ]
  },
  {
   "cell_type": "code",
   "execution_count": 9,
   "metadata": {
    "executionInfo": {
     "elapsed": 203,
     "status": "ok",
     "timestamp": 1654159192644,
     "user": {
      "displayName": "NARDJES AMIEUR",
      "userId": "13751943947351102071"
     },
     "user_tz": -120
    },
    "id": "B0DPRBWtj2pY"
   },
   "outputs": [],
   "source": [
    "def create_model(vocab_size, embedding_dim, max_sequence_length, gru_dim,dropout = 0.2):\n",
    "  '''\n",
    "    Create a Bidirectional GRU used for binary text classification task\n",
    "    Arguments : \n",
    "      vocab_size: vocabulary size \n",
    "      embedding_dim: embedding dimensions for the document vector representation \n",
    "      max_sequence_length: input sequence length for each document \n",
    "      gru_dim: number of neurones in the GRU layers\n",
    "      dropout : dropout rate used for Dropout regularization layers to minimize overfitting\n",
    "\n",
    "    Returns : \n",
    "    A model with the folowing layers:  \n",
    "            - Input layer to instantiate a tensor using the input preprocessed data\n",
    "            - Embedding layer to represent each document with a context vector\n",
    "            - Biderectional GRU (takes into consideration bidrectional context)\n",
    "            - A custom attention layer that takes **all** of the output of the GRU ( not the last hidden state only)\n",
    "            - Dense layer \n",
    "            - Dropout layer to minimize overfitting\n",
    "            - A Dense layer \n",
    "            - Dropout \n",
    "            - An output layer to get the label of the class \n",
    "  '''\n",
    "  model = Sequential([\n",
    "      layers.Input(shape=(max_sequence_length,)),\n",
    "      layers.Embedding(vocab_size, embedding_dim, trainable=True),\n",
    "      layers.Bidirectional(layers.GRU(gru_dim, return_sequences=True)),\n",
    "      AttentionLayer(max_sequence_length),\n",
    "      layers.Dense(gru_dim*2, activation='relu'),\n",
    "      layers.Dropout( rate = dropout ),\n",
    "      layers.Dense(gru_dim, activation='relu'),\n",
    "      layers.Dropout( rate = dropout ),\n",
    "      layers.Dense(1, activation='sigmoid')              \n",
    "  ])\n",
    "  model.compile(optimizer='adam',\n",
    "                loss='binary_crossentropy',\n",
    "                metrics=['accuracy'])\n",
    "  return model"
   ]
  },
  {
   "cell_type": "code",
   "execution_count": 10,
   "metadata": {
    "colab": {
     "base_uri": "https://localhost:8080/"
    },
    "executionInfo": {
     "elapsed": 5807,
     "status": "ok",
     "timestamp": 1654159201017,
     "user": {
      "displayName": "NARDJES AMIEUR",
      "userId": "13751943947351102071"
     },
     "user_tz": -120
    },
    "id": "-PYlxK2wjDdI",
    "outputId": "1c309979-07e4-4c57-c036-ad963ee02dd7"
   },
   "outputs": [
    {
     "name": "stderr",
     "output_type": "stream",
     "text": [
      "2022-06-02 17:38:02.432461: I tensorflow/core/platform/cpu_feature_guard.cc:193] This TensorFlow binary is optimized with oneAPI Deep Neural Network Library (oneDNN) to use the following CPU instructions in performance-critical operations:  AVX2 FMA\n",
      "To enable them in other operations, rebuild TensorFlow with the appropriate compiler flags.\n",
      "2022-06-02 17:38:03.060303: I tensorflow/core/common_runtime/gpu/gpu_device.cc:1532] Created device /job:localhost/replica:0/task:0/device:GPU:0 with 10417 MB memory:  -> device: 0, name: GeForce GTX 1080 Ti, pci bus id: 0000:02:00.0, compute capability: 6.1\n"
     ]
    },
    {
     "name": "stdout",
     "output_type": "stream",
     "text": [
      "Model: \"sequential\"\n",
      "_________________________________________________________________\n",
      " Layer (type)                Output Shape              Param #   \n",
      "=================================================================\n",
      " embedding (Embedding)       (None, 1000, 128)         5055872   \n",
      "                                                                 \n",
      " bidirectional (Bidirectiona  (None, 1000, 256)        198144    \n",
      " l)                                                              \n",
      "                                                                 \n",
      " attention_layer (AttentionL  (None, 256)              1256      \n",
      " ayer)                                                           \n",
      "                                                                 \n",
      " dense (Dense)               (None, 256)               65792     \n",
      "                                                                 \n",
      " dropout (Dropout)           (None, 256)               0         \n",
      "                                                                 \n",
      " dense_1 (Dense)             (None, 128)               32896     \n",
      "                                                                 \n",
      " dropout_1 (Dropout)         (None, 128)               0         \n",
      "                                                                 \n",
      " dense_2 (Dense)             (None, 1)                 129       \n",
      "                                                                 \n",
      "=================================================================\n",
      "Total params: 5,354,089\n",
      "Trainable params: 5,354,089\n",
      "Non-trainable params: 0\n",
      "_________________________________________________________________\n"
     ]
    }
   ],
   "source": [
    "EMBEDDING_DIM = 128 # dimension for dense embeddings for each token\n",
    "GRU_DIM = 128 # number of neurones in the GRU layers\n",
    "VOCAB_SIZE = len(t.word_index)\n",
    "\n",
    "# Create the model\n",
    "model = create_model(vocab_size = VOCAB_SIZE, embedding_dim = EMBEDDING_DIM, max_sequence_length = MAX_SEQUENCE_LENGTH, gru_dim = GRU_DIM)\n",
    "\n",
    "model.summary()"
   ]
  },
  {
   "cell_type": "code",
   "execution_count": 11,
   "metadata": {
    "colab": {
     "base_uri": "https://localhost:8080/"
    },
    "executionInfo": {
     "elapsed": 849942,
     "status": "ok",
     "timestamp": 1654160050950,
     "user": {
      "displayName": "NARDJES AMIEUR",
      "userId": "13751943947351102071"
     },
     "user_tz": -120
    },
    "id": "E1a2o_x8mQHg",
    "outputId": "7b88e677-3c08-4485-dce4-cb51536590db"
   },
   "outputs": [
    {
     "name": "stdout",
     "output_type": "stream",
     "text": [
      "Epoch 1/5\n"
     ]
    },
    {
     "name": "stderr",
     "output_type": "stream",
     "text": [
      "2022-06-02 17:38:15.252620: I tensorflow/stream_executor/cuda/cuda_dnn.cc:384] Loaded cuDNN version 8100\n"
     ]
    },
    {
     "name": "stdout",
     "output_type": "stream",
     "text": [
      "360/360 [==============================] - 28s 67ms/step - loss: 0.3905 - accuracy: 0.7906 - val_loss: 0.1209 - val_accuracy: 0.9608\n",
      "Epoch 2/5\n",
      "360/360 [==============================] - 23s 65ms/step - loss: 0.0962 - accuracy: 0.9680 - val_loss: 0.0994 - val_accuracy: 0.9615\n",
      "Epoch 3/5\n",
      "360/360 [==============================] - 24s 65ms/step - loss: 0.0400 - accuracy: 0.9889 - val_loss: 0.0809 - val_accuracy: 0.9694\n",
      "Epoch 4/5\n",
      "360/360 [==============================] - 23s 65ms/step - loss: 0.0184 - accuracy: 0.9951 - val_loss: 0.0900 - val_accuracy: 0.9740\n",
      "Epoch 5/5\n",
      "360/360 [==============================] - 23s 65ms/step - loss: 0.0075 - accuracy: 0.9982 - val_loss: 0.1094 - val_accuracy: 0.9764\n"
     ]
    },
    {
     "data": {
      "text/plain": [
       "<keras.callbacks.History at 0x7f86605575c0>"
      ]
     },
     "execution_count": 11,
     "metadata": {},
     "output_type": "execute_result"
    }
   ],
   "source": [
    "# model training \n",
    "batch_size = 32\n",
    "model.fit(X_train, y_train, epochs= 5, batch_size=batch_size, \n",
    "          shuffle=True, validation_split=0.2, verbose=1)"
   ]
  },
  {
   "cell_type": "code",
   "execution_count": 12,
   "metadata": {
    "colab": {
     "base_uri": "https://localhost:8080/"
    },
    "executionInfo": {
     "elapsed": 17825,
     "status": "ok",
     "timestamp": 1654160191580,
     "user": {
      "displayName": "NARDJES AMIEUR",
      "userId": "13751943947351102071"
     },
     "user_tz": -120
    },
    "id": "cnelwp1xmXaK",
    "outputId": "475ea755-3d30-4c80-c725-e259a61679e9"
   },
   "outputs": [
    {
     "name": "stdout",
     "output_type": "stream",
     "text": [
      "113/113 [==============================] - 4s 27ms/step - loss: 0.0911 - accuracy: 0.9806\n",
      "Accuracy: 98.06%\n"
     ]
    }
   ],
   "source": [
    "# model evaluation \n",
    "# Final evaluation of the model\n",
    "scores = model.evaluate(X_test, y_test, verbose=1)\n",
    "print(\"Accuracy: %.2f%%\" % (scores[1]*100))"
   ]
  },
  {
   "cell_type": "code",
   "execution_count": 13,
   "metadata": {
    "colab": {
     "base_uri": "https://localhost:8080/"
    },
    "executionInfo": {
     "elapsed": 21642,
     "status": "ok",
     "timestamp": 1654160296815,
     "user": {
      "displayName": "NARDJES AMIEUR",
      "userId": "13751943947351102071"
     },
     "user_tz": -120
    },
    "id": "9_UW2uhEm58b",
    "outputId": "8812b0db-8948-4890-f380-808b348c628a"
   },
   "outputs": [
    {
     "name": "stdout",
     "output_type": "stream",
     "text": [
      "113/113 [==============================] - 3s 24ms/step\n"
     ]
    },
    {
     "data": {
      "text/plain": [
       "[1, 1, 0, 1, 1, 0, 1, 1, 0, 0]"
      ]
     },
     "execution_count": 13,
     "metadata": {},
     "output_type": "execute_result"
    }
   ],
   "source": [
    "# get model predictions \n",
    "prediction_probs = model.predict(X_test, verbose=1).ravel()\n",
    "predictions = [1 if prob > 0.5 else 0 for prob in prediction_probs]\n",
    "predictions[:10]"
   ]
  },
  {
   "cell_type": "code",
   "execution_count": 15,
   "metadata": {
    "colab": {
     "base_uri": "https://localhost:8080/"
    },
    "executionInfo": {
     "elapsed": 1613,
     "status": "ok",
     "timestamp": 1654160384439,
     "user": {
      "displayName": "NARDJES AMIEUR",
      "userId": "13751943947351102071"
     },
     "user_tz": -120
    },
    "id": "-d1T63Ehi9EE",
    "outputId": "af9fb763-2ade-4ca8-e7cb-693f54f630cb"
   },
   "outputs": [
    {
     "name": "stdout",
     "output_type": "stream",
     "text": [
      "7/7 [==============================] - 0s 27ms/step - loss: 1.2938 - accuracy: 0.8191\n",
      "Accuracy: 81.91%\n"
     ]
    }
   ],
   "source": [
    "# save the test results \n",
    "save = pd.read_csv('data/sample_scarcity.csv')\n",
    "\n",
    "norm_ = save['ad']\n",
    "test_ = t.texts_to_sequences(norm_)\n",
    "padded_ = tf.keras.preprocessing.sequence.pad_sequences(test_, maxlen=MAX_SEQUENCE_LENGTH)\n",
    "\n",
    "scores = model.evaluate(padded_, save['scarcity'], verbose=1)\n",
    "print(\"Accuracy: %.2f%%\" % (scores[1]*100))"
   ]
  },
  {
   "cell_type": "code",
   "execution_count": 16,
   "metadata": {
    "colab": {
     "base_uri": "https://localhost:8080/",
     "height": 364
    },
    "executionInfo": {
     "elapsed": 1760,
     "status": "ok",
     "timestamp": 1654160394728,
     "user": {
      "displayName": "NARDJES AMIEUR",
      "userId": "13751943947351102071"
     },
     "user_tz": -120
    },
    "id": "xAxtChjhVmsK",
    "outputId": "56b0a9fa-0177-4ec7-b176-815cde218335"
   },
   "outputs": [
    {
     "name": "stdout",
     "output_type": "stream",
     "text": [
      "7/7 [==============================] - 0s 24ms/step\n",
      "confusion matrix:\n",
      "[[93  8]\n",
      " [28 70]]\n",
      "\n"
     ]
    },
    {
     "data": {
      "image/png": "[encoded data removed]",
      "text/plain": [
       "<Figure size 432x288 with 2 Axes>"
      ]
     },
     "metadata": {
      "needs_background": "light"
     },
     "output_type": "display_data"
    }
   ],
   "source": [
    "val_ = t.texts_to_sequences(norm_)\n",
    "padded_val = tf.keras.preprocessing.sequence.pad_sequences(val_, maxlen=MAX_SEQUENCE_LENGTH)\n",
    "pred_ =  model.predict(padded_val)\n",
    "save['predicted'] = [1 if prob > 0.5 else 0 for prob in pred_]\n",
    "\n",
    "print(\"confusion matrix:\")\n",
    "print(metrics.confusion_matrix(save['scarcity'], save['predicted']))\n",
    "print()\n",
    "\n",
    "skplt.metrics.plot_confusion_matrix(save['scarcity'], save['predicted'], normalize=True)\n",
    "plt.show()"
   ]
  },
  {
   "cell_type": "code",
   "execution_count": 17,
   "metadata": {
    "colab": {
     "base_uri": "https://localhost:8080/"
    },
    "executionInfo": {
     "elapsed": 192,
     "status": "ok",
     "timestamp": 1654160402295,
     "user": {
      "displayName": "NARDJES AMIEUR",
      "userId": "13751943947351102071"
     },
     "user_tz": -120
    },
    "id": "041iI-9aWKSi",
    "outputId": "a3ba67d9-7a23-4dbd-c36e-7bae7e608e6b"
   },
   "outputs": [
    {
     "name": "stdout",
     "output_type": "stream",
     "text": [
      "              precision    recall  f1-score   support\n",
      "\n",
      " no-scarcity       0.77      0.92      0.84       101\n",
      "    scarcity       0.90      0.71      0.80        98\n",
      "\n",
      "    accuracy                           0.82       199\n",
      "   macro avg       0.83      0.82      0.82       199\n",
      "weighted avg       0.83      0.82      0.82       199\n",
      "\n"
     ]
    }
   ],
   "source": [
    "print(metrics.classification_report(save['scarcity'], save['predicted'], target_names=[ 'no-scarcity', 'scarcity']))"
   ]
  }
 ],
 "metadata": {
  "accelerator": "GPU",
  "colab": {
   "collapsed_sections": [],
   "name": "Bi-GRU_attention_scarcity.ipynb",
   "provenance": []
  },
  "kernelspec": {
   "display_name": "Python 3 (ipykernel)",
   "language": "python",
   "name": "python3"
  },
  "language_info": {
   "codemirror_mode": {
    "name": "ipython",
    "version": 3
   },
   "file_extension": ".py",
   "mimetype": "text/x-python",
   "name": "python",
   "nbconvert_exporter": "python",
   "pygments_lexer": "ipython3",
   "version": "3.7.3"
  }
 },
 "nbformat": 4,
 "nbformat_minor": 1
}
