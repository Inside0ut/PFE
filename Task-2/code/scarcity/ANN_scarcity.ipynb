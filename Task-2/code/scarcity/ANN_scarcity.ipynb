{
 "cells": [
  {
   "cell_type": "code",
   "execution_count": 1,
   "metadata": {
    "id": "sk9x1LWOsg7V"
   },
   "outputs": [],
   "source": [
    "import pandas as pd \n",
    "\n",
    "import matplotlib.pyplot as plt\n",
    "import scikitplot as skplt\n",
    "\n",
    "# we use tensorflow to create our neural network for this experiment \n",
    "import tensorflow as tf \n",
    "from tensorflow.keras.models import Sequential\n",
    "from tensorflow.keras import layers\n",
    "\n",
    "from sklearn import metrics\n",
    "from sklearn.model_selection import train_test_split"
   ]
  },
  {
   "cell_type": "code",
   "execution_count": 2,
   "metadata": {
    "id": "GlxR1iF1zwz7"
   },
   "outputs": [
    {
     "data": {
      "text/html": [
       "<div>\n",
       "<style scoped>\n",
       "    .dataframe tbody tr th:only-of-type {\n",
       "        vertical-align: middle;\n",
       "    }\n",
       "\n",
       "    .dataframe tbody tr th {\n",
       "        vertical-align: top;\n",
       "    }\n",
       "\n",
       "    .dataframe thead th {\n",
       "        text-align: right;\n",
       "    }\n",
       "</style>\n",
       "<table border=\"1\" class=\"dataframe\">\n",
       "  <thead>\n",
       "    <tr style=\"text-align: right;\">\n",
       "      <th></th>\n",
       "      <th>ad</th>\n",
       "      <th>scarcity</th>\n",
       "    </tr>\n",
       "  </thead>\n",
       "  <tbody>\n",
       "    <tr>\n",
       "      <th>0</th>\n",
       "      <td>it’s almost over the shortcut law that lets yo...</td>\n",
       "      <td>1</td>\n",
       "    </tr>\n",
       "    <tr>\n",
       "      <th>1</th>\n",
       "      <td>on sale this week sequel to nyt bestseller pro...</td>\n",
       "      <td>1</td>\n",
       "    </tr>\n",
       "    <tr>\n",
       "      <th>2</th>\n",
       "      <td>refugees are especially vulnerable to the dang...</td>\n",
       "      <td>1</td>\n",
       "    </tr>\n",
       "    <tr>\n",
       "      <th>3</th>\n",
       "      <td>we are motivating reminding and supporting vot...</td>\n",
       "      <td>1</td>\n",
       "    </tr>\n",
       "    <tr>\n",
       "      <th>4</th>\n",
       "      <td>the future of decentralized nomadic coliving i...</td>\n",
       "      <td>1</td>\n",
       "    </tr>\n",
       "    <tr>\n",
       "      <th>...</th>\n",
       "      <td>...</td>\n",
       "      <td>...</td>\n",
       "    </tr>\n",
       "    <tr>\n",
       "      <th>17995</th>\n",
       "      <td>parents take part in the study of the impact o...</td>\n",
       "      <td>0</td>\n",
       "    </tr>\n",
       "    <tr>\n",
       "      <th>17996</th>\n",
       "      <td>lincoln news lincoln mayor orders greater rest...</td>\n",
       "      <td>0</td>\n",
       "    </tr>\n",
       "    <tr>\n",
       "      <th>17997</th>\n",
       "      <td>joe biden beat the nra twice he got assault we...</td>\n",
       "      <td>0</td>\n",
       "    </tr>\n",
       "    <tr>\n",
       "      <th>17998</th>\n",
       "      <td>reid nearly lost his eye to cancer thanks to t...</td>\n",
       "      <td>0</td>\n",
       "    </tr>\n",
       "    <tr>\n",
       "      <th>17999</th>\n",
       "      <td>new video\\nif we want real solutions we need n...</td>\n",
       "      <td>0</td>\n",
       "    </tr>\n",
       "  </tbody>\n",
       "</table>\n",
       "<p>18000 rows × 2 columns</p>\n",
       "</div>"
      ],
      "text/plain": [
       "                                                      ad  scarcity\n",
       "0      it’s almost over the shortcut law that lets yo...         1\n",
       "1      on sale this week sequel to nyt bestseller pro...         1\n",
       "2      refugees are especially vulnerable to the dang...         1\n",
       "3      we are motivating reminding and supporting vot...         1\n",
       "4      the future of decentralized nomadic coliving i...         1\n",
       "...                                                  ...       ...\n",
       "17995  parents take part in the study of the impact o...         0\n",
       "17996  lincoln news lincoln mayor orders greater rest...         0\n",
       "17997  joe biden beat the nra twice he got assault we...         0\n",
       "17998  reid nearly lost his eye to cancer thanks to t...         0\n",
       "17999  new video\\nif we want real solutions we need n...         0\n",
       "\n",
       "[18000 rows x 2 columns]"
      ]
     },
     "execution_count": 2,
     "metadata": {},
     "output_type": "execute_result"
    }
   ],
   "source": [
    "# import scarcity labeled ads\n",
    "df = pd.read_csv('data/scarcity_dataset.csv')\n",
    "df"
   ]
  },
  {
   "cell_type": "code",
   "execution_count": 3,
   "metadata": {
    "id": "hTNuklkTcg2Z"
   },
   "outputs": [],
   "source": [
    "norm_train, norm_test,  y_train, y_test = train_test_split(df['ad'], df['scarcity'], test_size =0.2, random_state=42)"
   ]
  },
  {
   "cell_type": "code",
   "execution_count": 4,
   "metadata": {
    "colab": {
     "base_uri": "https://localhost:8080/"
    },
    "executionInfo": {
     "elapsed": 3238,
     "status": "ok",
     "timestamp": 1650542069665,
     "user": {
      "displayName": "NARDJES AMIEUR",
      "userId": "13751943947351102071"
     },
     "user_tz": -120
    },
    "id": "HVq3PRqn6mOl",
    "outputId": "b4b1019f-a998-4854-b2d7-080a5d59a0a6"
   },
   "outputs": [
    {
     "data": {
      "text/plain": [
       "(('httpbitlyyekel', 39498), ('<PAD>', 0), 1)"
      ]
     },
     "execution_count": 4,
     "metadata": {},
     "output_type": "execute_result"
    }
   ],
   "source": [
    "# data tokenization \n",
    "t = tf.keras.preprocessing.text.Tokenizer(oov_token='<UNK>')\n",
    "\n",
    "# fit the tokenizer on the training documents\n",
    "t.fit_on_texts(norm_train)\n",
    "t.word_index['<PAD>'] = 0\n",
    "max([(k, v) for k, v in t.word_index.items()], key = lambda x:x[1]), min([(k, v) for k, v in t.word_index.items()], key = lambda x:x[1]), t.word_index['<UNK>']"
   ]
  },
  {
   "cell_type": "code",
   "execution_count": 5,
   "metadata": {
    "id": "DwyD63OC6mS-"
   },
   "outputs": [],
   "source": [
    "# create tokenized data sequences to feed to the neural network \n",
    "train_sequences = t.texts_to_sequences(norm_train)\n",
    "test_sequences = t.texts_to_sequences(norm_test)"
   ]
  },
  {
   "cell_type": "code",
   "execution_count": 6,
   "metadata": {
    "colab": {
     "base_uri": "https://localhost:8080/"
    },
    "executionInfo": {
     "elapsed": 219,
     "status": "ok",
     "timestamp": 1650542078765,
     "user": {
      "displayName": "NARDJES AMIEUR",
      "userId": "13751943947351102071"
     },
     "user_tz": -120
    },
    "id": "fUcbman26pWu",
    "outputId": "e7fecf54-4c4c-47fb-dcc7-11534317a294"
   },
   "outputs": [
    {
     "data": {
      "text/plain": [
       "((14400, 1000), (3600, 1000))"
      ]
     },
     "execution_count": 6,
     "metadata": {},
     "output_type": "execute_result"
    }
   ],
   "source": [
    "MAX_SEQUENCE_LENGTH = 1000\n",
    "\n",
    "# pad documents to equal length with 0 \n",
    "X_train = tf.keras.preprocessing.sequence.pad_sequences(train_sequences, maxlen=MAX_SEQUENCE_LENGTH)\n",
    "X_test = tf.keras.preprocessing.sequence.pad_sequences(test_sequences, maxlen=MAX_SEQUENCE_LENGTH)\n",
    "X_train.shape, X_test.shape"
   ]
  },
  {
   "cell_type": "code",
   "execution_count": 7,
   "metadata": {
    "id": "ZOoiVB_qg2HQ"
   },
   "outputs": [],
   "source": [
    "def create_model(units, vocab_size, embedding_dim, maxlen, dropout = 0.2):\n",
    "  '''\n",
    "    Create a \n",
    "    Arguments : \n",
    "      num_filters: number of filters to use for the 1D convolution layer \n",
    "      kernel_size: kernal size used for convolution\n",
    "      embedding_dim: embedding size \n",
    "      maxlen: input sequence length\n",
    "      vectorize_layer : vectorization layer for turning input text to numerical sequences\n",
    "      dropout : dropout rate used for Dropout regularization layer to minimize overfitting\n",
    "\n",
    "    Returns : \n",
    "    A model with the folowing layers:  \n",
    "            - An Embedding layer with embedding_dim dimension for each embedding \n",
    "            - A one dimentional (1D) convolutional neural network\n",
    "            - A one dimentional global max pooling layer  \n",
    "            - A fully connected layer with 10 units \n",
    "            - The output layer is one neuron with sigmoid activation producing the output label\n",
    "            - Dropout layers added to minimize overfitting on the small datasets \n",
    "  '''\n",
    "  model = Sequential([\n",
    "      layers.Input(shape=(maxlen,)),\n",
    "      layers.Embedding(input_dim = vocab_size , output_dim = embedding_dim, input_length=maxlen),\n",
    "      layers.Dropout( rate = dropout ),\n",
    "      layers.GlobalMaxPooling1D(),\n",
    "      layers.Dropout( rate = dropout),\n",
    "      layers.Dense(units, activation='relu'),\n",
    "      layers.Dropout( rate = dropout ),\n",
    "      layers.Dense(1, activation='sigmoid')              \n",
    "  ])\n",
    "  model.compile(optimizer='adam',\n",
    "                loss='binary_crossentropy',\n",
    "                metrics=['accuracy'])\n",
    "  return model"
   ]
  },
  {
   "cell_type": "code",
   "execution_count": 8,
   "metadata": {
    "colab": {
     "base_uri": "https://localhost:8080/"
    },
    "executionInfo": {
     "elapsed": 671,
     "status": "ok",
     "timestamp": 1650542086004,
     "user": {
      "displayName": "NARDJES AMIEUR",
      "userId": "13751943947351102071"
     },
     "user_tz": -120
    },
    "id": "wbMtGt_5A_fk",
    "outputId": "855e4444-5eef-48ac-a804-c8ddaf0d757d"
   },
   "outputs": [
    {
     "name": "stdout",
     "output_type": "stream",
     "text": [
      "Model: \"sequential\"\n",
      "_________________________________________________________________\n",
      " Layer (type)                Output Shape              Param #   \n",
      "=================================================================\n",
      " embedding (Embedding)       (None, 1000, 128)         5055872   \n",
      "                                                                 \n",
      " dropout (Dropout)           (None, 1000, 128)         0         \n",
      "                                                                 \n",
      " global_max_pooling1d (Globa  (None, 128)              0         \n",
      " lMaxPooling1D)                                                  \n",
      "                                                                 \n",
      " dropout_1 (Dropout)         (None, 128)               0         \n",
      "                                                                 \n",
      " dense (Dense)               (None, 10)                1290      \n",
      "                                                                 \n",
      " dropout_2 (Dropout)         (None, 10)                0         \n",
      "                                                                 \n",
      " dense_1 (Dense)             (None, 1)                 11        \n",
      "                                                                 \n",
      "=================================================================\n",
      "Total params: 5,057,173\n",
      "Trainable params: 5,057,173\n",
      "Non-trainable params: 0\n",
      "_________________________________________________________________\n"
     ]
    }
   ],
   "source": [
    "VOCAB_SIZE = len(t.word_index)\n",
    "EMBEDDING_DIM = 128\n",
    "UNITS = 10\n",
    "\n",
    "# Creating a neural net with randomly set paramteres as a baseline comparison model \n",
    "model = create_model(units = UNITS, vocab_size = VOCAB_SIZE, embedding_dim = EMBEDDING_DIM, maxlen = MAX_SEQUENCE_LENGTH )\n",
    "model.summary()"
   ]
  },
  {
   "cell_type": "code",
   "execution_count": 9,
   "metadata": {
    "colab": {
     "base_uri": "https://localhost:8080/"
    },
    "executionInfo": {
     "elapsed": 263268,
     "status": "ok",
     "timestamp": 1650542366323,
     "user": {
      "displayName": "NARDJES AMIEUR",
      "userId": "13751943947351102071"
     },
     "user_tz": -120
    },
    "id": "OidjdWyx0Zbk",
    "outputId": "11dcd117-adb4-42d6-f151-7ebf08ce5ccf"
   },
   "outputs": [
    {
     "name": "stdout",
     "output_type": "stream",
     "text": [
      "Epoch 1/5\n",
      "360/360 [==============================] - 28s 78ms/step - loss: 0.5208 - accuracy: 0.7686 - val_loss: 0.2626 - val_accuracy: 0.9163\n",
      "Epoch 2/5\n",
      "360/360 [==============================] - 29s 79ms/step - loss: 0.2213 - accuracy: 0.9168 - val_loss: 0.1613 - val_accuracy: 0.9455\n",
      "Epoch 3/5\n",
      "360/360 [==============================] - 26s 73ms/step - loss: 0.1510 - accuracy: 0.9437 - val_loss: 0.1311 - val_accuracy: 0.9552\n",
      "Epoch 4/5\n",
      "360/360 [==============================] - 26s 74ms/step - loss: 0.1088 - accuracy: 0.9615 - val_loss: 0.1261 - val_accuracy: 0.9528\n",
      "Epoch 5/5\n",
      "360/360 [==============================] - 28s 77ms/step - loss: 0.0873 - accuracy: 0.9694 - val_loss: 0.1243 - val_accuracy: 0.9517\n"
     ]
    }
   ],
   "source": [
    "# Train the neural net and evaluate results \n",
    "history = model.fit(X_train, y_train, epochs= 5, batch_size= 32,  shuffle=True, validation_split=0.2, verbose=1)\n",
    "model.save('scarcity_model.h5')"
   ]
  },
  {
   "cell_type": "code",
   "execution_count": 14,
   "metadata": {
    "colab": {
     "base_uri": "https://localhost:8080/"
    },
    "executionInfo": {
     "elapsed": 1341,
     "status": "ok",
     "timestamp": 1650542406869,
     "user": {
      "displayName": "NARDJES AMIEUR",
      "userId": "13751943947351102071"
     },
     "user_tz": -120
    },
    "id": "SAaOqHLs65hC",
    "outputId": "4e09ebe2-c308-4561-cfb7-e7d7f5f38676"
   },
   "outputs": [
    {
     "name": "stdout",
     "output_type": "stream",
     "text": [
      "113/113 [==============================] - 1s 5ms/step - loss: 0.1121 - accuracy: 0.9564\n",
      "Accuracy: 95.64%\n"
     ]
    }
   ],
   "source": [
    "# model evaluation \n",
    "# Final evaluation of the model\n",
    "scores = model.evaluate(X_test, y_test, verbose=1)\n",
    "print(\"Accuracy: %.2f%%\" % (scores[1]*100))"
   ]
  },
  {
   "cell_type": "code",
   "execution_count": 15,
   "metadata": {
    "colab": {
     "base_uri": "https://localhost:8080/"
    },
    "executionInfo": {
     "elapsed": 1545,
     "status": "ok",
     "timestamp": 1650542412122,
     "user": {
      "displayName": "NARDJES AMIEUR",
      "userId": "13751943947351102071"
     },
     "user_tz": -120
    },
    "id": "JtlTcLue7Bis",
    "outputId": "6938bb76-7c8f-4f78-c228-eb8c8bd76f90"
   },
   "outputs": [
    {
     "name": "stdout",
     "output_type": "stream",
     "text": [
      "113/113 [==============================] - 1s 5ms/step\n"
     ]
    },
    {
     "data": {
      "text/plain": [
       "[1, 1, 0, 1, 1, 0, 1, 1, 0, 0]"
      ]
     },
     "execution_count": 15,
     "metadata": {},
     "output_type": "execute_result"
    }
   ],
   "source": [
    "# get model predictions \n",
    "prediction_probs = model.predict(X_test, verbose=1).ravel()\n",
    "predictions = [1 if prob > 0.5 else 0 for prob in prediction_probs]\n",
    "predictions[:10]"
   ]
  },
  {
   "cell_type": "code",
   "execution_count": 16,
   "metadata": {
    "colab": {
     "base_uri": "https://localhost:8080/",
     "height": 521
    },
    "executionInfo": {
     "elapsed": 375,
     "status": "ok",
     "timestamp": 1650542431037,
     "user": {
      "displayName": "NARDJES AMIEUR",
      "userId": "13751943947351102071"
     },
     "user_tz": -120
    },
    "id": "832FxLtw7Ey6",
    "outputId": "0fc30d79-fa55-4df0-e027-3f893858b9b5"
   },
   "outputs": [
    {
     "name": "stdout",
     "output_type": "stream",
     "text": [
      "              precision    recall  f1-score   support\n",
      "\n",
      " no-scarcity       0.97      0.94      0.96      1781\n",
      "    scarcity       0.95      0.97      0.96      1819\n",
      "\n",
      "    accuracy                           0.96      3600\n",
      "   macro avg       0.96      0.96      0.96      3600\n",
      "weighted avg       0.96      0.96      0.96      3600\n",
      "\n",
      "confusion matrix:\n",
      "[[1682   99]\n",
      " [  58 1761]]\n",
      "\n"
     ]
    },
    {
     "data": {
      "image/png": "[encoded data removed]",
      "text/plain": [
       "<Figure size 432x288 with 2 Axes>"
      ]
     },
     "metadata": {
      "needs_background": "light"
     },
     "output_type": "display_data"
    }
   ],
   "source": [
    "print(metrics.classification_report(y_test, predictions, target_names=[ 'no-scarcity', 'scarcity']))\n",
    "\n",
    "print(\"confusion matrix:\")\n",
    "print(metrics.confusion_matrix(y_test, predictions))\n",
    "print()\n",
    "\n",
    "skplt.metrics.plot_confusion_matrix(y_test, predictions , normalize=True)\n",
    "plt.show()"
   ]
  },
  {
   "cell_type": "code",
   "execution_count": 17,
   "metadata": {
    "colab": {
     "base_uri": "https://localhost:8080/",
     "height": 538
    },
    "executionInfo": {
     "elapsed": 2600,
     "status": "ok",
     "timestamp": 1650450659704,
     "user": {
      "displayName": "NARDJES AMIEUR",
      "userId": "13751943947351102071"
     },
     "user_tz": -120
    },
    "id": "281_HLHe9Yt-",
    "outputId": "746304e9-fc28-4cc0-e9f3-cf03d67bfe6f"
   },
   "outputs": [
    {
     "name": "stdout",
     "output_type": "stream",
     "text": [
      "Accuracy: 82.91%\n",
      "              precision    recall  f1-score   support\n",
      "\n",
      " no-scarcity       0.81      0.86      0.84       101\n",
      "    scarcity       0.85      0.80      0.82        98\n",
      "\n",
      "    accuracy                           0.83       199\n",
      "   macro avg       0.83      0.83      0.83       199\n",
      "weighted avg       0.83      0.83      0.83       199\n",
      "\n",
      "confusion matrix:\n",
      "[[87 14]\n",
      " [20 78]]\n",
      "\n"
     ]
    },
    {
     "data": {
      "image/png": "[encoded data removed]",
      "text/plain": [
       "<Figure size 432x288 with 2 Axes>"
      ]
     },
     "metadata": {
      "needs_background": "light"
     },
     "output_type": "display_data"
    }
   ],
   "source": [
    "save = pd.read_csv('data/sample_scarcity.csv')\n",
    "\n",
    "norm_ = save['ad']\n",
    "test_ = t.texts_to_sequences(norm_)\n",
    "padded_ = tf.keras.preprocessing.sequence.pad_sequences(test_, maxlen=MAX_SEQUENCE_LENGTH)\n",
    "\n",
    "pred_ = model.predict(padded_)\n",
    "save['predicted'] = [1 if prob > 0.5 else 0 for prob in pred_]\n",
    "\n",
    "scores = model.evaluate(padded_, save['scarcity'], verbose =False)\n",
    "print(\"Accuracy: %.2f%%\" % (scores[1]*100))\n",
    "print(metrics.classification_report(save['scarcity'], save['predicted'], target_names=[ 'no-scarcity', 'scarcity']))\n",
    "print(\"confusion matrix:\")\n",
    "print(metrics.confusion_matrix(save['scarcity'], save['predicted']))\n",
    "print()\n",
    "\n",
    "skplt.metrics.plot_confusion_matrix(save['scarcity'], save['predicted'], normalize=True)\n",
    "plt.show()"
   ]
  }
 ],
 "metadata": {
  "colab": {
   "collapsed_sections": [],
   "name": "ANN_scarcity.ipynb",
   "provenance": [
    {
     "file_id": "1FqcmtwRj342k95qxf2VScwDTUjgaU-cu",
     "timestamp": 1648038906010
    },
    {
     "file_id": "1v4d_nb0_Rti6Ld8uXmSjUIDpMW3tzvwJ",
     "timestamp": 1640781745185
    }
   ]
  },
  "kernelspec": {
   "display_name": "Python 3 (ipykernel)",
   "language": "python",
   "name": "python3"
  },
  "language_info": {
   "codemirror_mode": {
    "name": "ipython",
    "version": 3
   },
   "file_extension": ".py",
   "mimetype": "text/x-python",
   "name": "python",
   "nbconvert_exporter": "python",
   "pygments_lexer": "ipython3",
   "version": "3.9.7"
  },
  "vscode": {
   "interpreter": {
    "hash": "f8f14f5a7c49a331ac7a55934b43ce13bd28be1333db14e2d71768ad3378996c"
   }
  }
 },
 "nbformat": 4,
 "nbformat_minor": 1
}
