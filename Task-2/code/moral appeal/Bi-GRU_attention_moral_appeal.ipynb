{
 "cells": [
  {
   "cell_type": "code",
   "execution_count": 3,
   "metadata": {
    "executionInfo": {
     "elapsed": 2324,
     "status": "ok",
     "timestamp": 1654166936942,
     "user": {
      "displayName": "NARDJES AMIEUR",
      "userId": "13751943947351102071"
     },
     "user_tz": -120
    },
    "id": "hLtVT3MuP132"
   },
   "outputs": [],
   "source": [
    "import pandas as pd\n",
    "import numpy as np\n",
    "\n",
    "from sklearn.model_selection import train_test_split\n",
    "\n",
    "import tensorflow as tf\n",
    "from tensorflow.keras.models import Sequential\n",
    "from tensorflow.keras import layers\n",
    "\n",
    "import matplotlib.pyplot as plt\n",
    "%matplotlib inline\n",
    "\n",
    "import scikitplot as skplt\n",
    "# fix random seed for reproducibility\n",
    "seed = 42\n",
    "np.random.seed(seed)"
   ]
  },
  {
   "cell_type": "code",
   "execution_count": 4,
   "metadata": {
    "colab": {
     "base_uri": "https://localhost:8080/",
     "height": 424
    },
    "executionInfo": {
     "elapsed": 649,
     "status": "ok",
     "timestamp": 1654166939357,
     "user": {
      "displayName": "NARDJES AMIEUR",
      "userId": "13751943947351102071"
     },
     "user_tz": -120
    },
    "id": "Y7Wxle6DENLM",
    "outputId": "8c2caea7-7ed5-4e6a-f801-f276ee15b629"
   },
   "outputs": [
    {
     "data": {
      "text/html": [
       "<div>\n",
       "<style scoped>\n",
       "    .dataframe tbody tr th:only-of-type {\n",
       "        vertical-align: middle;\n",
       "    }\n",
       "\n",
       "    .dataframe tbody tr th {\n",
       "        vertical-align: top;\n",
       "    }\n",
       "\n",
       "    .dataframe thead th {\n",
       "        text-align: right;\n",
       "    }\n",
       "</style>\n",
       "<table border=\"1\" class=\"dataframe\">\n",
       "  <thead>\n",
       "    <tr style=\"text-align: right;\">\n",
       "      <th></th>\n",
       "      <th>ad</th>\n",
       "      <th>moral_appeal</th>\n",
       "    </tr>\n",
       "  </thead>\n",
       "  <tbody>\n",
       "    <tr>\n",
       "      <th>0</th>\n",
       "      <td>psd jobs spring launch webinar monday pmpm vir...</td>\n",
       "      <td>0</td>\n",
       "    </tr>\n",
       "    <tr>\n",
       "      <th>1</th>\n",
       "      <td>the aflcio has always fought alongside workers...</td>\n",
       "      <td>1</td>\n",
       "    </tr>\n",
       "    <tr>\n",
       "      <th>2</th>\n",
       "      <td>your national monuments are on the chopping block</td>\n",
       "      <td>0</td>\n",
       "    </tr>\n",
       "    <tr>\n",
       "      <th>3</th>\n",
       "      <td>join us for a focus group to share your though...</td>\n",
       "      <td>0</td>\n",
       "    </tr>\n",
       "    <tr>\n",
       "      <th>4</th>\n",
       "      <td>with president trump nominating a judge with a...</td>\n",
       "      <td>1</td>\n",
       "    </tr>\n",
       "    <tr>\n",
       "      <th>...</th>\n",
       "      <td>...</td>\n",
       "      <td>...</td>\n",
       "    </tr>\n",
       "    <tr>\n",
       "      <th>19729</th>\n",
       "      <td>what is senator heidi heitkamp hiding watch be...</td>\n",
       "      <td>0</td>\n",
       "    </tr>\n",
       "    <tr>\n",
       "      <th>19730</th>\n",
       "      <td>breaking the washington post just reported on ...</td>\n",
       "      <td>0</td>\n",
       "    </tr>\n",
       "    <tr>\n",
       "      <th>19731</th>\n",
       "      <td>protecting vermont is injured employees contac...</td>\n",
       "      <td>1</td>\n",
       "    </tr>\n",
       "    <tr>\n",
       "      <th>19732</th>\n",
       "      <td>according to the huffington post days after pa...</td>\n",
       "      <td>0</td>\n",
       "    </tr>\n",
       "    <tr>\n",
       "      <th>19733</th>\n",
       "      <td>hundreds of new petrochemical plants would dum...</td>\n",
       "      <td>1</td>\n",
       "    </tr>\n",
       "  </tbody>\n",
       "</table>\n",
       "<p>19734 rows × 2 columns</p>\n",
       "</div>"
      ],
      "text/plain": [
       "                                                      ad  moral_appeal\n",
       "0      psd jobs spring launch webinar monday pmpm vir...             0\n",
       "1      the aflcio has always fought alongside workers...             1\n",
       "2      your national monuments are on the chopping block             0\n",
       "3      join us for a focus group to share your though...             0\n",
       "4      with president trump nominating a judge with a...             1\n",
       "...                                                  ...           ...\n",
       "19729  what is senator heidi heitkamp hiding watch be...             0\n",
       "19730  breaking the washington post just reported on ...             0\n",
       "19731  protecting vermont is injured employees contac...             1\n",
       "19732  according to the huffington post days after pa...             0\n",
       "19733  hundreds of new petrochemical plants would dum...             1\n",
       "\n",
       "[19734 rows x 2 columns]"
      ]
     },
     "execution_count": 4,
     "metadata": {},
     "output_type": "execute_result"
    }
   ],
   "source": [
    "df= pd.read_csv('data/moral_appeal_dataset.csv')\n",
    "df"
   ]
  },
  {
   "cell_type": "code",
   "execution_count": 5,
   "metadata": {
    "executionInfo": {
     "elapsed": 179,
     "status": "ok",
     "timestamp": 1654166943731,
     "user": {
      "displayName": "NARDJES AMIEUR",
      "userId": "13751943947351102071"
     },
     "user_tz": -120
    },
    "id": "ilUI__p5P-tR"
   },
   "outputs": [],
   "source": [
    "# vectorize testing and training data \n",
    "X_train, X_test, y_train, y_test= train_test_split(df['ad'], df['moral_appeal'] , test_size = 0.2, random_state = 0)"
   ]
  },
  {
   "cell_type": "code",
   "execution_count": 6,
   "metadata": {
    "colab": {
     "base_uri": "https://localhost:8080/"
    },
    "executionInfo": {
     "elapsed": 2319,
     "status": "ok",
     "timestamp": 1654166947501,
     "user": {
      "displayName": "NARDJES AMIEUR",
      "userId": "13751943947351102071"
     },
     "user_tz": -120
    },
    "id": "3GzQqy98d9xx",
    "outputId": "7d25905b-db13-4a32-dba8-f241e4b39ea2"
   },
   "outputs": [
    {
     "data": {
      "text/plain": [
       "(('prevaccine', 37760), ('<PAD>', 0), 1)"
      ]
     },
     "execution_count": 6,
     "metadata": {},
     "output_type": "execute_result"
    }
   ],
   "source": [
    "# data tokenization \n",
    "t = tf.keras.preprocessing.text.Tokenizer(oov_token='<UNK>')\n",
    "\n",
    "# fit the tokenizer on the training documents\n",
    "t.fit_on_texts(X_train)\n",
    "t.word_index['<PAD>'] = 0\n",
    "max([(k, v) for k, v in t.word_index.items()], key = lambda x:x[1]), min([(k, v) for k, v in t.word_index.items()], key = lambda x:x[1]), t.word_index['<UNK>']"
   ]
  },
  {
   "cell_type": "code",
   "execution_count": 7,
   "metadata": {
    "executionInfo": {
     "elapsed": 2636,
     "status": "ok",
     "timestamp": 1654166950135,
     "user": {
      "displayName": "NARDJES AMIEUR",
      "userId": "13751943947351102071"
     },
     "user_tz": -120
    },
    "id": "6MyoVSt1fVkZ"
   },
   "outputs": [],
   "source": [
    "# create tokenized data sequences to feed to the neural network \n",
    "train_sequences = t.texts_to_sequences(X_train)\n",
    "test_sequences = t.texts_to_sequences(X_test)"
   ]
  },
  {
   "cell_type": "code",
   "execution_count": 8,
   "metadata": {
    "colab": {
     "base_uri": "https://localhost:8080/"
    },
    "executionInfo": {
     "elapsed": 522,
     "status": "ok",
     "timestamp": 1654166950655,
     "user": {
      "displayName": "NARDJES AMIEUR",
      "userId": "13751943947351102071"
     },
     "user_tz": -120
    },
    "id": "khWmrmG0g0Cg",
    "outputId": "e439fc94-8b2f-4756-f3f7-0f6b4f054171"
   },
   "outputs": [
    {
     "data": {
      "text/plain": [
       "((15787, 1000), (3947, 1000))"
      ]
     },
     "execution_count": 8,
     "metadata": {},
     "output_type": "execute_result"
    }
   ],
   "source": [
    "MAX_SEQUENCE_LENGTH = 1000\n",
    "\n",
    "# pad documents to equal length with 0 \n",
    "X_train = tf.keras.preprocessing.sequence.pad_sequences(train_sequences, maxlen=MAX_SEQUENCE_LENGTH)\n",
    "X_test = tf.keras.preprocessing.sequence.pad_sequences(test_sequences, maxlen=MAX_SEQUENCE_LENGTH)\n",
    "X_train.shape, X_test.shape"
   ]
  },
  {
   "cell_type": "code",
   "execution_count": 9,
   "metadata": {
    "executionInfo": {
     "elapsed": 435,
     "status": "ok",
     "timestamp": 1654166951088,
     "user": {
      "displayName": "NARDJES AMIEUR",
      "userId": "13751943947351102071"
     },
     "user_tz": -120
    },
    "id": "Z5dHWRZPi8YE"
   },
   "outputs": [],
   "source": [
    "from tensorflow.keras.layers import Layer, InputSpec\n",
    "from keras import backend as K\n",
    "\n",
    "\n",
    "class AttentionLayer(Layer):\n",
    "    \n",
    "    def __init__(self, step_dim,\n",
    "                 W_regularizer=None, b_regularizer=None,\n",
    "                 W_constraint=None, b_constraint=None,\n",
    "                 bias=True, **kwargs):\n",
    "        \n",
    "        \"\"\"\n",
    "            Attention Layer sourced from : https://github.com/lzfelix/keras_attention/blob/master/attention/layers.py\n",
    "\n",
    "            Implementation based in the work of Yang et al. \"Hierarchical Attention Networks for Document Classification\". \n",
    "            This implementation also allows changing the common tanh activation function used on the attention layer, as Chen\n",
    "            et al. \"A Thorough Examination of the CNN/Daily Mail Reading Comprehension Task\"\n",
    "            point that removing this component can be beneficial to the model. Supports\n",
    "            masking.\n",
    "    \n",
    "            The mathematical formulation of the model is as follows:\n",
    "              ```\n",
    "              u = f(W * h + b),\n",
    "              a_i = softmax(u_i^T * u_s),\n",
    "              v_i = \\sigma_i a_i * h_i.\n",
    "              ```\n",
    "    \n",
    "            # Arguments\n",
    "                  activation: The activation function f used by the layer (see\n",
    "                      [activations](../activations.md)). By default tanh is used, another common\n",
    "                      option is \"linear\".\n",
    "                  use_bias: Boolean, whether the layer uses a bias vector.\n",
    "                  initializer: Initializer for the `kernel` and `context` matrices\n",
    "                      (see [initializers](../initializers.md)).\n",
    "                  return_attention: If True, instead of returning the sequence descriptor, this\n",
    "                      layer will return the computed attention coefficients for each of the\n",
    "                      sequence timesteps. See Output section for details.\n",
    "                  W_regularizer: Regularizer function applied to the `kernel` weights matrix\n",
    "                      (see [regularizer](../regularizers.md)).\n",
    "                  u_regularizer: Regularizer function applied to the `context` weights matrix\n",
    "                      (see [regularizer](../regularizers.md)).\n",
    "                  b_regularizer: Regularizer function applied to the bias vector\n",
    "                      (see [regularizer](../regularizers.md)).\n",
    "                  W_constraint: Constraint function applied to the `kernel` weights matrix\n",
    "                      (see [constraints](../constraints.md)).\n",
    "                  u_constraint: Constraint function applied to the `contextl` weights matrix\n",
    "                      (see [constraints](../constraints.md)).\n",
    "                  b_constraint: Constraint function applied to the bias vector\n",
    "                      (see [constraints](../constraints.md)).\n",
    "          # Input shape\n",
    "                  nD tensor with shape: `(batch_size, ..., timesteps, input_dim)`.\n",
    "                  The most common situation would be a 3D input with shape\n",
    "                  `(batch_size, timesteps, input_dim)`.\n",
    "          # Outuput shape\n",
    "                  The sequence descriptor with shape `(batch_size, ..., timestamps)`. If\n",
    "                  `return_attention` is True, this layer will return the `alpha_i` weights\n",
    "                  for each timestep, and consequently its output shape will be different, namely:\n",
    "                  `(batch_size, ..., timesteps)`. \n",
    "        \"\"\"\n",
    "        \n",
    "        self.supports_masking = True\n",
    "        self.init = tf.keras.initializers.get('glorot_uniform')\n",
    "\n",
    "        self.W_regularizer = tf.keras.regularizers.get(W_regularizer)\n",
    "        self.b_regularizer = tf.keras.regularizers.get(b_regularizer)\n",
    "\n",
    "        self.W_constraint = tf.keras.constraints.get(W_constraint)\n",
    "        self.b_constraint = tf.keras.constraints.get(b_constraint)\n",
    "\n",
    "        self.bias = bias\n",
    "        self.step_dim = step_dim\n",
    "        self.features_dim = 0\n",
    "        super(AttentionLayer, self).__init__(**kwargs)\n",
    "        \n",
    "\n",
    "    def build(self, input_shape):\n",
    "        assert len(input_shape) == 3\n",
    "\n",
    "        self.W = self.add_weight( shape= (input_shape[-1],),\n",
    "                                 initializer=self.init,\n",
    "                                 name='{}_W'.format(self.name),\n",
    "                                 regularizer=self.W_regularizer,\n",
    "                                 constraint=self.W_constraint)\n",
    "        self.features_dim = input_shape[-1]\n",
    "\n",
    "        if self.bias:\n",
    "            self.b = self.add_weight(shape = (input_shape[1],),\n",
    "                                     initializer='zero',\n",
    "                                     name='{}_b'.format(self.name),\n",
    "                                     regularizer=self.b_regularizer,\n",
    "                                     constraint=self.b_constraint)\n",
    "        else:\n",
    "            self.b = None\n",
    "\n",
    "        self.built = True\n",
    "        \n",
    "\n",
    "    def compute_mask(self, input, input_mask=None):\n",
    "        # do not pass the mask to the next layers\n",
    "        return None\n",
    "\n",
    "    \n",
    "    def call(self, x, mask=None):\n",
    "        # TF backend doesn't support it\n",
    "        # eij = K.dot(x, self.W) \n",
    "        # features_dim = self.W.shape[0]\n",
    "        # step_dim = x._keras_shape[1]\n",
    "\n",
    "        features_dim = self.features_dim\n",
    "        step_dim = self.step_dim\n",
    "\n",
    "        eij = K.reshape(K.dot(K.reshape(x, (-1, features_dim)), \n",
    "                              K.reshape(self.W, (features_dim, 1))),\n",
    "                        (-1, step_dim))\n",
    "\n",
    "        if self.bias:\n",
    "            eij += self.b\n",
    "\n",
    "        eij = K.tanh(eij)\n",
    "\n",
    "        a = K.exp(eij)\n",
    "\n",
    "        # apply mask after the exp. will be re-normalized next\n",
    "        if mask is not None:\n",
    "            # Cast the mask to floatX to avoid float64 upcasting in theano\n",
    "            a *= K.cast(mask, K.floatx())\n",
    "\n",
    "        # in some cases especially in the early stages of training the sum may be almost zero\n",
    "        a /= K.cast(K.sum(a, axis=1, keepdims=True) + K.epsilon(), K.floatx())\n",
    "        a = K.expand_dims(a)\n",
    "        weighted_input = x * a\n",
    "        \n",
    "        return K.sum(weighted_input, axis=1)\n",
    "\n",
    "    \n",
    "    def compute_output_shape(self, input_shape):\n",
    "        return input_shape[0],  self.features_dim\n",
    "    \n",
    "    \n",
    "    def get_config(self):\n",
    "        config = {'step_dim': self.step_dim}\n",
    "        base_config = super(AttentionLayer, self).get_config()\n",
    "        return dict(list(base_config.items()) + list(config.items()))"
   ]
  },
  {
   "cell_type": "code",
   "execution_count": 10,
   "metadata": {
    "executionInfo": {
     "elapsed": 2,
     "status": "ok",
     "timestamp": 1654166951088,
     "user": {
      "displayName": "NARDJES AMIEUR",
      "userId": "13751943947351102071"
     },
     "user_tz": -120
    },
    "id": "B0DPRBWtj2pY"
   },
   "outputs": [],
   "source": [
    "def create_model(vocab_size, embedding_dim, max_sequence_length, gru_dim,dropout = 0.2):\n",
    "  '''\n",
    "    Create a Bidirectional GRU used for binary text classification task\n",
    "    Arguments : \n",
    "      vocab_size: vocabulary size \n",
    "      embedding_dim: embedding dimensions for the document vector representation \n",
    "      max_sequence_length: input sequence length for each document \n",
    "      gru_dim: number of neurones in the GRU layers\n",
    "      dropout : dropout rate used for Dropout regularization layers to minimize overfitting\n",
    "\n",
    "    Returns : \n",
    "    A model with the folowing layers:  \n",
    "            - Input layer to instantiate a tensor using the input preprocessed data\n",
    "            - Embedding layer to represent each document with a context vector\n",
    "            - Biderectional GRU (takes into consideration bidrectional context)\n",
    "            - A custom attention layer that takes **all** of the output of the GRU ( not the last hidden state only)\n",
    "            - Dense layer \n",
    "            - Dropout layer to minimize overfitting\n",
    "            - A Dense layer \n",
    "            - Dropout \n",
    "            - An output layer to get the label of the class \n",
    "  '''\n",
    "  model = Sequential([\n",
    "      layers.Input(shape=(max_sequence_length,)),\n",
    "      layers.Embedding(vocab_size, embedding_dim, trainable=True),\n",
    "      layers.Bidirectional(layers.GRU(gru_dim, return_sequences=True)),\n",
    "      AttentionLayer(max_sequence_length),\n",
    "      layers.Dense(gru_dim*2, activation='relu'),\n",
    "      layers.Dropout( rate = dropout ),\n",
    "      layers.Dense(gru_dim, activation='relu'),\n",
    "      layers.Dropout( rate = dropout ),\n",
    "      layers.Dense(1, activation='sigmoid')              \n",
    "  ])\n",
    "  model.compile(optimizer='adam',\n",
    "                loss='binary_crossentropy',\n",
    "                metrics=['accuracy'])\n",
    "  return model"
   ]
  },
  {
   "cell_type": "code",
   "execution_count": 11,
   "metadata": {
    "colab": {
     "base_uri": "https://localhost:8080/"
    },
    "executionInfo": {
     "elapsed": 5002,
     "status": "ok",
     "timestamp": 1654166958870,
     "user": {
      "displayName": "NARDJES AMIEUR",
      "userId": "13751943947351102071"
     },
     "user_tz": -120
    },
    "id": "-PYlxK2wjDdI",
    "outputId": "56df6297-201d-4d45-fec8-af49150e2412"
   },
   "outputs": [
    {
     "name": "stderr",
     "output_type": "stream",
     "text": [
      "2022-06-02 18:48:00.819373: I tensorflow/core/platform/cpu_feature_guard.cc:193] This TensorFlow binary is optimized with oneAPI Deep Neural Network Library (oneDNN) to use the following CPU instructions in performance-critical operations:  AVX2 FMA\n",
      "To enable them in other operations, rebuild TensorFlow with the appropriate compiler flags.\n",
      "2022-06-02 18:48:01.484178: I tensorflow/core/common_runtime/gpu/gpu_device.cc:1532] Created device /job:localhost/replica:0/task:0/device:GPU:0 with 10417 MB memory:  -> device: 0, name: GeForce GTX 1080 Ti, pci bus id: 0000:02:00.0, compute capability: 6.1\n"
     ]
    },
    {
     "name": "stdout",
     "output_type": "stream",
     "text": [
      "Model: \"sequential\"\n",
      "_________________________________________________________________\n",
      " Layer (type)                Output Shape              Param #   \n",
      "=================================================================\n",
      " embedding (Embedding)       (None, 1000, 128)         4833408   \n",
      "                                                                 \n",
      " bidirectional (Bidirectiona  (None, 1000, 256)        198144    \n",
      " l)                                                              \n",
      "                                                                 \n",
      " attention_layer (AttentionL  (None, 256)              1256      \n",
      " ayer)                                                           \n",
      "                                                                 \n",
      " dense (Dense)               (None, 256)               65792     \n",
      "                                                                 \n",
      " dropout (Dropout)           (None, 256)               0         \n",
      "                                                                 \n",
      " dense_1 (Dense)             (None, 128)               32896     \n",
      "                                                                 \n",
      " dropout_1 (Dropout)         (None, 128)               0         \n",
      "                                                                 \n",
      " dense_2 (Dense)             (None, 1)                 129       \n",
      "                                                                 \n",
      "=================================================================\n",
      "Total params: 5,131,625\n",
      "Trainable params: 5,131,625\n",
      "Non-trainable params: 0\n",
      "_________________________________________________________________\n"
     ]
    }
   ],
   "source": [
    "EMBEDDING_DIM = 128 # dimension for dense embeddings for each token\n",
    "GRU_DIM = 128 # total LSTM units\n",
    "VOCAB_SIZE = len(t.word_index)\n",
    "\n",
    "# Create the model\n",
    "model = create_model(vocab_size = VOCAB_SIZE, embedding_dim = EMBEDDING_DIM, max_sequence_length = MAX_SEQUENCE_LENGTH, gru_dim = GRU_DIM)\n",
    "\n",
    "model.summary()"
   ]
  },
  {
   "cell_type": "code",
   "execution_count": 12,
   "metadata": {
    "colab": {
     "base_uri": "https://localhost:8080/"
    },
    "executionInfo": {
     "elapsed": 177643,
     "status": "ok",
     "timestamp": 1654167139591,
     "user": {
      "displayName": "NARDJES AMIEUR",
      "userId": "13751943947351102071"
     },
     "user_tz": -120
    },
    "id": "E1a2o_x8mQHg",
    "outputId": "40c31566-9f06-4548-e2c1-6e0140461648"
   },
   "outputs": [
    {
     "name": "stdout",
     "output_type": "stream",
     "text": [
      "Epoch 1/5\n"
     ]
    },
    {
     "name": "stderr",
     "output_type": "stream",
     "text": [
      "2022-06-02 18:48:08.948799: I tensorflow/stream_executor/cuda/cuda_dnn.cc:384] Loaded cuDNN version 8100\n"
     ]
    },
    {
     "name": "stdout",
     "output_type": "stream",
     "text": [
      "395/395 [==============================] - 31s 68ms/step - loss: 0.2242 - accuracy: 0.8829 - val_loss: 0.0166 - val_accuracy: 0.9962\n",
      "Epoch 2/5\n",
      "395/395 [==============================] - 26s 67ms/step - loss: 0.0174 - accuracy: 0.9971 - val_loss: 0.0153 - val_accuracy: 0.9972\n",
      "Epoch 3/5\n",
      "395/395 [==============================] - 26s 67ms/step - loss: 0.0051 - accuracy: 0.9989 - val_loss: 0.0337 - val_accuracy: 0.9918\n",
      "Epoch 4/5\n",
      "395/395 [==============================] - 27s 68ms/step - loss: 0.0038 - accuracy: 0.9990 - val_loss: 0.0239 - val_accuracy: 0.9981\n",
      "Epoch 5/5\n",
      "395/395 [==============================] - 27s 67ms/step - loss: 7.5555e-04 - accuracy: 0.9997 - val_loss: 0.0545 - val_accuracy: 0.9937\n"
     ]
    },
    {
     "data": {
      "text/plain": [
       "<keras.callbacks.History at 0x7effd4178630>"
      ]
     },
     "execution_count": 12,
     "metadata": {},
     "output_type": "execute_result"
    }
   ],
   "source": [
    "# model training \n",
    "batch_size = 32\n",
    "model.fit(X_train, y_train, epochs= 5, batch_size=batch_size, \n",
    "          shuffle=True, validation_split=0.2, verbose=1      )"
   ]
  },
  {
   "cell_type": "code",
   "execution_count": 13,
   "metadata": {
    "colab": {
     "base_uri": "https://localhost:8080/",
     "height": 573
    },
    "executionInfo": {
     "elapsed": 10179,
     "status": "ok",
     "timestamp": 1654167218166,
     "user": {
      "displayName": "NARDJES AMIEUR",
      "userId": "13751943947351102071"
     },
     "user_tz": -120
    },
    "id": "9_UW2uhEm58b",
    "outputId": "9788e730-2b7b-4232-a540-5d3582b53c70"
   },
   "outputs": [
    {
     "name": "stdout",
     "output_type": "stream",
     "text": [
      "124/124 [==============================] - 3s 28ms/step - loss: 0.0453 - accuracy: 0.9959\n",
      "Accuracy: 99.59%\n",
      "124/124 [==============================] - 4s 24ms/step\n",
      "                 precision    recall  f1-score   support\n",
      "\n",
      "no moral appeal       0.99      1.00      1.00      1934\n",
      "   moral appeal       1.00      1.00      1.00      2013\n",
      "\n",
      "       accuracy                           1.00      3947\n",
      "      macro avg       1.00      1.00      1.00      3947\n",
      "   weighted avg       1.00      1.00      1.00      3947\n",
      "\n",
      "confusion matrix:\n",
      "[[1928    6]\n",
      " [  10 2003]]\n",
      "\n"
     ]
    },
    {
     "data": {
      "image/png": "[encoded data removed]",
      "text/plain": [
       "<Figure size 432x288 with 2 Axes>"
      ]
     },
     "metadata": {
      "needs_background": "light"
     },
     "output_type": "display_data"
    }
   ],
   "source": [
    "from sklearn import metrics\n",
    "\n",
    "# get model predictions \n",
    "scores = model.evaluate(X_test, y_test, verbose=1)\n",
    "print(\"Accuracy: %.2f%%\" % (scores[1]*100))\n",
    "\n",
    "prediction_probs = model.predict(X_test, verbose=1).ravel()\n",
    "predictions = [1 if prob > 0.5 else 0 for prob in prediction_probs]\n",
    "\n",
    "\n",
    "print(metrics.classification_report(y_test, predictions, target_names=['no moral appeal', 'moral appeal']))\n",
    "\n",
    "print(\"confusion matrix:\")\n",
    "print(metrics.confusion_matrix(y_test, predictions))\n",
    "print()\n",
    "\n",
    "skplt.metrics.plot_confusion_matrix(y_test, predictions , normalize=True)\n",
    "plt.show()"
   ]
  },
  {
   "cell_type": "code",
   "execution_count": 15,
   "metadata": {
    "colab": {
     "base_uri": "https://localhost:8080/",
     "height": 423
    },
    "executionInfo": {
     "elapsed": 459,
     "status": "ok",
     "timestamp": 1651056575020,
     "user": {
      "displayName": "ASMAA ELFRAIHI",
      "userId": "14661187667036915130"
     },
     "user_tz": -120
    },
    "id": "B5OZOyX7PYUZ",
    "outputId": "3ba64d48-5124-43a5-b74b-fcfe772b65a2"
   },
   "outputs": [
    {
     "data": {
      "text/html": [
       "<div>\n",
       "<style scoped>\n",
       "    .dataframe tbody tr th:only-of-type {\n",
       "        vertical-align: middle;\n",
       "    }\n",
       "\n",
       "    .dataframe tbody tr th {\n",
       "        vertical-align: top;\n",
       "    }\n",
       "\n",
       "    .dataframe thead th {\n",
       "        text-align: right;\n",
       "    }\n",
       "</style>\n",
       "<table border=\"1\" class=\"dataframe\">\n",
       "  <thead>\n",
       "    <tr style=\"text-align: right;\">\n",
       "      <th></th>\n",
       "      <th>ad</th>\n",
       "      <th>moral</th>\n",
       "    </tr>\n",
       "  </thead>\n",
       "  <tbody>\n",
       "    <tr>\n",
       "      <th>0</th>\n",
       "      <td>yearold danylo is not only battling cancer but...</td>\n",
       "      <td>1</td>\n",
       "    </tr>\n",
       "    <tr>\n",
       "      <th>1</th>\n",
       "      <td>learn how to use the new staffing law to impro...</td>\n",
       "      <td>0</td>\n",
       "    </tr>\n",
       "    <tr>\n",
       "      <th>2</th>\n",
       "      <td>we are live with climate activist anuna de wev...</td>\n",
       "      <td>0</td>\n",
       "    </tr>\n",
       "    <tr>\n",
       "      <th>3</th>\n",
       "      <td>did you miss the t summit relive the daylong e...</td>\n",
       "      <td>0</td>\n",
       "    </tr>\n",
       "    <tr>\n",
       "      <th>4</th>\n",
       "      <td>friday is north carolinas online voter registr...</td>\n",
       "      <td>0</td>\n",
       "    </tr>\n",
       "    <tr>\n",
       "      <th>...</th>\n",
       "      <td>...</td>\n",
       "      <td>...</td>\n",
       "    </tr>\n",
       "    <tr>\n",
       "      <th>195</th>\n",
       "      <td>you can make a difference this year donate now...</td>\n",
       "      <td>1</td>\n",
       "    </tr>\n",
       "    <tr>\n",
       "      <th>196</th>\n",
       "      <td>dear readers\\nrussian nazis do not stop exterm...</td>\n",
       "      <td>1</td>\n",
       "    </tr>\n",
       "    <tr>\n",
       "      <th>197</th>\n",
       "      <td>education risks becoming the greatest divider ...</td>\n",
       "      <td>1</td>\n",
       "    </tr>\n",
       "    <tr>\n",
       "      <th>198</th>\n",
       "      <td>shelling killed her mother\\nwithout an urgent ...</td>\n",
       "      <td>1</td>\n",
       "    </tr>\n",
       "    <tr>\n",
       "      <th>199</th>\n",
       "      <td>i would like it all to end\\nplaton is distraug...</td>\n",
       "      <td>1</td>\n",
       "    </tr>\n",
       "  </tbody>\n",
       "</table>\n",
       "<p>200 rows × 2 columns</p>\n",
       "</div>"
      ],
      "text/plain": [
       "                                                    ad  moral\n",
       "0    yearold danylo is not only battling cancer but...      1\n",
       "1    learn how to use the new staffing law to impro...      0\n",
       "2    we are live with climate activist anuna de wev...      0\n",
       "3    did you miss the t summit relive the daylong e...      0\n",
       "4    friday is north carolinas online voter registr...      0\n",
       "..                                                 ...    ...\n",
       "195  you can make a difference this year donate now...      1\n",
       "196  dear readers\\nrussian nazis do not stop exterm...      1\n",
       "197  education risks becoming the greatest divider ...      1\n",
       "198  shelling killed her mother\\nwithout an urgent ...      1\n",
       "199  i would like it all to end\\nplaton is distraug...      1\n",
       "\n",
       "[200 rows x 2 columns]"
      ]
     },
     "execution_count": 15,
     "metadata": {},
     "output_type": "execute_result"
    }
   ],
   "source": [
    "# save the test results \n",
    "save = pd.read_csv('data/sample_moral_appeal.csv')\n",
    "save"
   ]
  },
  {
   "cell_type": "code",
   "execution_count": 17,
   "metadata": {
    "colab": {
     "base_uri": "https://localhost:8080/",
     "height": 555
    },
    "executionInfo": {
     "elapsed": 1248,
     "status": "ok",
     "timestamp": 1651056576261,
     "user": {
      "displayName": "ASMAA ELFRAIHI",
      "userId": "14661187667036915130"
     },
     "user_tz": -120
    },
    "id": "-d1T63Ehi9EE",
    "outputId": "6870ebad-6a21-4067-b361-12befa563a18"
   },
   "outputs": [
    {
     "name": "stdout",
     "output_type": "stream",
     "text": [
      "7/7 [==============================] - 0s 26ms/step - loss: 9.3799 - accuracy: 0.6200\n",
      "Accuracy: 62.00%\n",
      "7/7 [==============================] - 0s 24ms/step\n",
      "confusion matrix:\n",
      "[[28 73]\n",
      " [ 3 96]]\n",
      "\n"
     ]
    },
    {
     "data": {
      "image/png": "[encoded data removed]",
      "text/plain": [
       "<Figure size 432x288 with 2 Axes>"
      ]
     },
     "metadata": {
      "needs_background": "light"
     },
     "output_type": "display_data"
    },
    {
     "name": "stdout",
     "output_type": "stream",
     "text": [
      "                 precision    recall  f1-score   support\n",
      "\n",
      "no moral appeal       0.90      0.28      0.42       101\n",
      "   moral appeal       0.57      0.97      0.72        99\n",
      "\n",
      "       accuracy                           0.62       200\n",
      "      macro avg       0.74      0.62      0.57       200\n",
      "   weighted avg       0.74      0.62      0.57       200\n",
      "\n"
     ]
    }
   ],
   "source": [
    "norm_ = save['ad']\n",
    "test_ = t.texts_to_sequences(norm_)\n",
    "padded_ = tf.keras.preprocessing.sequence.pad_sequences(test_, maxlen=MAX_SEQUENCE_LENGTH)\n",
    "\n",
    "scores = model.evaluate(padded_, save['moral'], verbose=1)\n",
    "print(\"Accuracy: %.2f%%\" % (scores[1]*100))\n",
    "\n",
    "val_ = t.texts_to_sequences(norm_)\n",
    "padded_val = tf.keras.preprocessing.sequence.pad_sequences(val_, maxlen=MAX_SEQUENCE_LENGTH)\n",
    "pred_ =  model.predict(padded_val)\n",
    "save['predicted'] = [1 if prob > 0.5 else 0 for prob in pred_]\n",
    "\n",
    "print(\"confusion matrix:\")\n",
    "print(metrics.confusion_matrix(save['moral'], save['predicted']))\n",
    "print()\n",
    "\n",
    "skplt.metrics.plot_confusion_matrix(save['moral'], save['predicted'], normalize=True)\n",
    "plt.show()\n",
    "\n",
    "print(metrics.classification_report(save['moral'], save['predicted'], target_names=[ 'no moral appeal', 'moral appeal']))"
   ]
  }
 ],
 "metadata": {
  "accelerator": "GPU",
  "colab": {
   "collapsed_sections": [],
   "name": "Bi-GRU_attention_moral_appeal.ipynb",
   "provenance": []
  },
  "kernelspec": {
   "display_name": "Python 3 (ipykernel)",
   "language": "python",
   "name": "python3"
  },
  "language_info": {
   "codemirror_mode": {
    "name": "ipython",
    "version": 3
   },
   "file_extension": ".py",
   "mimetype": "text/x-python",
   "name": "python",
   "nbconvert_exporter": "python",
   "pygments_lexer": "ipython3",
   "version": "3.7.3"
  }
 },
 "nbformat": 4,
 "nbformat_minor": 1
}
