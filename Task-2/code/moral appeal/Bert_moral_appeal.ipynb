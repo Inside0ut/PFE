{
 "cells": [
  {
   "cell_type": "code",
   "execution_count": 3,
   "metadata": {
    "executionInfo": {
     "elapsed": 283,
     "status": "ok",
     "timestamp": 1654163420868,
     "user": {
      "displayName": "NARDJES AMIEUR",
      "userId": "13751943947351102071"
     },
     "user_tz": -120
    },
    "id": "pXmL4QIuQWTr"
   },
   "outputs": [],
   "source": [
    "import re \n",
    "import matplotlib.pyplot as plt\n",
    "%matplotlib inline\n",
    "import sklearn \n",
    "import fine_tunned_bert\n",
    "\n",
    "from sklearn.model_selection import train_test_split\n",
    "import pandas as pd\n",
    "import tensorflow as tf\n",
    "\n",
    "# model evaluation \n",
    "import scikitplot as skplt"
   ]
  },
  {
   "cell_type": "code",
   "execution_count": 5,
   "metadata": {
    "colab": {
     "base_uri": "https://localhost:8080/",
     "height": 424
    },
    "executionInfo": {
     "elapsed": 1218,
     "status": "ok",
     "timestamp": 1654162411759,
     "user": {
      "displayName": "NARDJES AMIEUR",
      "userId": "13751943947351102071"
     },
     "user_tz": -120
    },
    "id": "ZzDTT5FHzdPS",
    "outputId": "7a2e391e-dec2-4af0-8022-3c36485cb7d9"
   },
   "outputs": [
    {
     "data": {
      "text/html": [
       "<div>\n",
       "<style scoped>\n",
       "    .dataframe tbody tr th:only-of-type {\n",
       "        vertical-align: middle;\n",
       "    }\n",
       "\n",
       "    .dataframe tbody tr th {\n",
       "        vertical-align: top;\n",
       "    }\n",
       "\n",
       "    .dataframe thead th {\n",
       "        text-align: right;\n",
       "    }\n",
       "</style>\n",
       "<table border=\"1\" class=\"dataframe\">\n",
       "  <thead>\n",
       "    <tr style=\"text-align: right;\">\n",
       "      <th></th>\n",
       "      <th>ad</th>\n",
       "      <th>moral_appeal</th>\n",
       "    </tr>\n",
       "  </thead>\n",
       "  <tbody>\n",
       "    <tr>\n",
       "      <th>0</th>\n",
       "      <td>psd jobs spring launch webinar monday pmpm vir...</td>\n",
       "      <td>0</td>\n",
       "    </tr>\n",
       "    <tr>\n",
       "      <th>1</th>\n",
       "      <td>the aflcio has always fought alongside workers...</td>\n",
       "      <td>1</td>\n",
       "    </tr>\n",
       "    <tr>\n",
       "      <th>2</th>\n",
       "      <td>your national monuments are on the chopping block</td>\n",
       "      <td>0</td>\n",
       "    </tr>\n",
       "    <tr>\n",
       "      <th>3</th>\n",
       "      <td>join us for a focus group to share your though...</td>\n",
       "      <td>0</td>\n",
       "    </tr>\n",
       "    <tr>\n",
       "      <th>4</th>\n",
       "      <td>with president trump nominating a judge with a...</td>\n",
       "      <td>1</td>\n",
       "    </tr>\n",
       "    <tr>\n",
       "      <th>...</th>\n",
       "      <td>...</td>\n",
       "      <td>...</td>\n",
       "    </tr>\n",
       "    <tr>\n",
       "      <th>19729</th>\n",
       "      <td>what is senator heidi heitkamp hiding watch be...</td>\n",
       "      <td>0</td>\n",
       "    </tr>\n",
       "    <tr>\n",
       "      <th>19730</th>\n",
       "      <td>breaking the washington post just reported on ...</td>\n",
       "      <td>0</td>\n",
       "    </tr>\n",
       "    <tr>\n",
       "      <th>19731</th>\n",
       "      <td>protecting vermont is injured employees contac...</td>\n",
       "      <td>1</td>\n",
       "    </tr>\n",
       "    <tr>\n",
       "      <th>19732</th>\n",
       "      <td>according to the huffington post days after pa...</td>\n",
       "      <td>0</td>\n",
       "    </tr>\n",
       "    <tr>\n",
       "      <th>19733</th>\n",
       "      <td>hundreds of new petrochemical plants would dum...</td>\n",
       "      <td>1</td>\n",
       "    </tr>\n",
       "  </tbody>\n",
       "</table>\n",
       "<p>19734 rows × 2 columns</p>\n",
       "</div>"
      ],
      "text/plain": [
       "                                                      ad  moral_appeal\n",
       "0      psd jobs spring launch webinar monday pmpm vir...             0\n",
       "1      the aflcio has always fought alongside workers...             1\n",
       "2      your national monuments are on the chopping block             0\n",
       "3      join us for a focus group to share your though...             0\n",
       "4      with president trump nominating a judge with a...             1\n",
       "...                                                  ...           ...\n",
       "19729  what is senator heidi heitkamp hiding watch be...             0\n",
       "19730  breaking the washington post just reported on ...             0\n",
       "19731  protecting vermont is injured employees contac...             1\n",
       "19732  according to the huffington post days after pa...             0\n",
       "19733  hundreds of new petrochemical plants would dum...             1\n",
       "\n",
       "[19734 rows x 2 columns]"
      ]
     },
     "execution_count": 5,
     "metadata": {},
     "output_type": "execute_result"
    }
   ],
   "source": [
    "df= pd.read_csv('data/moral_appeal_dataset.csv')\n",
    "df"
   ]
  },
  {
   "cell_type": "code",
   "execution_count": 11,
   "metadata": {
    "executionInfo": {
     "elapsed": 1,
     "status": "ok",
     "timestamp": 1654162414307,
     "user": {
      "displayName": "NARDJES AMIEUR",
      "userId": "13751943947351102071"
     },
     "user_tz": -120
    },
    "id": "2SkfddCcQ4B3"
   },
   "outputs": [],
   "source": [
    "bert_model_name='small_bert/bert_en_uncased_L-4_H-512_A-8'"
   ]
  },
  {
   "cell_type": "code",
   "execution_count": 12,
   "metadata": {
    "executionInfo": {
     "elapsed": 376,
     "status": "ok",
     "timestamp": 1654162418163,
     "user": {
      "displayName": "NARDJES AMIEUR",
      "userId": "13751943947351102071"
     },
     "user_tz": -120
    },
    "id": "EVMNaYtzRHGh"
   },
   "outputs": [],
   "source": [
    "# vectorize testing and training data \n",
    "cleaned_train, cleaned_test, y_train, y_test= train_test_split(df['ad'], df['moral_appeal'] , test_size = 0.2, random_state = 0)\n",
    "cleaned_train, cleaned_val, y_train, y_val = train_test_split(cleaned_train, y_train,  test_size=0.25, random_state= 42, shuffle = True)"
   ]
  },
  {
   "cell_type": "code",
   "execution_count": 13,
   "metadata": {
    "executionInfo": {
     "elapsed": 1750,
     "status": "ok",
     "timestamp": 1654162478268,
     "user": {
      "displayName": "NARDJES AMIEUR",
      "userId": "13751943947351102071"
     },
     "user_tz": -120
    },
    "id": "y6QBBvdsIrnw"
   },
   "outputs": [],
   "source": [
    "train_data = tf.data.Dataset.from_tensor_slices(  (cleaned_train,y_train) ).batch(32)\n",
    "val_data = tf.data.Dataset.from_tensor_slices( (cleaned_val,y_val) ).batch(32)\n",
    "test_data = tf.data.Dataset.from_tensor_slices( (cleaned_test,y_test) ).batch(32)"
   ]
  },
  {
   "cell_type": "code",
   "execution_count": 14,
   "metadata": {
    "executionInfo": {
     "elapsed": 470476,
     "status": "ok",
     "timestamp": 1654162951890,
     "user": {
      "displayName": "NARDJES AMIEUR",
      "userId": "13751943947351102071"
     },
     "user_tz": -120
    },
    "id": "IK3hme6FQ5dl"
   },
   "outputs": [],
   "source": [
    "# create the fine_tunned_model\n",
    "bert_model = fine_tunned_bert.create_fine_tunned_bert(train_data,bert_model_name=bert_model_name)\n",
    "\n",
    "# training the model\n",
    "history = bert_model.fit(x=train_data,epochs =5,validation_data = val_data,verbose=False)"
   ]
  },
  {
   "cell_type": "code",
   "execution_count": 15,
   "metadata": {
    "colab": {
     "base_uri": "https://localhost:8080/"
    },
    "executionInfo": {
     "elapsed": 34019,
     "status": "ok",
     "timestamp": 1654163352022,
     "user": {
      "displayName": "NARDJES AMIEUR",
      "userId": "13751943947351102071"
     },
     "user_tz": -120
    },
    "id": "OSUaKjNfIAnD",
    "outputId": "cdf61ca5-7d03-4b7f-b821-0e09c73ea080"
   },
   "outputs": [
    {
     "name": "stdout",
     "output_type": "stream",
     "text": [
      "124/124 [==============================] - 9s 74ms/step - loss: 0.0193 - accuracy: 0.9954 - precision_1: 0.9941 - recall_1: 0.9970 - auc_1: 0.9985\n",
      "124/124 [==============================] - 9s 69ms/step\n"
     ]
    }
   ],
   "source": [
    "# evaluation \n",
    "scores = bert_model.evaluate(test_data)\n",
    "\n",
    "predictions = bert_model.predict(cleaned_test)\n",
    "results = (predictions>0.5)*1"
   ]
  },
  {
   "cell_type": "code",
   "execution_count": 16,
   "metadata": {
    "colab": {
     "base_uri": "https://localhost:8080/",
     "height": 538
    },
    "executionInfo": {
     "elapsed": 312,
     "status": "ok",
     "timestamp": 1654163427720,
     "user": {
      "displayName": "NARDJES AMIEUR",
      "userId": "13751943947351102071"
     },
     "user_tz": -120
    },
    "id": "mPXuGTYLJXKM",
    "outputId": "5c9e4f30-12bb-4a45-ba68-aac5031b07b7"
   },
   "outputs": [
    {
     "name": "stdout",
     "output_type": "stream",
     "text": [
      "                 precision    recall  f1-score   support\n",
      "\n",
      "no moral appeal       1.00      0.99      1.00      1934\n",
      "   moral appeal       0.99      1.00      1.00      2013\n",
      "\n",
      "       accuracy                           1.00      3947\n",
      "      macro avg       1.00      1.00      1.00      3947\n",
      "   weighted avg       1.00      1.00      1.00      3947\n",
      "\n",
      "confusion matrix:\n",
      "[[1922   12]\n",
      " [   6 2007]]\n",
      "\n"
     ]
    },
    {
     "data": {
      "image/png": "[encoded data removed]",
      "text/plain": [
       "<Figure size 432x288 with 2 Axes>"
      ]
     },
     "metadata": {
      "needs_background": "light"
     },
     "output_type": "display_data"
    },
    {
     "name": "stdout",
     "output_type": "stream",
     "text": [
      "\n"
     ]
    }
   ],
   "source": [
    "pred = [1 if prob > 0.5 else 0 for prob in predictions]\n",
    "\n",
    "print(sklearn.metrics.classification_report(y_test, pred, target_names=[ 'no moral appeal', 'moral appeal']))\n",
    "print(\"confusion matrix:\")\n",
    "print(sklearn.metrics.confusion_matrix(y_test, pred))\n",
    "print()\n",
    "\n",
    "skplt.metrics.plot_confusion_matrix(y_test, pred, normalize=True)\n",
    "plt.show()\n",
    "print()"
   ]
  },
  {
   "cell_type": "code",
   "execution_count": 18,
   "metadata": {
    "colab": {
     "base_uri": "https://localhost:8080/",
     "height": 590
    },
    "executionInfo": {
     "elapsed": 1536,
     "status": "ok",
     "timestamp": 1654163458089,
     "user": {
      "displayName": "NARDJES AMIEUR",
      "userId": "13751943947351102071"
     },
     "user_tz": -120
    },
    "id": "jmOcOt8-_aI2",
    "outputId": "aa24bbea-37c7-4e54-d50f-aa45741d107c"
   },
   "outputs": [
    {
     "name": "stdout",
     "output_type": "stream",
     "text": [
      "7/7 [==============================] - 0s 67ms/step - loss: 1.9094 - accuracy: 0.7200 - precision_1: 0.6720 - recall_1: 0.8485 - auc_1: 0.7715\n",
      "Accuracy: 72.00%\n",
      "7/7 [==============================] - 0s 65ms/step\n",
      "                 precision    recall  f1-score   support\n",
      "\n",
      "no moral appeal       0.80      0.59      0.68       101\n",
      "   moral appeal       0.67      0.85      0.75        99\n",
      "\n",
      "       accuracy                           0.72       200\n",
      "      macro avg       0.74      0.72      0.72       200\n",
      "   weighted avg       0.74      0.72      0.72       200\n",
      "\n",
      "confusion matrix:\n",
      "[[60 41]\n",
      " [15 84]]\n",
      "\n"
     ]
    },
    {
     "data": {
      "image/png": "[encoded data removed]",
      "text/plain": [
       "<Figure size 432x288 with 2 Axes>"
      ]
     },
     "metadata": {
      "needs_background": "light"
     },
     "output_type": "display_data"
    },
    {
     "name": "stdout",
     "output_type": "stream",
     "text": [
      "\n"
     ]
    }
   ],
   "source": [
    "import sklearn \n",
    "save = pd.read_csv('data/sample_moral_appeal.csv')\n",
    "\n",
    "test_data = tf.data.Dataset.from_tensor_slices( (save['ad'],save['moral']) ).batch(32)\n",
    "# model evaluation \n",
    "scores = bert_model.evaluate(test_data)\n",
    "print(\"Accuracy: %.2f%%\" % (scores[1]*100))\n",
    "\n",
    "pred_ =  bert_model.predict(save['ad'])\n",
    "save['predicted'] = [1 if prob > 0.5 else 0 for prob in pred_]\n",
    "print(sklearn.metrics.classification_report(save['moral'], save['predicted'], target_names=[ 'no moral appeal', 'moral appeal']))\n",
    "print(\"confusion matrix:\")\n",
    "print(sklearn.metrics.confusion_matrix(save['moral'], save['predicted']))\n",
    "print()\n",
    "\n",
    "skplt.metrics.plot_confusion_matrix(save['moral'], save['predicted'], normalize=True)\n",
    "plt.show()\n",
    "print()\n"
   ]
  },
  {
   "cell_type": "code",
   "execution_count": null,
   "metadata": {},
   "outputs": [],
   "source": []
  }
 ],
 "metadata": {
  "accelerator": "GPU",
  "colab": {
   "name": "Bert_moral_appeal.ipynb",
   "provenance": []
  },
  "kernelspec": {
   "display_name": "Python 3 (ipykernel)",
   "language": "python",
   "name": "python3"
  },
  "language_info": {
   "codemirror_mode": {
    "name": "ipython",
    "version": 3
   },
   "file_extension": ".py",
   "mimetype": "text/x-python",
   "name": "python",
   "nbconvert_exporter": "python",
   "pygments_lexer": "ipython3",
   "version": "3.7.3"
  }
 },
 "nbformat": 4,
 "nbformat_minor": 1
}
