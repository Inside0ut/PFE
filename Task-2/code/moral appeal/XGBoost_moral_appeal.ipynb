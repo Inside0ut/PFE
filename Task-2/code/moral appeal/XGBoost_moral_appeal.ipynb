{
 "cells": [
  {
   "cell_type": "code",
   "execution_count": 1,
   "metadata": {
    "colab": {
     "base_uri": "https://localhost:8080/"
    },
    "executionInfo": {
     "elapsed": 8879,
     "status": "ok",
     "timestamp": 1651569458902,
     "user": {
      "displayName": "ASMAA ELFRAIHI",
      "userId": "14661187667036915130"
     },
     "user_tz": -120
    },
    "id": "Oeu68iS7Q45s",
    "outputId": "3afb8739-5d9d-4183-d6c4-af3c5edaa6d1"
   },
   "outputs": [
    {
     "name": "stderr",
     "output_type": "stream",
     "text": [
      "[nltk_data] Downloading package stopwords to\n",
      "[nltk_data]     C:\\Users\\Dell\\AppData\\Roaming\\nltk_data...\n",
      "[nltk_data]   Package stopwords is already up-to-date!\n",
      "[nltk_data] Downloading package wordnet to\n",
      "[nltk_data]     C:\\Users\\Dell\\AppData\\Roaming\\nltk_data...\n",
      "[nltk_data]   Package wordnet is already up-to-date!\n",
      "[nltk_data] Downloading package omw-1.4 to\n",
      "[nltk_data]     C:\\Users\\Dell\\AppData\\Roaming\\nltk_data...\n",
      "[nltk_data]   Package omw-1.4 is already up-to-date!\n",
      "[nltk_data] Downloading package punkt to\n",
      "[nltk_data]     C:\\Users\\Dell\\AppData\\Roaming\\nltk_data...\n",
      "[nltk_data]   Package punkt is already up-to-date!\n",
      "[nltk_data] Downloading package averaged_perceptron_tagger to\n",
      "[nltk_data]     C:\\Users\\Dell\\AppData\\Roaming\\nltk_data...\n",
      "[nltk_data]   Package averaged_perceptron_tagger is already up-to-\n",
      "[nltk_data]       date!\n"
     ]
    }
   ],
   "source": [
    "import pandas as pd \n",
    "\n",
    "import matplotlib.pyplot as plt\n",
    "# we use xgboost gradient boosting decsion trees model for this experiment \n",
    "from sklearn.model_selection import train_test_split\n",
    "from sklearn.feature_extraction.text import TfidfVectorizer\n",
    "from sklearn import metrics\n",
    "\n",
    "import xgboost as xgb\n",
    "import scikitplot as skplt\n",
    "\n",
    "\n",
    "import sys\n",
    "sys.path.append('../../data/')\n",
    "import cleaner as dc"
   ]
  },
  {
   "cell_type": "code",
   "execution_count": 2,
   "metadata": {
    "colab": {
     "base_uri": "https://localhost:8080/",
     "height": 423
    },
    "executionInfo": {
     "elapsed": 2012,
     "status": "ok",
     "timestamp": 1651569465432,
     "user": {
      "displayName": "ASMAA ELFRAIHI",
      "userId": "14661187667036915130"
     },
     "user_tz": -120
    },
    "id": "xqsFvjAHQ3dU",
    "outputId": "6b761ef6-5c35-48d9-ede0-bfb2f9209dce"
   },
   "outputs": [
    {
     "data": {
      "text/html": [
       "<div>\n",
       "<style scoped>\n",
       "    .dataframe tbody tr th:only-of-type {\n",
       "        vertical-align: middle;\n",
       "    }\n",
       "\n",
       "    .dataframe tbody tr th {\n",
       "        vertical-align: top;\n",
       "    }\n",
       "\n",
       "    .dataframe thead th {\n",
       "        text-align: right;\n",
       "    }\n",
       "</style>\n",
       "<table border=\"1\" class=\"dataframe\">\n",
       "  <thead>\n",
       "    <tr style=\"text-align: right;\">\n",
       "      <th></th>\n",
       "      <th>ad</th>\n",
       "      <th>moral_appeal</th>\n",
       "    </tr>\n",
       "  </thead>\n",
       "  <tbody>\n",
       "    <tr>\n",
       "      <th>0</th>\n",
       "      <td>psd jobs spring launch webinar monday pmpm vir...</td>\n",
       "      <td>0</td>\n",
       "    </tr>\n",
       "    <tr>\n",
       "      <th>1</th>\n",
       "      <td>the aflcio has always fought alongside workers...</td>\n",
       "      <td>1</td>\n",
       "    </tr>\n",
       "    <tr>\n",
       "      <th>2</th>\n",
       "      <td>your national monuments are on the chopping block</td>\n",
       "      <td>0</td>\n",
       "    </tr>\n",
       "    <tr>\n",
       "      <th>3</th>\n",
       "      <td>join us for a focus group to share your though...</td>\n",
       "      <td>0</td>\n",
       "    </tr>\n",
       "    <tr>\n",
       "      <th>4</th>\n",
       "      <td>with president trump nominating a judge with a...</td>\n",
       "      <td>1</td>\n",
       "    </tr>\n",
       "    <tr>\n",
       "      <th>...</th>\n",
       "      <td>...</td>\n",
       "      <td>...</td>\n",
       "    </tr>\n",
       "    <tr>\n",
       "      <th>19729</th>\n",
       "      <td>we plan to share a video of our first manufact...</td>\n",
       "      <td>1</td>\n",
       "    </tr>\n",
       "    <tr>\n",
       "      <th>19730</th>\n",
       "      <td>chendra is suffering and needs to be sent to a...</td>\n",
       "      <td>1</td>\n",
       "    </tr>\n",
       "    <tr>\n",
       "      <th>19731</th>\n",
       "      <td>do not even think about it you better grab one gt</td>\n",
       "      <td>1</td>\n",
       "    </tr>\n",
       "    <tr>\n",
       "      <th>19732</th>\n",
       "      <td>not long to wait</td>\n",
       "      <td>1</td>\n",
       "    </tr>\n",
       "    <tr>\n",
       "      <th>19733</th>\n",
       "      <td>fancy hearing more about labour is campaign in...</td>\n",
       "      <td>0</td>\n",
       "    </tr>\n",
       "  </tbody>\n",
       "</table>\n",
       "<p>19734 rows × 2 columns</p>\n",
       "</div>"
      ],
      "text/plain": [
       "                                                      ad  moral_appeal\n",
       "0      psd jobs spring launch webinar monday pmpm vir...             0\n",
       "1      the aflcio has always fought alongside workers...             1\n",
       "2      your national monuments are on the chopping block             0\n",
       "3      join us for a focus group to share your though...             0\n",
       "4      with president trump nominating a judge with a...             1\n",
       "...                                                  ...           ...\n",
       "19729  we plan to share a video of our first manufact...             1\n",
       "19730  chendra is suffering and needs to be sent to a...             1\n",
       "19731  do not even think about it you better grab one gt             1\n",
       "19732                                   not long to wait             1\n",
       "19733  fancy hearing more about labour is campaign in...             0\n",
       "\n",
       "[19734 rows x 2 columns]"
      ]
     },
     "execution_count": 2,
     "metadata": {},
     "output_type": "execute_result"
    }
   ],
   "source": [
    "df = pd.read_csv('data/moral_appeal_dataset.csv')\n",
    "df"
   ]
  },
  {
   "cell_type": "code",
   "execution_count": 3,
   "metadata": {},
   "outputs": [],
   "source": [
    "# Lower case\n",
    "df['ad']= df['ad'].apply(lambda x: x.lower())\n",
    "\n",
    "# Removing punctuations\n",
    "df['ad']= df['ad'].str.replace('[^\\w\\s]','', regex=True)\n",
    "\n",
    "# Removing numbers\n",
    "df['ad']= df['ad'].str.replace('\\d+','',regex=True)\n",
    "\n",
    "# Removing extra space \n",
    "df['ad']= df['ad'].str.replace('\\s+', ' ',  regex=True)\n",
    "\n",
    "#Apply denoise function\n",
    "df['ad']= df['ad'].apply(dc.denoise_text)\n",
    "\n",
    "#Remove stopwords \n",
    "df['ad']= df['ad'].apply(dc.remove_stopwords)\n",
    "\n",
    "#Remove special characters\n",
    "df['ad']= df['ad'].apply(dc.remove_special_characters)\n",
    "\n",
    "#Simple stemming \n",
    "df['ad']= df['ad'].apply(dc.simple_stemmer)"
   ]
  },
  {
   "cell_type": "code",
   "execution_count": 4,
   "metadata": {
    "executionInfo": {
     "elapsed": 358,
     "status": "ok",
     "timestamp": 1651569482695,
     "user": {
      "displayName": "ASMAA ELFRAIHI",
      "userId": "14661187667036915130"
     },
     "user_tz": -120
    },
    "id": "t29KZAVHvpaW"
   },
   "outputs": [],
   "source": [
    "# vectorize testing and training data \n",
    "X_train, X_test, y_train, y_test= train_test_split(df['ad'], df['moral_appeal'] , test_size = 0.2, random_state = 0)"
   ]
  },
  {
   "cell_type": "code",
   "execution_count": 5,
   "metadata": {
    "executionInfo": {
     "elapsed": 2680,
     "status": "ok",
     "timestamp": 1651569487405,
     "user": {
      "displayName": "ASMAA ELFRAIHI",
      "userId": "14661187667036915130"
     },
     "user_tz": -120
    },
    "id": "avWLIb9hEjkS"
   },
   "outputs": [],
   "source": [
    "tf_vectorizer = TfidfVectorizer()\n",
    "\n",
    "X_train_tf = tf_vectorizer.fit_transform(X_train)\n",
    "X_test_tf = tf_vectorizer.transform(X_test)"
   ]
  },
  {
   "cell_type": "code",
   "execution_count": 15,
   "metadata": {
    "colab": {
     "base_uri": "https://localhost:8080/"
    },
    "executionInfo": {
     "elapsed": 16435,
     "status": "ok",
     "timestamp": 1651569505580,
     "user": {
      "displayName": "ASMAA ELFRAIHI",
      "userId": "14661187667036915130"
     },
     "user_tz": -120
    },
    "id": "mDSHnbrh_TTC",
    "outputId": "77e22718-bcd1-4b6e-de98-25f2c8347f03"
   },
   "outputs": [
    {
     "data": {
      "text/html": [
       "<style>#sk-container-id-4 {color: black;background-color: white;}#sk-container-id-4 pre{padding: 0;}#sk-container-id-4 div.sk-toggleable {background-color: white;}#sk-container-id-4 label.sk-toggleable__label {cursor: pointer;display: block;width: 100%;margin-bottom: 0;padding: 0.3em;box-sizing: border-box;text-align: center;}#sk-container-id-4 label.sk-toggleable__label-arrow:before {content: \"▸\";float: left;margin-right: 0.25em;color: #696969;}#sk-container-id-4 label.sk-toggleable__label-arrow:hover:before {color: black;}#sk-container-id-4 div.sk-estimator:hover label.sk-toggleable__label-arrow:before {color: black;}#sk-container-id-4 div.sk-toggleable__content {max-height: 0;max-width: 0;overflow: hidden;text-align: left;background-color: #f0f8ff;}#sk-container-id-4 div.sk-toggleable__content pre {margin: 0.2em;color: black;border-radius: 0.25em;background-color: #f0f8ff;}#sk-container-id-4 input.sk-toggleable__control:checked~div.sk-toggleable__content {max-height: 200px;max-width: 100%;overflow: auto;}#sk-container-id-4 input.sk-toggleable__control:checked~label.sk-toggleable__label-arrow:before {content: \"▾\";}#sk-container-id-4 div.sk-estimator input.sk-toggleable__control:checked~label.sk-toggleable__label {background-color: #d4ebff;}#sk-container-id-4 div.sk-label input.sk-toggleable__control:checked~label.sk-toggleable__label {background-color: #d4ebff;}#sk-container-id-4 input.sk-hidden--visually {border: 0;clip: rect(1px 1px 1px 1px);clip: rect(1px, 1px, 1px, 1px);height: 1px;margin: -1px;overflow: hidden;padding: 0;position: absolute;width: 1px;}#sk-container-id-4 div.sk-estimator {font-family: monospace;background-color: #f0f8ff;border: 1px dotted black;border-radius: 0.25em;box-sizing: border-box;margin-bottom: 0.5em;}#sk-container-id-4 div.sk-estimator:hover {background-color: #d4ebff;}#sk-container-id-4 div.sk-parallel-item::after {content: \"\";width: 100%;border-bottom: 1px solid gray;flex-grow: 1;}#sk-container-id-4 div.sk-label:hover label.sk-toggleable__label {background-color: #d4ebff;}#sk-container-id-4 div.sk-serial::before {content: \"\";position: absolute;border-left: 1px solid gray;box-sizing: border-box;top: 0;bottom: 0;left: 50%;z-index: 0;}#sk-container-id-4 div.sk-serial {display: flex;flex-direction: column;align-items: center;background-color: white;padding-right: 0.2em;padding-left: 0.2em;position: relative;}#sk-container-id-4 div.sk-item {position: relative;z-index: 1;}#sk-container-id-4 div.sk-parallel {display: flex;align-items: stretch;justify-content: center;background-color: white;position: relative;}#sk-container-id-4 div.sk-item::before, #sk-container-id-4 div.sk-parallel-item::before {content: \"\";position: absolute;border-left: 1px solid gray;box-sizing: border-box;top: 0;bottom: 0;left: 50%;z-index: -1;}#sk-container-id-4 div.sk-parallel-item {display: flex;flex-direction: column;z-index: 1;position: relative;background-color: white;}#sk-container-id-4 div.sk-parallel-item:first-child::after {align-self: flex-end;width: 50%;}#sk-container-id-4 div.sk-parallel-item:last-child::after {align-self: flex-start;width: 50%;}#sk-container-id-4 div.sk-parallel-item:only-child::after {width: 0;}#sk-container-id-4 div.sk-dashed-wrapped {border: 1px dashed gray;margin: 0 0.4em 0.5em 0.4em;box-sizing: border-box;padding-bottom: 0.4em;background-color: white;}#sk-container-id-4 div.sk-label label {font-family: monospace;font-weight: bold;display: inline-block;line-height: 1.2em;}#sk-container-id-4 div.sk-label-container {text-align: center;}#sk-container-id-4 div.sk-container {/* jupyter's `normalize.less` sets `[hidden] { display: none; }` but bootstrap.min.css set `[hidden] { display: none !important; }` so we also need the `!important` here to be able to override the default hidden behavior on the sphinx rendered scikit-learn.org. See: https://github.com/scikit-learn/scikit-learn/issues/21755 */display: inline-block !important;position: relative;}#sk-container-id-4 div.sk-text-repr-fallback {display: none;}</style><div id=\"sk-container-id-4\" class=\"sk-top-container\"><div class=\"sk-text-repr-fallback\"><pre>XGBClassifier(base_score=0.5, booster=&#x27;gbtree&#x27;, callbacks=None,\n",
       "              colsample_bylevel=1, colsample_bynode=1, colsample_bytree=1,\n",
       "              early_stopping_rounds=None, enable_categorical=False,\n",
       "              eval_metric=None, gamma=10, gpu_id=-1, grow_policy=&#x27;depthwise&#x27;,\n",
       "              importance_type=None, interaction_constraints=&#x27;&#x27;,\n",
       "              learning_rate=0.3, max_bin=256, max_cat_to_onehot=4,\n",
       "              max_delta_step=0, max_depth=10, max_leaves=0, min_child_weight=1,\n",
       "              missing=nan, monotone_constraints=&#x27;()&#x27;, n_estimators=100,\n",
       "              n_jobs=0, num_parallel_tree=1, predictor=&#x27;auto&#x27;, random_state=0,\n",
       "              reg_alpha=0, reg_lambda=1, ...)</pre><b>In a Jupyter environment, please rerun this cell to show the HTML representation or trust the notebook. <br />On GitHub, the HTML representation is unable to render, please try loading this page with nbviewer.org.</b></div><div class=\"sk-container\" hidden><div class=\"sk-item\"><div class=\"sk-estimator sk-toggleable\"><input class=\"sk-toggleable__control sk-hidden--visually\" id=\"sk-estimator-id-4\" type=\"checkbox\" checked><label for=\"sk-estimator-id-4\" class=\"sk-toggleable__label sk-toggleable__label-arrow\">XGBClassifier</label><div class=\"sk-toggleable__content\"><pre>XGBClassifier(base_score=0.5, booster=&#x27;gbtree&#x27;, callbacks=None,\n",
       "              colsample_bylevel=1, colsample_bynode=1, colsample_bytree=1,\n",
       "              early_stopping_rounds=None, enable_categorical=False,\n",
       "              eval_metric=None, gamma=10, gpu_id=-1, grow_policy=&#x27;depthwise&#x27;,\n",
       "              importance_type=None, interaction_constraints=&#x27;&#x27;,\n",
       "              learning_rate=0.3, max_bin=256, max_cat_to_onehot=4,\n",
       "              max_delta_step=0, max_depth=10, max_leaves=0, min_child_weight=1,\n",
       "              missing=nan, monotone_constraints=&#x27;()&#x27;, n_estimators=100,\n",
       "              n_jobs=0, num_parallel_tree=1, predictor=&#x27;auto&#x27;, random_state=0,\n",
       "              reg_alpha=0, reg_lambda=1, ...)</pre></div></div></div></div></div>"
      ],
      "text/plain": [
       "XGBClassifier(base_score=0.5, booster='gbtree', callbacks=None,\n",
       "              colsample_bylevel=1, colsample_bynode=1, colsample_bytree=1,\n",
       "              early_stopping_rounds=None, enable_categorical=False,\n",
       "              eval_metric=None, gamma=10, gpu_id=-1, grow_policy='depthwise',\n",
       "              importance_type=None, interaction_constraints='',\n",
       "              learning_rate=0.3, max_bin=256, max_cat_to_onehot=4,\n",
       "              max_delta_step=0, max_depth=10, max_leaves=0, min_child_weight=1,\n",
       "              missing=nan, monotone_constraints='()', n_estimators=100,\n",
       "              n_jobs=0, num_parallel_tree=1, predictor='auto', random_state=0,\n",
       "              reg_alpha=0, reg_lambda=1, ...)"
      ]
     },
     "execution_count": 15,
     "metadata": {},
     "output_type": "execute_result"
    }
   ],
   "source": [
    "xgb_clf = xgb.XGBClassifier(\n",
    "  objective='binary:logistic',\n",
    "  max_depth = 10, \n",
    "  subsample = 0.5,\n",
    "  learning_rate = 0.3,\n",
    "  gamma = 10,\n",
    ")\n",
    "xgb_clf.fit(X_train_tf, y_train)"
   ]
  },
  {
   "cell_type": "code",
   "execution_count": 17,
   "metadata": {
    "colab": {
     "base_uri": "https://localhost:8080/",
     "height": 800
    },
    "executionInfo": {
     "elapsed": 1033,
     "status": "ok",
     "timestamp": 1651569506609,
     "user": {
      "displayName": "ASMAA ELFRAIHI",
      "userId": "14661187667036915130"
     },
     "user_tz": -120
    },
    "id": "kml0UJcLnwam",
    "outputId": "6196f3b0-67ee-4c19-bd4e-54fe4fcfed43"
   },
   "outputs": [
    {
     "name": "stdout",
     "output_type": "stream",
     "text": [
      "accuracy:   0.981\n",
      "                 precision    recall  f1-score   support\n",
      "\n",
      "no moral appeal       0.97      0.99      0.98      1967\n",
      "   moral appeal       0.99      0.97      0.98      1980\n",
      "\n",
      "       accuracy                           0.98      3947\n",
      "      macro avg       0.98      0.98      0.98      3947\n",
      "   weighted avg       0.98      0.98      0.98      3947\n",
      "\n",
      "confusion matrix:\n",
      "[[1944   23]\n",
      " [  53 1927]]\n",
      "\n"
     ]
    },
    {
     "data": {
      "image/png": "[encoded data removed]",
      "text/plain": [
       "<Figure size 432x288 with 2 Axes>"
      ]
     },
     "metadata": {
      "needs_background": "light"
     },
     "output_type": "display_data"
    },
    {
     "data": {
      "image/png": "[encoded data removed]",
      "text/plain": [
       "<Figure size 432x288 with 1 Axes>"
      ]
     },
     "metadata": {
      "needs_background": "light"
     },
     "output_type": "display_data"
    }
   ],
   "source": [
    "# predict the labels on validation dataset\n",
    "predictions = xgb_clf.predict(X_test_tf)\n",
    "\n",
    "# model performance\n",
    "score = metrics.accuracy_score(y_test, predictions)\n",
    "print(\"accuracy:   %0.3f\" % score)\n",
    "\n",
    "print(metrics.classification_report(y_test, predictions, target_names=['no moral appeal', 'moral appeal']))\n",
    "\n",
    "print(\"confusion matrix:\")\n",
    "print(metrics.confusion_matrix(y_test, predictions))\n",
    "print()\n",
    "\n",
    "skplt.metrics.plot_confusion_matrix(y_test, predictions, normalize=True)\n",
    "plt.show()\n",
    "disp = metrics.RocCurveDisplay.from_estimator(xgb_clf, X_test_tf, y_test)"
   ]
  },
  {
   "cell_type": "code",
   "execution_count": 12,
   "metadata": {
    "colab": {
     "base_uri": "https://localhost:8080/",
     "height": 423
    },
    "executionInfo": {
     "elapsed": 804,
     "status": "ok",
     "timestamp": 1651569510872,
     "user": {
      "displayName": "ASMAA ELFRAIHI",
      "userId": "14661187667036915130"
     },
     "user_tz": -120
    },
    "id": "tV6vuifha2Pw",
    "outputId": "b13ec7c3-0ff3-4a30-d2ca-7988bbd1d409"
   },
   "outputs": [],
   "source": [
    "df_val = pd.read_csv('data/sample_moral_appeal.csv')\n",
    "\n",
    "# Lower case\n",
    "df_val['ad']= df_val['ad'].apply(lambda x: x.lower())\n",
    "\n",
    "# Removing punctuations\n",
    "df_val['ad']= df_val['ad'].str.replace('[^\\w\\s]','', regex=True)\n",
    "\n",
    "# Removing numbers\n",
    "df_val['ad']= df_val['ad'].str.replace('\\d+','',regex=True)\n",
    "\n",
    "# Removing extra space \n",
    "df_val['ad']= df_val['ad'].str.replace('\\s+', ' ',  regex=True)\n",
    "\n",
    "#Apply denoise function\n",
    "df_val['ad']= df_val['ad'].apply(dc.denoise_text)\n",
    "\n",
    "#Remove stopwords\n",
    "df_val['ad']= df_val['ad'].apply(dc.remove_stopwords)\n",
    "\n",
    "#Remove special characters\n",
    "df_val['ad']= df_val['ad'].apply(dc.remove_special_characters)\n",
    "\n",
    "#Simple stemming \n",
    "df_val['ad']= df_val['ad'].apply(dc.simple_stemmer)"
   ]
  },
  {
   "cell_type": "code",
   "execution_count": 18,
   "metadata": {
    "colab": {
     "base_uri": "https://localhost:8080/",
     "height": 800
    },
    "executionInfo": {
     "elapsed": 925,
     "status": "ok",
     "timestamp": 1651569513987,
     "user": {
      "displayName": "ASMAA ELFRAIHI",
      "userId": "14661187667036915130"
     },
     "user_tz": -120
    },
    "id": "pftyg_sra-gv",
    "outputId": "26d68284-8096-4b36-b463-43026a508e50"
   },
   "outputs": [
    {
     "name": "stdout",
     "output_type": "stream",
     "text": [
      "accuracy:   0.711\n",
      "                 precision    recall  f1-score   support\n",
      "\n",
      "no moral appeal       0.64      0.70      0.67        54\n",
      "   moral appeal       0.77      0.72      0.74        74\n",
      "\n",
      "       accuracy                           0.71       128\n",
      "      macro avg       0.71      0.71      0.71       128\n",
      "   weighted avg       0.72      0.71      0.71       128\n",
      "\n",
      "confusion matrix:\n",
      "[[38 16]\n",
      " [21 53]]\n",
      "\n"
     ]
    },
    {
     "data": {
      "image/png": "[encoded data removed]",
      "text/plain": [
       "<Figure size 432x288 with 2 Axes>"
      ]
     },
     "metadata": {
      "needs_background": "light"
     },
     "output_type": "display_data"
    },
    {
     "data": {
      "image/png": "[encoded data removed]",
      "text/plain": [
       "<Figure size 432x288 with 1 Axes>"
      ]
     },
     "metadata": {
      "needs_background": "light"
     },
     "output_type": "display_data"
    }
   ],
   "source": [
    "X_val = tf_vectorizer.transform(df_val['ad'])\n",
    "y_val = df_val['moral_appeal']\n",
    "\n",
    "y_pred = xgb_clf.predict(X_val)\n",
    "\n",
    "score = metrics.accuracy_score(y_val, y_pred)\n",
    "print(\"accuracy:   %0.3f\" % score)\n",
    "\n",
    "print(metrics.classification_report(y_val, y_pred, target_names=['no moral appeal', 'moral appeal']))\n",
    "\n",
    "print(\"confusion matrix:\")\n",
    "print(metrics.confusion_matrix(y_val, y_pred))\n",
    "print()\n",
    "\n",
    "skplt.metrics.plot_confusion_matrix(y_val, y_pred, normalize=True)\n",
    "plt.show()\n",
    "disp = metrics.RocCurveDisplay.from_estimator(xgb_clf, X_val, y_val)"
   ]
  }
 ],
 "metadata": {
  "colab": {
   "collapsed_sections": [],
   "name": "XGBoost_moral_appeal.ipynb",
   "provenance": [
    {
     "file_id": "1vCgBI7NW47Nrg2mD_LyAclY16w3li3ft",
     "timestamp": 1648025373452
    },
    {
     "file_id": "1K0JA7RXB2MPZlBzygaymAsi8ddam8bXM",
     "timestamp": 1640529179429
    },
    {
     "file_id": "11jtiARXBIVyo4_2W7it8WK6H37lz7ZS-",
     "timestamp": 1640516433863
    },
    {
     "file_id": "18X_ou_FhT3pDiru7Qc0_OuKHeadOoOnm",
     "timestamp": 1640514059511
    }
   ]
  },
  "kernelspec": {
   "display_name": "Python 3 (ipykernel)",
   "language": "python",
   "name": "python3"
  },
  "language_info": {
   "codemirror_mode": {
    "name": "ipython",
    "version": 3
   },
   "file_extension": ".py",
   "mimetype": "text/x-python",
   "name": "python",
   "nbconvert_exporter": "python",
   "pygments_lexer": "ipython3",
   "version": "3.9.13"
  },
  "vscode": {
   "interpreter": {
    "hash": "f8f14f5a7c49a331ac7a55934b43ce13bd28be1333db14e2d71768ad3378996c"
   }
  }
 },
 "nbformat": 4,
 "nbformat_minor": 1
}
