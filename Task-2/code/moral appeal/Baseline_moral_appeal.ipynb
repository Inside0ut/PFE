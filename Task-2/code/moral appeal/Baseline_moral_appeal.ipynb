{
 "cells": [
  {
   "cell_type": "code",
   "execution_count": 1,
   "metadata": {},
   "outputs": [],
   "source": [
    "import pandas as pd \n",
    "from sklearn import metrics\n",
    "\n",
    "import matplotlib.pyplot as plt\n",
    "import scikitplot as skplt"
   ]
  },
  {
   "cell_type": "code",
   "execution_count": 2,
   "metadata": {},
   "outputs": [
    {
     "data": {
      "text/html": [
       "<div>\n",
       "<style scoped>\n",
       "    .dataframe tbody tr th:only-of-type {\n",
       "        vertical-align: middle;\n",
       "    }\n",
       "\n",
       "    .dataframe tbody tr th {\n",
       "        vertical-align: top;\n",
       "    }\n",
       "\n",
       "    .dataframe thead th {\n",
       "        text-align: right;\n",
       "    }\n",
       "</style>\n",
       "<table border=\"1\" class=\"dataframe\">\n",
       "  <thead>\n",
       "    <tr style=\"text-align: right;\">\n",
       "      <th></th>\n",
       "      <th>ad</th>\n",
       "      <th>moral_appeal</th>\n",
       "    </tr>\n",
       "  </thead>\n",
       "  <tbody>\n",
       "    <tr>\n",
       "      <th>0</th>\n",
       "      <td>yearold danylo is not only battling cancer but...</td>\n",
       "      <td>1</td>\n",
       "    </tr>\n",
       "    <tr>\n",
       "      <th>1</th>\n",
       "      <td>learn how to use the new staffing law to impro...</td>\n",
       "      <td>0</td>\n",
       "    </tr>\n",
       "    <tr>\n",
       "      <th>2</th>\n",
       "      <td>we are live with climate activist anuna de wev...</td>\n",
       "      <td>0</td>\n",
       "    </tr>\n",
       "    <tr>\n",
       "      <th>3</th>\n",
       "      <td>did you miss the t summit relive the daylong e...</td>\n",
       "      <td>0</td>\n",
       "    </tr>\n",
       "    <tr>\n",
       "      <th>4</th>\n",
       "      <td>friday is north carolina’s online voter regist...</td>\n",
       "      <td>0</td>\n",
       "    </tr>\n",
       "    <tr>\n",
       "      <th>...</th>\n",
       "      <td>...</td>\n",
       "      <td>...</td>\n",
       "    </tr>\n",
       "    <tr>\n",
       "      <th>120</th>\n",
       "      <td>in just three months time they likely will be ...</td>\n",
       "      <td>0</td>\n",
       "    </tr>\n",
       "    <tr>\n",
       "      <th>121</th>\n",
       "      <td>we have until march st to raise money for our ...</td>\n",
       "      <td>0</td>\n",
       "    </tr>\n",
       "    <tr>\n",
       "      <th>122</th>\n",
       "      <td>ukraine needs your support\\nany donation you p...</td>\n",
       "      <td>1</td>\n",
       "    </tr>\n",
       "    <tr>\n",
       "      <th>123</th>\n",
       "      <td>djibouti faces extreme water scarcity exacerba...</td>\n",
       "      <td>0</td>\n",
       "    </tr>\n",
       "    <tr>\n",
       "      <th>124</th>\n",
       "      <td>contact your ohio state legislators today and ...</td>\n",
       "      <td>0</td>\n",
       "    </tr>\n",
       "  </tbody>\n",
       "</table>\n",
       "<p>125 rows × 2 columns</p>\n",
       "</div>"
      ],
      "text/plain": [
       "                                                    ad  moral_appeal\n",
       "0    yearold danylo is not only battling cancer but...             1\n",
       "1    learn how to use the new staffing law to impro...             0\n",
       "2    we are live with climate activist anuna de wev...             0\n",
       "3    did you miss the t summit relive the daylong e...             0\n",
       "4    friday is north carolina’s online voter regist...             0\n",
       "..                                                 ...           ...\n",
       "120  in just three months time they likely will be ...             0\n",
       "121  we have until march st to raise money for our ...             0\n",
       "122  ukraine needs your support\\nany donation you p...             1\n",
       "123  djibouti faces extreme water scarcity exacerba...             0\n",
       "124  contact your ohio state legislators today and ...             0\n",
       "\n",
       "[125 rows x 2 columns]"
      ]
     },
     "execution_count": 2,
     "metadata": {},
     "output_type": "execute_result"
    }
   ],
   "source": [
    "df = pd.read_csv('./data/sample_moral_appeal.csv').drop(['Unnamed: 0'], axis=1)\n",
    "df"
   ]
  },
  {
   "cell_type": "code",
   "execution_count": 3,
   "metadata": {},
   "outputs": [],
   "source": [
    "# creating prediction model\n",
    "\n",
    "# creating the filters \n",
    "filters =  ['rights', 'equal', 'justice', 'protect', 'equality',  'social' , 'environment',  'popular', 'prohibition' ]\n",
    "\n",
    "def contains_filter(x):\n",
    "    for filter in filters:\n",
    "        if filter in x:\n",
    "            return 1\n",
    "    return 0\n",
    "\n",
    "def predict(X): \n",
    "    '''\n",
    "        This function takes in a dataframe and returns the predicted values \n",
    "        params:\n",
    "            X: dataframe\n",
    "        returns:\n",
    "            predicted values using the filters \n",
    "    '''\n",
    "    X['prediction'] = X['ad'].apply(contains_filter)\n",
    "    return X['prediction']\n"
   ]
  },
  {
   "cell_type": "code",
   "execution_count": 4,
   "metadata": {},
   "outputs": [
    {
     "name": "stdout",
     "output_type": "stream",
     "text": [
      "accuracy:   0.512\n",
      "                 precision    recall  f1-score   support\n",
      "\n",
      "no-moral_appeal       0.45      0.92      0.61        51\n",
      "   moral_appeal       0.81      0.23      0.36        74\n",
      "\n",
      "       accuracy                           0.51       125\n",
      "      macro avg       0.63      0.58      0.48       125\n",
      "   weighted avg       0.66      0.51      0.46       125\n",
      "\n",
      "confusion matrix:\n",
      "[[47  4]\n",
      " [57 17]]\n",
      "\n"
     ]
    },
    {
     "data": {
      "image/png": "[encoded data removed]",
      "text/plain": [
       "<Figure size 432x288 with 2 Axes>"
      ]
     },
     "metadata": {
      "needs_background": "light"
     },
     "output_type": "display_data"
    }
   ],
   "source": [
    "y_pred = predict(df)\n",
    "\n",
    "# model performance\n",
    "score = metrics.accuracy_score(df['moral_appeal'], y_pred)\n",
    "print(\"accuracy:   %0.3f\" % score)\n",
    "\n",
    "print(metrics.classification_report(df['moral_appeal'], y_pred, target_names=['no-moral_appeal', 'moral_appeal']))\n",
    "\n",
    "print(\"confusion matrix:\")\n",
    "print(metrics.confusion_matrix(df['moral_appeal'], y_pred))\n",
    "print()\n",
    "\n",
    "skplt.metrics.plot_confusion_matrix(df['moral_appeal'], y_pred, normalize=True)\n",
    "plt.show()"
   ]
  }
 ],
 "metadata": {
  "interpreter": {
   "hash": "a5b9b38b543acef8c99a55356e1a83c226e44beb9292ee82f1e87a7fd9afffb6"
  },
  "kernelspec": {
   "display_name": "Python 3.7.9 64-bit (windows store)",
   "language": "python",
   "name": "python3"
  },
  "language_info": {
   "codemirror_mode": {
    "name": "ipython",
    "version": 3
   },
   "file_extension": ".py",
   "mimetype": "text/x-python",
   "name": "python",
   "nbconvert_exporter": "python",
   "pygments_lexer": "ipython3",
   "version": "3.7.9"
  },
  "orig_nbformat": 4
 },
 "nbformat": 4,
 "nbformat_minor": 2
}
