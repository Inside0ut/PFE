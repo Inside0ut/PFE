{
 "cells": [
  {
   "cell_type": "code",
   "execution_count": 2,
   "metadata": {
    "executionInfo": {
     "elapsed": 4374,
     "status": "ok",
     "timestamp": 1654161126981,
     "user": {
      "displayName": "NARDJES AMIEUR",
      "userId": "13751943947351102071"
     },
     "user_tz": -120
    },
    "id": "sk9x1LWOsg7V"
   },
   "outputs": [],
   "source": [
    "import pandas as pd \n",
    "\n",
    "\n",
    "import matplotlib.pyplot as plt\n",
    "\n",
    "# we use tensorflow to create our neural network for this experiment \n",
    "import tensorflow as tf \n",
    "from tensorflow.keras.models import Sequential\n",
    "from tensorflow.keras import layers\n",
    "\n",
    "from sklearn.model_selection import train_test_split\n",
    "\n",
    "from sklearn import metrics\n",
    "import scikitplot as skplt"
   ]
  },
  {
   "cell_type": "code",
   "execution_count": 3,
   "metadata": {
    "colab": {
     "base_uri": "https://localhost:8080/",
     "height": 424
    },
    "executionInfo": {
     "elapsed": 928,
     "status": "ok",
     "timestamp": 1654161130864,
     "user": {
      "displayName": "NARDJES AMIEUR",
      "userId": "13751943947351102071"
     },
     "user_tz": -120
    },
    "id": "GlxR1iF1zwz7",
    "outputId": "0488b48b-858d-4945-a641-ba8fcf7effcb"
   },
   "outputs": [
    {
     "data": {
      "text/html": [
       "<div>\n",
       "<style scoped>\n",
       "    .dataframe tbody tr th:only-of-type {\n",
       "        vertical-align: middle;\n",
       "    }\n",
       "\n",
       "    .dataframe tbody tr th {\n",
       "        vertical-align: top;\n",
       "    }\n",
       "\n",
       "    .dataframe thead th {\n",
       "        text-align: right;\n",
       "    }\n",
       "</style>\n",
       "<table border=\"1\" class=\"dataframe\">\n",
       "  <thead>\n",
       "    <tr style=\"text-align: right;\">\n",
       "      <th></th>\n",
       "      <th>ad</th>\n",
       "      <th>moral_appeal</th>\n",
       "    </tr>\n",
       "  </thead>\n",
       "  <tbody>\n",
       "    <tr>\n",
       "      <th>0</th>\n",
       "      <td>psd jobs spring launch webinar monday pmpm vir...</td>\n",
       "      <td>0</td>\n",
       "    </tr>\n",
       "    <tr>\n",
       "      <th>1</th>\n",
       "      <td>the aflcio has always fought alongside workers...</td>\n",
       "      <td>1</td>\n",
       "    </tr>\n",
       "    <tr>\n",
       "      <th>2</th>\n",
       "      <td>your national monuments are on the chopping block</td>\n",
       "      <td>0</td>\n",
       "    </tr>\n",
       "    <tr>\n",
       "      <th>3</th>\n",
       "      <td>join us for a focus group to share your though...</td>\n",
       "      <td>0</td>\n",
       "    </tr>\n",
       "    <tr>\n",
       "      <th>4</th>\n",
       "      <td>with president trump nominating a judge with a...</td>\n",
       "      <td>1</td>\n",
       "    </tr>\n",
       "    <tr>\n",
       "      <th>...</th>\n",
       "      <td>...</td>\n",
       "      <td>...</td>\n",
       "    </tr>\n",
       "    <tr>\n",
       "      <th>19729</th>\n",
       "      <td>what is senator heidi heitkamp hiding watch be...</td>\n",
       "      <td>0</td>\n",
       "    </tr>\n",
       "    <tr>\n",
       "      <th>19730</th>\n",
       "      <td>breaking the washington post just reported on ...</td>\n",
       "      <td>0</td>\n",
       "    </tr>\n",
       "    <tr>\n",
       "      <th>19731</th>\n",
       "      <td>protecting vermont is injured employees contac...</td>\n",
       "      <td>1</td>\n",
       "    </tr>\n",
       "    <tr>\n",
       "      <th>19732</th>\n",
       "      <td>according to the huffington post days after pa...</td>\n",
       "      <td>0</td>\n",
       "    </tr>\n",
       "    <tr>\n",
       "      <th>19733</th>\n",
       "      <td>hundreds of new petrochemical plants would dum...</td>\n",
       "      <td>1</td>\n",
       "    </tr>\n",
       "  </tbody>\n",
       "</table>\n",
       "<p>19734 rows × 2 columns</p>\n",
       "</div>"
      ],
      "text/plain": [
       "                                                      ad  moral_appeal\n",
       "0      psd jobs spring launch webinar monday pmpm vir...             0\n",
       "1      the aflcio has always fought alongside workers...             1\n",
       "2      your national monuments are on the chopping block             0\n",
       "3      join us for a focus group to share your though...             0\n",
       "4      with president trump nominating a judge with a...             1\n",
       "...                                                  ...           ...\n",
       "19729  what is senator heidi heitkamp hiding watch be...             0\n",
       "19730  breaking the washington post just reported on ...             0\n",
       "19731  protecting vermont is injured employees contac...             1\n",
       "19732  according to the huffington post days after pa...             0\n",
       "19733  hundreds of new petrochemical plants would dum...             1\n",
       "\n",
       "[19734 rows x 2 columns]"
      ]
     },
     "execution_count": 3,
     "metadata": {},
     "output_type": "execute_result"
    }
   ],
   "source": [
    "dataset = pd.read_csv('data/moral_appeal_dataset.csv')\n",
    "dataset"
   ]
  },
  {
   "cell_type": "code",
   "execution_count": 4,
   "metadata": {
    "executionInfo": {
     "elapsed": 253,
     "status": "ok",
     "timestamp": 1654161136254,
     "user": {
      "displayName": "NARDJES AMIEUR",
      "userId": "13751943947351102071"
     },
     "user_tz": -120
    },
    "id": "hTNuklkTcg2Z"
   },
   "outputs": [],
   "source": [
    "# vectorize testing and training data \n",
    "X_train, X_test, y_train, y_test= train_test_split(dataset['ad'], dataset['moral_appeal'] , test_size = 0.2, random_state = 0)"
   ]
  },
  {
   "cell_type": "code",
   "execution_count": 5,
   "metadata": {
    "colab": {
     "base_uri": "https://localhost:8080/"
    },
    "executionInfo": {
     "elapsed": 2604,
     "status": "ok",
     "timestamp": 1654161165718,
     "user": {
      "displayName": "NARDJES AMIEUR",
      "userId": "13751943947351102071"
     },
     "user_tz": -120
    },
    "id": "HVq3PRqn6mOl",
    "outputId": "551a293d-3cc9-43fd-b589-c0c0e6fc203d"
   },
   "outputs": [
    {
     "data": {
      "text/plain": [
       "(('prevaccine', 37760), ('<PAD>', 0), 1)"
      ]
     },
     "execution_count": 5,
     "metadata": {},
     "output_type": "execute_result"
    }
   ],
   "source": [
    "# data tokenization \n",
    "t = tf.keras.preprocessing.text.Tokenizer(oov_token='<UNK>')\n",
    "\n",
    "# fit the tokenizer on the training documents\n",
    "t.fit_on_texts(X_train)\n",
    "t.word_index['<PAD>'] = 0\n",
    "max([(k, v) for k, v in t.word_index.items()], key = lambda x:x[1]), min([(k, v) for k, v in t.word_index.items()], key = lambda x:x[1]), t.word_index['<UNK>']"
   ]
  },
  {
   "cell_type": "code",
   "execution_count": 6,
   "metadata": {
    "executionInfo": {
     "elapsed": 1249,
     "status": "ok",
     "timestamp": 1654161191548,
     "user": {
      "displayName": "NARDJES AMIEUR",
      "userId": "13751943947351102071"
     },
     "user_tz": -120
    },
    "id": "DwyD63OC6mS-"
   },
   "outputs": [],
   "source": [
    "# create tokenized data sequences to feed to the neural network \n",
    "train_sequences = t.texts_to_sequences(X_train)\n",
    "test_sequences = t.texts_to_sequences(X_test)"
   ]
  },
  {
   "cell_type": "code",
   "execution_count": 7,
   "metadata": {
    "colab": {
     "base_uri": "https://localhost:8080/"
    },
    "executionInfo": {
     "elapsed": 189,
     "status": "ok",
     "timestamp": 1654161195612,
     "user": {
      "displayName": "NARDJES AMIEUR",
      "userId": "13751943947351102071"
     },
     "user_tz": -120
    },
    "id": "fUcbman26pWu",
    "outputId": "c75257bc-e15e-4c57-c9c3-3880009c054d"
   },
   "outputs": [
    {
     "data": {
      "text/plain": [
       "((15787, 1000), (3947, 1000))"
      ]
     },
     "execution_count": 7,
     "metadata": {},
     "output_type": "execute_result"
    }
   ],
   "source": [
    "MAX_SEQUENCE_LENGTH = 1000\n",
    "\n",
    "# pad documents to equal length with 0 \n",
    "X_train = tf.keras.preprocessing.sequence.pad_sequences(train_sequences, maxlen=MAX_SEQUENCE_LENGTH)\n",
    "X_test = tf.keras.preprocessing.sequence.pad_sequences(test_sequences, maxlen=MAX_SEQUENCE_LENGTH)\n",
    "X_train.shape, X_test.shape"
   ]
  },
  {
   "cell_type": "code",
   "execution_count": 8,
   "metadata": {
    "executionInfo": {
     "elapsed": 200,
     "status": "ok",
     "timestamp": 1654161199791,
     "user": {
      "displayName": "NARDJES AMIEUR",
      "userId": "13751943947351102071"
     },
     "user_tz": -120
    },
    "id": "ZOoiVB_qg2HQ"
   },
   "outputs": [],
   "source": [
    "def create_model(units, vocab_size, embedding_dim, maxlen, dropout = 0.2):\n",
    "  '''\n",
    "    Create a \n",
    "    Arguments : \n",
    "      num_filters: number of filters to use for the 1D convolution layer \n",
    "      kernel_size: kernal size used for convolution\n",
    "      embedding_dim: embedding size \n",
    "      maxlen: input sequence length\n",
    "      vectorize_layer : vectorization layer for turning input text to numerical sequences\n",
    "      dropout : dropout rate used for Dropout regularization layer to minimize overfitting\n",
    "\n",
    "    Returns : \n",
    "    A model with the folowing layers:  \n",
    "            - An Embedding layer with embedding_dim dimension for each embedding \n",
    "            - A one dimentional (1D) convolutional neural network\n",
    "            - A one dimentional global max pooling layer  \n",
    "            - A fully connected layer with 10 units \n",
    "            - The output layer is one neuron with sigmoid activation producing the output label\n",
    "            - Dropout layers added to minimize overfitting on the small datasets \n",
    "  '''\n",
    "  model = Sequential([\n",
    "      layers.Input(shape=(maxlen,)),\n",
    "      layers.Embedding(input_dim = vocab_size , output_dim = embedding_dim, input_length=maxlen),\n",
    "      layers.Dropout( rate = dropout ),\n",
    "      layers.GlobalMaxPooling1D(),\n",
    "      layers.Dropout( rate = dropout),\n",
    "      layers.Dense(units, activation='relu'),\n",
    "      layers.Dropout( rate = dropout ),\n",
    "      layers.Dense(1, activation='sigmoid')              \n",
    "  ])\n",
    "  model.compile(optimizer='adam',\n",
    "                loss='binary_crossentropy',\n",
    "                metrics=['accuracy'])\n",
    "  return model"
   ]
  },
  {
   "cell_type": "code",
   "execution_count": 9,
   "metadata": {
    "colab": {
     "base_uri": "https://localhost:8080/"
    },
    "executionInfo": {
     "elapsed": 568,
     "status": "ok",
     "timestamp": 1654161202175,
     "user": {
      "displayName": "NARDJES AMIEUR",
      "userId": "13751943947351102071"
     },
     "user_tz": -120
    },
    "id": "wbMtGt_5A_fk",
    "outputId": "fd6d852c-5b81-483b-fa10-69c5425153db"
   },
   "outputs": [
    {
     "name": "stdout",
     "output_type": "stream",
     "text": [
      "Model: \"sequential\"\n",
      "_________________________________________________________________\n",
      " Layer (type)                Output Shape              Param #   \n",
      "=================================================================\n",
      " embedding (Embedding)       (None, 1000, 128)         4833408   \n",
      "                                                                 \n",
      " dropout (Dropout)           (None, 1000, 128)         0         \n",
      "                                                                 \n",
      " global_max_pooling1d (Globa  (None, 128)              0         \n",
      " lMaxPooling1D)                                                  \n",
      "                                                                 \n",
      " dropout_1 (Dropout)         (None, 128)               0         \n",
      "                                                                 \n",
      " dense (Dense)               (None, 10)                1290      \n",
      "                                                                 \n",
      " dropout_2 (Dropout)         (None, 10)                0         \n",
      "                                                                 \n",
      " dense_1 (Dense)             (None, 1)                 11        \n",
      "                                                                 \n",
      "=================================================================\n",
      "Total params: 4,834,709\n",
      "Trainable params: 4,834,709\n",
      "Non-trainable params: 0\n",
      "_________________________________________________________________\n"
     ]
    },
    {
     "name": "stderr",
     "output_type": "stream",
     "text": [
      "2022-06-02 18:45:55.045557: I tensorflow/core/platform/cpu_feature_guard.cc:193] This TensorFlow binary is optimized with oneAPI Deep Neural Network Library (oneDNN) to use the following CPU instructions in performance-critical operations:  AVX2 FMA\n",
      "To enable them in other operations, rebuild TensorFlow with the appropriate compiler flags.\n",
      "2022-06-02 18:45:55.705557: I tensorflow/core/common_runtime/gpu/gpu_device.cc:1532] Created device /job:localhost/replica:0/task:0/device:GPU:0 with 10417 MB memory:  -> device: 0, name: GeForce GTX 1080 Ti, pci bus id: 0000:02:00.0, compute capability: 6.1\n"
     ]
    }
   ],
   "source": [
    "VOCAB_SIZE = len(t.word_index)\n",
    "EMBEDDING_DIM = 128\n",
    "UNITS = 10\n",
    "\n",
    "# Creating a neural net with randomly set paramteres as a baseline comparison model \n",
    "model = create_model(units = UNITS, vocab_size = VOCAB_SIZE, embedding_dim = EMBEDDING_DIM, maxlen = MAX_SEQUENCE_LENGTH )\n",
    "model.summary()"
   ]
  },
  {
   "cell_type": "code",
   "execution_count": 10,
   "metadata": {
    "colab": {
     "base_uri": "https://localhost:8080/"
    },
    "executionInfo": {
     "elapsed": 263120,
     "status": "ok",
     "timestamp": 1654161467176,
     "user": {
      "displayName": "NARDJES AMIEUR",
      "userId": "13751943947351102071"
     },
     "user_tz": -120
    },
    "id": "OidjdWyx0Zbk",
    "outputId": "20a7c746-445d-440b-ae7c-7de6c91189a5"
   },
   "outputs": [
    {
     "name": "stdout",
     "output_type": "stream",
     "text": [
      "Epoch 1/5\n",
      "395/395 [==============================] - 4s 8ms/step - loss: 0.3474 - accuracy: 0.8615 - val_loss: 0.0728 - val_accuracy: 0.9918\n",
      "Epoch 2/5\n",
      "395/395 [==============================] - 3s 7ms/step - loss: 0.0557 - accuracy: 0.9882 - val_loss: 0.0256 - val_accuracy: 0.9959\n",
      "Epoch 3/5\n",
      "395/395 [==============================] - 3s 7ms/step - loss: 0.0285 - accuracy: 0.9956 - val_loss: 0.0194 - val_accuracy: 0.9975\n",
      "Epoch 4/5\n",
      "395/395 [==============================] - 3s 7ms/step - loss: 0.0179 - accuracy: 0.9986 - val_loss: 0.0135 - val_accuracy: 0.9972\n",
      "Epoch 5/5\n",
      "395/395 [==============================] - 3s 7ms/step - loss: 0.0128 - accuracy: 0.9993 - val_loss: 0.0122 - val_accuracy: 0.9975\n"
     ]
    }
   ],
   "source": [
    "# Train the neural net and evaluate results \n",
    "history = model.fit(X_train, y_train, epochs= 5, batch_size= 32,  shuffle=True, validation_split=0.2, verbose=1)"
   ]
  },
  {
   "cell_type": "code",
   "execution_count": 11,
   "metadata": {
    "colab": {
     "base_uri": "https://localhost:8080/"
    },
    "executionInfo": {
     "elapsed": 1046,
     "status": "ok",
     "timestamp": 1654161585379,
     "user": {
      "displayName": "NARDJES AMIEUR",
      "userId": "13751943947351102071"
     },
     "user_tz": -120
    },
    "id": "SAaOqHLs65hC",
    "outputId": "2927562a-2ccc-4948-e155-64df2c691510"
   },
   "outputs": [
    {
     "name": "stdout",
     "output_type": "stream",
     "text": [
      "124/124 [==============================] - 0s 3ms/step - loss: 0.0122 - accuracy: 0.9972\n",
      "Accuracy: 99.72%\n"
     ]
    }
   ],
   "source": [
    "# model evaluation \n",
    "# Final evaluation of the model\n",
    "scores = model.evaluate(X_test, y_test, verbose=1)\n",
    "print(\"Accuracy: %.2f%%\" % (scores[1]*100))"
   ]
  },
  {
   "cell_type": "code",
   "execution_count": 12,
   "metadata": {
    "colab": {
     "base_uri": "https://localhost:8080/",
     "height": 555
    },
    "executionInfo": {
     "elapsed": 2244,
     "status": "ok",
     "timestamp": 1654161589478,
     "user": {
      "displayName": "NARDJES AMIEUR",
      "userId": "13751943947351102071"
     },
     "user_tz": -120
    },
    "id": "JtlTcLue7Bis",
    "outputId": "88f02fc8-6297-4bc3-b26a-53bfc95c19a7"
   },
   "outputs": [
    {
     "name": "stdout",
     "output_type": "stream",
     "text": [
      "124/124 [==============================] - 0s 2ms/step\n",
      "Accuracy: 99.72%\n",
      "                 precision    recall  f1-score   support\n",
      "\n",
      "no moral appeal       1.00      1.00      1.00      1934\n",
      "    moral apeal       1.00      1.00      1.00      2013\n",
      "\n",
      "       accuracy                           1.00      3947\n",
      "      macro avg       1.00      1.00      1.00      3947\n",
      "   weighted avg       1.00      1.00      1.00      3947\n",
      "\n",
      "confusion matrix:\n",
      "[[1931    3]\n",
      " [   8 2005]]\n",
      "\n"
     ]
    },
    {
     "data": {
      "image/png": "[encoded data removed]",
      "text/plain": [
       "<Figure size 432x288 with 2 Axes>"
      ]
     },
     "metadata": {
      "needs_background": "light"
     },
     "output_type": "display_data"
    }
   ],
   "source": [
    "# get model predictions \n",
    "prediction_probs = model.predict(X_test, verbose=1).ravel()\n",
    "predictions = [1 if prob > 0.5 else 0 for prob in prediction_probs]\n",
    "\n",
    "print(\"Accuracy: %.2f%%\" % (scores[1]*100))\n",
    "\n",
    "print(metrics.classification_report(y_test, predictions, target_names=[ 'no moral appeal', 'moral apeal']))\n",
    "\n",
    "print(\"confusion matrix:\")\n",
    "print(metrics.confusion_matrix(y_test, predictions))\n",
    "print()\n",
    "\n",
    "skplt.metrics.plot_confusion_matrix(y_test, predictions , normalize=True)\n",
    "plt.show()"
   ]
  },
  {
   "cell_type": "code",
   "execution_count": 13,
   "metadata": {
    "colab": {
     "base_uri": "https://localhost:8080/",
     "height": 424
    },
    "executionInfo": {
     "elapsed": 615,
     "status": "ok",
     "timestamp": 1654161618536,
     "user": {
      "displayName": "NARDJES AMIEUR",
      "userId": "13751943947351102071"
     },
     "user_tz": -120
    },
    "id": "281_HLHe9Yt-",
    "outputId": "affd4873-fffb-4c4f-bec8-5d9bd185484d"
   },
   "outputs": [
    {
     "data": {
      "text/html": [
       "<div>\n",
       "<style scoped>\n",
       "    .dataframe tbody tr th:only-of-type {\n",
       "        vertical-align: middle;\n",
       "    }\n",
       "\n",
       "    .dataframe tbody tr th {\n",
       "        vertical-align: top;\n",
       "    }\n",
       "\n",
       "    .dataframe thead th {\n",
       "        text-align: right;\n",
       "    }\n",
       "</style>\n",
       "<table border=\"1\" class=\"dataframe\">\n",
       "  <thead>\n",
       "    <tr style=\"text-align: right;\">\n",
       "      <th></th>\n",
       "      <th>ad</th>\n",
       "      <th>moral</th>\n",
       "    </tr>\n",
       "  </thead>\n",
       "  <tbody>\n",
       "    <tr>\n",
       "      <th>0</th>\n",
       "      <td>yearold danylo is not only battling cancer but...</td>\n",
       "      <td>1</td>\n",
       "    </tr>\n",
       "    <tr>\n",
       "      <th>1</th>\n",
       "      <td>learn how to use the new staffing law to impro...</td>\n",
       "      <td>0</td>\n",
       "    </tr>\n",
       "    <tr>\n",
       "      <th>2</th>\n",
       "      <td>we are live with climate activist anuna de wev...</td>\n",
       "      <td>0</td>\n",
       "    </tr>\n",
       "    <tr>\n",
       "      <th>3</th>\n",
       "      <td>did you miss the t summit relive the daylong e...</td>\n",
       "      <td>0</td>\n",
       "    </tr>\n",
       "    <tr>\n",
       "      <th>4</th>\n",
       "      <td>friday is north carolinas online voter registr...</td>\n",
       "      <td>0</td>\n",
       "    </tr>\n",
       "    <tr>\n",
       "      <th>...</th>\n",
       "      <td>...</td>\n",
       "      <td>...</td>\n",
       "    </tr>\n",
       "    <tr>\n",
       "      <th>195</th>\n",
       "      <td>you can make a difference this year donate now...</td>\n",
       "      <td>1</td>\n",
       "    </tr>\n",
       "    <tr>\n",
       "      <th>196</th>\n",
       "      <td>dear readers\\nrussian nazis do not stop exterm...</td>\n",
       "      <td>1</td>\n",
       "    </tr>\n",
       "    <tr>\n",
       "      <th>197</th>\n",
       "      <td>education risks becoming the greatest divider ...</td>\n",
       "      <td>1</td>\n",
       "    </tr>\n",
       "    <tr>\n",
       "      <th>198</th>\n",
       "      <td>shelling killed her mother\\nwithout an urgent ...</td>\n",
       "      <td>1</td>\n",
       "    </tr>\n",
       "    <tr>\n",
       "      <th>199</th>\n",
       "      <td>i would like it all to end\\nplaton is distraug...</td>\n",
       "      <td>1</td>\n",
       "    </tr>\n",
       "  </tbody>\n",
       "</table>\n",
       "<p>200 rows × 2 columns</p>\n",
       "</div>"
      ],
      "text/plain": [
       "                                                    ad  moral\n",
       "0    yearold danylo is not only battling cancer but...      1\n",
       "1    learn how to use the new staffing law to impro...      0\n",
       "2    we are live with climate activist anuna de wev...      0\n",
       "3    did you miss the t summit relive the daylong e...      0\n",
       "4    friday is north carolinas online voter registr...      0\n",
       "..                                                 ...    ...\n",
       "195  you can make a difference this year donate now...      1\n",
       "196  dear readers\\nrussian nazis do not stop exterm...      1\n",
       "197  education risks becoming the greatest divider ...      1\n",
       "198  shelling killed her mother\\nwithout an urgent ...      1\n",
       "199  i would like it all to end\\nplaton is distraug...      1\n",
       "\n",
       "[200 rows x 2 columns]"
      ]
     },
     "execution_count": 13,
     "metadata": {},
     "output_type": "execute_result"
    }
   ],
   "source": [
    "save = pd.read_csv('data/sample_moral_appeal.csv')\n",
    "save"
   ]
  },
  {
   "cell_type": "code",
   "execution_count": 14,
   "metadata": {
    "colab": {
     "base_uri": "https://localhost:8080/",
     "height": 538
    },
    "executionInfo": {
     "elapsed": 911,
     "status": "ok",
     "timestamp": 1654161651115,
     "user": {
      "displayName": "NARDJES AMIEUR",
      "userId": "13751943947351102071"
     },
     "user_tz": -120
    },
    "id": "1BdQXiBnMi8r",
    "outputId": "b0a6494f-a006-489a-dbbe-3ff054ceefb1"
   },
   "outputs": [
    {
     "name": "stdout",
     "output_type": "stream",
     "text": [
      "7/7 [==============================] - 0s 2ms/step\n",
      "Accuracy: 60.00%\n",
      "                 precision    recall  f1-score   support\n",
      "\n",
      "no moral appeal       0.89      0.24      0.38       101\n",
      "   moral appeal       0.55      0.97      0.71        99\n",
      "\n",
      "       accuracy                           0.60       200\n",
      "      macro avg       0.72      0.60      0.54       200\n",
      "   weighted avg       0.72      0.60      0.54       200\n",
      "\n",
      "confusion matrix:\n",
      "[[24 77]\n",
      " [ 3 96]]\n",
      "\n"
     ]
    },
    {
     "data": {
      "image/png": "[encoded data removed]",
      "text/plain": [
       "<Figure size 432x288 with 2 Axes>"
      ]
     },
     "metadata": {
      "needs_background": "light"
     },
     "output_type": "display_data"
    }
   ],
   "source": [
    "norm_ = save['ad']\n",
    "test_ = t.texts_to_sequences(norm_)\n",
    "padded_ = tf.keras.preprocessing.sequence.pad_sequences(test_, maxlen=MAX_SEQUENCE_LENGTH)\n",
    "\n",
    "pred_ = model.predict(padded_)\n",
    "\n",
    "save['predicted'] = [1 if prob > 0.5 else 0 for prob in pred_]\n",
    "\n",
    "scores = model.evaluate(padded_, save['moral'], verbose =False)\n",
    "print(\"Accuracy: %.2f%%\" % (scores[1]*100))\n",
    "print(metrics.classification_report(save['moral'], save['predicted'], target_names=[ 'no moral appeal', 'moral appeal']))\n",
    "print(\"confusion matrix:\")\n",
    "print(metrics.confusion_matrix(save['moral'], save['predicted']))\n",
    "print()\n",
    "\n",
    "skplt.metrics.plot_confusion_matrix(save['moral'], save['predicted'], normalize=True)\n",
    "plt.show()"
   ]
  }
 ],
 "metadata": {
  "colab": {
   "collapsed_sections": [],
   "name": "ANN_moral_appeal.ipynb",
   "provenance": [
    {
     "file_id": "1FqcmtwRj342k95qxf2VScwDTUjgaU-cu",
     "timestamp": 1648038906010
    },
    {
     "file_id": "1v4d_nb0_Rti6Ld8uXmSjUIDpMW3tzvwJ",
     "timestamp": 1640781745185
    }
   ]
  },
  "kernelspec": {
   "display_name": "Python 3 (ipykernel)",
   "language": "python",
   "name": "python3"
  },
  "language_info": {
   "codemirror_mode": {
    "name": "ipython",
    "version": 3
   },
   "file_extension": ".py",
   "mimetype": "text/x-python",
   "name": "python",
   "nbconvert_exporter": "python",
   "pygments_lexer": "ipython3",
   "version": "3.7.3"
  }
 },
 "nbformat": 4,
 "nbformat_minor": 1
}
