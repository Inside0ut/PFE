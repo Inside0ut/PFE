{
  "cells": [
    {
      "cell_type": "code",
      "execution_count": 8,
      "metadata": {
        "colab": {
          "base_uri": "https://localhost:8080/"
        },
        "id": "lv3HN9-6homq",
        "outputId": "14e8d696-66b0-4e87-9a05-18d4893bcf1e"
      },
      "outputs": [],
      "source": [
        "import pandas as pd \n",
        "\n",
        "import matplotlib.pyplot as plt\n",
        "import scikitplot as skplt\n",
        "\n",
        "from sklearn import metrics\n",
        "from sklearn.model_selection import train_test_split\n",
        "from sklearn.feature_extraction.text import  CountVectorizer\n",
        "from sklearn.ensemble import RandomForestClassifier\n",
        "\n",
        "import cleaner as dc\n"
      ]
    },
    {
      "cell_type": "code",
      "execution_count": 4,
      "metadata": {
        "colab": {
          "base_uri": "https://localhost:8080/",
          "height": 423
        },
        "id": "N_sZB_1TiEqA",
        "outputId": "7ce593a1-ec86-413f-ea58-1cdf89cf52ea"
      },
      "outputs": [
        {
          "data": {
            "text/html": [
              "<div>\n",
              "<style scoped>\n",
              "    .dataframe tbody tr th:only-of-type {\n",
              "        vertical-align: middle;\n",
              "    }\n",
              "\n",
              "    .dataframe tbody tr th {\n",
              "        vertical-align: top;\n",
              "    }\n",
              "\n",
              "    .dataframe thead th {\n",
              "        text-align: right;\n",
              "    }\n",
              "</style>\n",
              "<table border=\"1\" class=\"dataframe\">\n",
              "  <thead>\n",
              "    <tr style=\"text-align: right;\">\n",
              "      <th></th>\n",
              "      <th>ad</th>\n",
              "      <th>emotion</th>\n",
              "    </tr>\n",
              "  </thead>\n",
              "  <tbody>\n",
              "    <tr>\n",
              "      <th>0</th>\n",
              "      <td>tea with starr and a friend feel free to post ...</td>\n",
              "      <td>0</td>\n",
              "    </tr>\n",
              "    <tr>\n",
              "      <th>1</th>\n",
              "      <td>defamedtoo click the link below to sign the pe...</td>\n",
              "      <td>0</td>\n",
              "    </tr>\n",
              "    <tr>\n",
              "      <th>2</th>\n",
              "      <td>something to think about</td>\n",
              "      <td>0</td>\n",
              "    </tr>\n",
              "    <tr>\n",
              "      <th>3</th>\n",
              "      <td>levy et al j am coll cardiol conducted a prosp...</td>\n",
              "      <td>0</td>\n",
              "    </tr>\n",
              "    <tr>\n",
              "      <th>4</th>\n",
              "      <td>tag your friends and family below and ask them...</td>\n",
              "      <td>0</td>\n",
              "    </tr>\n",
              "    <tr>\n",
              "      <th>...</th>\n",
              "      <td>...</td>\n",
              "      <td>...</td>\n",
              "    </tr>\n",
              "    <tr>\n",
              "      <th>7138</th>\n",
              "      <td>i am running for congress to return the govern...</td>\n",
              "      <td>1</td>\n",
              "    </tr>\n",
              "    <tr>\n",
              "      <th>7139</th>\n",
              "      <td>welcome to my facebook page im john anderson i...</td>\n",
              "      <td>1</td>\n",
              "    </tr>\n",
              "    <tr>\n",
              "      <th>7140</th>\n",
              "      <td>this is it the end of a decade tonight in time...</td>\n",
              "      <td>1</td>\n",
              "    </tr>\n",
              "    <tr>\n",
              "      <th>7141</th>\n",
              "      <td>we are looking for people with ankylosing spon...</td>\n",
              "      <td>1</td>\n",
              "    </tr>\n",
              "    <tr>\n",
              "      <th>7142</th>\n",
              "      <td>these little souls watch us mamas they are lea...</td>\n",
              "      <td>1</td>\n",
              "    </tr>\n",
              "  </tbody>\n",
              "</table>\n",
              "<p>7143 rows × 2 columns</p>\n",
              "</div>"
            ],
            "text/plain": [
              "                                                     ad  emotion\n",
              "0     tea with starr and a friend feel free to post ...        0\n",
              "1     defamedtoo click the link below to sign the pe...        0\n",
              "2                              something to think about        0\n",
              "3     levy et al j am coll cardiol conducted a prosp...        0\n",
              "4     tag your friends and family below and ask them...        0\n",
              "...                                                 ...      ...\n",
              "7138  i am running for congress to return the govern...        1\n",
              "7139  welcome to my facebook page im john anderson i...        1\n",
              "7140  this is it the end of a decade tonight in time...        1\n",
              "7141  we are looking for people with ankylosing spon...        1\n",
              "7142  these little souls watch us mamas they are lea...        1\n",
              "\n",
              "[7143 rows x 2 columns]"
            ]
          },
          "execution_count": 4,
          "metadata": {},
          "output_type": "execute_result"
        }
      ],
      "source": [
        "df = pd.read_csv('data/balanced_emotional_appeal_dataset.csv')\n",
        "df"
      ]
    },
    {
      "cell_type": "code",
      "execution_count": 5,
      "metadata": {},
      "outputs": [],
      "source": [
        "# Lower case\n",
        "df['ad']= df['ad'].apply(lambda x: x.lower())\n",
        "\n",
        "# Removing punctuations\n",
        "df['ad']= df['ad'].str.replace('[^\\w\\s]','', regex=True)\n",
        "\n",
        "# Removing numbers\n",
        "df['ad']= df['ad'].str.replace('\\d+','',regex=True)\n",
        "\n",
        "# Removing extra space \n",
        "df['ad']= df['ad'].str.replace('\\s+', ' ',  regex=True)\n",
        "\n",
        "#Apply denoise function\n",
        "df['ad']= df['ad'].apply(dc.denoise_text)\n",
        "\n",
        "#Apply function on review column\n",
        "df['ad']= df['ad'].apply(dc.remove_stopwords)\n",
        "\n",
        "#Apply function on review column\n",
        "df['ad']= df['ad'].apply(dc.remove_special_characters)\n",
        "\n",
        "#Apply function on review column\n",
        "df['ad']= df['ad'].apply(dc.simple_stemmer)"
      ]
    },
    {
      "cell_type": "code",
      "execution_count": 6,
      "metadata": {
        "id": "hh4tXNkoiKnw"
      },
      "outputs": [],
      "source": [
        "X_train,  X_test, y_train, y_test  = train_test_split(df['ad'], df['emotion'], test_size =0.1  , random_state = 42)"
      ]
    },
    {
      "cell_type": "code",
      "execution_count": 7,
      "metadata": {
        "id": "x8oM0JDDip3P"
      },
      "outputs": [],
      "source": [
        "# Use term frequency to represent documents\n",
        "tf_vectorizer = CountVectorizer() \n",
        "\n",
        "X_train = tf_vectorizer.fit_transform(X_train)\n",
        "X_test = tf_vectorizer.transform(X_test)"
      ]
    },
    {
      "cell_type": "code",
      "execution_count": 9,
      "metadata": {
        "colab": {
          "base_uri": "https://localhost:8080/"
        },
        "id": "FfbybtGGiIFA",
        "outputId": "fe70fcc2-de1a-4fd3-85db-4b068f1cfcdb"
      },
      "outputs": [
        {
          "data": {
            "text/html": [
              "<style>#sk-container-id-1 {color: black;background-color: white;}#sk-container-id-1 pre{padding: 0;}#sk-container-id-1 div.sk-toggleable {background-color: white;}#sk-container-id-1 label.sk-toggleable__label {cursor: pointer;display: block;width: 100%;margin-bottom: 0;padding: 0.3em;box-sizing: border-box;text-align: center;}#sk-container-id-1 label.sk-toggleable__label-arrow:before {content: \"▸\";float: left;margin-right: 0.25em;color: #696969;}#sk-container-id-1 label.sk-toggleable__label-arrow:hover:before {color: black;}#sk-container-id-1 div.sk-estimator:hover label.sk-toggleable__label-arrow:before {color: black;}#sk-container-id-1 div.sk-toggleable__content {max-height: 0;max-width: 0;overflow: hidden;text-align: left;background-color: #f0f8ff;}#sk-container-id-1 div.sk-toggleable__content pre {margin: 0.2em;color: black;border-radius: 0.25em;background-color: #f0f8ff;}#sk-container-id-1 input.sk-toggleable__control:checked~div.sk-toggleable__content {max-height: 200px;max-width: 100%;overflow: auto;}#sk-container-id-1 input.sk-toggleable__control:checked~label.sk-toggleable__label-arrow:before {content: \"▾\";}#sk-container-id-1 div.sk-estimator input.sk-toggleable__control:checked~label.sk-toggleable__label {background-color: #d4ebff;}#sk-container-id-1 div.sk-label input.sk-toggleable__control:checked~label.sk-toggleable__label {background-color: #d4ebff;}#sk-container-id-1 input.sk-hidden--visually {border: 0;clip: rect(1px 1px 1px 1px);clip: rect(1px, 1px, 1px, 1px);height: 1px;margin: -1px;overflow: hidden;padding: 0;position: absolute;width: 1px;}#sk-container-id-1 div.sk-estimator {font-family: monospace;background-color: #f0f8ff;border: 1px dotted black;border-radius: 0.25em;box-sizing: border-box;margin-bottom: 0.5em;}#sk-container-id-1 div.sk-estimator:hover {background-color: #d4ebff;}#sk-container-id-1 div.sk-parallel-item::after {content: \"\";width: 100%;border-bottom: 1px solid gray;flex-grow: 1;}#sk-container-id-1 div.sk-label:hover label.sk-toggleable__label {background-color: #d4ebff;}#sk-container-id-1 div.sk-serial::before {content: \"\";position: absolute;border-left: 1px solid gray;box-sizing: border-box;top: 0;bottom: 0;left: 50%;z-index: 0;}#sk-container-id-1 div.sk-serial {display: flex;flex-direction: column;align-items: center;background-color: white;padding-right: 0.2em;padding-left: 0.2em;position: relative;}#sk-container-id-1 div.sk-item {position: relative;z-index: 1;}#sk-container-id-1 div.sk-parallel {display: flex;align-items: stretch;justify-content: center;background-color: white;position: relative;}#sk-container-id-1 div.sk-item::before, #sk-container-id-1 div.sk-parallel-item::before {content: \"\";position: absolute;border-left: 1px solid gray;box-sizing: border-box;top: 0;bottom: 0;left: 50%;z-index: -1;}#sk-container-id-1 div.sk-parallel-item {display: flex;flex-direction: column;z-index: 1;position: relative;background-color: white;}#sk-container-id-1 div.sk-parallel-item:first-child::after {align-self: flex-end;width: 50%;}#sk-container-id-1 div.sk-parallel-item:last-child::after {align-self: flex-start;width: 50%;}#sk-container-id-1 div.sk-parallel-item:only-child::after {width: 0;}#sk-container-id-1 div.sk-dashed-wrapped {border: 1px dashed gray;margin: 0 0.4em 0.5em 0.4em;box-sizing: border-box;padding-bottom: 0.4em;background-color: white;}#sk-container-id-1 div.sk-label label {font-family: monospace;font-weight: bold;display: inline-block;line-height: 1.2em;}#sk-container-id-1 div.sk-label-container {text-align: center;}#sk-container-id-1 div.sk-container {/* jupyter's `normalize.less` sets `[hidden] { display: none; }` but bootstrap.min.css set `[hidden] { display: none !important; }` so we also need the `!important` here to be able to override the default hidden behavior on the sphinx rendered scikit-learn.org. See: https://github.com/scikit-learn/scikit-learn/issues/21755 */display: inline-block !important;position: relative;}#sk-container-id-1 div.sk-text-repr-fallback {display: none;}</style><div id=\"sk-container-id-1\" class=\"sk-top-container\"><div class=\"sk-text-repr-fallback\"><pre>RandomForestClassifier(n_estimators=200, oob_score=True)</pre><b>In a Jupyter environment, please rerun this cell to show the HTML representation or trust the notebook. <br />On GitHub, the HTML representation is unable to render, please try loading this page with nbviewer.org.</b></div><div class=\"sk-container\" hidden><div class=\"sk-item\"><div class=\"sk-estimator sk-toggleable\"><input class=\"sk-toggleable__control sk-hidden--visually\" id=\"sk-estimator-id-1\" type=\"checkbox\" checked><label for=\"sk-estimator-id-1\" class=\"sk-toggleable__label sk-toggleable__label-arrow\">RandomForestClassifier</label><div class=\"sk-toggleable__content\"><pre>RandomForestClassifier(n_estimators=200, oob_score=True)</pre></div></div></div></div></div>"
            ],
            "text/plain": [
              "RandomForestClassifier(n_estimators=200, oob_score=True)"
            ]
          },
          "execution_count": 9,
          "metadata": {},
          "output_type": "execute_result"
        }
      ],
      "source": [
        "# Creating and training  the model \n",
        "clf = RandomForestClassifier(\n",
        "    n_estimators = 200, \n",
        "    criterion = 'gini',\n",
        "    oob_score = True\n",
        ")\n",
        "clf.fit(X_train, y_train)"
      ]
    },
    {
      "cell_type": "code",
      "execution_count": 10,
      "metadata": {
        "colab": {
          "base_uri": "https://localhost:8080/",
          "height": 551
        },
        "id": "cKOOkNQCkyQK",
        "outputId": "9cd4b3ac-09b5-4bef-b1a3-1489c72e4c06"
      },
      "outputs": [
        {
          "name": "stdout",
          "output_type": "stream",
          "text": [
            "accuracy:   0.902\n",
            "              precision    recall  f1-score   support\n",
            "\n",
            "non positive       0.88      0.91      0.90       335\n",
            "    positive       0.92      0.89      0.91       380\n",
            "\n",
            "    accuracy                           0.90       715\n",
            "   macro avg       0.90      0.90      0.90       715\n",
            "weighted avg       0.90      0.90      0.90       715\n",
            "\n",
            "confusion matrix:\n",
            "[[306  29]\n",
            " [ 41 339]]\n",
            "\n"
          ]
        },
        {
          "data": {
            "image/png": "[encoded data removed]",
            "text/plain": [
              "<Figure size 432x288 with 2 Axes>"
            ]
          },
          "metadata": {
            "needs_background": "light"
          },
          "output_type": "display_data"
        }
      ],
      "source": [
        "# predict the labels on validation dataset\n",
        "predictions = clf.predict(X_test)\n",
        "\n",
        "# compute the performance measures\n",
        "score = metrics.accuracy_score(y_test, predictions)\n",
        "print(\"accuracy:   %0.3f\" % score)\n",
        "\n",
        "print(metrics.classification_report(y_test, predictions, target_names=['non positive', 'positive']))\n",
        "\n",
        "print(\"confusion matrix:\")\n",
        "print(metrics.confusion_matrix(y_test, predictions))\n",
        "print()\n",
        "skplt.metrics.plot_confusion_matrix(y_test, predictions, normalize=True)\n",
        "plt.show()"
      ]
    },
    {
      "cell_type": "code",
      "execution_count": 11,
      "metadata": {
        "colab": {
          "base_uri": "https://localhost:8080/"
        },
        "id": "TpDExgJlk04s",
        "outputId": "0de071e4-c9f9-445c-f16c-90c95c249fff"
      },
      "outputs": [],
      "source": [
        "df_val = pd.read_csv('data/sample.csv')\n",
        "\n",
        "# Lower case\n",
        "df_val['ad']= df_val['ad'].apply(lambda x: x.lower())\n",
        "\n",
        "# Removing punctuations\n",
        "df_val['ad']= df_val['ad'].str.replace('[^\\w\\s]','', regex=True)\n",
        "\n",
        "# Removing numbers\n",
        "df_val['ad']= df_val['ad'].str.replace('\\d+','', regex=True)\n",
        "\n",
        "# Removing extra space \n",
        "df_val['ad']= df_val['ad'].str.replace('\\s+', ' ', regex=True)\n",
        "\n",
        "#Apply function on review column\n",
        "df_val['ad']= df_val['ad'].apply(dc.remove_stopwords)\n",
        "\n",
        "#Apply function on review column\n",
        "df_val['ad']= df_val['ad'].apply(dc.denoise_text)\n",
        "\n",
        "#Apply function on review column\n",
        "df_val['ad']= df_val['ad'].apply(dc.remove_special_characters)\n",
        "\n",
        "#Apply function on review column\n",
        "df_val['ad']= df_val['ad'].apply(dc.simple_stemmer)"
      ]
    },
    {
      "cell_type": "code",
      "execution_count": 12,
      "metadata": {
        "colab": {
          "base_uri": "https://localhost:8080/",
          "height": 551
        },
        "id": "dRa9qVj-k6_X",
        "outputId": "b1661507-dc24-40b7-b5e1-d3e19896eb42"
      },
      "outputs": [
        {
          "name": "stdout",
          "output_type": "stream",
          "text": [
            "accuracy:   0.836\n",
            "              precision    recall  f1-score   support\n",
            "\n",
            "           0       0.64      0.70      0.67        40\n",
            "           1       0.91      0.88      0.89       131\n",
            "\n",
            "    accuracy                           0.84       171\n",
            "   macro avg       0.77      0.79      0.78       171\n",
            "weighted avg       0.84      0.84      0.84       171\n",
            "\n",
            "confusion matrix:\n",
            "[[ 28  12]\n",
            " [ 16 115]]\n",
            "\n"
          ]
        },
        {
          "data": {
            "image/png": "[encoded data removed]",
            "text/plain": [
              "<Figure size 432x288 with 2 Axes>"
            ]
          },
          "metadata": {
            "needs_background": "light"
          },
          "output_type": "display_data"
        }
      ],
      "source": [
        "X_val_tf = tf_vectorizer.transform(df_val['ad'])\n",
        "y_val = df_val['emotion']\n",
        "predictions = clf.predict(X_val_tf)\n",
        "\n",
        "# compute the performance measures\n",
        "score = metrics.accuracy_score(y_val, predictions)\n",
        "print(\"accuracy:   %0.3f\" % score)\n",
        "\n",
        "\n",
        "print(metrics.classification_report(y_val, predictions, target_names=['0', '1']))\n",
        "\n",
        "print(\"confusion matrix:\")\n",
        "print(metrics.confusion_matrix(y_val, predictions))\n",
        "print()\n",
        "skplt.metrics.plot_confusion_matrix(y_val, predictions, normalize=True)\n",
        "plt.show()"
      ]
    }
  ],
  "metadata": {
    "colab": {
      "name": "binary_emotional_appeal_randomforest.ipynb",
      "provenance": []
    },
    "kernelspec": {
      "display_name": "Python 3.9.13 64-bit (windows store)",
      "language": "python",
      "name": "python3"
    },
    "language_info": {
      "codemirror_mode": {
        "name": "ipython",
        "version": 3
      },
      "file_extension": ".py",
      "mimetype": "text/x-python",
      "name": "python",
      "nbconvert_exporter": "python",
      "pygments_lexer": "ipython3",
      "version": "3.9.13"
    },
    "vscode": {
      "interpreter": {
        "hash": "f8f14f5a7c49a331ac7a55934b43ce13bd28be1333db14e2d71768ad3378996c"
      }
    }
  },
  "nbformat": 4,
  "nbformat_minor": 0
}
