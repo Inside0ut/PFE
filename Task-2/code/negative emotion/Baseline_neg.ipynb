{
 "cells": [
  {
   "cell_type": "code",
   "execution_count": 1,
   "metadata": {},
   "outputs": [],
   "source": [
    "import pandas as pd \n",
    "from sklearn import metrics\n",
    "\n",
    "import matplotlib.pyplot as plt\n",
    "import scikitplot as skplt"
   ]
  },
  {
   "cell_type": "code",
   "execution_count": 2,
   "metadata": {},
   "outputs": [
    {
     "data": {
      "text/html": [
       "<div>\n",
       "<style scoped>\n",
       "    .dataframe tbody tr th:only-of-type {\n",
       "        vertical-align: middle;\n",
       "    }\n",
       "\n",
       "    .dataframe tbody tr th {\n",
       "        vertical-align: top;\n",
       "    }\n",
       "\n",
       "    .dataframe thead th {\n",
       "        text-align: right;\n",
       "    }\n",
       "</style>\n",
       "<table border=\"1\" class=\"dataframe\">\n",
       "  <thead>\n",
       "    <tr style=\"text-align: right;\">\n",
       "      <th></th>\n",
       "      <th>ad</th>\n",
       "      <th>neg_emo</th>\n",
       "    </tr>\n",
       "  </thead>\n",
       "  <tbody>\n",
       "    <tr>\n",
       "      <th>0</th>\n",
       "      <td>See why everyone is celebrating at Hoblit Dodg...</td>\n",
       "      <td>0</td>\n",
       "    </tr>\n",
       "    <tr>\n",
       "      <th>1</th>\n",
       "      <td>Help give people without a home a chance to le...</td>\n",
       "      <td>0</td>\n",
       "    </tr>\n",
       "    <tr>\n",
       "      <th>2</th>\n",
       "      <td>I am so proud of what this grassroots team has...</td>\n",
       "      <td>0</td>\n",
       "    </tr>\n",
       "    <tr>\n",
       "      <th>3</th>\n",
       "      <td>We have until March 31st to raise money for ou...</td>\n",
       "      <td>0</td>\n",
       "    </tr>\n",
       "    <tr>\n",
       "      <th>4</th>\n",
       "      <td>Learn how to use the new staffing law to impro...</td>\n",
       "      <td>0</td>\n",
       "    </tr>\n",
       "    <tr>\n",
       "      <th>...</th>\n",
       "      <td>...</td>\n",
       "      <td>...</td>\n",
       "    </tr>\n",
       "    <tr>\n",
       "      <th>119</th>\n",
       "      <td>Blood donation saves lives!\\nThis cannot be sa...</td>\n",
       "      <td>0</td>\n",
       "    </tr>\n",
       "    <tr>\n",
       "      <th>120</th>\n",
       "      <td>Over 10,000 Palestinians have been forced left...</td>\n",
       "      <td>1</td>\n",
       "    </tr>\n",
       "    <tr>\n",
       "      <th>121</th>\n",
       "      <td>Palestine Emergency Appeal: 53 Palestinians, i...</td>\n",
       "      <td>1</td>\n",
       "    </tr>\n",
       "    <tr>\n",
       "      <th>122</th>\n",
       "      <td>Let's build Cameroon. Wake up Cameroonians and...</td>\n",
       "      <td>0</td>\n",
       "    </tr>\n",
       "    <tr>\n",
       "      <th>123</th>\n",
       "      <td>We know how challenging it can be to find the ...</td>\n",
       "      <td>0</td>\n",
       "    </tr>\n",
       "  </tbody>\n",
       "</table>\n",
       "<p>124 rows × 2 columns</p>\n",
       "</div>"
      ],
      "text/plain": [
       "                                                    ad  neg_emo\n",
       "0    See why everyone is celebrating at Hoblit Dodg...        0\n",
       "1    Help give people without a home a chance to le...        0\n",
       "2    I am so proud of what this grassroots team has...        0\n",
       "3    We have until March 31st to raise money for ou...        0\n",
       "4    Learn how to use the new staffing law to impro...        0\n",
       "..                                                 ...      ...\n",
       "119  Blood donation saves lives!\\nThis cannot be sa...        0\n",
       "120  Over 10,000 Palestinians have been forced left...        1\n",
       "121  Palestine Emergency Appeal: 53 Palestinians, i...        1\n",
       "122  Let's build Cameroon. Wake up Cameroonians and...        0\n",
       "123  We know how challenging it can be to find the ...        0\n",
       "\n",
       "[124 rows x 2 columns]"
      ]
     },
     "execution_count": 2,
     "metadata": {},
     "output_type": "execute_result"
    }
   ],
   "source": [
    "df = pd.read_csv('./data/sample_negative_emotion.csv')\n",
    "df"
   ]
  },
  {
   "cell_type": "code",
   "execution_count": 4,
   "metadata": {},
   "outputs": [],
   "source": [
    "# creating prediction model\n",
    "\n",
    "# creating the filters \n",
    "filters =  [  'suffering', 'suffered','nightmare','forced','abuse','abused','burden','getting worse','horror','violence','catastrophe','affraid','cruelty','deadly','terror'\n",
    "                 'danger', 'dangerous',  'regret', 'regretted', 'rejection', \n",
    "                 'reject','rejected', 'risk', 'risked', 'sabotage', 'sabotaged', 'sabotaging', 'scary', 'scared',\n",
    "                 'suffer', 'threat','threatened', 'threatening', 'tragic', 'tragically', 'tragical', 'trapped' , 'trap',\n",
    "                 'fail', 'fails', 'failed', 'failing', 'victim', 'fooled','fooling', 'helpless', 'hurting', 'hurt', 'scared',\n",
    "                 'mistake' , 'mistaken', 'neglect','neglected', 'neglecting', 'pitfalls', 'powerless', \n",
    "                 'vulnerable', 'waste', 'wasted','wasting', 'worry', 'worried', 'worrying', 'disappointed', 'dissapoint', 'dissapointing',\n",
    "                 'frustrated', 'frsutrating', 'greedy',  'greed', 'irritated',  'maddening', 'mad',\n",
    "                 'ruthless',  'misleading', 'frustration','infuriating','infuriated', 'pointless', 'reclaim', 'reclaimed', 'sick', 'tired', 'tiring', 'swindled', 'swindle', \n",
    "                 'trigger', 'triggered', 'unacceptable', 'violate', 'violated', 'uncomfortable', 'victims', 'risking', 'critcial', 'critically', 'concerning', 'concerned', \n",
    "                 'problamatic', \n",
    "                  'drastic', 'drastiaclly', 'hardship', 'hardships', \n",
    "                 'rigging', 'rape', 'raped', 'assault', 'assaulted', 'assaulting', 'insult', 'insulting', 'murder', \n",
    "                 'weapon',  'rigged', \n",
    "                 'desperate', 'desperated',  'danger', 'regret',  'risk', 'sabotage', 'scary','threat',\n",
    "                  'tragic', 'victim',  'helpless', 'hurting','vulnerable', 'frustrated', 'greedy',\n",
    "                 'irritated',  'violate'\n",
    "            ]\n",
    "\n",
    "def contains_filter(x):\n",
    "    for filter in filters:\n",
    "        if filter in x:\n",
    "            return 1\n",
    "    return 0\n",
    "\n",
    "def predict(X): \n",
    "    '''\n",
    "        This function takes in a dataframe and returns the predicted values \n",
    "        params:\n",
    "            X: dataframe\n",
    "        returns:\n",
    "            predicted values using the filters \n",
    "    '''\n",
    "    X['prediction'] = X['ad'].apply(contains_filter)\n",
    "    return X['prediction']\n"
   ]
  },
  {
   "cell_type": "code",
   "execution_count": 5,
   "metadata": {},
   "outputs": [
    {
     "name": "stdout",
     "output_type": "stream",
     "text": [
      "accuracy:   0.831\n",
      "                     precision    recall  f1-score   support\n",
      "\n",
      "no negative emotion       0.85      0.90      0.88        82\n",
      "   negative emotion       0.78      0.69      0.73        42\n",
      "\n",
      "           accuracy                           0.83       124\n",
      "          macro avg       0.82      0.80      0.80       124\n",
      "       weighted avg       0.83      0.83      0.83       124\n",
      "\n",
      "confusion matrix:\n",
      "[[74  8]\n",
      " [13 29]]\n",
      "\n"
     ]
    },
    {
     "data": {
      "image/png": "[encoded data removed]",
      "text/plain": [
       "<Figure size 432x288 with 2 Axes>"
      ]
     },
     "metadata": {
      "needs_background": "light"
     },
     "output_type": "display_data"
    }
   ],
   "source": [
    "y_pred = predict(df)\n",
    "\n",
    "# model performance\n",
    "score = metrics.accuracy_score(df['neg_emo'], y_pred)\n",
    "print(\"accuracy:   %0.3f\" % score)\n",
    "\n",
    "print(metrics.classification_report(df['neg_emo'], y_pred, target_names=['no negative emotion', 'negative emotion']))\n",
    "\n",
    "print(\"confusion matrix:\")\n",
    "print(metrics.confusion_matrix(df['neg_emo'], y_pred))\n",
    "print()\n",
    "\n",
    "skplt.metrics.plot_confusion_matrix(df['neg_emo'], y_pred, normalize=True)\n",
    "plt.show()"
   ]
  }
 ],
 "metadata": {
  "interpreter": {
   "hash": "a5b9b38b543acef8c99a55356e1a83c226e44beb9292ee82f1e87a7fd9afffb6"
  },
  "kernelspec": {
   "display_name": "Python 3.7.9 64-bit (windows store)",
   "language": "python",
   "name": "python3"
  },
  "language_info": {
   "codemirror_mode": {
    "name": "ipython",
    "version": 3
   },
   "file_extension": ".py",
   "mimetype": "text/x-python",
   "name": "python",
   "nbconvert_exporter": "python",
   "pygments_lexer": "ipython3",
   "version": "3.7.9"
  },
  "orig_nbformat": 4
 },
 "nbformat": 4,
 "nbformat_minor": 2
}
