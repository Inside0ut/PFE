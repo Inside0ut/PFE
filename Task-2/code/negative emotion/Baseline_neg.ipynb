{
 "cells": [
  {
   "cell_type": "code",
   "execution_count": 1,
   "metadata": {},
   "outputs": [],
   "source": [
    "import pandas as pd \n",
    "from sklearn import metrics\n",
    "\n",
    "import matplotlib.pyplot as plt\n",
    "import scikitplot as skplt"
   ]
  },
  {
   "cell_type": "code",
   "execution_count": 4,
   "metadata": {},
   "outputs": [
    {
     "data": {
      "text/html": [
       "<div>\n",
       "<style scoped>\n",
       "    .dataframe tbody tr th:only-of-type {\n",
       "        vertical-align: middle;\n",
       "    }\n",
       "\n",
       "    .dataframe tbody tr th {\n",
       "        vertical-align: top;\n",
       "    }\n",
       "\n",
       "    .dataframe thead th {\n",
       "        text-align: right;\n",
       "    }\n",
       "</style>\n",
       "<table border=\"1\" class=\"dataframe\">\n",
       "  <thead>\n",
       "    <tr style=\"text-align: right;\">\n",
       "      <th></th>\n",
       "      <th>ad</th>\n",
       "      <th>neg_emo</th>\n",
       "    </tr>\n",
       "  </thead>\n",
       "  <tbody>\n",
       "    <tr>\n",
       "      <th>0</th>\n",
       "      <td>see why everyone is celebrating at hoblit dodg...</td>\n",
       "      <td>0</td>\n",
       "    </tr>\n",
       "    <tr>\n",
       "      <th>1</th>\n",
       "      <td>help give people without a home a chance to le...</td>\n",
       "      <td>0</td>\n",
       "    </tr>\n",
       "    <tr>\n",
       "      <th>2</th>\n",
       "      <td>i am so proud of what this grassroots team has...</td>\n",
       "      <td>0</td>\n",
       "    </tr>\n",
       "    <tr>\n",
       "      <th>3</th>\n",
       "      <td>we have until march st to raise money for our ...</td>\n",
       "      <td>0</td>\n",
       "    </tr>\n",
       "    <tr>\n",
       "      <th>4</th>\n",
       "      <td>learn how to use the new staffing law to impro...</td>\n",
       "      <td>0</td>\n",
       "    </tr>\n",
       "    <tr>\n",
       "      <th>...</th>\n",
       "      <td>...</td>\n",
       "      <td>...</td>\n",
       "    </tr>\n",
       "    <tr>\n",
       "      <th>195</th>\n",
       "      <td>ukraine needs your support\\r\\nany donation you...</td>\n",
       "      <td>0</td>\n",
       "    </tr>\n",
       "    <tr>\n",
       "      <th>196</th>\n",
       "      <td>help odessa help ukraine\\r\\nyour donations go ...</td>\n",
       "      <td>0</td>\n",
       "    </tr>\n",
       "    <tr>\n",
       "      <th>197</th>\n",
       "      <td>hundreds have been killed and scores more infl...</td>\n",
       "      <td>1</td>\n",
       "    </tr>\n",
       "    <tr>\n",
       "      <th>198</th>\n",
       "      <td>end of month is tomorrow  less than  hours to ...</td>\n",
       "      <td>0</td>\n",
       "    </tr>\n",
       "    <tr>\n",
       "      <th>199</th>\n",
       "      <td>seize the opportunity to position alberta for ...</td>\n",
       "      <td>0</td>\n",
       "    </tr>\n",
       "  </tbody>\n",
       "</table>\n",
       "<p>200 rows × 2 columns</p>\n",
       "</div>"
      ],
      "text/plain": [
       "                                                    ad  neg_emo\n",
       "0    see why everyone is celebrating at hoblit dodg...        0\n",
       "1    help give people without a home a chance to le...        0\n",
       "2    i am so proud of what this grassroots team has...        0\n",
       "3    we have until march st to raise money for our ...        0\n",
       "4    learn how to use the new staffing law to impro...        0\n",
       "..                                                 ...      ...\n",
       "195  ukraine needs your support\\r\\nany donation you...        0\n",
       "196  help odessa help ukraine\\r\\nyour donations go ...        0\n",
       "197  hundreds have been killed and scores more infl...        1\n",
       "198  end of month is tomorrow  less than  hours to ...        0\n",
       "199  seize the opportunity to position alberta for ...        0\n",
       "\n",
       "[200 rows x 2 columns]"
      ]
     },
     "execution_count": 4,
     "metadata": {},
     "output_type": "execute_result"
    }
   ],
   "source": [
    "df = pd.read_csv('./data/sample_negative_emotion_clean.csv', index_col= 0)\n",
    "df"
   ]
  },
  {
   "cell_type": "code",
   "execution_count": 5,
   "metadata": {},
   "outputs": [],
   "source": [
    "# creating prediction model\n",
    "\n",
    "# creating the filters \n",
    "filters =  ['suffering', 'suffered','nightmare','forced','abuse','abused','burden','getting worse','horror','violence',\n",
    "                    'catastrophe','affraid','cruelty','deadly','terror', 'danger', 'dangerous',  'regret', 'regretted', 'rejection', \n",
    "                    'reject','rejected', 'risk', 'risked', 'sabotage', 'sabotaged', 'sabotaging', 'scary', 'scared','suffer', 'threat',\n",
    "                    'threatened', 'threatening', 'tragic', 'tragically', 'tragical', 'trapped' , 'trap','fail', 'fails', 'failed', 'failing', \n",
    "                    'victim', 'fooled','fooling', 'helpless', 'hurting', 'hurt', 'scared','mistake' , 'mistaken', 'neglect','neglected', 'neglecting', \n",
    "                    'pitfalls', 'powerless', 'vulnerable', 'waste', 'wasted','wasting', 'worry', 'worried', 'worrying', 'disappointed', 'dissapoint', \n",
    "                    'dissapointing','frustrated', 'frsutrating', 'greedy',  'greed','irritated',  'maddening', 'mad', 'ruthless',  'misleading', \n",
    "                    'frustration','infuriating','infuriated', 'pointless', 'reclaim', 'reclaimed', 'sick', 'tired', 'tiring', 'swindled', 'swindle',\n",
    "                    'trigger', 'triggered', 'unacceptable', 'violate', 'uncomfortable', 'victim', 'risking', 'critcial', 'critically', \n",
    "                    'concerning', 'concerned', 'problamatic', 'drastic', 'drastiaclly', 'hardship', 'hardships', 'rigging', 'rape', 'raped', \n",
    "                    'assault', 'assaulted', 'assaulting', 'insult', 'insulting', 'murder', 'weapon',  'rigged', 'desperate', 'desperated', \n",
    "                    'danger', 'regret',  'risk', 'sabotage', 'scary','threat','tragic', 'helpless', 'hurting','vulnerable', \n",
    "                    'frustrated', 'greedy','irritated',  'violate' ]\n",
    "\n",
    "def contains_filter(x):\n",
    "    for filter in filters:\n",
    "        if filter in x:\n",
    "            return 1\n",
    "    return 0\n",
    "\n",
    "def predict(X): \n",
    "    '''\n",
    "        This function takes in a dataframe and returns the predicted values \n",
    "        params:\n",
    "            X: dataframe\n",
    "        returns:\n",
    "            predicted values using the filters \n",
    "    '''\n",
    "    X['prediction'] = X['ad'].apply(contains_filter)\n",
    "    return X['prediction']\n"
   ]
  },
  {
   "cell_type": "code",
   "execution_count": 6,
   "metadata": {},
   "outputs": [
    {
     "name": "stdout",
     "output_type": "stream",
     "text": [
      "accuracy:   0.795\n",
      "                     precision    recall  f1-score   support\n",
      "\n",
      "no negative emotion       0.74      0.92      0.82       100\n",
      "   negative emotion       0.89      0.67      0.77       100\n",
      "\n",
      "           accuracy                           0.80       200\n",
      "          macro avg       0.81      0.80      0.79       200\n",
      "       weighted avg       0.81      0.80      0.79       200\n",
      "\n",
      "confusion matrix:\n",
      "[[92  8]\n",
      " [33 67]]\n",
      "\n"
     ]
    },
    {
     "data": {
      "image/png": "[encoded data removed]",
      "text/plain": [
       "<Figure size 432x288 with 2 Axes>"
      ]
     },
     "metadata": {
      "needs_background": "light"
     },
     "output_type": "display_data"
    }
   ],
   "source": [
    "y_pred = predict(df)\n",
    "\n",
    "# model performance\n",
    "score = metrics.accuracy_score(df['neg_emo'], y_pred)\n",
    "print(\"accuracy:   %0.3f\" % score)\n",
    "\n",
    "print(metrics.classification_report(df['neg_emo'], y_pred, target_names=['no negative emotion', 'negative emotion']))\n",
    "\n",
    "print(\"confusion matrix:\")\n",
    "print(metrics.confusion_matrix(df['neg_emo'], y_pred))\n",
    "print()\n",
    "\n",
    "skplt.metrics.plot_confusion_matrix(df['neg_emo'], y_pred, normalize=True)\n",
    "plt.show()"
   ]
  }
 ],
 "metadata": {
  "interpreter": {
   "hash": "a5b9b38b543acef8c99a55356e1a83c226e44beb9292ee82f1e87a7fd9afffb6"
  },
  "kernelspec": {
   "display_name": "Python 3.7.9 64-bit (windows store)",
   "language": "python",
   "name": "python3"
  },
  "language_info": {
   "codemirror_mode": {
    "name": "ipython",
    "version": 3
   },
   "file_extension": ".py",
   "mimetype": "text/x-python",
   "name": "python",
   "nbconvert_exporter": "python",
   "pygments_lexer": "ipython3",
   "version": "3.7.9"
  },
  "orig_nbformat": 4
 },
 "nbformat": 4,
 "nbformat_minor": 2
}
