{
 "cells": [
  {
   "cell_type": "markdown",
   "metadata": {},
   "source": [
    "\n",
    "## BERT Model \n",
    "\n",
    "#### A Fine Tuned BERT classifier"
   ]
  },
  {
   "cell_type": "code",
   "execution_count": 1,
   "metadata": {},
   "outputs": [
    {
     "name": "stderr",
     "output_type": "stream",
     "text": [
      "[nltk_data] Downloading package punkt to\n",
      "[nltk_data]     /home/slide/amieurn/nltk_data...\n",
      "[nltk_data]   Package punkt is already up-to-date!\n",
      "[nltk_data] Downloading package stopwords to\n",
      "[nltk_data]     /home/slide/amieurn/nltk_data...\n",
      "[nltk_data]   Package stopwords is already up-to-date!\n"
     ]
    }
   ],
   "source": [
    "import preprocess\n",
    "import fine_tunned_bert\n",
    "\n",
    "import re \n",
    "import pandas as pd\n",
    "import tensorflow as tf \n",
    "\n",
    "from time import time\n",
    "%matplotlib inline"
   ]
  },
  {
   "cell_type": "code",
   "execution_count": 3,
   "metadata": {},
   "outputs": [
    {
     "name": "stdout",
     "output_type": "stream",
     "text": [
      "Requirement already satisfied: tensorflow-addons in ./virtualenv_pfe/lib/python3.7/site-packages (0.15.0)\n",
      "Requirement already satisfied: typeguard>=2.7 in ./virtualenv_pfe/lib/python3.7/site-packages (from tensorflow-addons) (2.13.3)\n"
     ]
    }
   ],
   "source": [
    "# model evaluation \n",
    "from statistics import mean\n",
    "\n",
    "from sklearn.model_selection import KFold\n",
    "!pip install tensorflow-addons"
   ]
  },
  {
   "cell_type": "code",
   "execution_count": 4,
   "metadata": {},
   "outputs": [
    {
     "data": {
      "text/html": [
       "<div>\n",
       "<style scoped>\n",
       "    .dataframe tbody tr th:only-of-type {\n",
       "        vertical-align: middle;\n",
       "    }\n",
       "\n",
       "    .dataframe tbody tr th {\n",
       "        vertical-align: top;\n",
       "    }\n",
       "\n",
       "    .dataframe thead th {\n",
       "        text-align: right;\n",
       "    }\n",
       "</style>\n",
       "<table border=\"1\" class=\"dataframe\">\n",
       "  <thead>\n",
       "    <tr style=\"text-align: right;\">\n",
       "      <th></th>\n",
       "      <th>label</th>\n",
       "      <th>text</th>\n",
       "      <th>clean_data</th>\n",
       "    </tr>\n",
       "  </thead>\n",
       "  <tbody>\n",
       "    <tr>\n",
       "      <th>0</th>\n",
       "      <td>0</td>\n",
       "      <td>\"My Thistle subscription has changed my work f...</td>\n",
       "      <td>thistle subscription changed work home life sa...</td>\n",
       "    </tr>\n",
       "    <tr>\n",
       "      <th>1</th>\n",
       "      <td>0</td>\n",
       "      <td>After I bought this toy for my child, he staye...</td>\n",
       "      <td>bought toy child stayed away ipadtablet tv pro...</td>\n",
       "    </tr>\n",
       "    <tr>\n",
       "      <th>2</th>\n",
       "      <td>0</td>\n",
       "      <td>A Black Friday purchase you actually won't reg...</td>\n",
       "      <td>black friday purchase actually wont regret sto...</td>\n",
       "    </tr>\n",
       "    <tr>\n",
       "      <th>3</th>\n",
       "      <td>0</td>\n",
       "      <td>The Nutcracker, accompany you and your family ...</td>\n",
       "      <td>nutcracker accompany family warm holiday</td>\n",
       "    </tr>\n",
       "    <tr>\n",
       "      <th>4</th>\n",
       "      <td>0</td>\n",
       "      <td>ohora’s NEW COLLECTION - shop right away  ⠀ It...</td>\n",
       "      <td>ohora’s new collection shop right away ⠀ getti...</td>\n",
       "    </tr>\n",
       "  </tbody>\n",
       "</table>\n",
       "</div>"
      ],
      "text/plain": [
       "   label                                               text  \\\n",
       "0      0  \"My Thistle subscription has changed my work f...   \n",
       "1      0  After I bought this toy for my child, he staye...   \n",
       "2      0  A Black Friday purchase you actually won't reg...   \n",
       "3      0  The Nutcracker, accompany you and your family ...   \n",
       "4      0  ohora’s NEW COLLECTION - shop right away  ⠀ It...   \n",
       "\n",
       "                                          clean_data  \n",
       "0  thistle subscription changed work home life sa...  \n",
       "1  bought toy child stayed away ipadtablet tv pro...  \n",
       "2  black friday purchase actually wont regret sto...  \n",
       "3           nutcracker accompany family warm holiday  \n",
       "4  ohora’s new collection shop right away ⠀ getti...  "
      ]
     },
     "execution_count": 4,
     "metadata": {},
     "output_type": "execute_result"
    }
   ],
   "source": [
    "# import the advertising dataset \n",
    "# Each ad has a binary label: 0 for commercial and 1 for informational ads \n",
    "df = preprocess.get_data('/data/task1_dataset.csv', columns_to_drop= False )\n",
    "df = df.iloc[: , 1:]\n",
    "\n",
    "# removing links from the data \n",
    "df[\"text\"] = df[\"text\"].apply(lambda text: re.sub('http[s]?://(?:[a-zA-Z]|[0-9]|[$-_@.&+]|[!*\\(\\),]|(?:%[0-9a-fA-F][0-9a-fA-F]))+','', text, flags=re.MULTILINE))\n",
    "\n",
    "clean_data = preprocess.preprocess_data(df['text'])\n",
    "# remove numbers\n",
    "df['clean_data'] = clean_data\n",
    "df['clean_data'] = df['clean_data'].apply(lambda x: re.sub(r'[0-9]+', '', x))\n",
    "df['clean_data'] = df['clean_data'].apply(lambda x: re.sub(' +', ' ', x))\n",
    "\n",
    "df.head()"
   ]
  },
  {
   "cell_type": "code",
   "execution_count": 5,
   "metadata": {},
   "outputs": [],
   "source": [
    "# The smaller BERT intended for environments with restricted computational resources\n",
    "bert_model_name='small_bert/bert_en_uncased_L-4_H-512_A-8'"
   ]
  },
  {
   "cell_type": "code",
   "execution_count": 6,
   "metadata": {},
   "outputs": [
    {
     "name": "stderr",
     "output_type": "stream",
     "text": [
      "2022-03-21 12:54:23.102396: I tensorflow/core/platform/cpu_feature_guard.cc:151] This TensorFlow binary is optimized with oneAPI Deep Neural Network Library (oneDNN) to use the following CPU instructions in performance-critical operations:  AVX2 FMA\n",
      "To enable them in other operations, rebuild TensorFlow with the appropriate compiler flags.\n",
      "2022-03-21 12:54:23.823933: I tensorflow/core/common_runtime/gpu/gpu_device.cc:1525] Created device /job:localhost/replica:0/task:0/device:GPU:0 with 10413 MB memory:  -> device: 0, name: GeForce GTX 1080 Ti, pci bus id: 0000:04:00.0, compute capability: 6.1\n"
     ]
    },
    {
     "name": "stdout",
     "output_type": "stream",
     "text": [
      "Epoch 1/5\n",
      "374/374 [==============================] - 67s 163ms/step - loss: 0.3248 - accuracy: 0.8549 - precision: 0.8701 - recall: 0.8333 - auc: 0.9339 - val_loss: 0.2275 - val_accuracy: 0.9116 - val_precision: 0.9419 - val_recall: 0.8832 - val_auc: 0.9686\n",
      "Epoch 2/5\n",
      "374/374 [==============================] - 60s 161ms/step - loss: 0.2031 - accuracy: 0.9203 - precision: 0.9308 - recall: 0.9077 - auc: 0.9738 - val_loss: 0.2423 - val_accuracy: 0.9056 - val_precision: 0.9532 - val_recall: 0.8592 - val_auc: 0.9710\n",
      "Epoch 3/5\n",
      "374/374 [==============================] - 60s 161ms/step - loss: 0.1547 - accuracy: 0.9422 - precision: 0.9515 - recall: 0.9315 - auc: 0.9841 - val_loss: 0.2433 - val_accuracy: 0.9143 - val_precision: 0.9392 - val_recall: 0.8916 - val_auc: 0.9724\n",
      "Epoch 4/5\n",
      "374/374 [==============================] - 60s 162ms/step - loss: 0.1151 - accuracy: 0.9585 - precision: 0.9659 - recall: 0.9503 - auc: 0.9901 - val_loss: 0.2813 - val_accuracy: 0.9163 - val_precision: 0.9430 - val_recall: 0.8916 - val_auc: 0.9695\n",
      "Epoch 5/5\n",
      "374/374 [==============================] - 61s 162ms/step - loss: 0.0910 - accuracy: 0.9709 - precision: 0.9779 - recall: 0.9634 - auc: 0.9935 - val_loss: 0.2916 - val_accuracy: 0.9157 - val_precision: 0.9311 - val_recall: 0.9033 - val_auc: 0.9679\n",
      "94/94 [==============================] - 7s 73ms/step - loss: 0.2916 - accuracy: 0.9157 - precision: 0.9311 - recall: 0.9033 - auc: 0.9679\n",
      "Epoch 1/5\n",
      "374/374 [==============================] - 67s 163ms/step - loss: 0.3416 - accuracy: 0.8454 - precision_1: 0.8738 - recall_1: 0.8100 - auc_1: 0.9260 - val_loss: 0.2332 - val_accuracy: 0.9143 - val_precision_1: 0.9488 - val_recall_1: 0.8745 - val_auc_1: 0.9644\n",
      "Epoch 2/5\n",
      "374/374 [==============================] - 60s 161ms/step - loss: 0.2080 - accuracy: 0.9160 - precision_1: 0.9258 - recall_1: 0.9058 - auc_1: 0.9731 - val_loss: 0.2207 - val_accuracy: 0.9200 - val_precision_1: 0.9355 - val_recall_1: 0.9008 - val_auc_1: 0.9695\n",
      "Epoch 3/5\n",
      "374/374 [==============================] - 61s 163ms/step - loss: 0.1509 - accuracy: 0.9403 - precision_1: 0.9466 - recall_1: 0.9342 - auc_1: 0.9855 - val_loss: 0.2594 - val_accuracy: 0.9163 - val_precision_1: 0.9112 - val_recall_1: 0.9211 - val_auc_1: 0.9666\n",
      "Epoch 4/5\n",
      "374/374 [==============================] - 61s 163ms/step - loss: 0.1107 - accuracy: 0.9582 - precision_1: 0.9635 - recall_1: 0.9531 - auc_1: 0.9917 - val_loss: 0.2908 - val_accuracy: 0.9197 - val_precision_1: 0.9295 - val_recall_1: 0.9069 - val_auc_1: 0.9652\n",
      "Epoch 5/5\n",
      "374/374 [==============================] - 61s 162ms/step - loss: 0.0886 - accuracy: 0.9684 - precision_1: 0.9724 - recall_1: 0.9646 - auc_1: 0.9943 - val_loss: 0.3166 - val_accuracy: 0.9203 - val_precision_1: 0.9163 - val_recall_1: 0.9238 - val_auc_1: 0.9629\n",
      "94/94 [==============================] - 7s 73ms/step - loss: 0.3166 - accuracy: 0.9203 - precision_1: 0.9163 - recall_1: 0.9238 - auc_1: 0.9629\n",
      "Epoch 1/5\n",
      "374/374 [==============================] - 68s 164ms/step - loss: 0.3525 - accuracy: 0.8361 - precision_2: 0.8346 - recall_2: 0.8404 - auc_2: 0.9237 - val_loss: 0.2380 - val_accuracy: 0.9039 - val_precision_2: 0.9346 - val_recall_2: 0.8690 - val_auc_2: 0.9642\n",
      "Epoch 2/5\n",
      "374/374 [==============================] - 61s 162ms/step - loss: 0.2040 - accuracy: 0.9202 - precision_2: 0.9340 - recall_2: 0.9050 - auc_2: 0.9736 - val_loss: 0.2424 - val_accuracy: 0.9076 - val_precision_2: 0.9254 - val_recall_2: 0.8870 - val_auc_2: 0.9657\n",
      "Epoch 3/5\n",
      "374/374 [==============================] - 61s 162ms/step - loss: 0.1492 - accuracy: 0.9448 - precision_2: 0.9543 - recall_2: 0.9350 - auc_2: 0.9855 - val_loss: 0.2569 - val_accuracy: 0.9109 - val_precision_2: 0.9150 - val_recall_2: 0.9064 - val_auc_2: 0.9677\n",
      "Epoch 4/5\n",
      "374/374 [==============================] - 61s 163ms/step - loss: 0.1103 - accuracy: 0.9605 - precision_2: 0.9677 - recall_2: 0.9532 - auc_2: 0.9917 - val_loss: 0.2987 - val_accuracy: 0.9083 - val_precision_2: 0.9140 - val_recall_2: 0.9017 - val_auc_2: 0.9646\n",
      "Epoch 5/5\n",
      "374/374 [==============================] - 61s 163ms/step - loss: 0.0906 - accuracy: 0.9686 - precision_2: 0.9733 - recall_2: 0.9640 - auc_2: 0.9938 - val_loss: 0.3237 - val_accuracy: 0.9093 - val_precision_2: 0.9158 - val_recall_2: 0.9017 - val_auc_2: 0.9626\n",
      "94/94 [==============================] - 7s 73ms/step - loss: 0.3237 - accuracy: 0.9093 - precision_2: 0.9158 - recall_2: 0.9017 - auc_2: 0.9626\n",
      "Epoch 1/5\n",
      "374/374 [==============================] - 67s 164ms/step - loss: 0.3365 - accuracy: 0.8398 - precision_3: 0.8425 - recall_3: 0.8405 - auc_3: 0.9285 - val_loss: 0.2474 - val_accuracy: 0.8952 - val_precision_3: 0.9229 - val_recall_3: 0.8563 - val_auc_3: 0.9616\n",
      "Epoch 2/5\n",
      "374/374 [==============================] - 61s 162ms/step - loss: 0.2007 - accuracy: 0.9212 - precision_3: 0.9361 - recall_3: 0.9060 - auc_3: 0.9743 - val_loss: 0.2401 - val_accuracy: 0.9016 - val_precision_3: 0.9085 - val_recall_3: 0.8872 - val_auc_3: 0.9665\n",
      "Epoch 3/5\n",
      "374/374 [==============================] - 61s 163ms/step - loss: 0.1479 - accuracy: 0.9443 - precision_3: 0.9550 - recall_3: 0.9340 - auc_3: 0.9856 - val_loss: 0.2770 - val_accuracy: 0.9026 - val_precision_3: 0.8895 - val_recall_3: 0.9133 - val_auc_3: 0.9660\n",
      "Epoch 4/5\n",
      "374/374 [==============================] - 61s 163ms/step - loss: 0.1131 - accuracy: 0.9594 - precision_3: 0.9679 - recall_3: 0.9514 - auc_3: 0.9908 - val_loss: 0.3099 - val_accuracy: 0.9106 - val_precision_3: 0.9177 - val_recall_3: 0.8968 - val_auc_3: 0.9635\n",
      "Epoch 5/5\n",
      "374/374 [==============================] - 61s 162ms/step - loss: 0.0897 - accuracy: 0.9695 - precision_3: 0.9756 - recall_3: 0.9638 - auc_3: 0.9937 - val_loss: 0.3476 - val_accuracy: 0.9049 - val_precision_3: 0.8937 - val_recall_3: 0.9133 - val_auc_3: 0.9585\n",
      "94/94 [==============================] - 7s 73ms/step - loss: 0.3476 - accuracy: 0.9049 - precision_3: 0.8937 - recall_3: 0.9133 - auc_3: 0.9585\n",
      "Epoch 1/5\n",
      "374/374 [==============================] - 69s 165ms/step - loss: 0.3472 - accuracy: 0.8412 - precision_4: 0.8659 - recall_4: 0.8073 - auc_4: 0.9237 - val_loss: 0.2146 - val_accuracy: 0.9093 - val_precision_4: 0.9460 - val_recall_4: 0.8722 - val_auc_4: 0.9733\n",
      "Epoch 2/5\n",
      "374/374 [==============================] - 61s 162ms/step - loss: 0.2106 - accuracy: 0.9170 - precision_4: 0.9299 - recall_4: 0.9019 - auc_4: 0.9717 - val_loss: 0.1952 - val_accuracy: 0.9170 - val_precision_4: 0.9419 - val_recall_4: 0.8925 - val_auc_4: 0.9778\n",
      "Epoch 3/5\n",
      "374/374 [==============================] - 61s 163ms/step - loss: 0.1562 - accuracy: 0.9407 - precision_4: 0.9513 - recall_4: 0.9290 - auc_4: 0.9841 - val_loss: 0.2057 - val_accuracy: 0.9173 - val_precision_4: 0.9312 - val_recall_4: 0.9050 - val_auc_4: 0.9782\n",
      "Epoch 4/5\n",
      "374/374 [==============================] - 61s 163ms/step - loss: 0.1196 - accuracy: 0.9566 - precision_4: 0.9644 - recall_4: 0.9483 - auc_4: 0.9902 - val_loss: 0.2370 - val_accuracy: 0.9150 - val_precision_4: 0.9130 - val_recall_4: 0.9214 - val_auc_4: 0.9758\n",
      "Epoch 5/5\n",
      "374/374 [==============================] - 61s 163ms/step - loss: 0.0968 - accuracy: 0.9659 - precision_4: 0.9720 - recall_4: 0.9593 - auc_4: 0.9930 - val_loss: 0.2556 - val_accuracy: 0.9166 - val_precision_4: 0.9176 - val_recall_4: 0.9194 - val_auc_4: 0.9736\n",
      "94/94 [==============================] - 7s 74ms/step - loss: 0.2556 - accuracy: 0.9166 - precision_4: 0.9176 - recall_4: 0.9194 - auc_4: 0.9736\n"
     ]
    }
   ],
   "source": [
    "folds=5\n",
    "# Cross validation with the tensorflow nn is performed differently\n",
    "acc_per_fold = []\n",
    "loss_per_fold = []\n",
    "prec_per_fold = []\n",
    "recall_per_fold = []\n",
    "auc_per_fold = []\n",
    "kfold = KFold(n_splits = folds, shuffle=True)           # Define the K-fold Cross Validator\n",
    "\n",
    "for train, test in kfold.split(df['clean_data'], df['label']):\n",
    "\n",
    "    train_data = tf.data.Dataset.from_tensor_slices(  (df['clean_data'].iloc[train], df['label'].iloc[train]) ).batch(32)\n",
    "    test_data = tf.data.Dataset.from_tensor_slices( (df['clean_data'].iloc[test], df['label'].iloc[test]) ).batch(32)\n",
    "    # create the fine_tunned_model\n",
    "    bert_model = fine_tunned_bert.create_fine_tunned_bert(train_data,bert_model_name=bert_model_name)\n",
    "    # training the model\n",
    "    history = bert_model.fit(x=train_data,epochs =5,validation_data = test_data,verbose=True)\n",
    "    # evaluation \n",
    "    scores = bert_model.evaluate(test_data)\n",
    "    loss_per_fold.append(scores[0])\n",
    "    acc_per_fold.append(scores[1])\n",
    "    prec_per_fold.append(scores[2])\n",
    "    recall_per_fold.append(scores[3])\n",
    "    auc_per_fold.append(scores[4])"
   ]
  },
  {
   "cell_type": "code",
   "execution_count": 8,
   "metadata": {},
   "outputs": [
    {
     "data": {
      "text/html": [
       "<div>\n",
       "<style scoped>\n",
       "    .dataframe tbody tr th:only-of-type {\n",
       "        vertical-align: middle;\n",
       "    }\n",
       "\n",
       "    .dataframe tbody tr th {\n",
       "        vertical-align: top;\n",
       "    }\n",
       "\n",
       "    .dataframe thead th {\n",
       "        text-align: right;\n",
       "    }\n",
       "</style>\n",
       "<table border=\"1\" class=\"dataframe\">\n",
       "  <thead>\n",
       "    <tr style=\"text-align: right;\">\n",
       "      <th></th>\n",
       "      <th>Bert</th>\n",
       "    </tr>\n",
       "  </thead>\n",
       "  <tbody>\n",
       "    <tr>\n",
       "      <th>Accuracy</th>\n",
       "      <td>0.913364</td>\n",
       "    </tr>\n",
       "    <tr>\n",
       "      <th>Precision</th>\n",
       "      <td>0.914904</td>\n",
       "    </tr>\n",
       "    <tr>\n",
       "      <th>Recall</th>\n",
       "      <td>0.912308</td>\n",
       "    </tr>\n",
       "    <tr>\n",
       "      <th>F1 Score</th>\n",
       "      <td>0.913604</td>\n",
       "    </tr>\n",
       "    <tr>\n",
       "      <th>AUC</th>\n",
       "      <td>0.965111</td>\n",
       "    </tr>\n",
       "  </tbody>\n",
       "</table>\n",
       "</div>"
      ],
      "text/plain": [
       "               Bert\n",
       "Accuracy   0.913364\n",
       "Precision  0.914904\n",
       "Recall     0.912308\n",
       "F1 Score   0.913604\n",
       "AUC        0.965111"
      ]
     },
     "execution_count": 8,
     "metadata": {},
     "output_type": "execute_result"
    }
   ],
   "source": [
    "# Manually calculate accuracy, precesion, recall and f1score ann in cross validation\n",
    "bert = {}\n",
    "bert['test_accuracy'] = mean(acc_per_fold)\n",
    "bert['test_precision']= mean(prec_per_fold)\n",
    "bert['test_recall'] = mean(recall_per_fold)\n",
    "bert['test_f1_score'] = (2 * mean(prec_per_fold) * mean(recall_per_fold)) / (mean(prec_per_fold) + mean(recall_per_fold))   \n",
    "bert['test_roc_auc_score'] = mean(auc_per_fold)\n",
    "# Create a dataframe with the models performance metrics scores\n",
    "models_scores_table = pd.DataFrame({\n",
    "                                    'Bert': [bert['test_accuracy'],\n",
    "                                            bert['test_precision'],\n",
    "                                            bert['test_recall'],\n",
    "                                            bert['test_f1_score'], \n",
    "                                            bert['test_roc_auc_score']  \n",
    "                                            ]\n",
    "                                     },\n",
    "                                  index=['Accuracy', 'Precision', 'Recall', 'F1 Score', 'AUC'])\n",
    "\n",
    "models_scores_table"
   ]
  }
 ],
 "metadata": {
  "interpreter": {
   "hash": "2cc3611535a62111b26899aab7738d43c1dd0ed4a88f1cdb1aeb2763f3385831"
  },
  "kernelspec": {
   "display_name": "Python 3 (ipykernel)",
   "language": "python",
   "name": "python3"
  },
  "language_info": {
   "codemirror_mode": {
    "name": "ipython",
    "version": 3
   },
   "file_extension": ".py",
   "mimetype": "text/x-python",
   "name": "python",
   "nbconvert_exporter": "python",
   "pygments_lexer": "ipython3",
   "version": "3.7.3"
  }
 },
 "nbformat": 4,
 "nbformat_minor": 2
}
