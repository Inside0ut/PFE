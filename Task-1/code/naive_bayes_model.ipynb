{
 "cells": [
  {
   "cell_type": "code",
   "execution_count": 5,
   "metadata": {
    "colab": {
     "base_uri": "https://localhost:8080/"
    },
    "id": "nF2A9H5ilD_r",
    "outputId": "8fadb568-6674-466f-9120-b9fcf1b88177"
   },
   "outputs": [],
   "source": [
    "# import the preprocessing functions \n",
    "import preprocess"
   ]
  },
  {
   "cell_type": "code",
   "execution_count": 20,
   "metadata": {
    "id": "j1lQ1i1JFnTZ"
   },
   "outputs": [],
   "source": [
    "from time import time\n",
    "import pandas as pd \n",
    "\n",
    "import matplotlib.pyplot as plt\n",
    "import scikitplot as skplt\n",
    "\n",
    "from sklearn.feature_extraction.text import TfidfVectorizer, CountVectorizer\n",
    "from sklearn.naive_bayes import MultinomialNB\n",
    "from sklearn import metrics"
   ]
  },
  {
   "cell_type": "code",
   "execution_count": 12,
   "metadata": {
    "colab": {
     "base_uri": "https://localhost:8080/",
     "height": 206
    },
    "id": "8dlIQh0EloVV",
    "outputId": "2b27d79e-7038-4410-8833-640b7ab78164"
   },
   "outputs": [
    {
     "data": {
      "text/html": [
       "<div>\n",
       "<style scoped>\n",
       "    .dataframe tbody tr th:only-of-type {\n",
       "        vertical-align: middle;\n",
       "    }\n",
       "\n",
       "    .dataframe tbody tr th {\n",
       "        vertical-align: top;\n",
       "    }\n",
       "\n",
       "    .dataframe thead th {\n",
       "        text-align: right;\n",
       "    }\n",
       "</style>\n",
       "<table border=\"1\" class=\"dataframe\">\n",
       "  <thead>\n",
       "    <tr style=\"text-align: right;\">\n",
       "      <th></th>\n",
       "      <th>label</th>\n",
       "      <th>text</th>\n",
       "    </tr>\n",
       "  </thead>\n",
       "  <tbody>\n",
       "    <tr>\n",
       "      <th>0</th>\n",
       "      <td>0</td>\n",
       "      <td>\"My Thistle subscription has changed my work f...</td>\n",
       "    </tr>\n",
       "    <tr>\n",
       "      <th>1</th>\n",
       "      <td>0</td>\n",
       "      <td>After I bought this toy for my child, he staye...</td>\n",
       "    </tr>\n",
       "    <tr>\n",
       "      <th>2</th>\n",
       "      <td>0</td>\n",
       "      <td>A Black Friday purchase you actually won't reg...</td>\n",
       "    </tr>\n",
       "    <tr>\n",
       "      <th>3</th>\n",
       "      <td>0</td>\n",
       "      <td>The Nutcracker, accompany you and your family ...</td>\n",
       "    </tr>\n",
       "    <tr>\n",
       "      <th>4</th>\n",
       "      <td>0</td>\n",
       "      <td>ohora’s NEW COLLECTION - shop right away https...</td>\n",
       "    </tr>\n",
       "    <tr>\n",
       "      <th>...</th>\n",
       "      <td>...</td>\n",
       "      <td>...</td>\n",
       "    </tr>\n",
       "    <tr>\n",
       "      <th>14931</th>\n",
       "      <td>1</td>\n",
       "      <td>The effects of CBD are highly personalized, bu...</td>\n",
       "    </tr>\n",
       "    <tr>\n",
       "      <th>14932</th>\n",
       "      <td>0</td>\n",
       "      <td>It's giveaway time! Want to win $1,000 cash + ...</td>\n",
       "    </tr>\n",
       "    <tr>\n",
       "      <th>14933</th>\n",
       "      <td>1</td>\n",
       "      <td>The time for action is NOW Tell your legislato...</td>\n",
       "    </tr>\n",
       "    <tr>\n",
       "      <th>14934</th>\n",
       "      <td>0</td>\n",
       "      <td>This is a simple small school bag, you can car...</td>\n",
       "    </tr>\n",
       "    <tr>\n",
       "      <th>14935</th>\n",
       "      <td>0</td>\n",
       "      <td>Got beat block? Running out of creative melody...</td>\n",
       "    </tr>\n",
       "  </tbody>\n",
       "</table>\n",
       "<p>14936 rows × 2 columns</p>\n",
       "</div>"
      ],
      "text/plain": [
       "       label                                               text\n",
       "0          0  \"My Thistle subscription has changed my work f...\n",
       "1          0  After I bought this toy for my child, he staye...\n",
       "2          0  A Black Friday purchase you actually won't reg...\n",
       "3          0  The Nutcracker, accompany you and your family ...\n",
       "4          0  ohora’s NEW COLLECTION - shop right away https...\n",
       "...      ...                                                ...\n",
       "14931      1  The effects of CBD are highly personalized, bu...\n",
       "14932      0  It's giveaway time! Want to win $1,000 cash + ...\n",
       "14933      1  The time for action is NOW Tell your legislato...\n",
       "14934      0  This is a simple small school bag, you can car...\n",
       "14935      0  Got beat block? Running out of creative melody...\n",
       "\n",
       "[14936 rows x 2 columns]"
      ]
     },
     "execution_count": 12,
     "metadata": {},
     "output_type": "execute_result"
    }
   ],
   "source": [
    "# import the dataset and select a subset\n",
    "df = pd.read_csv('../data/task1_dataset.csv').drop(columns = 'Unnamed: 0')\n",
    "\n",
    "df"
   ]
  },
  {
   "cell_type": "code",
   "execution_count": 13,
   "metadata": {
    "colab": {
     "base_uri": "https://localhost:8080/",
     "height": 206
    },
    "id": "Ut4CpT_SGyJf",
    "outputId": "4c83c180-c2cd-46bc-93c0-4ebce150ad32"
   },
   "outputs": [
    {
     "data": {
      "text/html": [
       "<div>\n",
       "<style scoped>\n",
       "    .dataframe tbody tr th:only-of-type {\n",
       "        vertical-align: middle;\n",
       "    }\n",
       "\n",
       "    .dataframe tbody tr th {\n",
       "        vertical-align: top;\n",
       "    }\n",
       "\n",
       "    .dataframe thead th {\n",
       "        text-align: right;\n",
       "    }\n",
       "</style>\n",
       "<table border=\"1\" class=\"dataframe\">\n",
       "  <thead>\n",
       "    <tr style=\"text-align: right;\">\n",
       "      <th></th>\n",
       "      <th>label</th>\n",
       "      <th>text</th>\n",
       "      <th>preprocessed</th>\n",
       "    </tr>\n",
       "  </thead>\n",
       "  <tbody>\n",
       "    <tr>\n",
       "      <th>0</th>\n",
       "      <td>0</td>\n",
       "      <td>\"My Thistle subscription has changed my work f...</td>\n",
       "      <td>thistle subscription changed work home life sa...</td>\n",
       "    </tr>\n",
       "    <tr>\n",
       "      <th>1</th>\n",
       "      <td>0</td>\n",
       "      <td>After I bought this toy for my child, he staye...</td>\n",
       "      <td>bought toy child stayed away ipadtablet tv pro...</td>\n",
       "    </tr>\n",
       "    <tr>\n",
       "      <th>2</th>\n",
       "      <td>0</td>\n",
       "      <td>A Black Friday purchase you actually won't reg...</td>\n",
       "      <td>black friday purchase actually wont regret sto...</td>\n",
       "    </tr>\n",
       "    <tr>\n",
       "      <th>3</th>\n",
       "      <td>0</td>\n",
       "      <td>The Nutcracker, accompany you and your family ...</td>\n",
       "      <td>nutcracker accompany family warm holiday https...</td>\n",
       "    </tr>\n",
       "    <tr>\n",
       "      <th>4</th>\n",
       "      <td>0</td>\n",
       "      <td>ohora’s NEW COLLECTION - shop right away https...</td>\n",
       "      <td>ohora’s new collection shop right away httpsbi...</td>\n",
       "    </tr>\n",
       "  </tbody>\n",
       "</table>\n",
       "</div>"
      ],
      "text/plain": [
       "   label                                               text  \\\n",
       "0      0  \"My Thistle subscription has changed my work f...   \n",
       "1      0  After I bought this toy for my child, he staye...   \n",
       "2      0  A Black Friday purchase you actually won't reg...   \n",
       "3      0  The Nutcracker, accompany you and your family ...   \n",
       "4      0  ohora’s NEW COLLECTION - shop right away https...   \n",
       "\n",
       "                                        preprocessed  \n",
       "0  thistle subscription changed work home life sa...  \n",
       "1  bought toy child stayed away ipadtablet tv pro...  \n",
       "2  black friday purchase actually wont regret sto...  \n",
       "3  nutcracker accompany family warm holiday https...  \n",
       "4  ohora’s new collection shop right away httpsbi...  "
      ]
     },
     "execution_count": 13,
     "metadata": {},
     "output_type": "execute_result"
    }
   ],
   "source": [
    "# perform data pre-processing\n",
    "df['preprocessed'] = preprocess.preprocess_data(df['text'])\n",
    "df.head()"
   ]
  },
  {
   "cell_type": "code",
   "execution_count": 14,
   "metadata": {
    "id": "Hp5ChtfkG6wD"
   },
   "outputs": [],
   "source": [
    "# split data (80% training / 20% test)\n",
    "train,test=preprocess.eval_train_split(data = df['preprocessed'], labels = df['label'], validation=False)\n",
    "X_train, y_train, X_test, y_test = train[0], train[1], test[0], test[1]"
   ]
  },
  {
   "cell_type": "markdown",
   "metadata": {
    "id": "hhnAj7Z77uaJ"
   },
   "source": [
    "\n",
    "### Count vectorizer "
   ]
  },
  {
   "cell_type": "code",
   "execution_count": 15,
   "metadata": {
    "colab": {
     "base_uri": "https://localhost:8080/"
    },
    "id": "Yolq5WhCnFlS",
    "outputId": "4a50e2d1-6a08-4bfa-cc69-310f07fb3011"
   },
   "outputs": [
    {
     "name": "stdout",
     "output_type": "stream",
     "text": [
      "n_samples: 11948, n_features: 29503\n"
     ]
    }
   ],
   "source": [
    "# loading CountVectorizer\n",
    "tf_vectorizer = CountVectorizer() \n",
    "# transform texts to numerical values\n",
    "X_train_tf = tf_vectorizer.fit_transform(X_train)\n",
    "\n",
    "print(\"n_samples: %d, n_features: %d\" % X_train_tf.shape)\n"
   ]
  },
  {
   "cell_type": "code",
   "execution_count": 16,
   "metadata": {
    "colab": {
     "base_uri": "https://localhost:8080/"
    },
    "id": "Qm5Ol_zsn1Pu",
    "outputId": "55b3e510-5ea0-4fe2-ecc7-42000e528c2e"
   },
   "outputs": [
    {
     "name": "stdout",
     "output_type": "stream",
     "text": [
      "n_samples: 2988, n_features: 29503\n"
     ]
    }
   ],
   "source": [
    "# transform texts to numerical values\n",
    "X_test_tf = tf_vectorizer.transform(X_test)\n",
    "print(\"n_samples: %d, n_features: %d\" % X_test_tf.shape)"
   ]
  },
  {
   "cell_type": "code",
   "execution_count": null,
   "metadata": {
    "colab": {
     "base_uri": "https://localhost:8080/"
    },
    "id": "2baUnsrfoEBH",
    "outputId": "6d5f1e84-a76a-4bbd-86f0-953927ceafaa"
   },
   "outputs": [],
   "source": [
    "# train the multinomial naive bayes classifier\n",
    "naive_bayes_classifier = MultinomialNB()\n",
    "naive_bayes_classifier.fit(X_train_tf,y_train)\n"
   ]
  },
  {
   "cell_type": "code",
   "execution_count": 23,
   "metadata": {
    "colab": {
     "base_uri": "https://localhost:8080/"
    },
    "id": "V9L_r0317cHh",
    "outputId": "8b93397f-ade9-45ff-9cf4-4ffcccaa651f"
   },
   "outputs": [
    {
     "name": "stdout",
     "output_type": "stream",
     "text": [
      "accuracy:   0.913\n",
      "               precision    recall  f1-score   support\n",
      "\n",
      "   Commercial       0.91      0.92      0.91      1512\n",
      "Informational       0.91      0.91      0.91      1476\n",
      "\n",
      "     accuracy                           0.91      2988\n",
      "    macro avg       0.91      0.91      0.91      2988\n",
      " weighted avg       0.91      0.91      0.91      2988\n",
      "\n",
      "confusion matrix:\n",
      "[[1387  125]\n",
      " [ 134 1342]]\n",
      "\n"
     ]
    },
    {
     "data": {
      "image/png": "[encoded data removed]",
      "text/plain": [
       "<Figure size 432x288 with 2 Axes>"
      ]
     },
     "metadata": {
      "needs_background": "light"
     },
     "output_type": "display_data"
    },
    {
     "data": {
      "image/png": "[encoded data removed]",
      "text/plain": [
       "<Figure size 432x288 with 1 Axes>"
      ]
     },
     "metadata": {
      "needs_background": "light"
     },
     "output_type": "display_data"
    }
   ],
   "source": [
    "# predict data classes\n",
    "y_pred = naive_bayes_classifier.predict(X_test_tf)\n",
    "\n",
    "# compute the performance measures\n",
    "score1 = metrics.accuracy_score(y_test, y_pred)\n",
    "print(\"accuracy:   %0.3f\" % score1)\n",
    "\n",
    "print(metrics.classification_report(y_test, y_pred, target_names=['Commercial', 'Informational']))\n",
    "\n",
    "print(\"confusion matrix:\")\n",
    "print(metrics.confusion_matrix(y_test, y_pred))\n",
    "print()\n",
    "skplt.metrics.plot_confusion_matrix(y_test, y_pred, normalize=True)\n",
    "plt.show()\n",
    "\n",
    "svc_disp = metrics.RocCurveDisplay.from_estimator(naive_bayes_classifier, X_test_tf, y_test)"
   ]
  },
  {
   "cell_type": "markdown",
   "metadata": {
    "id": "-D6G_mW4BwGi"
   },
   "source": [
    "\n",
    "### Tf-IDF vectorizer"
   ]
  },
  {
   "cell_type": "code",
   "execution_count": null,
   "metadata": {
    "colab": {
     "base_uri": "https://localhost:8080/"
    },
    "id": "8CushtHmB1Cm",
    "outputId": "dd509f03-cb0a-49ab-b877-d2cf490c132e"
   },
   "outputs": [],
   "source": [
    "#load the term frequency vectorizer\n",
    "tf_idf_vectorizer = TfidfVectorizer() \n",
    "\n",
    "X_train_tf_idf = tf_idf_vectorizer.fit_transform(X_train)\n",
    "\n",
    "print(\"n_samples: %d, n_features: %d\" % X_train_tf_idf.shape)"
   ]
  },
  {
   "cell_type": "code",
   "execution_count": null,
   "metadata": {
    "colab": {
     "base_uri": "https://localhost:8080/"
    },
    "id": "rGoD-9pFCWi-",
    "outputId": "015a47a0-cb12-4bb0-be1f-20e6cf4b1c52"
   },
   "outputs": [],
   "source": [
    "X_test_tf_idf = tf_idf_vectorizer.transform(X_test)\n",
    "\n",
    "print(\"n_samples: %d, n_features: %d\" % X_test_tf_idf.shape)"
   ]
  },
  {
   "cell_type": "code",
   "execution_count": null,
   "metadata": {
    "colab": {
     "base_uri": "https://localhost:8080/"
    },
    "id": "pdF8hCLKCfdK",
    "outputId": "a8afb6de-44d6-42b6-e272-39952a166d70"
   },
   "outputs": [],
   "source": [
    "naive_bayes_classifier = MultinomialNB()\n",
    "naive_bayes_classifier.fit(X_train_tf_idf,y_train)\n"
   ]
  },
  {
   "cell_type": "code",
   "execution_count": null,
   "metadata": {
    "colab": {
     "base_uri": "https://localhost:8080/"
    },
    "id": "FWXowNjVCnvp",
    "outputId": "f6c0e5ac-a663-4964-f9a4-d60a7171d81a"
   },
   "outputs": [],
   "source": [
    "y_pred_idf = naive_bayes_classifier.predict(X_test_tf_idf)"
   ]
  },
  {
   "cell_type": "code",
   "execution_count": null,
   "metadata": {
    "colab": {
     "base_uri": "https://localhost:8080/"
    },
    "id": "NaevaZy58R-N",
    "outputId": "1e3cea21-16be-4943-980b-628199cb876a"
   },
   "outputs": [],
   "source": [
    "# compute the performance measures\n",
    "score2 = metrics.accuracy_score(y_test, y_pred_idf)\n",
    "print(\"accuracy:   %0.3f\" % score2)\n",
    "\n",
    "print(metrics.classification_report(y_test, y_pred_idf,\n",
    "                                            target_names=['Inf', 'Com']))\n",
    "\n",
    "print(\"confusion matrix:\")\n",
    "\n",
    "\n",
    "tn, fp, fn, tp = metrics.confusion_matrix(y_test, y_pred_idf).ravel()\n",
    "\n",
    "(tn, fp, fn, tp)"
   ]
  }
 ],
 "metadata": {
  "colab": {
   "collapsed_sections": [],
   "name": "Naive_bayes_model.ipynb",
   "provenance": []
  },
  "interpreter": {
   "hash": "f8f14f5a7c49a331ac7a55934b43ce13bd28be1333db14e2d71768ad3378996c"
  },
  "kernelspec": {
   "display_name": "Python 3.9.13 64-bit (windows store)",
   "language": "python",
   "name": "python3"
  },
  "language_info": {
   "codemirror_mode": {
    "name": "ipython",
    "version": 3
   },
   "file_extension": ".py",
   "mimetype": "text/x-python",
   "name": "python",
   "nbconvert_exporter": "python",
   "pygments_lexer": "ipython3",
   "version": "3.9.13"
  }
 },
 "nbformat": 4,
 "nbformat_minor": 1
}
