{
 "cells": [
  {
   "cell_type": "code",
   "execution_count": null,
   "metadata": {
    "colab": {
     "base_uri": "https://localhost:8080/"
    },
    "id": "nF2A9H5ilD_r",
    "outputId": "8fadb568-6674-466f-9120-b9fcf1b88177"
   },
   "outputs": [],
   "source": [
    "# import the preprocessing functions \n",
    "import preprocess"
   ]
  },
  {
   "cell_type": "code",
   "execution_count": null,
   "metadata": {
    "id": "j1lQ1i1JFnTZ"
   },
   "outputs": [],
   "source": [
    "# imports \n",
    "\n",
    "import pandas as pd \n",
    "from time import time\n",
    "from sklearn.feature_extraction.text import TfidfVectorizer, CountVectorizer\n",
    "from sklearn.naive_bayes import MultinomialNB\n",
    "from sklearn import metrics\n",
    "\n",
    "\n",
    "import numpy as np\n",
    "import matplotlib.pyplot as plt\n",
    "\n",
    "from sklearn.datasets import load_digits\n",
    "from sklearn.model_selection import learning_curve\n",
    "from sklearn.model_selection import ShuffleSplit"
   ]
  },
  {
   "cell_type": "code",
   "execution_count": null,
   "metadata": {
    "colab": {
     "base_uri": "https://localhost:8080/",
     "height": 206
    },
    "id": "8dlIQh0EloVV",
    "outputId": "2b27d79e-7038-4410-8833-640b7ab78164"
   },
   "outputs": [],
   "source": [
    "# import ads dataset \n",
    "# the dataset contains commercial ads tagged as 0 and informational ads tagged as 1\n",
    "file_url='./data/task1_dataset'\n",
    "df=preprocess.get_data(file=file_url,columns_to_drop=['Unnamed: 0'],drop=True)\n",
    "df.head()"
   ]
  },
  {
   "cell_type": "code",
   "execution_count": null,
   "metadata": {
    "colab": {
     "base_uri": "https://localhost:8080/",
     "height": 206
    },
    "id": "Ut4CpT_SGyJf",
    "outputId": "4c83c180-c2cd-46bc-93c0-4ebce150ad32"
   },
   "outputs": [],
   "source": [
    "#perform data pre-processing\n",
    "df['preprocessed']=preprocess.preprocess_data(df['text'])\n",
    "df.head()"
   ]
  },
  {
   "cell_type": "code",
   "execution_count": null,
   "metadata": {
    "id": "Hp5ChtfkG6wD"
   },
   "outputs": [],
   "source": [
    "# split data (80% training / 20% test)\n",
    "train,test=preprocess.eval_train_split(data=df['preprocessed'],labels=df['label'],validation=False)\n",
    "X_train=train[0]\n",
    "y_train=train[1]\n",
    "X_test=test[0]\n",
    "y_test=test[1]"
   ]
  },
  {
   "cell_type": "markdown",
   "metadata": {
    "id": "hhnAj7Z77uaJ"
   },
   "source": [
    "\n",
    "**Count vectorizer**\n",
    "---\n",
    "\n"
   ]
  },
  {
   "cell_type": "code",
   "execution_count": null,
   "metadata": {
    "colab": {
     "base_uri": "https://localhost:8080/"
    },
    "id": "Yolq5WhCnFlS",
    "outputId": "4a50e2d1-6a08-4bfa-cc69-310f07fb3011"
   },
   "outputs": [],
   "source": [
    "# loading CountVectorizer\n",
    "tf_vectorizer = CountVectorizer() \n",
    "# transform texts to numerical values\n",
    "X_train_tf = tf_vectorizer.fit_transform(X_train)\n",
    "\n",
    "print(\"n_samples: %d, n_features: %d\" % X_train_tf.shape)\n"
   ]
  },
  {
   "cell_type": "code",
   "execution_count": null,
   "metadata": {
    "colab": {
     "base_uri": "https://localhost:8080/"
    },
    "id": "Qm5Ol_zsn1Pu",
    "outputId": "55b3e510-5ea0-4fe2-ecc7-42000e528c2e"
   },
   "outputs": [],
   "source": [
    "# transform texts to numerical values\n",
    "X_test_tf = tf_vectorizer.transform(X_test)\n",
    "print(\"n_samples: %d, n_features: %d\" % X_test_tf.shape)"
   ]
  },
  {
   "cell_type": "code",
   "execution_count": null,
   "metadata": {
    "colab": {
     "base_uri": "https://localhost:8080/"
    },
    "id": "2baUnsrfoEBH",
    "outputId": "6d5f1e84-a76a-4bbd-86f0-953927ceafaa"
   },
   "outputs": [],
   "source": [
    "# train the multinomial naive bayes classifier\n",
    "naive_bayes_classifier = MultinomialNB()\n",
    "naive_bayes_classifier.fit(X_train_tf,y_train)\n"
   ]
  },
  {
   "cell_type": "code",
   "execution_count": null,
   "metadata": {
    "colab": {
     "base_uri": "https://localhost:8080/"
    },
    "id": "2gEI9vjDoODj",
    "outputId": "f9cd0e40-b945-4d5c-e117-cdfff3cde2c6"
   },
   "outputs": [],
   "source": [
    "# predict data classes\n",
    "y_pred = naive_bayes_classifier.predict(X_test_tf)\n"
   ]
  },
  {
   "cell_type": "code",
   "execution_count": null,
   "metadata": {
    "colab": {
     "base_uri": "https://localhost:8080/"
    },
    "id": "V9L_r0317cHh",
    "outputId": "8b93397f-ade9-45ff-9cf4-4ffcccaa651f"
   },
   "outputs": [],
   "source": [
    "# compute the performance measures\n",
    "score1 = metrics.accuracy_score(y_test, y_pred)\n",
    "print(\"accuracy:   %0.3f\" % score1)\n",
    "\n",
    "print(metrics.classification_report(y_test, y_pred,\n",
    "                                            target_names=['Inf', 'Com']))\n",
    "\n",
    "print(\"confusion matrix:\")\n",
    "tn, fp, fn, tp = metrics.confusion_matrix(y_test, y_pred).ravel()\n",
    "(tn, fp, fn, tp)\n",
    "\n"
   ]
  },
  {
   "cell_type": "markdown",
   "metadata": {
    "id": "-D6G_mW4BwGi"
   },
   "source": [
    "\n",
    "**Tf IDF vectorizer**\n",
    "---\n",
    "\n",
    "\n"
   ]
  },
  {
   "cell_type": "code",
   "execution_count": null,
   "metadata": {
    "colab": {
     "base_uri": "https://localhost:8080/"
    },
    "id": "8CushtHmB1Cm",
    "outputId": "dd509f03-cb0a-49ab-b877-d2cf490c132e"
   },
   "outputs": [],
   "source": [
    "#load the term frequency vectorizer\n",
    "tf_idf_vectorizer = TfidfVectorizer() \n",
    "\n",
    "X_train_tf_idf = tf_idf_vectorizer.fit_transform(X_train)\n",
    "\n",
    "print(\"n_samples: %d, n_features: %d\" % X_train_tf_idf.shape)"
   ]
  },
  {
   "cell_type": "code",
   "execution_count": null,
   "metadata": {
    "colab": {
     "base_uri": "https://localhost:8080/"
    },
    "id": "rGoD-9pFCWi-",
    "outputId": "015a47a0-cb12-4bb0-be1f-20e6cf4b1c52"
   },
   "outputs": [],
   "source": [
    "X_test_tf_idf = tf_idf_vectorizer.transform(X_test)\n",
    "\n",
    "print(\"n_samples: %d, n_features: %d\" % X_test_tf_idf.shape)"
   ]
  },
  {
   "cell_type": "code",
   "execution_count": null,
   "metadata": {
    "colab": {
     "base_uri": "https://localhost:8080/"
    },
    "id": "pdF8hCLKCfdK",
    "outputId": "a8afb6de-44d6-42b6-e272-39952a166d70"
   },
   "outputs": [],
   "source": [
    "naive_bayes_classifier = MultinomialNB()\n",
    "naive_bayes_classifier.fit(X_train_tf_idf,y_train)\n"
   ]
  },
  {
   "cell_type": "code",
   "execution_count": null,
   "metadata": {
    "colab": {
     "base_uri": "https://localhost:8080/"
    },
    "id": "FWXowNjVCnvp",
    "outputId": "f6c0e5ac-a663-4964-f9a4-d60a7171d81a"
   },
   "outputs": [],
   "source": [
    "y_pred_idf = naive_bayes_classifier.predict(X_test_tf_idf)\n"
   ]
  },
  {
   "cell_type": "code",
   "execution_count": null,
   "metadata": {
    "colab": {
     "base_uri": "https://localhost:8080/"
    },
    "id": "NaevaZy58R-N",
    "outputId": "1e3cea21-16be-4943-980b-628199cb876a"
   },
   "outputs": [],
   "source": [
    "# compute the performance measures\n",
    "score2 = metrics.accuracy_score(y_test, y_pred_idf)\n",
    "print(\"accuracy:   %0.3f\" % score2)\n",
    "\n",
    "print(metrics.classification_report(y_test, y_pred_idf,\n",
    "                                            target_names=['Inf', 'Com']))\n",
    "\n",
    "print(\"confusion matrix:\")\n",
    "\n",
    "\n",
    "tn, fp, fn, tp = metrics.confusion_matrix(y_test, y_pred_idf).ravel()\n",
    "\n",
    "(tn, fp, fn, tp)\n"
   ]
  }
 ],
 "metadata": {
  "colab": {
   "collapsed_sections": [],
   "name": "Naive_bayes_model.ipynb",
   "provenance": []
  },
  "kernelspec": {
   "display_name": "Python 3 (ipykernel)",
   "language": "python",
   "name": "python3"
  },
  "language_info": {
   "codemirror_mode": {
    "name": "ipython",
    "version": 3
   },
   "file_extension": ".py",
   "mimetype": "text/x-python",
   "name": "python",
   "nbconvert_exporter": "python",
   "pygments_lexer": "ipython3",
   "version": "3.9.7"
  }
 },
 "nbformat": 4,
 "nbformat_minor": 1
}
